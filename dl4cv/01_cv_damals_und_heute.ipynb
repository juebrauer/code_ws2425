{
 "cells": [
  {
   "cell_type": "markdown",
   "id": "45c6db25-7e4a-41af-b75f-1af5d90957f3",
   "metadata": {},
   "source": [
    "# Datensatz runterladen und entpacken"
   ]
  },
  {
   "cell_type": "code",
   "execution_count": 1,
   "id": "63366eb7-72dd-4d1a-bd9d-1657123588a2",
   "metadata": {},
   "outputs": [
    {
     "data": {
      "text/plain": [
       "('pedestrian_dataset.zip', <http.client.HTTPMessage at 0x716f49dec8c0>)"
      ]
     },
     "execution_count": 1,
     "metadata": {},
     "output_type": "execute_result"
    }
   ],
   "source": [
    "fname = \"pedestrian_dataset.zip\"\n",
    "URL = \"http://www.juergenbrauer.org/datasets/\" + fname\n",
    "import urllib.request\n",
    "urllib.request.urlretrieve(URL, fname)"
   ]
  },
  {
   "cell_type": "code",
   "execution_count": 2,
   "id": "9f32e234-0492-42e9-bd3c-438fc95645de",
   "metadata": {},
   "outputs": [],
   "source": [
    "import shutil\n",
    "shutil.unpack_archive(fname, \".\")"
   ]
  },
  {
   "cell_type": "markdown",
   "id": "a0b246c5-e0de-4a8f-97c6-2468d81de189",
   "metadata": {},
   "source": [
    "# Liste der Bilddateien erstellen"
   ]
  },
  {
   "cell_type": "code",
   "execution_count": 7,
   "id": "d3e7627c-1791-4e48-8442-24eb6497486e",
   "metadata": {},
   "outputs": [],
   "source": [
    "import glob\n",
    "folder = \"pedestrian_dataset/PNGImages/\"\n",
    "list_of_image_files = glob.glob(folder + \"*.png\")"
   ]
  },
  {
   "cell_type": "code",
   "execution_count": 8,
   "id": "ccbb036b-3830-418e-a790-719ca2bb7b66",
   "metadata": {},
   "outputs": [
    {
     "data": {
      "text/plain": [
       "170"
      ]
     },
     "execution_count": 8,
     "metadata": {},
     "output_type": "execute_result"
    }
   ],
   "source": [
    "len(list_of_image_files)"
   ]
  },
  {
   "cell_type": "markdown",
   "id": "0ee8e985-195f-44ee-ad3d-62a5a070bde8",
   "metadata": {},
   "source": [
    "# Ein Bild anzeigen mit OpenCV"
   ]
  },
  {
   "cell_type": "code",
   "execution_count": 13,
   "id": "e2523a7a-6e3e-4b87-9456-a433ca04e836",
   "metadata": {},
   "outputs": [
    {
     "name": "stdout",
     "output_type": "stream",
     "text": [
      "Name: opencv-python\n",
      "Version: 4.10.0.82\n",
      "Summary: Wrapper package for OpenCV python bindings.\n",
      "Home-page: https://github.com/opencv/opencv-python\n",
      "Author: \n",
      "Author-email: \n",
      "License: Apache 2.0\n",
      "Location: /home/juebrauer/miniconda3/envs/env_ss24/lib/python3.12/site-packages\n",
      "Requires: numpy, numpy, numpy, numpy, numpy, numpy\n",
      "Required-by: ultralytics\n"
     ]
    }
   ],
   "source": [
    "!pip show opencv-python"
   ]
  },
  {
   "cell_type": "code",
   "execution_count": 15,
   "id": "12ba78b3-4ad7-4053-bda4-0dcc57753aed",
   "metadata": {},
   "outputs": [
    {
     "name": "stdout",
     "output_type": "stream",
     "text": [
      "Requirement already satisfied: opencv-python in /home/juebrauer/miniconda3/envs/env_ss24/lib/python3.12/site-packages (4.10.0.82)\n",
      "Collecting opencv-python\n",
      "  Downloading opencv_python-4.10.0.84-cp37-abi3-manylinux_2_17_x86_64.manylinux2014_x86_64.whl.metadata (20 kB)\n",
      "Requirement already satisfied: numpy>=1.21.2 in /home/juebrauer/miniconda3/envs/env_ss24/lib/python3.12/site-packages (from opencv-python) (1.26.4)\n",
      "Downloading opencv_python-4.10.0.84-cp37-abi3-manylinux_2_17_x86_64.manylinux2014_x86_64.whl (62.5 MB)\n",
      "\u001b[2K   \u001b[38;2;114;156;31m━━━━━━━━━━━━━━━━━━━━━━━━━━━━━━━━━━━━━━━━\u001b[0m \u001b[32m62.5/62.5 MB\u001b[0m \u001b[31m4.3 MB/s\u001b[0m eta \u001b[36m0:00:00\u001b[0mm eta \u001b[36m0:00:01\u001b[0m[36m0:00:01\u001b[0m\n",
      "\u001b[?25hInstalling collected packages: opencv-python\n",
      "  Attempting uninstall: opencv-python\n",
      "    Found existing installation: opencv-python 4.10.0.82\n",
      "    Uninstalling opencv-python-4.10.0.82:\n",
      "      Successfully uninstalled opencv-python-4.10.0.82\n",
      "Successfully installed opencv-python-4.10.0.84\n"
     ]
    }
   ],
   "source": [
    "!pip install -U opencv-python"
   ]
  },
  {
   "cell_type": "code",
   "execution_count": 16,
   "id": "ae0bfbde-3a19-43b7-b713-cd88732a3122",
   "metadata": {},
   "outputs": [],
   "source": [
    "import cv2"
   ]
  },
  {
   "cell_type": "code",
   "execution_count": null,
   "id": "c3224ff2-f714-4000-a13b-747ec02cad5f",
   "metadata": {},
   "outputs": [],
   "source": []
  }
 ],
 "metadata": {
  "kernelspec": {
   "display_name": "Python 3 (ipykernel)",
   "language": "python",
   "name": "python3"
  },
  "language_info": {
   "codemirror_mode": {
    "name": "ipython",
    "version": 3
   },
   "file_extension": ".py",
   "mimetype": "text/x-python",
   "name": "python",
   "nbconvert_exporter": "python",
   "pygments_lexer": "ipython3",
   "version": "3.12.3"
  }
 },
 "nbformat": 4,
 "nbformat_minor": 5
}
