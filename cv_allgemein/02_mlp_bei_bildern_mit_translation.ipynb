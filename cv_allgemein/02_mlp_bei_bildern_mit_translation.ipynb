{
 "cells": [
  {
   "cell_type": "markdown",
   "id": "dcc02c88-32e0-418f-bcc8-1a29808a7c8e",
   "metadata": {},
   "source": [
    "# Ein kleines Bild in ein großes Bild kopieren"
   ]
  },
  {
   "cell_type": "code",
   "execution_count": 1,
   "id": "10e8fc91-f669-488e-9e53-e382ea3946b2",
   "metadata": {},
   "outputs": [
    {
     "name": "stderr",
     "output_type": "stream",
     "text": [
      "2024-10-27 07:02:00.834423: I tensorflow/core/platform/cpu_feature_guard.cc:210] This TensorFlow binary is optimized to use available CPU instructions in performance-critical operations.\n",
      "To enable the following instructions: AVX2 FMA, in other operations, rebuild TensorFlow with the appropriate compiler flags.\n",
      "2024-10-27 07:02:01.810381: W tensorflow/compiler/tf2tensorrt/utils/py_utils.cc:38] TF-TRT Warning: Could not find TensorRT\n"
     ]
    }
   ],
   "source": [
    "import tensorflow as tf\n",
    "mnist = tf.keras.datasets.mnist\n",
    "(x_train, y_train),(x_test, y_test) = mnist.load_data()"
   ]
  },
  {
   "cell_type": "code",
   "execution_count": 17,
   "id": "2d997cfc-4740-4e3f-9e3a-d79a8eac8e03",
   "metadata": {},
   "outputs": [
    {
     "data": {
      "image/png": "[encoded data removed]",
      "text/plain": [
       "<Figure size 640x480 with 1 Axes>"
      ]
     },
     "metadata": {},
     "output_type": "display_data"
    }
   ],
   "source": [
    "import numpy as np\n",
    "S = 28*4\n",
    "big_img = np.zeros((S,S))\n",
    "\n",
    "x = S//2-14\n",
    "y = S//2-30\n",
    "big_img[y:y+28,x:x+28] = x_train[0,:,:]\n",
    "\n",
    "import matplotlib.pyplot as plt\n",
    "plt.imshow(big_img, cmap=\"gray\")\n",
    "#plt.colorbar()\n",
    "plt.show()"
   ]
  },
  {
   "cell_type": "code",
   "execution_count": 4,
   "id": "53f39dab-0c10-4057-b6ce-52f2e642ef45",
   "metadata": {},
   "outputs": [
    {
     "data": {
      "text/plain": [
       "(112, 112)"
      ]
     },
     "execution_count": 4,
     "metadata": {},
     "output_type": "execute_result"
    }
   ],
   "source": [
    "big_img.shape"
   ]
  },
  {
   "cell_type": "markdown",
   "id": "82fc4c95-e4e9-40cf-8921-ca788ca93a8b",
   "metadata": {},
   "source": [
    "# Ziffern an zufällige Koordinaten kopieren"
   ]
  },
  {
   "cell_type": "code",
   "execution_count": 21,
   "id": "2d860e3e-695f-4268-859b-912e3b1bb39a",
   "metadata": {},
   "outputs": [
    {
     "data": {
      "text/plain": [
       "6"
      ]
     },
     "execution_count": 21,
     "metadata": {},
     "output_type": "execute_result"
    }
   ],
   "source": [
    "import random\n",
    "random.randint(a=0, b=28)"
   ]
  },
  {
   "cell_type": "code",
   "execution_count": 25,
   "id": "5c80faf2-979d-49df-bbd0-aadd8cc9e1b9",
   "metadata": {},
   "outputs": [
    {
     "data": {
      "text/plain": [
       "112"
      ]
     },
     "execution_count": 25,
     "metadata": {},
     "output_type": "execute_result"
    }
   ],
   "source": [
    "s*4"
   ]
  },
  {
   "cell_type": "code",
   "execution_count": 26,
   "id": "5327fb55-1c12-4ad3-99b8-d6347f81bb46",
   "metadata": {},
   "outputs": [
    {
     "data": {
      "text/plain": [
       "(112, 112)"
      ]
     },
     "execution_count": 26,
     "metadata": {},
     "output_type": "execute_result"
    }
   ],
   "source": [
    "big_img.shape"
   ]
  },
  {
   "cell_type": "code",
   "execution_count": 40,
   "id": "e6828122-84eb-4257-9eec-3cdbb7772669",
   "metadata": {},
   "outputs": [
    {
     "data": {
      "image/png": "[encoded data removed]",
      "text/plain": [
       "<Figure size 640x480 with 1 Axes>"
      ]
     },
     "metadata": {},
     "output_type": "display_data"
    }
   ],
   "source": [
    "import numpy as np\n",
    "import random\n",
    "\n",
    "small_img = x_train[0,:,:]\n",
    "s = small_img.shape[0]\n",
    "\n",
    "S = s*4\n",
    "big_img = np.zeros((S,S))\n",
    "\n",
    "x = random.randint(a=0, b=S-s)\n",
    "y = random.randint(a=0, b=S-s)\n",
    "big_img[y:y+s,x:x+s] = small_img\n",
    "\n",
    "import matplotlib.pyplot as plt\n",
    "plt.imshow(big_img, cmap=\"gray\")\n",
    "#plt.colorbar()\n",
    "plt.show()"
   ]
  },
  {
   "cell_type": "code",
   "execution_count": null,
   "id": "3271b116-a45b-4409-8bb3-9205a2821b15",
   "metadata": {},
   "outputs": [],
   "source": []
  }
 ],
 "metadata": {
  "kernelspec": {
   "display_name": "Python 3 (ipykernel)",
   "language": "python",
   "name": "python3"
  },
  "language_info": {
   "codemirror_mode": {
    "name": "ipython",
    "version": 3
   },
   "file_extension": ".py",
   "mimetype": "text/x-python",
   "name": "python",
   "nbconvert_exporter": "python",
   "pygments_lexer": "ipython3",
   "version": "3.12.3"
  }
 },
 "nbformat": 4,
 "nbformat_minor": 5
}
