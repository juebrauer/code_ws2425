{
 "cells": [
  {
   "cell_type": "markdown",
   "id": "c751364c-4ef1-4b5c-8a25-7f77d83d39cc",
   "metadata": {},
   "source": [
    "# Datensatz vorbereiten"
   ]
  },
  {
   "cell_type": "code",
   "execution_count": 1,
   "id": "9145e2d8-ee16-43d4-b24c-45faeeb4e949",
   "metadata": {},
   "outputs": [],
   "source": [
    "import pandas\n",
    "fname = \"used_cars_autoscout24.csv\"\n",
    "t = pandas.read_csv(fname)\n",
    "t[\"power_ps\"] = pandas.to_numeric(t[\"power_ps\"], errors='coerce')\n",
    "t[\"price_in_euro\"] = pandas.to_numeric(t[\"price_in_euro\"], errors='coerce')\n",
    "t_bereinigt = t[ [\"brand\", \"mileage_in_km\", \"power_ps\", \"price_in_euro\"] ]\n",
    "t_bereinigt = t_bereinigt.dropna(axis=\"rows\")\n",
    "t_bereinigt = pandas.get_dummies(t_bereinigt)\n",
    "\n",
    "x = t_bereinigt.drop(\"price_in_euro\", axis=\"columns\")\n",
    "y = t_bereinigt[ [\"price_in_euro\"] ]\n",
    "\n",
    "from sklearn.model_selection import train_test_split\n",
    "x_train, x_test, y_train, y_test = train_test_split(x, y, test_size=0.2)\n",
    "\n",
    "from sklearn.preprocessing import MinMaxScaler\n",
    "s_input = MinMaxScaler(feature_range=(0,1))\n",
    "s_output = MinMaxScaler(feature_range=(0,1))\n",
    "s_input.fit(x_train)\n",
    "s_output.fit(y_train)\n",
    "x_train_scaled = s_input.transform(x_train)\n",
    "y_train_scaled = s_output.transform(y_train)\n",
    "x_test_scaled = s_input.transform(x_test)\n",
    "y_test_scaled = s_output.transform(y_test)"
   ]
  },
  {
   "cell_type": "markdown",
   "id": "cb5db132-e045-4349-9920-18359e9eae52",
   "metadata": {},
   "source": [
    "# Ein NN mit Keras erstellen und trainieren"
   ]
  },
  {
   "cell_type": "code",
   "execution_count": 15,
   "id": "0ada6b97-4cd5-491c-ba3a-a6eea237bfa9",
   "metadata": {},
   "outputs": [
    {
     "data": {
      "text/plain": [
       "6267.28125"
      ]
     },
     "execution_count": 15,
     "metadata": {},
     "output_type": "execute_result"
    }
   ],
   "source": [
    "x_train_scaled.shape[0] / 32"
   ]
  },
  {
   "cell_type": "code",
   "execution_count": 2,
   "id": "8e15ad8f-7dbc-44d7-a17d-509d2e55a310",
   "metadata": {},
   "outputs": [
    {
     "name": "stderr",
     "output_type": "stream",
     "text": [
      "2024-10-28 19:29:52.799025: I tensorflow/core/platform/cpu_feature_guard.cc:210] This TensorFlow binary is optimized to use available CPU instructions in performance-critical operations.\n",
      "To enable the following instructions: AVX2 FMA, in other operations, rebuild TensorFlow with the appropriate compiler flags.\n",
      "2024-10-28 19:29:54.318134: W tensorflow/compiler/tf2tensorrt/utils/py_utils.cc:38] TF-TRT Warning: Could not find TensorRT\n"
     ]
    },
    {
     "name": "stdout",
     "output_type": "stream",
     "text": [
      "Epoch 1/3\n"
     ]
    },
    {
     "name": "stderr",
     "output_type": "stream",
     "text": [
      "2024-10-28 19:29:55.576280: I external/local_xla/xla/stream_executor/cuda/cuda_executor.cc:998] successful NUMA node read from SysFS had negative value (-1), but there must be at least one NUMA node, so returning NUMA node zero. See more at https://github.com/torvalds/linux/blob/v6.0/Documentation/ABI/testing/sysfs-bus-pci#L344-L355\n",
      "2024-10-28 19:29:55.576881: W tensorflow/core/common_runtime/gpu/gpu_device.cc:2251] Cannot dlopen some GPU libraries. Please make sure the missing libraries mentioned above are installed properly if you would like to use GPU. Follow the guide at https://www.tensorflow.org/install/gpu for how to download and setup the required libraries for your platform.\n",
      "Skipping registering GPU devices...\n"
     ]
    },
    {
     "name": "stdout",
     "output_type": "stream",
     "text": [
      "\u001b[1m6268/6268\u001b[0m \u001b[32m━━━━━━━━━━━━━━━━━━━━\u001b[0m\u001b[37m\u001b[0m \u001b[1m6s\u001b[0m 907us/step - loss: 0.0214\n",
      "Epoch 2/3\n",
      "\u001b[1m6268/6268\u001b[0m \u001b[32m━━━━━━━━━━━━━━━━━━━━\u001b[0m\u001b[37m\u001b[0m \u001b[1m5s\u001b[0m 831us/step - loss: 0.0016\n",
      "Epoch 3/3\n",
      "\u001b[1m6268/6268\u001b[0m \u001b[32m━━━━━━━━━━━━━━━━━━━━\u001b[0m\u001b[37m\u001b[0m \u001b[1m5s\u001b[0m 866us/step - loss: 0.0016\n"
     ]
    }
   ],
   "source": [
    "nr_inputs = x_train_scaled.shape[1]\n",
    "\n",
    "from tensorflow import keras\n",
    "model = keras.models.Sequential()\n",
    "model.add( keras.layers.InputLayer(shape=(nr_inputs,)) )\n",
    "model.add( keras.layers.Dense(1, activation=None) )\n",
    "\n",
    "model.compile(optimizer=\"adam\", loss=\"mean_absolute_error\")\n",
    "\n",
    "h = model.fit(x_train_scaled, y_train_scaled, epochs=3)"
   ]
  },
  {
   "cell_type": "code",
   "execution_count": 11,
   "id": "c053eca7-5bea-4e0a-9427-6d02175b1308",
   "metadata": {},
   "outputs": [
    {
     "data": {
      "text/html": [
       "<pre style=\"white-space:pre;overflow-x:auto;line-height:normal;font-family:Menlo,'DejaVu Sans Mono',consolas,'Courier New',monospace\"><span style=\"font-weight: bold\">Model: \"sequential_1\"</span>\n",
       "</pre>\n"
      ],
      "text/plain": [
       "\u001b[1mModel: \"sequential_1\"\u001b[0m\n"
      ]
     },
     "metadata": {},
     "output_type": "display_data"
    },
    {
     "data": {
      "text/html": [
       "<pre style=\"white-space:pre;overflow-x:auto;line-height:normal;font-family:Menlo,'DejaVu Sans Mono',consolas,'Courier New',monospace\">┏━━━━━━━━━━━━━━━━━━━━━━━━━━━━━━━━━┳━━━━━━━━━━━━━━━━━━━━━━━━┳━━━━━━━━━━━━━━━┓\n",
       "┃<span style=\"font-weight: bold\"> Layer (type)                    </span>┃<span style=\"font-weight: bold\"> Output Shape           </span>┃<span style=\"font-weight: bold\">       Param # </span>┃\n",
       "┡━━━━━━━━━━━━━━━━━━━━━━━━━━━━━━━━━╇━━━━━━━━━━━━━━━━━━━━━━━━╇━━━━━━━━━━━━━━━┩\n",
       "│ dense (<span style=\"color: #0087ff; text-decoration-color: #0087ff\">Dense</span>)                   │ (<span style=\"color: #00d7ff; text-decoration-color: #00d7ff\">None</span>, <span style=\"color: #00af00; text-decoration-color: #00af00\">1</span>)              │            <span style=\"color: #00af00; text-decoration-color: #00af00\">50</span> │\n",
       "└─────────────────────────────────┴────────────────────────┴───────────────┘\n",
       "</pre>\n"
      ],
      "text/plain": [
       "┏━━━━━━━━━━━━━━━━━━━━━━━━━━━━━━━━━┳━━━━━━━━━━━━━━━━━━━━━━━━┳━━━━━━━━━━━━━━━┓\n",
       "┃\u001b[1m \u001b[0m\u001b[1mLayer (type)                   \u001b[0m\u001b[1m \u001b[0m┃\u001b[1m \u001b[0m\u001b[1mOutput Shape          \u001b[0m\u001b[1m \u001b[0m┃\u001b[1m \u001b[0m\u001b[1m      Param #\u001b[0m\u001b[1m \u001b[0m┃\n",
       "┡━━━━━━━━━━━━━━━━━━━━━━━━━━━━━━━━━╇━━━━━━━━━━━━━━━━━━━━━━━━╇━━━━━━━━━━━━━━━┩\n",
       "│ dense (\u001b[38;5;33mDense\u001b[0m)                   │ (\u001b[38;5;45mNone\u001b[0m, \u001b[38;5;34m1\u001b[0m)              │            \u001b[38;5;34m50\u001b[0m │\n",
       "└─────────────────────────────────┴────────────────────────┴───────────────┘\n"
      ]
     },
     "metadata": {},
     "output_type": "display_data"
    },
    {
     "data": {
      "text/html": [
       "<pre style=\"white-space:pre;overflow-x:auto;line-height:normal;font-family:Menlo,'DejaVu Sans Mono',consolas,'Courier New',monospace\"><span style=\"font-weight: bold\"> Total params: </span><span style=\"color: #00af00; text-decoration-color: #00af00\">50</span> (200.00 B)\n",
       "</pre>\n"
      ],
      "text/plain": [
       "\u001b[1m Total params: \u001b[0m\u001b[38;5;34m50\u001b[0m (200.00 B)\n"
      ]
     },
     "metadata": {},
     "output_type": "display_data"
    },
    {
     "data": {
      "text/html": [
       "<pre style=\"white-space:pre;overflow-x:auto;line-height:normal;font-family:Menlo,'DejaVu Sans Mono',consolas,'Courier New',monospace\"><span style=\"font-weight: bold\"> Trainable params: </span><span style=\"color: #00af00; text-decoration-color: #00af00\">50</span> (200.00 B)\n",
       "</pre>\n"
      ],
      "text/plain": [
       "\u001b[1m Trainable params: \u001b[0m\u001b[38;5;34m50\u001b[0m (200.00 B)\n"
      ]
     },
     "metadata": {},
     "output_type": "display_data"
    },
    {
     "data": {
      "text/html": [
       "<pre style=\"white-space:pre;overflow-x:auto;line-height:normal;font-family:Menlo,'DejaVu Sans Mono',consolas,'Courier New',monospace\"><span style=\"font-weight: bold\"> Non-trainable params: </span><span style=\"color: #00af00; text-decoration-color: #00af00\">0</span> (0.00 B)\n",
       "</pre>\n"
      ],
      "text/plain": [
       "\u001b[1m Non-trainable params: \u001b[0m\u001b[38;5;34m0\u001b[0m (0.00 B)\n"
      ]
     },
     "metadata": {},
     "output_type": "display_data"
    }
   ],
   "source": [
    "model.summary()"
   ]
  },
  {
   "cell_type": "code",
   "execution_count": 18,
   "id": "8e253fea-808f-42ad-8d8a-a93b141abfd9",
   "metadata": {},
   "outputs": [
    {
     "data": {
      "text/plain": [
       "keras.src.callbacks.history.History"
      ]
     },
     "execution_count": 18,
     "metadata": {},
     "output_type": "execute_result"
    }
   ],
   "source": [
    "type(h)"
   ]
  },
  {
   "cell_type": "code",
   "execution_count": 19,
   "id": "eb707a35-32c6-4ddd-86ad-92bf27998229",
   "metadata": {},
   "outputs": [
    {
     "data": {
      "text/plain": [
       "{'loss': [0.006746484432369471, 0.0015839834231883287, 0.001582715311087668]}"
      ]
     },
     "execution_count": 19,
     "metadata": {},
     "output_type": "execute_result"
    }
   ],
   "source": [
    "h.history"
   ]
  },
  {
   "cell_type": "markdown",
   "id": "d3851df3-fa1e-42b5-b449-014532003c3d",
   "metadata": {},
   "source": [
    "# Modellgüte bestimmen"
   ]
  },
  {
   "cell_type": "code",
   "execution_count": 3,
   "id": "347af6ec-3847-496a-948e-b904b38f6ab5",
   "metadata": {},
   "outputs": [
    {
     "data": {
      "text/plain": [
       "(50139, 49)"
      ]
     },
     "execution_count": 3,
     "metadata": {},
     "output_type": "execute_result"
    }
   ],
   "source": [
    "x_test_scaled.shape"
   ]
  },
  {
   "cell_type": "code",
   "execution_count": 4,
   "id": "8f93aeed-eda7-4828-be19-4cda52ff46be",
   "metadata": {},
   "outputs": [
    {
     "data": {
      "text/plain": [
       "array([0.01731767, 0.15130261, 0.        , 0.        , 0.        ,\n",
       "       0.        , 0.        , 0.        , 0.        , 0.        ,\n",
       "       0.        , 0.        , 0.        , 0.        , 0.        ,\n",
       "       0.        , 0.        , 0.        , 0.        , 0.        ,\n",
       "       0.        , 0.        , 0.        , 0.        , 0.        ,\n",
       "       0.        , 0.        , 0.        , 0.        , 0.        ,\n",
       "       0.        , 0.        , 0.        , 0.        , 0.        ,\n",
       "       1.        , 0.        , 0.        , 0.        , 0.        ,\n",
       "       0.        , 0.        , 0.        , 0.        , 0.        ,\n",
       "       0.        , 0.        , 0.        , 0.        ])"
      ]
     },
     "execution_count": 4,
     "metadata": {},
     "output_type": "execute_result"
    }
   ],
   "source": [
    "x_test_scaled[0]"
   ]
  },
  {
   "cell_type": "code",
   "execution_count": 6,
   "id": "1b6df2c9-93d7-4fd8-84ea-6eada8793244",
   "metadata": {},
   "outputs": [
    {
     "data": {
      "text/plain": [
       "(50139, 1)"
      ]
     },
     "execution_count": 6,
     "metadata": {},
     "output_type": "execute_result"
    }
   ],
   "source": [
    "preds_scaled = model.predict( x_test_scaled, verbose=0 )\n",
    "preds_scaled.shape"
   ]
  },
  {
   "cell_type": "code",
   "execution_count": 8,
   "id": "928faaec-daa7-4f78-a1d4-79be1e9782d9",
   "metadata": {},
   "outputs": [
    {
     "data": {
      "text/plain": [
       "array([[0.00368542],\n",
       "       [0.00431819],\n",
       "       [0.00395836],\n",
       "       [0.00249691],\n",
       "       [0.00248036],\n",
       "       [0.00536162],\n",
       "       [0.00251638],\n",
       "       [0.00333258],\n",
       "       [0.00077021],\n",
       "       [0.00505806]], dtype=float32)"
      ]
     },
     "execution_count": 8,
     "metadata": {},
     "output_type": "execute_result"
    }
   ],
   "source": [
    "preds_scaled[:10]"
   ]
  },
  {
   "cell_type": "code",
   "execution_count": 10,
   "id": "4d925d83-ce2f-4645-9df7-f26243f8e8bd",
   "metadata": {},
   "outputs": [
    {
     "data": {
      "text/plain": [
       "array([[21828.502 ],\n",
       "       [25555.79  ],\n",
       "       [23436.232 ],\n",
       "       [14827.728 ],\n",
       "       [14730.263 ],\n",
       "       [31702.    ],\n",
       "       [14942.43  ],\n",
       "       [19750.139 ],\n",
       "       [ 4656.8154],\n",
       "       [29913.918 ]], dtype=float32)"
      ]
     },
     "execution_count": 10,
     "metadata": {},
     "output_type": "execute_result"
    }
   ],
   "source": [
    "preds_euro = s_output.inverse_transform( preds_scaled )\n",
    "preds_euro[:10]"
   ]
  },
  {
   "cell_type": "code",
   "execution_count": 11,
   "id": "0a3b1520-3811-40bc-8726-b97ca4dd7deb",
   "metadata": {},
   "outputs": [
    {
     "data": {
      "text/plain": [
       "(50139, 1)"
      ]
     },
     "execution_count": 11,
     "metadata": {},
     "output_type": "execute_result"
    }
   ],
   "source": [
    "y_test.shape"
   ]
  },
  {
   "cell_type": "code",
   "execution_count": 36,
   "id": "5a448e67-370f-4aca-a3c1-56852eef5064",
   "metadata": {},
   "outputs": [
    {
     "name": "stdout",
     "output_type": "stream",
     "text": [
      "MAE=8847.37€, MAPE=51.78%\n"
     ]
    }
   ],
   "source": [
    "preds_scaled = model.predict( x_test_scaled, verbose=0 )\n",
    "preds_euro = s_output.inverse_transform( preds_scaled ).flatten()\n",
    "gt_euro = y_test.values.flatten()\n",
    "\n",
    "from sklearn.metrics import mean_absolute_error, mean_absolute_percentage_error\n",
    "MAE  = mean_absolute_error(gt_euro, preds_euro)\n",
    "MAPE = mean_absolute_percentage_error(gt_euro, preds_euro)*100\n",
    "print(f\"{MAE=:.2f}€, {MAPE=:.2f}%\")"
   ]
  },
  {
   "cell_type": "code",
   "execution_count": 15,
   "id": "d39c95eb-4d67-41b4-9735-6c43264abb8c",
   "metadata": {},
   "outputs": [
    {
     "data": {
      "text/plain": [
       "(50139,)"
      ]
     },
     "execution_count": 15,
     "metadata": {},
     "output_type": "execute_result"
    }
   ],
   "source": [
    "preds_euro.shape"
   ]
  },
  {
   "cell_type": "code",
   "execution_count": 16,
   "id": "05c6072e-5304-4922-9515-b948e40c9838",
   "metadata": {},
   "outputs": [
    {
     "data": {
      "text/plain": [
       "(50139,)"
      ]
     },
     "execution_count": 16,
     "metadata": {},
     "output_type": "execute_result"
    }
   ],
   "source": [
    "gt_euro.shape"
   ]
  },
  {
   "cell_type": "code",
   "execution_count": 17,
   "id": "e10fb385-7d98-4bb1-a6fb-1fb6d8118654",
   "metadata": {},
   "outputs": [
    {
     "data": {
      "text/plain": [
       "array([21828.502  , 25555.79   , 23436.232  , 14827.728  , 14730.263  ,\n",
       "       31702.     , 14942.43   , 19750.139  ,  4656.8154 , 29913.918  ,\n",
       "       22307.668  ,  3660.9456 ,  7951.9272 ,   441.85944, 24621.904  ,\n",
       "        1976.6394 ,  8512.65   , 12238.87   , 26872.969  , 15716.501  ],\n",
       "      dtype=float32)"
      ]
     },
     "execution_count": 17,
     "metadata": {},
     "output_type": "execute_result"
    }
   ],
   "source": [
    "preds_euro[:20]"
   ]
  },
  {
   "cell_type": "code",
   "execution_count": 18,
   "id": "47ac4ff2-ef60-4a12-8d5c-41d560fdcfd8",
   "metadata": {},
   "outputs": [
    {
     "data": {
      "text/plain": [
       "array([12900., 24550., 21290., 10999., 21450., 30988.,  9799., 16390.,\n",
       "        9999., 57990., 22890.,  7500., 14950.,  3999., 17990.,  4980.,\n",
       "        2250.,  8950., 36180., 17990.])"
      ]
     },
     "execution_count": 18,
     "metadata": {},
     "output_type": "execute_result"
    }
   ],
   "source": [
    "gt_euro[:20]"
   ]
  },
  {
   "cell_type": "code",
   "execution_count": 21,
   "id": "7cc670bf-864d-49be-9eef-52a7f514e2ac",
   "metadata": {},
   "outputs": [
    {
     "data": {
      "text/plain": [
       "8847.371960436556"
      ]
     },
     "execution_count": 21,
     "metadata": {},
     "output_type": "execute_result"
    }
   ],
   "source": [
    "import numpy\n",
    "MAE = numpy.mean(abs(gt_euro - preds_euro))\n",
    "MAE"
   ]
  },
  {
   "cell_type": "code",
   "execution_count": 22,
   "id": "af912be9-fd62-489a-85f6-869bd6255f74",
   "metadata": {},
   "outputs": [
    {
     "data": {
      "text/plain": [
       "8847.371960436556"
      ]
     },
     "execution_count": 22,
     "metadata": {},
     "output_type": "execute_result"
    }
   ],
   "source": [
    "from sklearn.metrics import mean_absolute_error\n",
    "mean_absolute_error(gt_euro, preds_euro)"
   ]
  },
  {
   "cell_type": "code",
   "execution_count": 27,
   "id": "b993532c-65ea-4b0c-99ba-bf929e7e8d53",
   "metadata": {},
   "outputs": [
    {
     "data": {
      "text/plain": [
       "33.33333333333333"
      ]
     },
     "execution_count": 27,
     "metadata": {},
     "output_type": "execute_result"
    }
   ],
   "source": [
    "(abs(15000 - 10000)/15000)*100"
   ]
  },
  {
   "cell_type": "code",
   "execution_count": 28,
   "id": "e4b8e62f-cfc3-476d-84f6-97ce414fb60f",
   "metadata": {},
   "outputs": [
    {
     "data": {
      "text/plain": [
       "0.4975124378109453"
      ]
     },
     "execution_count": 28,
     "metadata": {},
     "output_type": "execute_result"
    }
   ],
   "source": [
    "(abs(1005000 - 1000000)/1005000)*100"
   ]
  },
  {
   "cell_type": "code",
   "execution_count": 32,
   "id": "6cc5fabf-6321-42a2-91db-55c377d657b7",
   "metadata": {},
   "outputs": [
    {
     "data": {
      "text/plain": [
       "51.77962327542708"
      ]
     },
     "execution_count": 32,
     "metadata": {},
     "output_type": "execute_result"
    }
   ],
   "source": [
    "import numpy\n",
    "MAPE = (numpy.mean(abs(gt_euro - preds_euro)/gt_euro))*100\n",
    "MAPE"
   ]
  },
  {
   "cell_type": "code",
   "execution_count": 34,
   "id": "a6033fcc-33ae-4a3d-b69b-e0ef6e6df6d3",
   "metadata": {},
   "outputs": [
    {
     "data": {
      "text/plain": [
       "51.77962327542708"
      ]
     },
     "execution_count": 34,
     "metadata": {},
     "output_type": "execute_result"
    }
   ],
   "source": [
    "from sklearn.metrics import mean_absolute_percentage_error\n",
    "mean_absolute_percentage_error(gt_euro, preds_euro)*100"
   ]
  },
  {
   "cell_type": "markdown",
   "id": "d713fb97-8206-4bb6-970c-a4e1e99e7ace",
   "metadata": {},
   "source": [
    "# Codeteile als ein Skript"
   ]
  },
  {
   "cell_type": "code",
   "execution_count": 22,
   "id": "8da990e8-bee8-407a-99e5-24341ee59865",
   "metadata": {},
   "outputs": [
    {
     "data": {
      "text/plain": [
       "0           Petrol\n",
       "1           Petrol\n",
       "2           Petrol\n",
       "3           Petrol\n",
       "4           Petrol\n",
       "            ...   \n",
       "251074      Hybrid\n",
       "251075      Diesel\n",
       "251076      Diesel\n",
       "251077      Hybrid\n",
       "251078    Electric\n",
       "Name: fuel_type, Length: 251079, dtype: object"
      ]
     },
     "execution_count": 22,
     "metadata": {},
     "output_type": "execute_result"
    }
   ],
   "source": [
    "t[\"fuel_type\"]"
   ]
  },
  {
   "cell_type": "code",
   "execution_count": 17,
   "id": "930e0a41-244f-420b-9dbd-07e0b8e619d0",
   "metadata": {},
   "outputs": [
    {
     "data": {
      "text/plain": [
       "14"
      ]
     },
     "execution_count": 17,
     "metadata": {},
     "output_type": "execute_result"
    }
   ],
   "source": [
    "t[\"color\"].nunique()"
   ]
  },
  {
   "cell_type": "code",
   "execution_count": 7,
   "id": "b712ecec-4cae-48ab-95a9-11226da6520b",
   "metadata": {},
   "outputs": [
    {
     "data": {
      "text/plain": [
       "Unnamed: 0                    int64\n",
       "brand                        object\n",
       "model                        object\n",
       "color                        object\n",
       "registration_date            object\n",
       "year                         object\n",
       "price_in_euro               float64\n",
       "power_kw                     object\n",
       "power_ps                    float64\n",
       "transmission_type            object\n",
       "fuel_type                    object\n",
       "fuel_consumption_l_100km     object\n",
       "fuel_consumption_g_km        object\n",
       "mileage_in_km               float64\n",
       "offer_description            object\n",
       "dtype: object"
      ]
     },
     "execution_count": 7,
     "metadata": {},
     "output_type": "execute_result"
    }
   ],
   "source": [
    "t.dtypes"
   ]
  },
  {
   "cell_type": "code",
   "execution_count": 6,
   "id": "1650825f-7aa0-4df7-ab9d-a15234dd7afb",
   "metadata": {},
   "outputs": [
    {
     "data": {
      "text/plain": [
       "Index(['Unnamed: 0', 'brand', 'model', 'color', 'registration_date', 'year',\n",
       "       'price_in_euro', 'power_kw', 'power_ps', 'transmission_type',\n",
       "       'fuel_type', 'fuel_consumption_l_100km', 'fuel_consumption_g_km',\n",
       "       'mileage_in_km', 'offer_description'],\n",
       "      dtype='object')"
      ]
     },
     "execution_count": 6,
     "metadata": {},
     "output_type": "execute_result"
    }
   ],
   "source": [
    "t.columns"
   ]
  },
  {
   "cell_type": "code",
   "execution_count": 14,
   "id": "ae72ba4f-4a36-40af-b635-c50223744196",
   "metadata": {},
   "outputs": [
    {
     "data": {
      "text/plain": [
       "Index(['mileage_in_km', 'power_ps', 'price_in_euro', 'brand_alfa-romeo',\n",
       "       'brand_aston-martin', 'brand_audi', 'brand_bentley', 'brand_bmw',\n",
       "       'brand_cadillac', 'brand_chevrolet', 'brand_chrysler', 'brand_citroen',\n",
       "       'brand_dacia', 'brand_daewoo', 'brand_daihatsu', 'brand_dodge',\n",
       "       'brand_ferrari', 'brand_fiat', 'brand_ford', 'brand_honda',\n",
       "       'brand_hyundai', 'brand_infiniti', 'brand_isuzu', 'brand_jaguar',\n",
       "       'brand_jeep', 'brand_kia', 'brand_lada', 'brand_lamborghini',\n",
       "       'brand_lancia', 'brand_land-rover', 'brand_maserati', 'brand_mazda',\n",
       "       'brand_mercedes-benz', 'brand_mini', 'brand_mitsubishi', 'brand_nissan',\n",
       "       'brand_opel', 'brand_peugeot', 'brand_porsche', 'brand_proton',\n",
       "       'brand_renault', 'brand_rover', 'brand_saab', 'brand_seat',\n",
       "       'brand_skoda', 'brand_smart', 'brand_ssangyong', 'brand_toyota',\n",
       "       'brand_volkswagen', 'brand_volvo'],\n",
       "      dtype='object')"
      ]
     },
     "execution_count": 14,
     "metadata": {},
     "output_type": "execute_result"
    }
   ],
   "source": [
    "t_bereinigt.columns"
   ]
  },
  {
   "cell_type": "code",
   "execution_count": 30,
   "id": "369247db-35fb-43a7-a102-d3d44593da23",
   "metadata": {},
   "outputs": [
    {
     "name": "stdout",
     "output_type": "stream",
     "text": [
      "Epoch 1/20\n",
      "\u001b[1m6264/6264\u001b[0m \u001b[32m━━━━━━━━━━━━━━━━━━━━\u001b[0m\u001b[37m\u001b[0m \u001b[1m11s\u001b[0m 2ms/step - loss: 0.0017\n",
      "Epoch 2/20\n",
      "\u001b[1m6264/6264\u001b[0m \u001b[32m━━━━━━━━━━━━━━━━━━━━\u001b[0m\u001b[37m\u001b[0m \u001b[1m10s\u001b[0m 2ms/step - loss: 7.9693e-04\n",
      "Epoch 3/20\n",
      "\u001b[1m6264/6264\u001b[0m \u001b[32m━━━━━━━━━━━━━━━━━━━━\u001b[0m\u001b[37m\u001b[0m \u001b[1m9s\u001b[0m 1ms/step - loss: 7.6040e-04\n",
      "Epoch 4/20\n",
      "\u001b[1m6264/6264\u001b[0m \u001b[32m━━━━━━━━━━━━━━━━━━━━\u001b[0m\u001b[37m\u001b[0m \u001b[1m10s\u001b[0m 2ms/step - loss: 7.4291e-04\n",
      "Epoch 5/20\n",
      "\u001b[1m6264/6264\u001b[0m \u001b[32m━━━━━━━━━━━━━━━━━━━━\u001b[0m\u001b[37m\u001b[0m \u001b[1m16s\u001b[0m 3ms/step - loss: 6.9695e-04\n",
      "Epoch 6/20\n",
      "\u001b[1m6264/6264\u001b[0m \u001b[32m━━━━━━━━━━━━━━━━━━━━\u001b[0m\u001b[37m\u001b[0m \u001b[1m12s\u001b[0m 2ms/step - loss: 7.0449e-04\n",
      "Epoch 7/20\n",
      "\u001b[1m6264/6264\u001b[0m \u001b[32m━━━━━━━━━━━━━━━━━━━━\u001b[0m\u001b[37m\u001b[0m \u001b[1m11s\u001b[0m 2ms/step - loss: 6.9670e-04\n",
      "Epoch 8/20\n",
      "\u001b[1m6264/6264\u001b[0m \u001b[32m━━━━━━━━━━━━━━━━━━━━\u001b[0m\u001b[37m\u001b[0m \u001b[1m12s\u001b[0m 2ms/step - loss: 6.9360e-04\n",
      "Epoch 9/20\n",
      "\u001b[1m6264/6264\u001b[0m \u001b[32m━━━━━━━━━━━━━━━━━━━━\u001b[0m\u001b[37m\u001b[0m \u001b[1m12s\u001b[0m 2ms/step - loss: 6.9311e-04\n",
      "Epoch 10/20\n",
      "\u001b[1m6264/6264\u001b[0m \u001b[32m━━━━━━━━━━━━━━━━━━━━\u001b[0m\u001b[37m\u001b[0m \u001b[1m11s\u001b[0m 2ms/step - loss: 6.9003e-04\n",
      "Epoch 11/20\n",
      "\u001b[1m6264/6264\u001b[0m \u001b[32m━━━━━━━━━━━━━━━━━━━━\u001b[0m\u001b[37m\u001b[0m \u001b[1m10s\u001b[0m 2ms/step - loss: 6.9057e-04\n",
      "Epoch 12/20\n",
      "\u001b[1m6264/6264\u001b[0m \u001b[32m━━━━━━━━━━━━━━━━━━━━\u001b[0m\u001b[37m\u001b[0m \u001b[1m12s\u001b[0m 2ms/step - loss: 6.9872e-04\n",
      "Epoch 13/20\n",
      "\u001b[1m6264/6264\u001b[0m \u001b[32m━━━━━━━━━━━━━━━━━━━━\u001b[0m\u001b[37m\u001b[0m \u001b[1m12s\u001b[0m 2ms/step - loss: 6.9006e-04\n",
      "Epoch 14/20\n",
      "\u001b[1m6264/6264\u001b[0m \u001b[32m━━━━━━━━━━━━━━━━━━━━\u001b[0m\u001b[37m\u001b[0m \u001b[1m11s\u001b[0m 2ms/step - loss: 6.9151e-04\n",
      "Epoch 15/20\n",
      "\u001b[1m6264/6264\u001b[0m \u001b[32m━━━━━━━━━━━━━━━━━━━━\u001b[0m\u001b[37m\u001b[0m \u001b[1m12s\u001b[0m 2ms/step - loss: 6.8700e-04\n",
      "Epoch 16/20\n",
      "\u001b[1m6264/6264\u001b[0m \u001b[32m━━━━━━━━━━━━━━━━━━━━\u001b[0m\u001b[37m\u001b[0m \u001b[1m12s\u001b[0m 2ms/step - loss: 6.9639e-04\n",
      "Epoch 17/20\n",
      "\u001b[1m6264/6264\u001b[0m \u001b[32m━━━━━━━━━━━━━━━━━━━━\u001b[0m\u001b[37m\u001b[0m \u001b[1m13s\u001b[0m 2ms/step - loss: 6.9165e-04\n",
      "Epoch 18/20\n",
      "\u001b[1m6264/6264\u001b[0m \u001b[32m━━━━━━━━━━━━━━━━━━━━\u001b[0m\u001b[37m\u001b[0m \u001b[1m12s\u001b[0m 2ms/step - loss: 6.7705e-04\n",
      "Epoch 19/20\n",
      "\u001b[1m6264/6264\u001b[0m \u001b[32m━━━━━━━━━━━━━━━━━━━━\u001b[0m\u001b[37m\u001b[0m \u001b[1m13s\u001b[0m 2ms/step - loss: 6.8995e-04\n",
      "Epoch 20/20\n",
      "\u001b[1m6264/6264\u001b[0m \u001b[32m━━━━━━━━━━━━━━━━━━━━\u001b[0m\u001b[37m\u001b[0m \u001b[1m11s\u001b[0m 2ms/step - loss: 6.7053e-04\n",
      "MAE=4532.08€, MAPE=21.64%\n"
     ]
    }
   ],
   "source": [
    "# 1. Beispieldaten für das Modell vorbereiten\n",
    "import pandas\n",
    "fname = \"used_cars_autoscout24.csv\"\n",
    "t = pandas.read_csv(fname)\n",
    "t[\"power_ps\"]      = pandas.to_numeric(t[\"power_ps\"], errors='coerce')\n",
    "t[\"year\"]          = pandas.to_numeric(t[\"year\"], errors='coerce')\n",
    "t[\"price_in_euro\"] = pandas.to_numeric(t[\"price_in_euro\"], errors='coerce')\n",
    "t_bereinigt = t[ [\"brand\", \"model\", \"color\", \"transmission_type\",\n",
    "                  \"mileage_in_km\", \"power_ps\", \"year\",\n",
    "                  \"price_in_euro\"] ]\n",
    "t_bereinigt = t_bereinigt.dropna(axis=\"rows\")\n",
    "t_bereinigt = pandas.get_dummies(t_bereinigt)\n",
    "\n",
    "x = t_bereinigt.drop(\"price_in_euro\", axis=\"columns\")\n",
    "y = t_bereinigt[ [\"price_in_euro\"] ]\n",
    "\n",
    "from sklearn.model_selection import train_test_split\n",
    "x_train, x_test, y_train, y_test = train_test_split(x, y, test_size=0.2)\n",
    "\n",
    "from sklearn.preprocessing import MinMaxScaler\n",
    "s_input = MinMaxScaler(feature_range=(0,1))\n",
    "s_output = MinMaxScaler(feature_range=(0,1))\n",
    "s_input.fit(x_train)\n",
    "s_output.fit(y_train)\n",
    "x_train_scaled = s_input.transform(x_train)\n",
    "y_train_scaled = s_output.transform(y_train)\n",
    "x_test_scaled = s_input.transform(x_test)\n",
    "y_test_scaled = s_output.transform(y_test)\n",
    "\n",
    "# 2. NN mit Keras bauen und trainieren\n",
    "if True:\n",
    "    nr_inputs = x_train_scaled.shape[1]\n",
    "    from tensorflow import keras\n",
    "    model = keras.models.Sequential()\n",
    "    model.add( keras.layers.InputLayer(shape=(nr_inputs,)) )\n",
    "    model.add( keras.layers.Dense(10, activation=\"relu\") )\n",
    "    model.add( keras.layers.Dense(1, activation=None) )\n",
    "    model.compile(optimizer=\"adam\", loss=\"mean_absolute_error\")\n",
    "    h = model.fit(x_train_scaled, y_train_scaled, epochs=20)\n",
    "    \n",
    "    # 3. Modellgüte bestimmen\n",
    "    preds_scaled = model.predict( x_test_scaled, verbose=0 )\n",
    "    preds_euro = s_output.inverse_transform( preds_scaled ).flatten()\n",
    "    gt_euro = y_test.values.flatten()\n",
    "    from sklearn.metrics import mean_absolute_error, mean_absolute_percentage_error\n",
    "    MAE  = mean_absolute_error(gt_euro, preds_euro)\n",
    "    MAPE = mean_absolute_percentage_error(gt_euro, preds_euro)*100\n",
    "    print(f\"{MAE=:.2f}€, {MAPE=:.2f}%\")"
   ]
  },
  {
   "cell_type": "code",
   "execution_count": 28,
   "id": "5152499f-2ade-4dc5-aaad-b1f61337a689",
   "metadata": {},
   "outputs": [
    {
     "data": {
      "text/plain": [
       "Index(['mileage_in_km', 'power_ps', 'year', 'price_in_euro',\n",
       "       'brand_alfa-romeo', 'brand_aston-martin', 'brand_audi', 'brand_bentley',\n",
       "       'brand_bmw', 'brand_cadillac',\n",
       "       ...\n",
       "       'color_orange', 'color_red', 'color_silver', 'color_violet',\n",
       "       'color_white', 'color_yellow', 'transmission_type_Automatic',\n",
       "       'transmission_type_Manual', 'transmission_type_Semi-automatic',\n",
       "       'transmission_type_Unknown'],\n",
       "      dtype='object', length=1380)"
      ]
     },
     "execution_count": 28,
     "metadata": {},
     "output_type": "execute_result"
    }
   ],
   "source": [
    "t_bereinigt.columns"
   ]
  },
  {
   "cell_type": "code",
   "execution_count": null,
   "id": "7b08c7e1-b9e4-43b2-be70-ba69a2463a13",
   "metadata": {},
   "outputs": [],
   "source": []
  }
 ],
 "metadata": {
  "kernelspec": {
   "display_name": "Python 3 (ipykernel)",
   "language": "python",
   "name": "python3"
  },
  "language_info": {
   "codemirror_mode": {
    "name": "ipython",
    "version": 3
   },
   "file_extension": ".py",
   "mimetype": "text/x-python",
   "name": "python",
   "nbconvert_exporter": "python",
   "pygments_lexer": "ipython3",
   "version": "3.12.3"
  }
 },
 "nbformat": 4,
 "nbformat_minor": 5
}
