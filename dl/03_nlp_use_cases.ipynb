{
 "cells": [
  {
   "cell_type": "markdown",
   "id": "2436444a-8e61-4ea7-9043-82d66fe372a5",
   "metadata": {},
   "source": [
    "# OpenAI API"
   ]
  },
  {
   "cell_type": "code",
   "execution_count": 1,
   "id": "401fd8c1-887a-479a-9429-ba9626109289",
   "metadata": {},
   "outputs": [
    {
     "name": "stdout",
     "output_type": "stream",
     "text": [
      "Länge des Keys ist 51\n",
      "sk-Da\n"
     ]
    }
   ],
   "source": [
    "with open(\"openai_api_key.txt\", \"rt\") as f:\n",
    "    key = f.read()\n",
    "    print(f\"Länge des Keys ist {len(key)}\")\n",
    "    print(key[:5])"
   ]
  },
  {
   "cell_type": "code",
   "execution_count": 5,
   "id": "72882532-2b90-4e5b-89de-dfce57b7d83d",
   "metadata": {},
   "outputs": [],
   "source": [
    "from openai import OpenAI\n",
    "client = OpenAI(api_key=key)"
   ]
  },
  {
   "cell_type": "code",
   "execution_count": 7,
   "id": "0b253af9-264e-46c1-b319-d21ad60bd26d",
   "metadata": {},
   "outputs": [],
   "source": [
    "chat_completion = client.chat.completions.create(\n",
    "    model=\"gpt-4o-mini\",\n",
    "    messages=[\n",
    "       {\"role\":\"user\",\n",
    "        \"content\":\"Hallo, ich heiße Jürgen. Sprichst du auch Deutsch?\"}\n",
    "    ]\n",
    "  )"
   ]
  },
  {
   "cell_type": "code",
   "execution_count": 8,
   "id": "ae72ac42-0ded-4972-9055-3c4cfcc4ef3e",
   "metadata": {},
   "outputs": [
    {
     "data": {
      "text/plain": [
       "openai.types.chat.chat_completion.ChatCompletion"
      ]
     },
     "execution_count": 8,
     "metadata": {},
     "output_type": "execute_result"
    }
   ],
   "source": [
    "type(chat_completion)"
   ]
  },
  {
   "cell_type": "code",
   "execution_count": 9,
   "id": "ffb7c58b-be12-4e5d-ba33-c84d000f6c7a",
   "metadata": {},
   "outputs": [
    {
     "data": {
      "text/plain": [
       "ChatCompletion(id='chatcmpl-AW3DyLBPCMhA4MyQwlJPs9aOZm8Z3', choices=[Choice(finish_reason='stop', index=0, logprobs=None, message=ChatCompletionMessage(content='Hallo Jürgen! Ja, ich spreche auch Deutsch. Wie kann ich dir helfen?', refusal=None, role='assistant', audio=None, function_call=None, tool_calls=None))], created=1732202254, model='gpt-4o-mini-2024-07-18', object='chat.completion', service_tier=None, system_fingerprint='fp_0705bf87c0', usage=CompletionUsage(completion_tokens=18, prompt_tokens=22, total_tokens=40, completion_tokens_details=CompletionTokensDetails(accepted_prediction_tokens=0, audio_tokens=0, reasoning_tokens=0, rejected_prediction_tokens=0), prompt_tokens_details=PromptTokensDetails(audio_tokens=0, cached_tokens=0)))"
      ]
     },
     "execution_count": 9,
     "metadata": {},
     "output_type": "execute_result"
    }
   ],
   "source": [
    "chat_completion"
   ]
  },
  {
   "cell_type": "code",
   "execution_count": 18,
   "id": "4dc2b386-e3ed-4cbd-b294-63d58a38cf74",
   "metadata": {},
   "outputs": [
    {
     "data": {
      "text/plain": [
       "'Hallo Jürgen! Ja, ich spreche auch Deutsch. Wie kann ich dir helfen?'"
      ]
     },
     "execution_count": 18,
     "metadata": {},
     "output_type": "execute_result"
    }
   ],
   "source": [
    "chat_completion.choices[0].message.content"
   ]
  },
  {
   "cell_type": "markdown",
   "id": "72a5e28e-f8f2-436b-8e55-bda25418c5b4",
   "metadata": {},
   "source": [
    "## Textklassifikation"
   ]
  },
  {
   "cell_type": "code",
   "execution_count": 25,
   "id": "6528e85f-e9c5-4bfa-bc8c-2a751c679cdd",
   "metadata": {},
   "outputs": [
    {
     "name": "stdout",
     "output_type": "stream",
     "text": [
      "ANFRAGE: Puh! Endlich geschafft. Habe über 100 Seiten geschrieben. Wo darf ich das Teil abgeben?\n",
      "ANTWORT: 4\n"
     ]
    }
   ],
   "source": [
    "from openai import OpenAI\n",
    "client = OpenAI(api_key=key)\n",
    "\n",
    "ki_programmierung = \"\"\"Du bist ein Anfrage-Klassifikator. Studierende werden dir Anfragen\n",
    "schicken. Du sollst diese Anfragen in eine der folgenden 6 Kategorien stecken:\n",
    "1. Studienberatungsanfrage\n",
    "2. Adressänderung\n",
    "3. Antrag auf Fristverlängerung für eine Prüfung\n",
    "4. Abgabe Masterarbeit\n",
    "5. Exmatrikulation\n",
    "6. Keine der genannten Kategorien 1-5\n",
    "Du sollst immer mit nur einer der Zahlen 1-6 antworten, je nachdem welche Anfrage vorliegt.\n",
    "\"\"\"\n",
    "\n",
    "anfrage = \"\"\"Puh! Endlich geschafft. Habe über 100 Seiten geschrieben. Wo darf ich das Teil abgeben?\"\"\"\n",
    "\n",
    "chat_completion = client.chat.completions.create(\n",
    "    model=\"gpt-4o-mini\",\n",
    "    messages=[\n",
    "       {\"role\"    : \"system\",\n",
    "        \"content\" : ki_programmierung,\n",
    "       },\n",
    "       {\"role\"    : \"user\",\n",
    "        \"content\" : anfrage}\n",
    "    ]\n",
    "  )\n",
    "\n",
    "antwort = chat_completion.choices[0].message.content\n",
    "\n",
    "print(f\"ANFRAGE: {anfrage}\")\n",
    "print(f\"ANTWORT: {antwort}\")"
   ]
  },
  {
   "cell_type": "code",
   "execution_count": 23,
   "id": "e525f1e2-33f2-4400-bf04-5b5bff1d5ba4",
   "metadata": {},
   "outputs": [
    {
     "data": {
      "text/plain": [
       "'1'"
      ]
     },
     "execution_count": 23,
     "metadata": {},
     "output_type": "execute_result"
    }
   ],
   "source": [
    "antwort"
   ]
  },
  {
   "cell_type": "markdown",
   "id": "3ca20520-4a33-4982-ad17-927264c2dae1",
   "metadata": {},
   "source": [
    "## Stimmungsanalyse (Sentiment Analysis)"
   ]
  },
  {
   "cell_type": "code",
   "execution_count": 41,
   "id": "ad644846-f7a2-4770-9d01-4474828fdd10",
   "metadata": {},
   "outputs": [
    {
     "name": "stdout",
     "output_type": "stream",
     "text": [
      "ANFRAGE: Die Vorlesung von Prof. Brauer ist doch lustig! Ich hatte nicht so viel erwartet.\n",
      "So viele Themen und wir sind immer noch lange nicht durch!\n",
      "ANTWORT: 4\n"
     ]
    }
   ],
   "source": [
    "from openai import OpenAI\n",
    "client = OpenAI(api_key=key)\n",
    "\n",
    "ki_programmierung = \"\"\"Du sollst die Stimmung in einem Text erkennen:\n",
    "Dabei sollen die Zahlen 1-5 bedeuten:\n",
    "Die Stimmung ist ...\n",
    "1 - sehr negativ\n",
    "2 - negativ\n",
    "3 - neutral\n",
    "4 - positiv\n",
    "5 - sehr positiv\n",
    "Antworte immer nur mit 1-5\n",
    "\"\"\"\n",
    "\n",
    "anfrage = \"\"\"Die Vorlesung von Prof. Brauer ist doch lustig! Ich hatte nicht so viel erwartet.\n",
    "So viele Themen und wir sind immer noch lange nicht durch!\"\"\"\n",
    "\n",
    "chat_completion = client.chat.completions.create(\n",
    "    model=\"gpt-4o-mini\",\n",
    "    messages=[\n",
    "       {\"role\"    : \"system\",\n",
    "        \"content\" : ki_programmierung,\n",
    "       },\n",
    "       {\"role\"    : \"user\",\n",
    "        \"content\" : anfrage}\n",
    "    ]\n",
    "  )\n",
    "\n",
    "antwort = chat_completion.choices[0].message.content\n",
    "\n",
    "print(f\"ANFRAGE: {anfrage}\")\n",
    "print(f\"ANTWORT: {antwort}\")"
   ]
  },
  {
   "cell_type": "markdown",
   "id": "b16072ab-78b4-4e4e-ba59-0413c4b84a47",
   "metadata": {},
   "source": [
    "## Strukturierter Output"
   ]
  },
  {
   "cell_type": "code",
   "execution_count": 47,
   "id": "26c241f1-4aac-4fd5-90bd-f8dae7a1401f",
   "metadata": {},
   "outputs": [],
   "source": [
    "from pydantic import BaseModel\n",
    "from openai import OpenAI\n",
    "\n",
    "client = OpenAI(api_key=key)\n",
    "\n",
    "class CalendarEvent(BaseModel):\n",
    "    name: str\n",
    "    date: str\n",
    "    participants: list[str]\n",
    "\n",
    "completion = client.beta.chat.completions.parse(\n",
    "    model=\"gpt-4o-2024-08-06\",\n",
    "    messages=[\n",
    "        {\"role\": \"system\", \"content\": \"Extract the event information.\"},\n",
    "        {\"role\": \"user\", \"content\": \"Alice and Bob are going to a science fair on Friday.\"},\n",
    "    ],\n",
    "    response_format=CalendarEvent,\n",
    ")\n",
    "\n",
    "event = completion.choices[0].message.parsed"
   ]
  },
  {
   "cell_type": "code",
   "execution_count": 48,
   "id": "961c44fe-9ae2-406d-b00c-97f4d7d1103f",
   "metadata": {},
   "outputs": [
    {
     "data": {
      "text/plain": [
       "__main__.CalendarEvent"
      ]
     },
     "execution_count": 48,
     "metadata": {},
     "output_type": "execute_result"
    }
   ],
   "source": [
    "type(event)"
   ]
  },
  {
   "cell_type": "code",
   "execution_count": 49,
   "id": "c638e7c1-84b4-448e-b9bf-3542a299aa49",
   "metadata": {},
   "outputs": [
    {
     "data": {
      "text/plain": [
       "CalendarEvent(name='Science Fair', date='Friday', participants=['Alice', 'Bob'])"
      ]
     },
     "execution_count": 49,
     "metadata": {},
     "output_type": "execute_result"
    }
   ],
   "source": [
    "event"
   ]
  },
  {
   "cell_type": "code",
   "execution_count": 64,
   "id": "e0876ba8-fb57-4635-8189-410f6dbc08a2",
   "metadata": {},
   "outputs": [],
   "source": [
    "from pydantic import BaseModel\n",
    "from openai import OpenAI\n",
    "\n",
    "client = OpenAI(api_key=key)\n",
    "\n",
    "ki_programmierung = \"\"\"\n",
    "Du sollst Anfragen von Studierenden analysieren.\n",
    "Extrahiere für mich\n",
    "\n",
    "- Name\n",
    "\n",
    "- das Anliegen, z.B.\n",
    "1. Studienberatungsanfrage\n",
    "2. Adressänderung\n",
    "3. Antrag auf Fristverlängerung für eine Prüfung\n",
    "4. Abgabe Masterarbeit\n",
    "5. Exmatrikulation\n",
    "6. Keine der genannten Kategorien 1-5\n",
    "\n",
    "- die Emotionalität: negativ, neutral, positiv\n",
    "\n",
    "Die Emotionalität soll nur mit Smileys angegeben werden:\n",
    ":-( bedeutet negativ\n",
    ":-| neutral\n",
    ":-) positiv\n",
    "\"\"\"\n",
    "\n",
    "anfrage1 = \"\"\"\n",
    "Mein Name ist Jürgen Brauer. Ich war bisher Dozent, will jetzt aber lieber an der Hochschule\n",
    "Theoretische Quantenphysik studieren. Bin mit meinem Job hier nämlich sehr unzufrieden :-(\n",
    "\"\"\"\n",
    "\n",
    "anfrage2 = \"\"\"Ich studiere Informatik. Bin von der Nebenstraße 1 in die Hauptstraße 2 umgezogen.\n",
    "Können Sie das bitte endlich in ihrem System ändern? Heiße übrigens Homer Simpsons. Geht mir voll auf\n",
    "die Nerven. Habe Ihnen diese Änderung schon vor 3 Jahren mitgeteilt und immer noch gehen\n",
    "die Briefe an mich an die alte Adresse!!!\"\"\"\n",
    "\n",
    "anfrage = anfrage2\n",
    "\n",
    "class StudierendeAnfrage(BaseModel):\n",
    "    name: str\n",
    "    anliegen: str\n",
    "    emotionalität: str\n",
    "\n",
    "completion = client.beta.chat.completions.parse(\n",
    "    model=\"gpt-4o-2024-08-06\",\n",
    "    messages=[\n",
    "        {\"role\": \"system\", \"content\": ki_programmierung},\n",
    "        {\"role\": \"user\", \"content\": anfrage},\n",
    "    ],\n",
    "    response_format=StudierendeAnfrage,\n",
    ")\n",
    "\n",
    "event = completion.choices[0].message.parsed"
   ]
  },
  {
   "cell_type": "code",
   "execution_count": 65,
   "id": "f1cd5588-ca05-4f2b-89dc-d07df56111f9",
   "metadata": {},
   "outputs": [
    {
     "data": {
      "text/plain": [
       "StudierendeAnfrage(name='Homer Simpsons', anliegen='Adressänderung', emotionalität=':-(')"
      ]
     },
     "execution_count": 65,
     "metadata": {},
     "output_type": "execute_result"
    }
   ],
   "source": [
    "event"
   ]
  },
  {
   "cell_type": "code",
   "execution_count": 66,
   "id": "7d56ec4f-4f09-4158-877a-8a97d97222f5",
   "metadata": {},
   "outputs": [],
   "source": [
    "from pydantic import BaseModel\n",
    "from openai import OpenAI\n",
    "\n",
    "client = OpenAI(api_key=key)\n",
    "\n",
    "ki_programmierung = \"\"\"\n",
    "Du sollst Beschreibungen von technischen Außendienstmitarbeitern analysieren.\n",
    "Extrahiere für mich\n",
    "\n",
    "- Problembeschreibung: Was war an dem Gerät kaputt?\n",
    "- Lösungsbeschreibung: Wie wurde das Gerät repariert?\n",
    "\"\"\"\n",
    "\n",
    "beschreibung = \"\"\"Bin zum Kunden Maier gefahren. Transformator X41 brummte im Technikraum.\n",
    "Außerdem qualmte er. Deswegen lief die Hyperraumzeitmaschine nicht mehr einwandfrei.\n",
    "Habe deswegen den X41 durch einen neuen X42 ausgetauscht. Zeitmaschine geht wieder.\n",
    "Kunde ist ins Jahr 2050 gereist, um Rechnungsbezahlung zu vermeiden... Habe außerdem\n",
    "mittags in der Kantine Spaghetti Bolognese gegessen. War echt lecker!\n",
    "\"\"\"\n",
    "\n",
    "class AussenDienstMitarbeiterBeschreibungsText(BaseModel):\n",
    "    problem : str\n",
    "    loesung : str\n",
    "\n",
    "completion = client.beta.chat.completions.parse(\n",
    "    model=\"gpt-4o-2024-08-06\",\n",
    "    messages=[\n",
    "        {\"role\": \"system\", \"content\": ki_programmierung},\n",
    "        {\"role\": \"user\", \"content\": beschreibung},\n",
    "    ],\n",
    "    response_format=AussenDienstMitarbeiterBeschreibungsText,\n",
    ")\n",
    "\n",
    "event = completion.choices[0].message.parsed"
   ]
  },
  {
   "cell_type": "code",
   "execution_count": 67,
   "id": "850fd541-8303-41ab-a8c4-5dd88cf2966a",
   "metadata": {},
   "outputs": [
    {
     "data": {
      "text/plain": [
       "AussenDienstMitarbeiterBeschreibungsText(problem='Der Transformator X41 brummte und qualmte, wodurch die Hyperraumzeitmaschine nicht mehr einwandfrei funktionierte.', loesung='Der defekte Transformator X41 wurde durch einen neuen Transformator X42 ersetzt.')"
      ]
     },
     "execution_count": 67,
     "metadata": {},
     "output_type": "execute_result"
    }
   ],
   "source": [
    "event"
   ]
  },
  {
   "cell_type": "code",
   "execution_count": 1,
   "id": "a987ad25-7ca1-41b1-9c5f-6e854218b183",
   "metadata": {},
   "outputs": [],
   "source": [
    "exit"
   ]
  },
  {
   "cell_type": "code",
   "execution_count": 1,
   "id": "87060026-8372-4ba3-96bc-bb6e088d54e9",
   "metadata": {},
   "outputs": [],
   "source": [
    "exit"
   ]
  },
  {
   "cell_type": "code",
   "execution_count": 1,
   "id": "3a5250a0-55cc-4e8f-8b3e-c2aa035c5fd4",
   "metadata": {},
   "outputs": [
    {
     "data": {
      "text/plain": [
       "IPython.core.autocall.ZMQExitAutocall"
      ]
     },
     "execution_count": 1,
     "metadata": {},
     "output_type": "execute_result"
    }
   ],
   "source": [
    "type(exit)"
   ]
  },
  {
   "cell_type": "code",
   "execution_count": null,
   "id": "3d7fd4e2-38bb-4152-b721-d2a6209a8a47",
   "metadata": {},
   "outputs": [],
   "source": []
  }
 ],
 "metadata": {
  "kernelspec": {
   "display_name": "Python 3 (ipykernel)",
   "language": "python",
   "name": "python3"
  },
  "language_info": {
   "codemirror_mode": {
    "name": "ipython",
    "version": 3
   },
   "file_extension": ".py",
   "mimetype": "text/x-python",
   "name": "python",
   "nbconvert_exporter": "python",
   "pygments_lexer": "ipython3",
   "version": "3.12.3"
  }
 },
 "nbformat": 4,
 "nbformat_minor": 5
}
