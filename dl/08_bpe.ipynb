{
 "cells": [
  {
   "cell_type": "code",
   "execution_count": 20,
   "metadata": {},
   "outputs": [
    {
     "name": "stdout",
     "output_type": "stream",
     "text": [
      "self.tokens={'c', ' ', 'a', 'b'}\n",
      "self.corpus_as_list=['a', 'b', 'a', 'b', 'a', 'b', ' ', 'a', 'c', 'a', 'c']\n",
      "\n",
      "merge #0:\n",
      "{('a', 'b'): 3, ('b', 'a'): 2, ('b', ' '): 1, (' ', 'a'): 1, ('a', 'c'): 2, ('c', 'a'): 1}\n",
      "most_freq_token_pair=('a', 'b')\n",
      "self.tokens={'ab', ' ', 'a', 'b', 'c'}\n",
      "self.corpus_as_list=['ab', 'ab', 'ab', ' ', 'a', 'c', 'a', 'c']\n",
      "\n",
      "merge #1:\n",
      "{('ab', 'ab'): 2, ('ab', ' '): 1, (' ', 'a'): 1, ('a', 'c'): 2, ('c', 'a'): 1}\n",
      "most_freq_token_pair=('ab', 'ab')\n",
      "self.tokens={'ab', ' ', 'a', 'b', 'c', 'abab'}\n",
      "self.corpus_as_list=['abab', 'ab', ' ', 'a', 'c', 'a', 'c']\n",
      "\n",
      "merge #2:\n",
      "{('abab', 'ab'): 1, ('ab', ' '): 1, (' ', 'a'): 1, ('a', 'c'): 2, ('c', 'a'): 1}\n",
      "most_freq_token_pair=('a', 'c')\n",
      "self.tokens={'ab', 'ac', ' ', 'a', 'b', 'c', 'abab'}\n",
      "self.corpus_as_list=['abab', 'ab', ' ', 'ac', 'ac']\n"
     ]
    }
   ],
   "source": [
    "import numpy\n",
    "\n",
    "class BPETokenizer:\n",
    "\n",
    "    def __init__(self, corpus, nr_merges):\n",
    "\n",
    "        self.tokens = {c for c in corpus}\n",
    "        print(f\"{self.tokens=}\")\n",
    "        self.corpus_as_list = [c for c in corpus]\n",
    "        print(f\"{self.corpus_as_list=}\")\n",
    "\n",
    "        for merge_nr in range(nr_merges):\n",
    "\n",
    "            print(f\"\\nmerge #{merge_nr}:\")\n",
    "\n",
    "            # 1. count how often each pair occurs\n",
    "            pair_freqs = dict()\n",
    "            for i in range(len(self.corpus_as_list)-1):\n",
    "                tokenpair = tuple(self.corpus_as_list[i:i+2])\n",
    "                if not tokenpair in pair_freqs:\n",
    "                    pair_freqs[tokenpair] = 1\n",
    "                else:\n",
    "                    pair_freqs[tokenpair] += 1\n",
    "            print(pair_freqs)\n",
    "\n",
    "\n",
    "            # 2. identify the token pair with highest frequency\n",
    "            #idx_max = numpy.argmax(pair_freqs.values())\n",
    "            #most_freq_token_pair = list(pair_freqs.keys())[idx_max]\n",
    "            most_freq_token_pair = max(pair_freqs, key=pair_freqs.get)\n",
    "            print(f\"{most_freq_token_pair=}\")\n",
    "\n",
    "            # 3. this will be a new token\n",
    "            most_freq_token_pair_str = \"\".join(most_freq_token_pair)\n",
    "            self.tokens.add( most_freq_token_pair_str )\n",
    "            print(f\"{self.tokens=}\")\n",
    "\n",
    "            # 4. replace sequence of these two tokens in the corpus\n",
    "            #    by this new token\n",
    "            new_corpus_as_list = []\n",
    "            i = 0\n",
    "            while i < len(self.corpus_as_list)-1:\n",
    "                tokenpair = tuple(self.corpus_as_list[i:i+2])\n",
    "                if tokenpair == most_freq_token_pair:\n",
    "                    new_corpus_as_list.append( most_freq_token_pair_str )\n",
    "                    i += 2\n",
    "                else:\n",
    "                    new_corpus_as_list.append( tokenpair[0] )\n",
    "                    i += 1\n",
    "            if i < len(self.corpus_as_list):\n",
    "                new_corpus_as_list.append( self.corpus_as_list[-1])\n",
    "            self.corpus_as_list = new_corpus_as_list\n",
    "            print(f\"{self.corpus_as_list=}\")\n",
    "\n",
    "corpus = \"ababab acac\"\n",
    "\n",
    "my_tokenizer = BPETokenizer(corpus, nr_merges=3)"
   ]
  },
  {
   "cell_type": "code",
   "execution_count": 14,
   "metadata": {},
   "outputs": [
    {
     "data": {
      "text/plain": [
       "'abc'"
      ]
     },
     "execution_count": 14,
     "metadata": {},
     "output_type": "execute_result"
    }
   ],
   "source": [
    "\"\".join((\"a\",\"b\",\"c\"))"
   ]
  },
  {
   "cell_type": "code",
   "execution_count": null,
   "metadata": {},
   "outputs": [],
   "source": [
    "max(pair_freqs, key=pair_freqs.get)"
   ]
  }
 ],
 "metadata": {
  "kernelspec": {
   "display_name": "env_ml_pytorch",
   "language": "python",
   "name": "python3"
  },
  "language_info": {
   "codemirror_mode": {
    "name": "ipython",
    "version": 3
   },
   "file_extension": ".py",
   "mimetype": "text/x-python",
   "name": "python",
   "nbconvert_exporter": "python",
   "pygments_lexer": "ipython3",
   "version": "3.12.8"
  }
 },
 "nbformat": 4,
 "nbformat_minor": 2
}
