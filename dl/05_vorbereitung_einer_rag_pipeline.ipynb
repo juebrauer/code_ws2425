{
 "cells": [
  {
   "cell_type": "markdown",
   "id": "b6490593-c837-456e-a5a8-2ffaa456fd49",
   "metadata": {},
   "source": [
    "# Installation von langchain bzw. langchain-community"
   ]
  },
  {
   "cell_type": "code",
   "execution_count": 2,
   "id": "910af6a8-e257-404d-933f-ec3d3193d6ad",
   "metadata": {},
   "outputs": [
    {
     "name": "stdout",
     "output_type": "stream",
     "text": [
      "Collecting langchain\n",
      "  Downloading langchain-0.3.9-py3-none-any.whl.metadata (7.1 kB)\n",
      "Requirement already satisfied: PyYAML>=5.3 in /home/juebrauer/miniconda3/envs/env_ss24/lib/python3.12/site-packages (from langchain) (6.0.1)\n",
      "Collecting SQLAlchemy<3,>=1.4 (from langchain)\n",
      "  Downloading SQLAlchemy-2.0.36-cp312-cp312-manylinux_2_17_x86_64.manylinux2014_x86_64.whl.metadata (9.7 kB)\n",
      "Collecting aiohttp<4.0.0,>=3.8.3 (from langchain)\n",
      "  Downloading aiohttp-3.11.8-cp312-cp312-manylinux_2_17_x86_64.manylinux2014_x86_64.whl.metadata (7.7 kB)\n",
      "Collecting langchain-core<0.4.0,>=0.3.21 (from langchain)\n",
      "  Downloading langchain_core-0.3.21-py3-none-any.whl.metadata (6.3 kB)\n",
      "Collecting langchain-text-splitters<0.4.0,>=0.3.0 (from langchain)\n",
      "  Downloading langchain_text_splitters-0.3.2-py3-none-any.whl.metadata (2.3 kB)\n",
      "Collecting langsmith<0.2.0,>=0.1.17 (from langchain)\n",
      "  Downloading langsmith-0.1.147-py3-none-any.whl.metadata (14 kB)\n",
      "Requirement already satisfied: numpy<3,>=1.26.2 in /home/juebrauer/miniconda3/envs/env_ss24/lib/python3.12/site-packages (from langchain) (1.26.4)\n",
      "Requirement already satisfied: pydantic<3.0.0,>=2.7.4 in /home/juebrauer/miniconda3/envs/env_ss24/lib/python3.12/site-packages (from langchain) (2.9.2)\n",
      "Requirement already satisfied: requests<3,>=2 in /home/juebrauer/miniconda3/envs/env_ss24/lib/python3.12/site-packages (from langchain) (2.32.3)\n",
      "Requirement already satisfied: tenacity!=8.4.0,<10,>=8.1.0 in /home/juebrauer/miniconda3/envs/env_ss24/lib/python3.12/site-packages (from langchain) (8.5.0)\n",
      "Collecting aiohappyeyeballs>=2.3.0 (from aiohttp<4.0.0,>=3.8.3->langchain)\n",
      "  Downloading aiohappyeyeballs-2.4.4-py3-none-any.whl.metadata (6.1 kB)\n",
      "Collecting aiosignal>=1.1.2 (from aiohttp<4.0.0,>=3.8.3->langchain)\n",
      "  Using cached aiosignal-1.3.1-py3-none-any.whl.metadata (4.0 kB)\n",
      "Requirement already satisfied: attrs>=17.3.0 in /home/juebrauer/miniconda3/envs/env_ss24/lib/python3.12/site-packages (from aiohttp<4.0.0,>=3.8.3->langchain) (23.2.0)\n",
      "Collecting frozenlist>=1.1.1 (from aiohttp<4.0.0,>=3.8.3->langchain)\n",
      "  Downloading frozenlist-1.5.0-cp312-cp312-manylinux_2_5_x86_64.manylinux1_x86_64.manylinux_2_17_x86_64.manylinux2014_x86_64.whl.metadata (13 kB)\n",
      "Collecting multidict<7.0,>=4.5 (from aiohttp<4.0.0,>=3.8.3->langchain)\n",
      "  Downloading multidict-6.1.0-cp312-cp312-manylinux_2_17_x86_64.manylinux2014_x86_64.whl.metadata (5.0 kB)\n",
      "Collecting propcache>=0.2.0 (from aiohttp<4.0.0,>=3.8.3->langchain)\n",
      "  Downloading propcache-0.2.0-cp312-cp312-manylinux_2_17_x86_64.manylinux2014_x86_64.whl.metadata (7.7 kB)\n",
      "Collecting yarl<2.0,>=1.17.0 (from aiohttp<4.0.0,>=3.8.3->langchain)\n",
      "  Downloading yarl-1.18.0-cp312-cp312-manylinux_2_17_x86_64.manylinux2014_x86_64.whl.metadata (67 kB)\n",
      "\u001b[2K     \u001b[38;2;114;156;31m━━━━━━━━━━━━━━━━━━━━━━━━━━━━━━━━━━━━━━━━\u001b[0m \u001b[32m67.7/67.7 kB\u001b[0m \u001b[31m2.5 MB/s\u001b[0m eta \u001b[36m0:00:00\u001b[0m\n",
      "\u001b[?25hCollecting jsonpatch<2.0,>=1.33 (from langchain-core<0.4.0,>=0.3.21->langchain)\n",
      "  Downloading jsonpatch-1.33-py2.py3-none-any.whl.metadata (3.0 kB)\n",
      "Requirement already satisfied: packaging<25,>=23.2 in /home/juebrauer/miniconda3/envs/env_ss24/lib/python3.12/site-packages (from langchain-core<0.4.0,>=0.3.21->langchain) (24.0)\n",
      "Requirement already satisfied: typing-extensions>=4.7 in /home/juebrauer/miniconda3/envs/env_ss24/lib/python3.12/site-packages (from langchain-core<0.4.0,>=0.3.21->langchain) (4.12.1)\n",
      "Requirement already satisfied: httpx<1,>=0.23.0 in /home/juebrauer/miniconda3/envs/env_ss24/lib/python3.12/site-packages (from langsmith<0.2.0,>=0.1.17->langchain) (0.27.0)\n",
      "Collecting orjson<4.0.0,>=3.9.14 (from langsmith<0.2.0,>=0.1.17->langchain)\n",
      "  Downloading orjson-3.10.12-cp312-cp312-manylinux_2_17_x86_64.manylinux2014_x86_64.whl.metadata (41 kB)\n",
      "\u001b[2K     \u001b[38;2;114;156;31m━━━━━━━━━━━━━━━━━━━━━━━━━━━━━━━━━━━━━━━━\u001b[0m \u001b[32m41.8/41.8 kB\u001b[0m \u001b[31m2.6 MB/s\u001b[0m eta \u001b[36m0:00:00\u001b[0m\n",
      "\u001b[?25hCollecting requests-toolbelt<2.0.0,>=1.0.0 (from langsmith<0.2.0,>=0.1.17->langchain)\n",
      "  Downloading requests_toolbelt-1.0.0-py2.py3-none-any.whl.metadata (14 kB)\n",
      "Requirement already satisfied: annotated-types>=0.6.0 in /home/juebrauer/miniconda3/envs/env_ss24/lib/python3.12/site-packages (from pydantic<3.0.0,>=2.7.4->langchain) (0.7.0)\n",
      "Requirement already satisfied: pydantic-core==2.23.4 in /home/juebrauer/miniconda3/envs/env_ss24/lib/python3.12/site-packages (from pydantic<3.0.0,>=2.7.4->langchain) (2.23.4)\n",
      "Requirement already satisfied: charset-normalizer<4,>=2 in /home/juebrauer/miniconda3/envs/env_ss24/lib/python3.12/site-packages (from requests<3,>=2->langchain) (3.3.2)\n",
      "Requirement already satisfied: idna<4,>=2.5 in /home/juebrauer/miniconda3/envs/env_ss24/lib/python3.12/site-packages (from requests<3,>=2->langchain) (3.7)\n",
      "Requirement already satisfied: urllib3<3,>=1.21.1 in /home/juebrauer/miniconda3/envs/env_ss24/lib/python3.12/site-packages (from requests<3,>=2->langchain) (2.2.1)\n",
      "Requirement already satisfied: certifi>=2017.4.17 in /home/juebrauer/miniconda3/envs/env_ss24/lib/python3.12/site-packages (from requests<3,>=2->langchain) (2024.6.2)\n",
      "Collecting greenlet!=0.4.17 (from SQLAlchemy<3,>=1.4->langchain)\n",
      "  Downloading greenlet-3.1.1-cp312-cp312-manylinux_2_24_x86_64.manylinux_2_28_x86_64.whl.metadata (3.8 kB)\n",
      "Requirement already satisfied: anyio in /home/juebrauer/miniconda3/envs/env_ss24/lib/python3.12/site-packages (from httpx<1,>=0.23.0->langsmith<0.2.0,>=0.1.17->langchain) (4.4.0)\n",
      "Requirement already satisfied: httpcore==1.* in /home/juebrauer/miniconda3/envs/env_ss24/lib/python3.12/site-packages (from httpx<1,>=0.23.0->langsmith<0.2.0,>=0.1.17->langchain) (1.0.5)\n",
      "Requirement already satisfied: sniffio in /home/juebrauer/miniconda3/envs/env_ss24/lib/python3.12/site-packages (from httpx<1,>=0.23.0->langsmith<0.2.0,>=0.1.17->langchain) (1.3.1)\n",
      "Requirement already satisfied: h11<0.15,>=0.13 in /home/juebrauer/miniconda3/envs/env_ss24/lib/python3.12/site-packages (from httpcore==1.*->httpx<1,>=0.23.0->langsmith<0.2.0,>=0.1.17->langchain) (0.14.0)\n",
      "Requirement already satisfied: jsonpointer>=1.9 in /home/juebrauer/miniconda3/envs/env_ss24/lib/python3.12/site-packages (from jsonpatch<2.0,>=1.33->langchain-core<0.4.0,>=0.3.21->langchain) (2.4)\n",
      "Downloading langchain-0.3.9-py3-none-any.whl (1.0 MB)\n",
      "\u001b[2K   \u001b[38;2;114;156;31m━━━━━━━━━━━━━━━━━━━━━━━━━━━━━━━━━━━━━━━━\u001b[0m \u001b[32m1.0/1.0 MB\u001b[0m \u001b[31m3.9 MB/s\u001b[0m eta \u001b[36m0:00:00\u001b[0m MB/s\u001b[0m eta \u001b[36m0:00:01\u001b[0m:01\u001b[0m\n",
      "\u001b[?25hDownloading aiohttp-3.11.8-cp312-cp312-manylinux_2_17_x86_64.manylinux2014_x86_64.whl (1.7 MB)\n",
      "\u001b[2K   \u001b[38;2;114;156;31m━━━━━━━━━━━━━━━━━━━━━━━━━━━━━━━━━━━━━━━━\u001b[0m \u001b[32m1.7/1.7 MB\u001b[0m \u001b[31m4.1 MB/s\u001b[0m eta \u001b[36m0:00:00\u001b[0m[31m4.2 MB/s\u001b[0m eta \u001b[36m0:00:01\u001b[0m\n",
      "\u001b[?25hDownloading langchain_core-0.3.21-py3-none-any.whl (409 kB)\n",
      "\u001b[2K   \u001b[38;2;114;156;31m━━━━━━━━━━━━━━━━━━━━━━━━━━━━━━━━━━━━━━━━\u001b[0m \u001b[32m409.5/409.5 kB\u001b[0m \u001b[31m3.5 MB/s\u001b[0m eta \u001b[36m0:00:00\u001b[0m[36m0:00:01\u001b[0m[36m0:00:01\u001b[0m\n",
      "\u001b[?25hDownloading langchain_text_splitters-0.3.2-py3-none-any.whl (25 kB)\n",
      "Downloading langsmith-0.1.147-py3-none-any.whl (311 kB)\n",
      "\u001b[2K   \u001b[38;2;114;156;31m━━━━━━━━━━━━━━━━━━━━━━━━━━━━━━━━━━━━━━━━\u001b[0m \u001b[32m311.8/311.8 kB\u001b[0m \u001b[31m3.5 MB/s\u001b[0m eta \u001b[36m0:00:00\u001b[0m MB/s\u001b[0m eta \u001b[36m0:00:01\u001b[0m:01\u001b[0m\n",
      "\u001b[?25hDownloading SQLAlchemy-2.0.36-cp312-cp312-manylinux_2_17_x86_64.manylinux2014_x86_64.whl (3.2 MB)\n",
      "\u001b[2K   \u001b[38;2;114;156;31m━━━━━━━━━━━━━━━━━━━━━━━━━━━━━━━━━━━━━━━━\u001b[0m \u001b[32m3.2/3.2 MB\u001b[0m \u001b[31m3.9 MB/s\u001b[0m eta \u001b[36m0:00:00\u001b[0mm eta \u001b[36m0:00:01\u001b[0m0:01\u001b[0m:01\u001b[0m\n",
      "\u001b[?25hDownloading aiohappyeyeballs-2.4.4-py3-none-any.whl (14 kB)\n",
      "Using cached aiosignal-1.3.1-py3-none-any.whl (7.6 kB)\n",
      "Downloading frozenlist-1.5.0-cp312-cp312-manylinux_2_5_x86_64.manylinux1_x86_64.manylinux_2_17_x86_64.manylinux2014_x86_64.whl (283 kB)\n",
      "\u001b[2K   \u001b[38;2;114;156;31m━━━━━━━━━━━━━━━━━━━━━━━━━━━━━━━━━━━━━━━━\u001b[0m \u001b[32m283.6/283.6 kB\u001b[0m \u001b[31m2.2 MB/s\u001b[0m eta \u001b[36m0:00:00\u001b[0m[31m2.4 MB/s\u001b[0m eta \u001b[36m0:00:01\u001b[0m\n",
      "\u001b[?25hDownloading greenlet-3.1.1-cp312-cp312-manylinux_2_24_x86_64.manylinux_2_28_x86_64.whl (613 kB)\n",
      "\u001b[2K   \u001b[38;2;114;156;31m━━━━━━━━━━━━━━━━━━━━━━━━━━━━━━━━━━━━━━━━\u001b[0m \u001b[32m613.1/613.1 kB\u001b[0m \u001b[31m2.7 MB/s\u001b[0m eta \u001b[36m0:00:00\u001b[0m[36m0:00:01\u001b[0mm eta \u001b[36m0:00:01\u001b[0m\n",
      "\u001b[?25hDownloading jsonpatch-1.33-py2.py3-none-any.whl (12 kB)\n",
      "Downloading multidict-6.1.0-cp312-cp312-manylinux_2_17_x86_64.manylinux2014_x86_64.whl (131 kB)\n",
      "\u001b[2K   \u001b[38;2;114;156;31m━━━━━━━━━━━━━━━━━━━━━━━━━━━━━━━━━━━━━━━━\u001b[0m \u001b[32m131.0/131.0 kB\u001b[0m \u001b[31m3.1 MB/s\u001b[0m eta \u001b[36m0:00:00\u001b[0m[31m4.0 MB/s\u001b[0m eta \u001b[36m0:00:01\u001b[0m\n",
      "\u001b[?25hDownloading orjson-3.10.12-cp312-cp312-manylinux_2_17_x86_64.manylinux2014_x86_64.whl (131 kB)\n",
      "\u001b[2K   \u001b[38;2;114;156;31m━━━━━━━━━━━━━━━━━━━━━━━━━━━━━━━━━━━━━━━━\u001b[0m \u001b[32m131.6/131.6 kB\u001b[0m \u001b[31m3.4 MB/s\u001b[0m eta \u001b[36m0:00:00\u001b[0m MB/s\u001b[0m eta \u001b[36m0:00:01\u001b[0m\n",
      "\u001b[?25hDownloading propcache-0.2.0-cp312-cp312-manylinux_2_17_x86_64.manylinux2014_x86_64.whl (248 kB)\n",
      "\u001b[2K   \u001b[38;2;114;156;31m━━━━━━━━━━━━━━━━━━━━━━━━━━━━━━━━━━━━━━━━\u001b[0m \u001b[32m248.2/248.2 kB\u001b[0m \u001b[31m3.8 MB/s\u001b[0m eta \u001b[36m0:00:00\u001b[0m MB/s\u001b[0m eta \u001b[36m0:00:01\u001b[0m\n",
      "\u001b[?25hDownloading requests_toolbelt-1.0.0-py2.py3-none-any.whl (54 kB)\n",
      "\u001b[2K   \u001b[38;2;114;156;31m━━━━━━━━━━━━━━━━━━━━━━━━━━━━━━━━━━━━━━━━\u001b[0m \u001b[32m54.5/54.5 kB\u001b[0m \u001b[31m2.8 MB/s\u001b[0m eta \u001b[36m0:00:00\u001b[0m\n",
      "\u001b[?25hDownloading yarl-1.18.0-cp312-cp312-manylinux_2_17_x86_64.manylinux2014_x86_64.whl (336 kB)\n",
      "\u001b[2K   \u001b[38;2;114;156;31m━━━━━━━━━━━━━━━━━━━━━━━━━━━━━━━━━━━━━━━━\u001b[0m \u001b[32m336.7/336.7 kB\u001b[0m \u001b[31m3.7 MB/s\u001b[0m eta \u001b[36m0:00:00\u001b[0m[31m4.0 MB/s\u001b[0m eta \u001b[36m0:00:01\u001b[0m\n",
      "\u001b[?25hInstalling collected packages: propcache, orjson, multidict, jsonpatch, greenlet, frozenlist, aiohappyeyeballs, yarl, SQLAlchemy, requests-toolbelt, aiosignal, langsmith, aiohttp, langchain-core, langchain-text-splitters, langchain\n",
      "Successfully installed SQLAlchemy-2.0.36 aiohappyeyeballs-2.4.4 aiohttp-3.11.8 aiosignal-1.3.1 frozenlist-1.5.0 greenlet-3.1.1 jsonpatch-1.33 langchain-0.3.9 langchain-core-0.3.21 langchain-text-splitters-0.3.2 langsmith-0.1.147 multidict-6.1.0 orjson-3.10.12 propcache-0.2.0 requests-toolbelt-1.0.0 yarl-1.18.0\n"
     ]
    }
   ],
   "source": [
    "!pip install langchain"
   ]
  },
  {
   "cell_type": "code",
   "execution_count": 3,
   "id": "263229a6-4c58-4e66-91b9-a36638b30323",
   "metadata": {},
   "outputs": [
    {
     "name": "stdout",
     "output_type": "stream",
     "text": [
      "Name: langchain\n",
      "Version: 0.3.9\n",
      "Summary: Building applications with LLMs through composability\n",
      "Home-page: https://github.com/langchain-ai/langchain\n",
      "Author: \n",
      "Author-email: \n",
      "License: MIT\n",
      "Location: /home/juebrauer/miniconda3/envs/env_ss24/lib/python3.12/site-packages\n",
      "Requires: aiohttp, langchain-core, langchain-text-splitters, langsmith, numpy, pydantic, PyYAML, requests, SQLAlchemy, tenacity\n",
      "Required-by: \n"
     ]
    }
   ],
   "source": [
    "!pip show langchain"
   ]
  },
  {
   "cell_type": "code",
   "execution_count": 6,
   "id": "7b897359-8366-4700-adc3-f5e1ee5485e1",
   "metadata": {},
   "outputs": [
    {
     "name": "stdout",
     "output_type": "stream",
     "text": [
      "Collecting langchain-community\n",
      "  Downloading langchain_community-0.3.8-py3-none-any.whl.metadata (2.9 kB)\n",
      "Requirement already satisfied: PyYAML>=5.3 in /home/juebrauer/miniconda3/envs/env_ss24/lib/python3.12/site-packages (from langchain-community) (6.0.1)\n",
      "Collecting SQLAlchemy<2.0.36,>=1.4 (from langchain-community)\n",
      "  Downloading SQLAlchemy-2.0.35-cp312-cp312-manylinux_2_17_x86_64.manylinux2014_x86_64.whl.metadata (9.6 kB)\n",
      "Requirement already satisfied: aiohttp<4.0.0,>=3.8.3 in /home/juebrauer/miniconda3/envs/env_ss24/lib/python3.12/site-packages (from langchain-community) (3.11.8)\n",
      "Collecting dataclasses-json<0.7,>=0.5.7 (from langchain-community)\n",
      "  Downloading dataclasses_json-0.6.7-py3-none-any.whl.metadata (25 kB)\n",
      "Collecting httpx-sse<0.5.0,>=0.4.0 (from langchain-community)\n",
      "  Downloading httpx_sse-0.4.0-py3-none-any.whl.metadata (9.0 kB)\n",
      "Requirement already satisfied: langchain<0.4.0,>=0.3.8 in /home/juebrauer/miniconda3/envs/env_ss24/lib/python3.12/site-packages (from langchain-community) (0.3.9)\n",
      "Requirement already satisfied: langchain-core<0.4.0,>=0.3.21 in /home/juebrauer/miniconda3/envs/env_ss24/lib/python3.12/site-packages (from langchain-community) (0.3.21)\n",
      "Requirement already satisfied: langsmith<0.2.0,>=0.1.125 in /home/juebrauer/miniconda3/envs/env_ss24/lib/python3.12/site-packages (from langchain-community) (0.1.147)\n",
      "Requirement already satisfied: numpy<2,>=1.26.2 in /home/juebrauer/miniconda3/envs/env_ss24/lib/python3.12/site-packages (from langchain-community) (1.26.4)\n",
      "Collecting pydantic-settings<3.0.0,>=2.4.0 (from langchain-community)\n",
      "  Downloading pydantic_settings-2.6.1-py3-none-any.whl.metadata (3.5 kB)\n",
      "Requirement already satisfied: requests<3,>=2 in /home/juebrauer/miniconda3/envs/env_ss24/lib/python3.12/site-packages (from langchain-community) (2.32.3)\n",
      "Requirement already satisfied: tenacity!=8.4.0,<10,>=8.1.0 in /home/juebrauer/miniconda3/envs/env_ss24/lib/python3.12/site-packages (from langchain-community) (8.5.0)\n",
      "Requirement already satisfied: aiohappyeyeballs>=2.3.0 in /home/juebrauer/miniconda3/envs/env_ss24/lib/python3.12/site-packages (from aiohttp<4.0.0,>=3.8.3->langchain-community) (2.4.4)\n",
      "Requirement already satisfied: aiosignal>=1.1.2 in /home/juebrauer/miniconda3/envs/env_ss24/lib/python3.12/site-packages (from aiohttp<4.0.0,>=3.8.3->langchain-community) (1.3.1)\n",
      "Requirement already satisfied: attrs>=17.3.0 in /home/juebrauer/miniconda3/envs/env_ss24/lib/python3.12/site-packages (from aiohttp<4.0.0,>=3.8.3->langchain-community) (23.2.0)\n",
      "Requirement already satisfied: frozenlist>=1.1.1 in /home/juebrauer/miniconda3/envs/env_ss24/lib/python3.12/site-packages (from aiohttp<4.0.0,>=3.8.3->langchain-community) (1.5.0)\n",
      "Requirement already satisfied: multidict<7.0,>=4.5 in /home/juebrauer/miniconda3/envs/env_ss24/lib/python3.12/site-packages (from aiohttp<4.0.0,>=3.8.3->langchain-community) (6.1.0)\n",
      "Requirement already satisfied: propcache>=0.2.0 in /home/juebrauer/miniconda3/envs/env_ss24/lib/python3.12/site-packages (from aiohttp<4.0.0,>=3.8.3->langchain-community) (0.2.0)\n",
      "Requirement already satisfied: yarl<2.0,>=1.17.0 in /home/juebrauer/miniconda3/envs/env_ss24/lib/python3.12/site-packages (from aiohttp<4.0.0,>=3.8.3->langchain-community) (1.18.0)\n",
      "Collecting marshmallow<4.0.0,>=3.18.0 (from dataclasses-json<0.7,>=0.5.7->langchain-community)\n",
      "  Downloading marshmallow-3.23.1-py3-none-any.whl.metadata (7.5 kB)\n",
      "Collecting typing-inspect<1,>=0.4.0 (from dataclasses-json<0.7,>=0.5.7->langchain-community)\n",
      "  Downloading typing_inspect-0.9.0-py3-none-any.whl.metadata (1.5 kB)\n",
      "Requirement already satisfied: langchain-text-splitters<0.4.0,>=0.3.0 in /home/juebrauer/miniconda3/envs/env_ss24/lib/python3.12/site-packages (from langchain<0.4.0,>=0.3.8->langchain-community) (0.3.2)\n",
      "Requirement already satisfied: pydantic<3.0.0,>=2.7.4 in /home/juebrauer/miniconda3/envs/env_ss24/lib/python3.12/site-packages (from langchain<0.4.0,>=0.3.8->langchain-community) (2.9.2)\n",
      "Requirement already satisfied: jsonpatch<2.0,>=1.33 in /home/juebrauer/miniconda3/envs/env_ss24/lib/python3.12/site-packages (from langchain-core<0.4.0,>=0.3.21->langchain-community) (1.33)\n",
      "Requirement already satisfied: packaging<25,>=23.2 in /home/juebrauer/miniconda3/envs/env_ss24/lib/python3.12/site-packages (from langchain-core<0.4.0,>=0.3.21->langchain-community) (24.0)\n",
      "Requirement already satisfied: typing-extensions>=4.7 in /home/juebrauer/miniconda3/envs/env_ss24/lib/python3.12/site-packages (from langchain-core<0.4.0,>=0.3.21->langchain-community) (4.12.1)\n",
      "Requirement already satisfied: httpx<1,>=0.23.0 in /home/juebrauer/miniconda3/envs/env_ss24/lib/python3.12/site-packages (from langsmith<0.2.0,>=0.1.125->langchain-community) (0.27.0)\n",
      "Requirement already satisfied: orjson<4.0.0,>=3.9.14 in /home/juebrauer/miniconda3/envs/env_ss24/lib/python3.12/site-packages (from langsmith<0.2.0,>=0.1.125->langchain-community) (3.10.12)\n",
      "Requirement already satisfied: requests-toolbelt<2.0.0,>=1.0.0 in /home/juebrauer/miniconda3/envs/env_ss24/lib/python3.12/site-packages (from langsmith<0.2.0,>=0.1.125->langchain-community) (1.0.0)\n",
      "Collecting python-dotenv>=0.21.0 (from pydantic-settings<3.0.0,>=2.4.0->langchain-community)\n",
      "  Downloading python_dotenv-1.0.1-py3-none-any.whl.metadata (23 kB)\n",
      "Requirement already satisfied: charset-normalizer<4,>=2 in /home/juebrauer/miniconda3/envs/env_ss24/lib/python3.12/site-packages (from requests<3,>=2->langchain-community) (3.3.2)\n",
      "Requirement already satisfied: idna<4,>=2.5 in /home/juebrauer/miniconda3/envs/env_ss24/lib/python3.12/site-packages (from requests<3,>=2->langchain-community) (3.7)\n",
      "Requirement already satisfied: urllib3<3,>=1.21.1 in /home/juebrauer/miniconda3/envs/env_ss24/lib/python3.12/site-packages (from requests<3,>=2->langchain-community) (2.2.1)\n",
      "Requirement already satisfied: certifi>=2017.4.17 in /home/juebrauer/miniconda3/envs/env_ss24/lib/python3.12/site-packages (from requests<3,>=2->langchain-community) (2024.6.2)\n",
      "Requirement already satisfied: greenlet!=0.4.17 in /home/juebrauer/miniconda3/envs/env_ss24/lib/python3.12/site-packages (from SQLAlchemy<2.0.36,>=1.4->langchain-community) (3.1.1)\n",
      "Requirement already satisfied: anyio in /home/juebrauer/miniconda3/envs/env_ss24/lib/python3.12/site-packages (from httpx<1,>=0.23.0->langsmith<0.2.0,>=0.1.125->langchain-community) (4.4.0)\n",
      "Requirement already satisfied: httpcore==1.* in /home/juebrauer/miniconda3/envs/env_ss24/lib/python3.12/site-packages (from httpx<1,>=0.23.0->langsmith<0.2.0,>=0.1.125->langchain-community) (1.0.5)\n",
      "Requirement already satisfied: sniffio in /home/juebrauer/miniconda3/envs/env_ss24/lib/python3.12/site-packages (from httpx<1,>=0.23.0->langsmith<0.2.0,>=0.1.125->langchain-community) (1.3.1)\n",
      "Requirement already satisfied: h11<0.15,>=0.13 in /home/juebrauer/miniconda3/envs/env_ss24/lib/python3.12/site-packages (from httpcore==1.*->httpx<1,>=0.23.0->langsmith<0.2.0,>=0.1.125->langchain-community) (0.14.0)\n",
      "Requirement already satisfied: jsonpointer>=1.9 in /home/juebrauer/miniconda3/envs/env_ss24/lib/python3.12/site-packages (from jsonpatch<2.0,>=1.33->langchain-core<0.4.0,>=0.3.21->langchain-community) (2.4)\n",
      "Requirement already satisfied: annotated-types>=0.6.0 in /home/juebrauer/miniconda3/envs/env_ss24/lib/python3.12/site-packages (from pydantic<3.0.0,>=2.7.4->langchain<0.4.0,>=0.3.8->langchain-community) (0.7.0)\n",
      "Requirement already satisfied: pydantic-core==2.23.4 in /home/juebrauer/miniconda3/envs/env_ss24/lib/python3.12/site-packages (from pydantic<3.0.0,>=2.7.4->langchain<0.4.0,>=0.3.8->langchain-community) (2.23.4)\n",
      "Requirement already satisfied: mypy-extensions>=0.3.0 in /home/juebrauer/miniconda3/envs/env_ss24/lib/python3.12/site-packages (from typing-inspect<1,>=0.4.0->dataclasses-json<0.7,>=0.5.7->langchain-community) (1.0.0)\n",
      "Downloading langchain_community-0.3.8-py3-none-any.whl (2.4 MB)\n",
      "\u001b[2K   \u001b[38;2;114;156;31m━━━━━━━━━━━━━━━━━━━━━━━━━━━━━━━━━━━━━━━━\u001b[0m \u001b[32m2.4/2.4 MB\u001b[0m \u001b[31m3.2 MB/s\u001b[0m eta \u001b[36m0:00:00\u001b[0mm eta \u001b[36m0:00:01\u001b[0m0:01\u001b[0m:01\u001b[0m\n",
      "\u001b[?25hDownloading dataclasses_json-0.6.7-py3-none-any.whl (28 kB)\n",
      "Downloading httpx_sse-0.4.0-py3-none-any.whl (7.8 kB)\n",
      "Downloading pydantic_settings-2.6.1-py3-none-any.whl (28 kB)\n",
      "Downloading SQLAlchemy-2.0.35-cp312-cp312-manylinux_2_17_x86_64.manylinux2014_x86_64.whl (3.2 MB)\n",
      "\u001b[2K   \u001b[38;2;114;156;31m━━━━━━━━━━━━━━━━━━━━━━━━━━━━━━━━━━━━━━━━\u001b[0m \u001b[32m3.2/3.2 MB\u001b[0m \u001b[31m3.0 MB/s\u001b[0m eta \u001b[36m0:00:00\u001b[0mm eta \u001b[36m0:00:01\u001b[0m[36m0:00:01\u001b[0m\n",
      "\u001b[?25hDownloading marshmallow-3.23.1-py3-none-any.whl (49 kB)\n",
      "\u001b[2K   \u001b[38;2;114;156;31m━━━━━━━━━━━━━━━━━━━━━━━━━━━━━━━━━━━━━━━━\u001b[0m \u001b[32m49.5/49.5 kB\u001b[0m \u001b[31m3.1 MB/s\u001b[0m eta \u001b[36m0:00:00\u001b[0m\n",
      "\u001b[?25hDownloading python_dotenv-1.0.1-py3-none-any.whl (19 kB)\n",
      "Downloading typing_inspect-0.9.0-py3-none-any.whl (8.8 kB)\n",
      "Installing collected packages: typing-inspect, SQLAlchemy, python-dotenv, marshmallow, httpx-sse, dataclasses-json, pydantic-settings, langchain-community\n",
      "  Attempting uninstall: SQLAlchemy\n",
      "    Found existing installation: SQLAlchemy 2.0.36\n",
      "    Uninstalling SQLAlchemy-2.0.36:\n",
      "      Successfully uninstalled SQLAlchemy-2.0.36\n",
      "Successfully installed SQLAlchemy-2.0.35 dataclasses-json-0.6.7 httpx-sse-0.4.0 langchain-community-0.3.8 marshmallow-3.23.1 pydantic-settings-2.6.1 python-dotenv-1.0.1 typing-inspect-0.9.0\n"
     ]
    }
   ],
   "source": [
    "!pip install langchain-community"
   ]
  },
  {
   "cell_type": "code",
   "execution_count": 7,
   "id": "ad517cb4-da61-4b29-83e6-f0e8e8ec629c",
   "metadata": {},
   "outputs": [
    {
     "name": "stdout",
     "output_type": "stream",
     "text": [
      "Name: langchain-community\n",
      "Version: 0.3.8\n",
      "Summary: Community contributed LangChain integrations.\n",
      "Home-page: https://github.com/langchain-ai/langchain\n",
      "Author: \n",
      "Author-email: \n",
      "License: MIT\n",
      "Location: /home/juebrauer/miniconda3/envs/env_ss24/lib/python3.12/site-packages\n",
      "Requires: aiohttp, dataclasses-json, httpx-sse, langchain, langchain-core, langsmith, numpy, pydantic-settings, PyYAML, requests, SQLAlchemy, tenacity\n",
      "Required-by: \n"
     ]
    }
   ],
   "source": [
    "!pip show langchain-community"
   ]
  },
  {
   "cell_type": "markdown",
   "id": "19173e0f-76ab-4b19-8e18-f91f7fabd8ee",
   "metadata": {},
   "source": [
    "# Komponente WebBaseLoader (LangChain)"
   ]
  },
  {
   "cell_type": "code",
   "execution_count": 11,
   "id": "b5365654-5935-46c9-8317-adb6b72529ac",
   "metadata": {},
   "outputs": [],
   "source": [
    "webpage_url = \"https://de.wikipedia.org/wiki/Hochschule_f%C3%BCr_angewandte_Wissenschaften_Kempten\"\n",
    "from langchain_community.document_loaders import WebBaseLoader\n",
    "loader = WebBaseLoader(webpage_url)\n",
    "docs = loader.load()"
   ]
  },
  {
   "cell_type": "code",
   "execution_count": 12,
   "id": "7d576aaf-7503-46e1-82a1-aece9f3db1d7",
   "metadata": {},
   "outputs": [
    {
     "data": {
      "text/plain": [
       "list"
      ]
     },
     "execution_count": 12,
     "metadata": {},
     "output_type": "execute_result"
    }
   ],
   "source": [
    "type(docs)"
   ]
  },
  {
   "cell_type": "code",
   "execution_count": 14,
   "id": "e90a91d7-c69c-4941-ada3-d6183269ee5d",
   "metadata": {},
   "outputs": [
    {
     "data": {
      "text/plain": [
       "1"
      ]
     },
     "execution_count": 14,
     "metadata": {},
     "output_type": "execute_result"
    }
   ],
   "source": [
    "len(docs)"
   ]
  },
  {
   "cell_type": "code",
   "execution_count": 17,
   "id": "04da0175-0794-4f49-af14-efe9d8f130cf",
   "metadata": {},
   "outputs": [
    {
     "data": {
      "text/plain": [
       "'\\n\\n\\n\\nHochschule für angewandte Wissenschaften Kempten – Wikipedia\\n\\n\\n\\n\\n\\n\\n\\n\\n\\n\\n\\n\\n\\n\\n\\n\\n\\n\\n\\n\\n\\n\\n\\n\\n\\n\\n\\n\\n\\n\\n\\n\\n\\n\\n\\n\\n\\n\\n\\n\\n\\n\\n\\n\\nHochschule für angewandte Wissenschaften Kempten\\n\\naus Wikipedia, der freien Enzyklopädie\\n\\n\\n\\nZur Navigation springen\\nZur Suche springen\\n\\n\\nHochschule für angewandte Wissenschaften Kempten\\n\\n\\n\\n\\n\\nGründung\\n\\n1977\\n\\n\\nTrägerschaft\\n\\nstaatlich\\n\\n\\nOrt\\n\\nKempten (Allgäu)\\n\\n\\nBundesland\\n\\nBayern\\xa0Bayern\\n\\n\\nLand\\n\\nDeutschland\\xa0Deutschland\\n\\n\\nPräsident\\n\\nWolfgang Hauke\\n\\n\\nStudierende\\n\\nca. 5.500 WS 2022/2023[1]\\n\\n\\nMita'"
      ]
     },
     "execution_count": 17,
     "metadata": {},
     "output_type": "execute_result"
    }
   ],
   "source": [
    "docs[0].page_content[:500]"
   ]
  },
  {
   "cell_type": "markdown",
   "id": "1bced0c4-cdd7-468b-9511-931849ff0d81",
   "metadata": {},
   "source": [
    "# Komponente RecursiveCharacterTextSplitter (LangChain)"
   ]
  },
  {
   "cell_type": "code",
   "execution_count": 18,
   "id": "f5e0040c-a03c-4e4b-a209-afce8a9bee62",
   "metadata": {},
   "outputs": [],
   "source": [
    "from langchain.text_splitter import RecursiveCharacterTextSplitter"
   ]
  },
  {
   "cell_type": "code",
   "execution_count": 19,
   "id": "24dfff0d-caf1-4ecc-9529-7b52ec541b10",
   "metadata": {},
   "outputs": [],
   "source": [
    "text_splitter = RecursiveCharacterTextSplitter(chunk_size=500, chunk_overlap=10)\n",
    "splits = text_splitter.split_documents(docs)"
   ]
  },
  {
   "cell_type": "code",
   "execution_count": 20,
   "id": "f329107e-61ef-44c3-bd91-9c2d4bb7cd15",
   "metadata": {},
   "outputs": [
    {
     "data": {
      "text/plain": [
       "<langchain_text_splitters.character.RecursiveCharacterTextSplitter at 0x7e9d6d88b890>"
      ]
     },
     "execution_count": 20,
     "metadata": {},
     "output_type": "execute_result"
    }
   ],
   "source": [
    "text_splitter"
   ]
  },
  {
   "cell_type": "code",
   "execution_count": 21,
   "id": "711c1b67-0fd8-45a3-b28b-a46352c1218e",
   "metadata": {},
   "outputs": [
    {
     "data": {
      "text/plain": [
       "45"
      ]
     },
     "execution_count": 21,
     "metadata": {},
     "output_type": "execute_result"
    }
   ],
   "source": [
    "len(splits)"
   ]
  },
  {
   "cell_type": "code",
   "execution_count": 22,
   "id": "9f351fa8-db5c-400a-8cbd-58a72749644d",
   "metadata": {},
   "outputs": [
    {
     "data": {
      "text/plain": [
       "Document(metadata={'source': 'https://de.wikipedia.org/wiki/Hochschule_f%C3%BCr_angewandte_Wissenschaften_Kempten', 'title': 'Hochschule für angewandte Wissenschaften Kempten – Wikipedia', 'language': 'de'}, page_content='Hochschule für angewandte Wissenschaften Kempten – Wikipedia\\n\\n\\n\\n\\n\\n\\n\\n\\n\\n\\n\\n\\n\\n\\n\\n\\n\\n\\n\\n\\n\\n\\n\\n\\n\\n\\n\\n\\n\\n\\n\\n\\n\\n\\n\\n\\n\\n\\n\\n\\n\\n\\n\\n\\nHochschule für angewandte Wissenschaften Kempten\\n\\naus Wikipedia, der freien Enzyklopädie\\n\\n\\n\\nZur Navigation springen\\nZur Suche springen\\n\\n\\nHochschule für angewandte Wissenschaften Kempten\\n\\n\\n\\n\\n\\nGründung\\n\\n1977\\n\\n\\nTrägerschaft\\n\\nstaatlich\\n\\n\\nOrt\\n\\nKempten (Allgäu)\\n\\n\\nBundesland\\n\\nBayern\\xa0Bayern\\n\\n\\nLand\\n\\nDeutschland\\xa0Deutschland\\n\\n\\nPräsident\\n\\nWolfgang Hauke\\n\\n\\nStudierende\\n\\nca. 5.500 WS 2022/2023[1]')"
      ]
     },
     "execution_count": 22,
     "metadata": {},
     "output_type": "execute_result"
    }
   ],
   "source": [
    "splits[0]"
   ]
  },
  {
   "cell_type": "code",
   "execution_count": 23,
   "id": "062b2c04-f2fb-4e2a-972b-b6b3b6cc40a9",
   "metadata": {},
   "outputs": [
    {
     "data": {
      "text/plain": [
       "Document(metadata={'source': 'https://de.wikipedia.org/wiki/Hochschule_f%C3%BCr_angewandte_Wissenschaften_Kempten', 'title': 'Hochschule für angewandte Wissenschaften Kempten – Wikipedia', 'language': 'de'}, page_content='Mitarbeiter\\n\\nca. 940 (davon ca. 150 Professoren, ca. 320 Lehrbeauftragte, ca. 470 Mitarbeiter in der Verwaltung)\\n\\n\\nWebsite\\n\\nwww.hs-kempten.de')"
      ]
     },
     "execution_count": 23,
     "metadata": {},
     "output_type": "execute_result"
    }
   ],
   "source": [
    "splits[1]"
   ]
  },
  {
   "cell_type": "code",
   "execution_count": 24,
   "id": "79365885-78c9-42db-aa9e-6e46ff2ede17",
   "metadata": {},
   "outputs": [
    {
     "data": {
      "text/plain": [
       "Document(metadata={'source': 'https://de.wikipedia.org/wiki/Hochschule_f%C3%BCr_angewandte_Wissenschaften_Kempten', 'title': 'Hochschule für angewandte Wissenschaften Kempten – Wikipedia', 'language': 'de'}, page_content='Neuester Ausbau (V.) aus dem Jahr 2011: Innenhof mit Wasserbecken und dem neuen schwarz-glänzenden kubischen Hochschulgebäude dahinter\\n2004 eingeweihtes Hochschulgebäude mit Verwaltung (IV.)\\nHochschulbibliothek\\nHochschulzentrum Vöhlinschloss')"
      ]
     },
     "execution_count": 24,
     "metadata": {},
     "output_type": "execute_result"
    }
   ],
   "source": [
    "splits[2]"
   ]
  },
  {
   "cell_type": "code",
   "execution_count": 25,
   "id": "8f0ac344-bc94-406a-a8b7-5ecd0f1b86be",
   "metadata": {},
   "outputs": [
    {
     "data": {
      "text/plain": [
       "Document(metadata={'source': 'https://de.wikipedia.org/wiki/Hochschule_f%C3%BCr_angewandte_Wissenschaften_Kempten', 'title': 'Hochschule für angewandte Wissenschaften Kempten – Wikipedia', 'language': 'de'}, page_content='Die Hochschule für angewandte Wissenschaften Kempten (kurz HS Kempten, engl. University of Applied Sciences Kempten)[2] ist eine Fachhochschule in Kempten (Allgäu). Die meisten Hochschulgebäude befinden sich auf dem Campus in der Bahnhofstraße. Das Auditorium maximum bietet Platz für etwa 350 Personen.[3]')"
      ]
     },
     "execution_count": 25,
     "metadata": {},
     "output_type": "execute_result"
    }
   ],
   "source": [
    "splits[3]"
   ]
  },
  {
   "cell_type": "code",
   "execution_count": 26,
   "id": "e7984293-e736-4e33-a060-d3571d55aa3f",
   "metadata": {},
   "outputs": [
    {
     "data": {
      "text/plain": [
       "Document(metadata={'source': 'https://de.wikipedia.org/wiki/Hochschule_f%C3%BCr_angewandte_Wissenschaften_Kempten', 'title': 'Hochschule für angewandte Wissenschaften Kempten – Wikipedia', 'language': 'de'}, page_content='Inhaltsverzeichnis\\n\\n1 Geschichte\\n2 Fachbereiche und Fakultäten\\n3 Verbund und Partnerschaften\\n4 Forschungszentrum Allgäu\\n5 Weblinks\\n6 Einzelnachweise')"
      ]
     },
     "execution_count": 26,
     "metadata": {},
     "output_type": "execute_result"
    }
   ],
   "source": [
    "splits[4]"
   ]
  },
  {
   "cell_type": "code",
   "execution_count": 27,
   "id": "8c51c3a8-99b7-404d-b0c7-039d8aa8e664",
   "metadata": {},
   "outputs": [
    {
     "data": {
      "text/plain": [
       "Document(metadata={'source': 'https://de.wikipedia.org/wiki/Hochschule_f%C3%BCr_angewandte_Wissenschaften_Kempten', 'title': 'Hochschule für angewandte Wissenschaften Kempten – Wikipedia', 'language': 'de'}, page_content='Geschichte[Bearbeiten | Quelltext bearbeiten]\\nIm Jahr 1969 bemühte sich die Stadt Kempten mit Vertretern der lokalen Wirtschaft um die Gründung einer Alpenuniversität und ab 1972 um eine Fachhochschule. Im Jahr 1975 beschloss der Bayerische Ministerrat eine Fachhochschule in Kempten. Zwei Jahre darauf verabschiedete der Bayerische Landtag ein Gesetz zur Errichtung der Fachhochschule in Kempten; Ziel waren damals 1000 Studenten.')"
      ]
     },
     "execution_count": 27,
     "metadata": {},
     "output_type": "execute_result"
    }
   ],
   "source": [
    "splits[5]"
   ]
  },
  {
   "cell_type": "code",
   "execution_count": 28,
   "id": "ac4a13a0-547c-42f0-bf55-383a2f92154c",
   "metadata": {},
   "outputs": [
    {
     "data": {
      "text/plain": [
       "Document(metadata={'source': 'https://de.wikipedia.org/wiki/Hochschule_f%C3%BCr_angewandte_Wissenschaften_Kempten', 'title': 'Hochschule für angewandte Wissenschaften Kempten – Wikipedia', 'language': 'de'}, page_content='Der bayerische Landtag gründete die Hochschule am 27. Juni 1977 per Gesetz. Die offizielle Eröffnung war am 4. Oktober 1978.[4]\\nAm 2. Oktober 1978 fing das erste Semester im Studiengang Betriebswirtschaft in angemieteten Gebäuden an der Bahnhofstraße an. Die Eröffnungsfeier fand im Fürstensaal der Fürstäbtlichen Residenz am 4. Oktober 1978 durch den bayerischen Kultusminister Hans Maier statt. Hanns Ott trat am 1. Februar 1978 sein Amt als Gründungspräsident an.[5]')"
      ]
     },
     "execution_count": 28,
     "metadata": {},
     "output_type": "execute_result"
    }
   ],
   "source": [
    "splits[6]"
   ]
  },
  {
   "cell_type": "markdown",
   "id": "89223d49-d4bf-44d2-a804-c4621f425d93",
   "metadata": {},
   "source": [
    "# Komponente OllamaEmbeddings (LangChain)"
   ]
  },
  {
   "cell_type": "code",
   "execution_count": 29,
   "id": "9b626180-57b9-4154-aef6-e03c71826c6b",
   "metadata": {},
   "outputs": [],
   "source": [
    "from langchain_community.embeddings import OllamaEmbeddings"
   ]
  },
  {
   "cell_type": "code",
   "execution_count": 30,
   "id": "e86c1282-5cf3-4d3d-8872-90a147d500c3",
   "metadata": {},
   "outputs": [
    {
     "data": {
      "text/plain": [
       "pydantic._internal._model_construction.ModelMetaclass"
      ]
     },
     "execution_count": 30,
     "metadata": {},
     "output_type": "execute_result"
    }
   ],
   "source": [
    "type(OllamaEmbeddings)"
   ]
  },
  {
   "cell_type": "code",
   "execution_count": 31,
   "id": "db26c436-8c74-48c5-b093-adaa5e218906",
   "metadata": {},
   "outputs": [
    {
     "name": "stderr",
     "output_type": "stream",
     "text": [
      "/tmp/ipykernel_11948/3307310579.py:1: LangChainDeprecationWarning: The class `OllamaEmbeddings` was deprecated in LangChain 0.3.1 and will be removed in 1.0.0. An updated version of the class exists in the :class:`~langchain-ollama package and should be used instead. To use it run `pip install -U :class:`~langchain-ollama` and import as `from :class:`~langchain_ollama import OllamaEmbeddings``.\n",
      "  embeddings = OllamaEmbeddings(model=\"llama3\")\n"
     ]
    }
   ],
   "source": [
    "embeddings = OllamaEmbeddings(model=\"llama3\")"
   ]
  },
  {
   "cell_type": "markdown",
   "id": "792d8adb-800e-4c86-b202-611c7779727e",
   "metadata": {},
   "source": [
    "# Komponente Chroma (LangChain)"
   ]
  },
  {
   "cell_type": "code",
   "execution_count": 32,
   "id": "ec76af0f-d823-4ef1-8ea3-7357a3158838",
   "metadata": {},
   "outputs": [],
   "source": [
    "from langchain_community.vectorstores import Chroma"
   ]
  },
  {
   "cell_type": "code",
   "execution_count": 34,
   "id": "e8259628-74cb-4070-9c75-7829bebcab4a",
   "metadata": {},
   "outputs": [
    {
     "name": "stdout",
     "output_type": "stream",
     "text": [
      "Collecting chromadb\n",
      "  Downloading chromadb-0.5.20-py3-none-any.whl.metadata (6.8 kB)\n",
      "Collecting build>=1.0.3 (from chromadb)\n",
      "  Downloading build-1.2.2.post1-py3-none-any.whl.metadata (6.5 kB)\n",
      "Requirement already satisfied: pydantic>=1.9 in /home/juebrauer/miniconda3/envs/env_ss24/lib/python3.12/site-packages (from chromadb) (2.9.2)\n",
      "Collecting chroma-hnswlib==0.7.6 (from chromadb)\n",
      "  Downloading chroma_hnswlib-0.7.6-cp312-cp312-manylinux_2_17_x86_64.manylinux2014_x86_64.whl.metadata (252 bytes)\n",
      "Collecting fastapi>=0.95.2 (from chromadb)\n",
      "  Downloading fastapi-0.115.5-py3-none-any.whl.metadata (27 kB)\n",
      "Collecting uvicorn>=0.18.3 (from uvicorn[standard]>=0.18.3->chromadb)\n",
      "  Downloading uvicorn-0.32.1-py3-none-any.whl.metadata (6.6 kB)\n",
      "Requirement already satisfied: numpy>=1.22.5 in /home/juebrauer/miniconda3/envs/env_ss24/lib/python3.12/site-packages (from chromadb) (1.26.4)\n",
      "Collecting posthog>=2.4.0 (from chromadb)\n",
      "  Downloading posthog-3.7.4-py2.py3-none-any.whl.metadata (2.0 kB)\n",
      "Requirement already satisfied: typing-extensions>=4.5.0 in /home/juebrauer/miniconda3/envs/env_ss24/lib/python3.12/site-packages (from chromadb) (4.12.1)\n",
      "Collecting onnxruntime>=1.14.1 (from chromadb)\n",
      "  Downloading onnxruntime-1.20.1-cp312-cp312-manylinux_2_27_x86_64.manylinux_2_28_x86_64.whl.metadata (4.5 kB)\n",
      "Collecting opentelemetry-api>=1.2.0 (from chromadb)\n",
      "  Downloading opentelemetry_api-1.28.2-py3-none-any.whl.metadata (1.4 kB)\n",
      "Collecting opentelemetry-exporter-otlp-proto-grpc>=1.2.0 (from chromadb)\n",
      "  Downloading opentelemetry_exporter_otlp_proto_grpc-1.28.2-py3-none-any.whl.metadata (2.2 kB)\n",
      "Collecting opentelemetry-instrumentation-fastapi>=0.41b0 (from chromadb)\n",
      "  Downloading opentelemetry_instrumentation_fastapi-0.49b2-py3-none-any.whl.metadata (2.1 kB)\n",
      "Collecting opentelemetry-sdk>=1.2.0 (from chromadb)\n",
      "  Downloading opentelemetry_sdk-1.28.2-py3-none-any.whl.metadata (1.5 kB)\n",
      "Requirement already satisfied: tokenizers>=0.13.2 in /home/juebrauer/miniconda3/envs/env_ss24/lib/python3.12/site-packages (from chromadb) (0.20.0)\n",
      "Collecting pypika>=0.48.9 (from chromadb)\n",
      "  Downloading PyPika-0.48.9.tar.gz (67 kB)\n",
      "\u001b[2K     \u001b[38;2;114;156;31m━━━━━━━━━━━━━━━━━━━━━━━━━━━━━━━━━━━━━━━━\u001b[0m \u001b[32m67.3/67.3 kB\u001b[0m \u001b[31m2.6 MB/s\u001b[0m eta \u001b[36m0:00:00\u001b[0m\n",
      "\u001b[?25h  Installing build dependencies ... \u001b[?25ldone\n",
      "\u001b[?25h  Getting requirements to build wheel ... \u001b[?25ldone\n",
      "\u001b[?25h  Preparing metadata (pyproject.toml) ... \u001b[?25ldone\n",
      "\u001b[?25hRequirement already satisfied: tqdm>=4.65.0 in /home/juebrauer/miniconda3/envs/env_ss24/lib/python3.12/site-packages (from chromadb) (4.66.4)\n",
      "Requirement already satisfied: overrides>=7.3.1 in /home/juebrauer/miniconda3/envs/env_ss24/lib/python3.12/site-packages (from chromadb) (7.7.0)\n",
      "Requirement already satisfied: importlib-resources in /home/juebrauer/miniconda3/envs/env_ss24/lib/python3.12/site-packages (from chromadb) (6.4.0)\n",
      "Requirement already satisfied: grpcio>=1.58.0 in /home/juebrauer/miniconda3/envs/env_ss24/lib/python3.12/site-packages (from chromadb) (1.64.1)\n",
      "Collecting bcrypt>=4.0.1 (from chromadb)\n",
      "  Downloading bcrypt-4.2.1-cp39-abi3-manylinux_2_28_x86_64.whl.metadata (9.8 kB)\n",
      "Collecting typer>=0.9.0 (from chromadb)\n",
      "  Downloading typer-0.14.0-py3-none-any.whl.metadata (15 kB)\n",
      "Collecting kubernetes>=28.1.0 (from chromadb)\n",
      "  Downloading kubernetes-31.0.0-py2.py3-none-any.whl.metadata (1.5 kB)\n",
      "Requirement already satisfied: tenacity>=8.2.3 in /home/juebrauer/miniconda3/envs/env_ss24/lib/python3.12/site-packages (from chromadb) (8.5.0)\n",
      "Requirement already satisfied: PyYAML>=6.0.0 in /home/juebrauer/miniconda3/envs/env_ss24/lib/python3.12/site-packages (from chromadb) (6.0.1)\n",
      "Collecting mmh3>=4.0.1 (from chromadb)\n",
      "  Downloading mmh3-5.0.1-cp312-cp312-manylinux_2_5_x86_64.manylinux1_x86_64.manylinux_2_17_x86_64.manylinux2014_x86_64.whl.metadata (14 kB)\n",
      "Requirement already satisfied: orjson>=3.9.12 in /home/juebrauer/miniconda3/envs/env_ss24/lib/python3.12/site-packages (from chromadb) (3.10.12)\n",
      "Requirement already satisfied: httpx>=0.27.0 in /home/juebrauer/miniconda3/envs/env_ss24/lib/python3.12/site-packages (from chromadb) (0.27.0)\n",
      "Requirement already satisfied: rich>=10.11.0 in /home/juebrauer/miniconda3/envs/env_ss24/lib/python3.12/site-packages (from chromadb) (13.7.1)\n",
      "Requirement already satisfied: packaging>=19.1 in /home/juebrauer/miniconda3/envs/env_ss24/lib/python3.12/site-packages (from build>=1.0.3->chromadb) (24.0)\n",
      "Collecting pyproject_hooks (from build>=1.0.3->chromadb)\n",
      "  Downloading pyproject_hooks-1.2.0-py3-none-any.whl.metadata (1.3 kB)\n",
      "Collecting starlette<0.42.0,>=0.40.0 (from fastapi>=0.95.2->chromadb)\n",
      "  Downloading starlette-0.41.3-py3-none-any.whl.metadata (6.0 kB)\n",
      "Requirement already satisfied: anyio in /home/juebrauer/miniconda3/envs/env_ss24/lib/python3.12/site-packages (from httpx>=0.27.0->chromadb) (4.4.0)\n",
      "Requirement already satisfied: certifi in /home/juebrauer/miniconda3/envs/env_ss24/lib/python3.12/site-packages (from httpx>=0.27.0->chromadb) (2024.6.2)\n",
      "Requirement already satisfied: httpcore==1.* in /home/juebrauer/miniconda3/envs/env_ss24/lib/python3.12/site-packages (from httpx>=0.27.0->chromadb) (1.0.5)\n",
      "Requirement already satisfied: idna in /home/juebrauer/miniconda3/envs/env_ss24/lib/python3.12/site-packages (from httpx>=0.27.0->chromadb) (3.7)\n",
      "Requirement already satisfied: sniffio in /home/juebrauer/miniconda3/envs/env_ss24/lib/python3.12/site-packages (from httpx>=0.27.0->chromadb) (1.3.1)\n",
      "Requirement already satisfied: h11<0.15,>=0.13 in /home/juebrauer/miniconda3/envs/env_ss24/lib/python3.12/site-packages (from httpcore==1.*->httpx>=0.27.0->chromadb) (0.14.0)\n",
      "Requirement already satisfied: six>=1.9.0 in /home/juebrauer/miniconda3/envs/env_ss24/lib/python3.12/site-packages (from kubernetes>=28.1.0->chromadb) (1.16.0)\n",
      "Requirement already satisfied: python-dateutil>=2.5.3 in /home/juebrauer/miniconda3/envs/env_ss24/lib/python3.12/site-packages (from kubernetes>=28.1.0->chromadb) (2.9.0.post0)\n",
      "Collecting google-auth>=1.0.1 (from kubernetes>=28.1.0->chromadb)\n",
      "  Using cached google_auth-2.36.0-py2.py3-none-any.whl.metadata (4.7 kB)\n",
      "Requirement already satisfied: websocket-client!=0.40.0,!=0.41.*,!=0.42.*,>=0.32.0 in /home/juebrauer/miniconda3/envs/env_ss24/lib/python3.12/site-packages (from kubernetes>=28.1.0->chromadb) (1.8.0)\n",
      "Requirement already satisfied: requests in /home/juebrauer/miniconda3/envs/env_ss24/lib/python3.12/site-packages (from kubernetes>=28.1.0->chromadb) (2.32.3)\n",
      "Collecting requests-oauthlib (from kubernetes>=28.1.0->chromadb)\n",
      "  Using cached requests_oauthlib-2.0.0-py2.py3-none-any.whl.metadata (11 kB)\n",
      "Collecting oauthlib>=3.2.2 (from kubernetes>=28.1.0->chromadb)\n",
      "  Using cached oauthlib-3.2.2-py3-none-any.whl.metadata (7.5 kB)\n",
      "Requirement already satisfied: urllib3>=1.24.2 in /home/juebrauer/miniconda3/envs/env_ss24/lib/python3.12/site-packages (from kubernetes>=28.1.0->chromadb) (2.2.1)\n",
      "Collecting durationpy>=0.7 (from kubernetes>=28.1.0->chromadb)\n",
      "  Downloading durationpy-0.9-py3-none-any.whl.metadata (338 bytes)\n",
      "Collecting coloredlogs (from onnxruntime>=1.14.1->chromadb)\n",
      "  Using cached coloredlogs-15.0.1-py2.py3-none-any.whl.metadata (12 kB)\n",
      "Requirement already satisfied: flatbuffers in /home/juebrauer/miniconda3/envs/env_ss24/lib/python3.12/site-packages (from onnxruntime>=1.14.1->chromadb) (24.3.25)\n",
      "Requirement already satisfied: protobuf in /home/juebrauer/miniconda3/envs/env_ss24/lib/python3.12/site-packages (from onnxruntime>=1.14.1->chromadb) (4.25.3)\n",
      "Requirement already satisfied: sympy in /home/juebrauer/miniconda3/envs/env_ss24/lib/python3.12/site-packages (from onnxruntime>=1.14.1->chromadb) (1.13.1)\n",
      "Collecting deprecated>=1.2.6 (from opentelemetry-api>=1.2.0->chromadb)\n",
      "  Downloading Deprecated-1.2.15-py2.py3-none-any.whl.metadata (5.5 kB)\n",
      "Requirement already satisfied: importlib-metadata<=8.5.0,>=6.0 in /home/juebrauer/miniconda3/envs/env_ss24/lib/python3.12/site-packages (from opentelemetry-api>=1.2.0->chromadb) (8.0.0)\n",
      "Collecting googleapis-common-protos~=1.52 (from opentelemetry-exporter-otlp-proto-grpc>=1.2.0->chromadb)\n",
      "  Using cached googleapis_common_protos-1.66.0-py2.py3-none-any.whl.metadata (1.5 kB)\n",
      "Collecting opentelemetry-exporter-otlp-proto-common==1.28.2 (from opentelemetry-exporter-otlp-proto-grpc>=1.2.0->chromadb)\n",
      "  Downloading opentelemetry_exporter_otlp_proto_common-1.28.2-py3-none-any.whl.metadata (1.8 kB)\n",
      "Collecting opentelemetry-proto==1.28.2 (from opentelemetry-exporter-otlp-proto-grpc>=1.2.0->chromadb)\n",
      "  Downloading opentelemetry_proto-1.28.2-py3-none-any.whl.metadata (2.3 kB)\n",
      "Collecting protobuf (from onnxruntime>=1.14.1->chromadb)\n",
      "  Downloading protobuf-5.29.0-cp38-abi3-manylinux2014_x86_64.whl.metadata (592 bytes)\n",
      "Collecting opentelemetry-instrumentation-asgi==0.49b2 (from opentelemetry-instrumentation-fastapi>=0.41b0->chromadb)\n",
      "  Downloading opentelemetry_instrumentation_asgi-0.49b2-py3-none-any.whl.metadata (1.9 kB)\n",
      "Collecting opentelemetry-instrumentation==0.49b2 (from opentelemetry-instrumentation-fastapi>=0.41b0->chromadb)\n",
      "  Downloading opentelemetry_instrumentation-0.49b2-py3-none-any.whl.metadata (6.1 kB)\n",
      "Collecting opentelemetry-semantic-conventions==0.49b2 (from opentelemetry-instrumentation-fastapi>=0.41b0->chromadb)\n",
      "  Downloading opentelemetry_semantic_conventions-0.49b2-py3-none-any.whl.metadata (2.3 kB)\n",
      "Collecting opentelemetry-util-http==0.49b2 (from opentelemetry-instrumentation-fastapi>=0.41b0->chromadb)\n",
      "  Downloading opentelemetry_util_http-0.49b2-py3-none-any.whl.metadata (2.5 kB)\n",
      "Requirement already satisfied: wrapt<2.0.0,>=1.0.0 in /home/juebrauer/miniconda3/envs/env_ss24/lib/python3.12/site-packages (from opentelemetry-instrumentation==0.49b2->opentelemetry-instrumentation-fastapi>=0.41b0->chromadb) (1.16.0)\n",
      "Collecting asgiref~=3.0 (from opentelemetry-instrumentation-asgi==0.49b2->opentelemetry-instrumentation-fastapi>=0.41b0->chromadb)\n",
      "  Downloading asgiref-3.8.1-py3-none-any.whl.metadata (9.3 kB)\n",
      "Collecting monotonic>=1.5 (from posthog>=2.4.0->chromadb)\n",
      "  Downloading monotonic-1.6-py2.py3-none-any.whl.metadata (1.5 kB)\n",
      "Collecting backoff>=1.10.0 (from posthog>=2.4.0->chromadb)\n",
      "  Downloading backoff-2.2.1-py3-none-any.whl.metadata (14 kB)\n",
      "Requirement already satisfied: annotated-types>=0.6.0 in /home/juebrauer/miniconda3/envs/env_ss24/lib/python3.12/site-packages (from pydantic>=1.9->chromadb) (0.7.0)\n",
      "Requirement already satisfied: pydantic-core==2.23.4 in /home/juebrauer/miniconda3/envs/env_ss24/lib/python3.12/site-packages (from pydantic>=1.9->chromadb) (2.23.4)\n",
      "Requirement already satisfied: markdown-it-py>=2.2.0 in /home/juebrauer/miniconda3/envs/env_ss24/lib/python3.12/site-packages (from rich>=10.11.0->chromadb) (3.0.0)\n",
      "Requirement already satisfied: pygments<3.0.0,>=2.13.0 in /home/juebrauer/miniconda3/envs/env_ss24/lib/python3.12/site-packages (from rich>=10.11.0->chromadb) (2.18.0)\n",
      "Requirement already satisfied: huggingface-hub<1.0,>=0.16.4 in /home/juebrauer/miniconda3/envs/env_ss24/lib/python3.12/site-packages (from tokenizers>=0.13.2->chromadb) (0.25.2)\n",
      "Requirement already satisfied: click>=8.0.0 in /home/juebrauer/miniconda3/envs/env_ss24/lib/python3.12/site-packages (from typer>=0.9.0->chromadb) (8.1.7)\n",
      "Collecting shellingham>=1.3.0 (from typer>=0.9.0->chromadb)\n",
      "  Using cached shellingham-1.5.4-py2.py3-none-any.whl.metadata (3.5 kB)\n",
      "Collecting httptools>=0.6.3 (from uvicorn[standard]>=0.18.3->chromadb)\n",
      "  Downloading httptools-0.6.4-cp312-cp312-manylinux_2_5_x86_64.manylinux1_x86_64.manylinux_2_17_x86_64.manylinux2014_x86_64.whl.metadata (3.6 kB)\n",
      "Requirement already satisfied: python-dotenv>=0.13 in /home/juebrauer/miniconda3/envs/env_ss24/lib/python3.12/site-packages (from uvicorn[standard]>=0.18.3->chromadb) (1.0.1)\n",
      "Collecting uvloop!=0.15.0,!=0.15.1,>=0.14.0 (from uvicorn[standard]>=0.18.3->chromadb)\n",
      "  Downloading uvloop-0.21.0-cp312-cp312-manylinux_2_17_x86_64.manylinux2014_x86_64.whl.metadata (4.9 kB)\n",
      "Collecting watchfiles>=0.13 (from uvicorn[standard]>=0.18.3->chromadb)\n",
      "  Downloading watchfiles-1.0.0-cp312-cp312-manylinux_2_17_x86_64.manylinux2014_x86_64.whl.metadata (4.9 kB)\n",
      "Collecting websockets>=10.4 (from uvicorn[standard]>=0.18.3->chromadb)\n",
      "  Downloading websockets-14.1-cp312-cp312-manylinux_2_5_x86_64.manylinux1_x86_64.manylinux_2_17_x86_64.manylinux2014_x86_64.whl.metadata (6.7 kB)\n",
      "Requirement already satisfied: cachetools<6.0,>=2.0.0 in /home/juebrauer/miniconda3/envs/env_ss24/lib/python3.12/site-packages (from google-auth>=1.0.1->kubernetes>=28.1.0->chromadb) (5.3.3)\n",
      "Collecting pyasn1-modules>=0.2.1 (from google-auth>=1.0.1->kubernetes>=28.1.0->chromadb)\n",
      "  Downloading pyasn1_modules-0.4.1-py3-none-any.whl.metadata (3.5 kB)\n",
      "Collecting rsa<5,>=3.1.4 (from google-auth>=1.0.1->kubernetes>=28.1.0->chromadb)\n",
      "  Using cached rsa-4.9-py3-none-any.whl.metadata (4.2 kB)\n",
      "Requirement already satisfied: filelock in /home/juebrauer/miniconda3/envs/env_ss24/lib/python3.12/site-packages (from huggingface-hub<1.0,>=0.16.4->tokenizers>=0.13.2->chromadb) (3.14.0)\n",
      "Requirement already satisfied: fsspec>=2023.5.0 in /home/juebrauer/miniconda3/envs/env_ss24/lib/python3.12/site-packages (from huggingface-hub<1.0,>=0.16.4->tokenizers>=0.13.2->chromadb) (2024.5.0)\n",
      "Requirement already satisfied: zipp>=0.5 in /home/juebrauer/miniconda3/envs/env_ss24/lib/python3.12/site-packages (from importlib-metadata<=8.5.0,>=6.0->opentelemetry-api>=1.2.0->chromadb) (3.19.2)\n",
      "Requirement already satisfied: mdurl~=0.1 in /home/juebrauer/miniconda3/envs/env_ss24/lib/python3.12/site-packages (from markdown-it-py>=2.2.0->rich>=10.11.0->chromadb) (0.1.2)\n",
      "Requirement already satisfied: charset-normalizer<4,>=2 in /home/juebrauer/miniconda3/envs/env_ss24/lib/python3.12/site-packages (from requests->kubernetes>=28.1.0->chromadb) (3.3.2)\n",
      "Collecting humanfriendly>=9.1 (from coloredlogs->onnxruntime>=1.14.1->chromadb)\n",
      "  Using cached humanfriendly-10.0-py2.py3-none-any.whl.metadata (9.2 kB)\n",
      "Requirement already satisfied: mpmath<1.4,>=1.1.0 in /home/juebrauer/miniconda3/envs/env_ss24/lib/python3.12/site-packages (from sympy->onnxruntime>=1.14.1->chromadb) (1.3.0)\n",
      "Collecting pyasn1<0.7.0,>=0.4.6 (from pyasn1-modules>=0.2.1->google-auth>=1.0.1->kubernetes>=28.1.0->chromadb)\n",
      "  Downloading pyasn1-0.6.1-py3-none-any.whl.metadata (8.4 kB)\n",
      "Downloading chromadb-0.5.20-py3-none-any.whl (617 kB)\n",
      "\u001b[2K   \u001b[38;2;114;156;31m━━━━━━━━━━━━━━━━━━━━━━━━━━━━━━━━━━━━━━━━\u001b[0m \u001b[32m617.9/617.9 kB\u001b[0m \u001b[31m2.9 MB/s\u001b[0m eta \u001b[36m0:00:00\u001b[0m[31m3.1 MB/s\u001b[0m eta \u001b[36m0:00:01\u001b[0m\n",
      "\u001b[?25hDownloading chroma_hnswlib-0.7.6-cp312-cp312-manylinux_2_17_x86_64.manylinux2014_x86_64.whl (2.4 MB)\n",
      "\u001b[2K   \u001b[38;2;114;156;31m━━━━━━━━━━━━━━━━━━━━━━━━━━━━━━━━━━━━━━━━\u001b[0m \u001b[32m2.4/2.4 MB\u001b[0m \u001b[31m2.4 MB/s\u001b[0m eta \u001b[36m0:00:00\u001b[0m[36m0:00:01\u001b[0m[36m0:00:01\u001b[0m:01\u001b[0m\n",
      "\u001b[?25hDownloading bcrypt-4.2.1-cp39-abi3-manylinux_2_28_x86_64.whl (278 kB)\n",
      "\u001b[2K   \u001b[38;2;114;156;31m━━━━━━━━━━━━━━━━━━━━━━━━━━━━━━━━━━━━━━━━\u001b[0m \u001b[32m278.6/278.6 kB\u001b[0m \u001b[31m3.5 MB/s\u001b[0m eta \u001b[36m0:00:00\u001b[0m[31m4.0 MB/s\u001b[0m eta \u001b[36m0:00:01\u001b[0m\n",
      "\u001b[?25hDownloading build-1.2.2.post1-py3-none-any.whl (22 kB)\n",
      "Downloading fastapi-0.115.5-py3-none-any.whl (94 kB)\n",
      "\u001b[2K   \u001b[38;2;114;156;31m━━━━━━━━━━━━━━━━━━━━━━━━━━━━━━━━━━━━━━━━\u001b[0m \u001b[32m94.9/94.9 kB\u001b[0m \u001b[31m3.1 MB/s\u001b[0m eta \u001b[36m0:00:00\u001b[0m\n",
      "\u001b[?25hDownloading kubernetes-31.0.0-py2.py3-none-any.whl (1.9 MB)\n",
      "\u001b[2K   \u001b[38;2;114;156;31m━━━━━━━━━━━━━━━━━━━━━━━━━━━━━━━━━━━━━━━━\u001b[0m \u001b[32m1.9/1.9 MB\u001b[0m \u001b[31m3.3 MB/s\u001b[0m eta \u001b[36m0:00:00\u001b[0m MB/s\u001b[0m eta \u001b[36m0:00:01\u001b[0m:01\u001b[0m\n",
      "\u001b[?25hDownloading mmh3-5.0.1-cp312-cp312-manylinux_2_5_x86_64.manylinux1_x86_64.manylinux_2_17_x86_64.manylinux2014_x86_64.whl (94 kB)\n",
      "\u001b[2K   \u001b[38;2;114;156;31m━━━━━━━━━━━━━━━━━━━━━━━━━━━━━━━━━━━━━━━━\u001b[0m \u001b[32m95.0/95.0 kB\u001b[0m \u001b[31m2.4 MB/s\u001b[0m eta \u001b[36m0:00:00\u001b[0m[31m3.5 MB/s\u001b[0m eta \u001b[36m0:00:01\u001b[0m\n",
      "\u001b[?25hDownloading onnxruntime-1.20.1-cp312-cp312-manylinux_2_27_x86_64.manylinux_2_28_x86_64.whl (13.3 MB)\n",
      "\u001b[2K   \u001b[38;2;114;156;31m━━━━━━━━━━━━━━━━━━━━━━━━━━━━━━━━━━━━━━━━\u001b[0m \u001b[32m13.3/13.3 MB\u001b[0m \u001b[31m3.7 MB/s\u001b[0m eta \u001b[36m0:00:00\u001b[0mm eta \u001b[36m0:00:01\u001b[0m[36m0:00:01\u001b[0m\n",
      "\u001b[?25hDownloading opentelemetry_api-1.28.2-py3-none-any.whl (64 kB)\n",
      "\u001b[2K   \u001b[38;2;114;156;31m━━━━━━━━━━━━━━━━━━━━━━━━━━━━━━━━━━━━━━━━\u001b[0m \u001b[32m64.3/64.3 kB\u001b[0m \u001b[31m2.1 MB/s\u001b[0m eta \u001b[36m0:00:00\u001b[0m\n",
      "\u001b[?25hDownloading opentelemetry_exporter_otlp_proto_grpc-1.28.2-py3-none-any.whl (18 kB)\n",
      "Downloading opentelemetry_exporter_otlp_proto_common-1.28.2-py3-none-any.whl (18 kB)\n",
      "Downloading opentelemetry_proto-1.28.2-py3-none-any.whl (55 kB)\n",
      "\u001b[2K   \u001b[38;2;114;156;31m━━━━━━━━━━━━━━━━━━━━━━━━━━━━━━━━━━━━━━━━\u001b[0m \u001b[32m55.8/55.8 kB\u001b[0m \u001b[31m2.7 MB/s\u001b[0m eta \u001b[36m0:00:00\u001b[0m\n",
      "\u001b[?25hDownloading opentelemetry_instrumentation_fastapi-0.49b2-py3-none-any.whl (12 kB)\n",
      "Downloading opentelemetry_instrumentation-0.49b2-py3-none-any.whl (30 kB)\n",
      "Downloading opentelemetry_instrumentation_asgi-0.49b2-py3-none-any.whl (16 kB)\n",
      "Downloading opentelemetry_semantic_conventions-0.49b2-py3-none-any.whl (159 kB)\n",
      "\u001b[2K   \u001b[38;2;114;156;31m━━━━━━━━━━━━━━━━━━━━━━━━━━━━━━━━━━━━━━━━\u001b[0m \u001b[32m159.2/159.2 kB\u001b[0m \u001b[31m3.3 MB/s\u001b[0m eta \u001b[36m0:00:00\u001b[0m MB/s\u001b[0m eta \u001b[36m0:00:01\u001b[0m\n",
      "\u001b[?25hDownloading opentelemetry_util_http-0.49b2-py3-none-any.whl (6.9 kB)\n",
      "Downloading opentelemetry_sdk-1.28.2-py3-none-any.whl (118 kB)\n",
      "\u001b[2K   \u001b[38;2;114;156;31m━━━━━━━━━━━━━━━━━━━━━━━━━━━━━━━━━━━━━━━━\u001b[0m \u001b[32m118.8/118.8 kB\u001b[0m \u001b[31m3.5 MB/s\u001b[0m eta \u001b[36m0:00:00\u001b[0m[31m5.0 MB/s\u001b[0m eta \u001b[36m0:00:01\u001b[0m\n",
      "\u001b[?25hDownloading posthog-3.7.4-py2.py3-none-any.whl (54 kB)\n",
      "\u001b[2K   \u001b[38;2;114;156;31m━━━━━━━━━━━━━━━━━━━━━━━━━━━━━━━━━━━━━━━━\u001b[0m \u001b[32m54.8/54.8 kB\u001b[0m \u001b[31m2.2 MB/s\u001b[0m eta \u001b[36m0:00:00\u001b[0m\n",
      "\u001b[?25hDownloading typer-0.14.0-py3-none-any.whl (44 kB)\n",
      "\u001b[2K   \u001b[38;2;114;156;31m━━━━━━━━━━━━━━━━━━━━━━━━━━━━━━━━━━━━━━━━\u001b[0m \u001b[32m44.7/44.7 kB\u001b[0m \u001b[31m1.7 MB/s\u001b[0m eta \u001b[36m0:00:00\u001b[0m\n",
      "\u001b[?25hDownloading uvicorn-0.32.1-py3-none-any.whl (63 kB)\n",
      "\u001b[2K   \u001b[38;2;114;156;31m━━━━━━━━━━━━━━━━━━━━━━━━━━━━━━━━━━━━━━━━\u001b[0m \u001b[32m63.8/63.8 kB\u001b[0m \u001b[31m2.5 MB/s\u001b[0m eta \u001b[36m0:00:00\u001b[0m\n",
      "\u001b[?25hDownloading backoff-2.2.1-py3-none-any.whl (15 kB)\n",
      "Downloading Deprecated-1.2.15-py2.py3-none-any.whl (9.9 kB)\n",
      "Downloading durationpy-0.9-py3-none-any.whl (3.5 kB)\n",
      "Downloading google_auth-2.36.0-py2.py3-none-any.whl (209 kB)\n",
      "\u001b[2K   \u001b[38;2;114;156;31m━━━━━━━━━━━━━━━━━━━━━━━━━━━━━━━━━━━━━━━━\u001b[0m \u001b[32m209.5/209.5 kB\u001b[0m \u001b[31m3.4 MB/s\u001b[0m eta \u001b[36m0:00:00\u001b[0m MB/s\u001b[0m eta \u001b[36m0:00:01\u001b[0m\n",
      "\u001b[?25hDownloading googleapis_common_protos-1.66.0-py2.py3-none-any.whl (221 kB)\n",
      "\u001b[2K   \u001b[38;2;114;156;31m━━━━━━━━━━━━━━━━━━━━━━━━━━━━━━━━━━━━━━━━\u001b[0m \u001b[32m221.7/221.7 kB\u001b[0m \u001b[31m2.1 MB/s\u001b[0m eta \u001b[36m0:00:00\u001b[0m[31m2.3 MB/s\u001b[0m eta \u001b[36m0:00:01\u001b[0m\n",
      "\u001b[?25hDownloading httptools-0.6.4-cp312-cp312-manylinux_2_5_x86_64.manylinux1_x86_64.manylinux_2_17_x86_64.manylinux2014_x86_64.whl (510 kB)\n",
      "\u001b[2K   \u001b[38;2;114;156;31m━━━━━━━━━━━━━━━━━━━━━━━━━━━━━━━━━━━━━━━━\u001b[0m \u001b[32m510.8/510.8 kB\u001b[0m \u001b[31m3.1 MB/s\u001b[0m eta \u001b[36m0:00:00\u001b[0m MB/s\u001b[0m eta \u001b[36m0:00:01\u001b[0m:01\u001b[0m\n",
      "\u001b[?25hDownloading monotonic-1.6-py2.py3-none-any.whl (8.2 kB)\n",
      "Using cached oauthlib-3.2.2-py3-none-any.whl (151 kB)\n",
      "Downloading protobuf-5.29.0-cp38-abi3-manylinux2014_x86_64.whl (319 kB)\n",
      "\u001b[2K   \u001b[38;2;114;156;31m━━━━━━━━━━━━━━━━━━━━━━━━━━━━━━━━━━━━━━━━\u001b[0m \u001b[32m319.7/319.7 kB\u001b[0m \u001b[31m3.8 MB/s\u001b[0m eta \u001b[36m0:00:00\u001b[0m MB/s\u001b[0m eta \u001b[36m0:00:01\u001b[0m\n",
      "\u001b[?25hUsing cached shellingham-1.5.4-py2.py3-none-any.whl (9.8 kB)\n",
      "Downloading starlette-0.41.3-py3-none-any.whl (73 kB)\n",
      "\u001b[2K   \u001b[38;2;114;156;31m━━━━━━━━━━━━━━━━━━━━━━━━━━━━━━━━━━━━━━━━\u001b[0m \u001b[32m73.2/73.2 kB\u001b[0m \u001b[31m3.2 MB/s\u001b[0m eta \u001b[36m0:00:00\u001b[0m\n",
      "\u001b[?25hDownloading uvloop-0.21.0-cp312-cp312-manylinux_2_17_x86_64.manylinux2014_x86_64.whl (4.7 MB)\n",
      "\u001b[2K   \u001b[38;2;114;156;31m━━━━━━━━━━━━━━━━━━━━━━━━━━━━━━━━━━━━━━━━\u001b[0m \u001b[32m4.7/4.7 MB\u001b[0m \u001b[31m3.6 MB/s\u001b[0m eta \u001b[36m0:00:00\u001b[0mm eta \u001b[36m0:00:01\u001b[0m[36m0:00:01\u001b[0m\n",
      "\u001b[?25hDownloading watchfiles-1.0.0-cp312-cp312-manylinux_2_17_x86_64.manylinux2014_x86_64.whl (442 kB)\n",
      "\u001b[2K   \u001b[38;2;114;156;31m━━━━━━━━━━━━━━━━━━━━━━━━━━━━━━━━━━━━━━━━\u001b[0m \u001b[32m442.6/442.6 kB\u001b[0m \u001b[31m2.4 MB/s\u001b[0m eta \u001b[36m0:00:00\u001b[0mm eta \u001b[36m0:00:01\u001b[0m0:01\u001b[0m:01\u001b[0m\n",
      "\u001b[?25hDownloading websockets-14.1-cp312-cp312-manylinux_2_5_x86_64.manylinux1_x86_64.manylinux_2_17_x86_64.manylinux2014_x86_64.whl (169 kB)\n",
      "\u001b[2K   \u001b[38;2;114;156;31m━━━━━━━━━━━━━━━━━━━━━━━━━━━━━━━━━━━━━━━━\u001b[0m \u001b[32m169.0/169.0 kB\u001b[0m \u001b[31m2.8 MB/s\u001b[0m eta \u001b[36m0:00:00\u001b[0m[31m3.3 MB/s\u001b[0m eta \u001b[36m0:00:01\u001b[0m\n",
      "\u001b[?25hUsing cached coloredlogs-15.0.1-py2.py3-none-any.whl (46 kB)\n",
      "Downloading pyproject_hooks-1.2.0-py3-none-any.whl (10 kB)\n",
      "Using cached requests_oauthlib-2.0.0-py2.py3-none-any.whl (24 kB)\n",
      "Downloading asgiref-3.8.1-py3-none-any.whl (23 kB)\n",
      "Using cached humanfriendly-10.0-py2.py3-none-any.whl (86 kB)\n",
      "Downloading pyasn1_modules-0.4.1-py3-none-any.whl (181 kB)\n",
      "\u001b[2K   \u001b[38;2;114;156;31m━━━━━━━━━━━━━━━━━━━━━━━━━━━━━━━━━━━━━━━━\u001b[0m \u001b[32m181.5/181.5 kB\u001b[0m \u001b[31m2.6 MB/s\u001b[0m eta \u001b[36m0:00:00\u001b[0m MB/s\u001b[0m eta \u001b[36m0:00:01\u001b[0m01\u001b[0m\n",
      "\u001b[?25hUsing cached rsa-4.9-py3-none-any.whl (34 kB)\n",
      "Downloading pyasn1-0.6.1-py3-none-any.whl (83 kB)\n",
      "\u001b[2K   \u001b[38;2;114;156;31m━━━━━━━━━━━━━━━━━━━━━━━━━━━━━━━━━━━━━━━━\u001b[0m \u001b[32m83.1/83.1 kB\u001b[0m \u001b[31m3.3 MB/s\u001b[0m eta \u001b[36m0:00:00\u001b[0m\n",
      "\u001b[?25hBuilding wheels for collected packages: pypika\n",
      "  Building wheel for pypika (pyproject.toml) ... \u001b[?25ldone\n",
      "\u001b[?25h  Created wheel for pypika: filename=PyPika-0.48.9-py2.py3-none-any.whl size=53725 sha256=b6fb2e6e11ce8daed655f6fe943e0fdfd5beb9146cd914a658e6fa8d60c58579\n",
      "  Stored in directory: /home/juebrauer/.cache/pip/wheels/d5/3d/69/8d68d249cd3de2584f226e27fd431d6344f7d70fd856ebd01b\n",
      "Successfully built pypika\n",
      "Installing collected packages: pypika, monotonic, durationpy, websockets, uvloop, uvicorn, shellingham, pyproject_hooks, pyasn1, protobuf, opentelemetry-util-http, oauthlib, mmh3, humanfriendly, httptools, deprecated, chroma-hnswlib, bcrypt, backoff, asgiref, watchfiles, starlette, rsa, requests-oauthlib, pyasn1-modules, posthog, opentelemetry-proto, opentelemetry-api, googleapis-common-protos, coloredlogs, build, typer, opentelemetry-semantic-conventions, opentelemetry-exporter-otlp-proto-common, onnxruntime, google-auth, fastapi, opentelemetry-sdk, opentelemetry-instrumentation, kubernetes, opentelemetry-instrumentation-asgi, opentelemetry-exporter-otlp-proto-grpc, opentelemetry-instrumentation-fastapi, chromadb\n",
      "  Attempting uninstall: protobuf\n",
      "    Found existing installation: protobuf 4.25.3\n",
      "    Uninstalling protobuf-4.25.3:\n",
      "      Successfully uninstalled protobuf-4.25.3\n",
      "Successfully installed asgiref-3.8.1 backoff-2.2.1 bcrypt-4.2.1 build-1.2.2.post1 chroma-hnswlib-0.7.6 chromadb-0.5.20 coloredlogs-15.0.1 deprecated-1.2.15 durationpy-0.9 fastapi-0.115.5 google-auth-2.36.0 googleapis-common-protos-1.66.0 httptools-0.6.4 humanfriendly-10.0 kubernetes-31.0.0 mmh3-5.0.1 monotonic-1.6 oauthlib-3.2.2 onnxruntime-1.20.1 opentelemetry-api-1.28.2 opentelemetry-exporter-otlp-proto-common-1.28.2 opentelemetry-exporter-otlp-proto-grpc-1.28.2 opentelemetry-instrumentation-0.49b2 opentelemetry-instrumentation-asgi-0.49b2 opentelemetry-instrumentation-fastapi-0.49b2 opentelemetry-proto-1.28.2 opentelemetry-sdk-1.28.2 opentelemetry-semantic-conventions-0.49b2 opentelemetry-util-http-0.49b2 posthog-3.7.4 protobuf-5.29.0 pyasn1-0.6.1 pyasn1-modules-0.4.1 pypika-0.48.9 pyproject_hooks-1.2.0 requests-oauthlib-2.0.0 rsa-4.9 shellingham-1.5.4 starlette-0.41.3 typer-0.14.0 uvicorn-0.32.1 uvloop-0.21.0 watchfiles-1.0.0 websockets-14.1\n"
     ]
    }
   ],
   "source": [
    "!pip install chromadb"
   ]
  },
  {
   "cell_type": "code",
   "execution_count": 35,
   "id": "ced7e614-c029-4f8a-9420-1c64ad952ab5",
   "metadata": {},
   "outputs": [],
   "source": [
    "vectorstore = Chroma.from_documents(documents=splits, embedding=embeddings)"
   ]
  },
  {
   "cell_type": "code",
   "execution_count": 36,
   "id": "e78c64a5-f1c5-4740-a8ec-97ed503ae916",
   "metadata": {},
   "outputs": [
    {
     "data": {
      "text/plain": [
       "langchain_community.vectorstores.chroma.Chroma"
      ]
     },
     "execution_count": 36,
     "metadata": {},
     "output_type": "execute_result"
    }
   ],
   "source": [
    "type(vectorstore)"
   ]
  },
  {
   "cell_type": "code",
   "execution_count": 37,
   "id": "90bea624-4ba2-4613-8604-14613d232f65",
   "metadata": {},
   "outputs": [
    {
     "name": "stdout",
     "output_type": "stream",
     "text": [
      "Help on method similarity_search in module langchain_community.vectorstores.chroma:\n",
      "\n",
      "similarity_search(query: 'str', k: 'int' = 4, filter: 'Optional[Dict[str, str]]' = None, **kwargs: 'Any') -> 'List[Document]' method of langchain_community.vectorstores.chroma.Chroma instance\n",
      "    Run similarity search with Chroma.\n",
      "\n",
      "    Args:\n",
      "        query (str): Query text to search for.\n",
      "        k (int): Number of results to return. Defaults to 4.\n",
      "        filter (Optional[Dict[str, str]]): Filter by metadata. Defaults to None.\n",
      "\n",
      "    Returns:\n",
      "        List[Document]: List of documents most similar to the query text.\n",
      "\n"
     ]
    }
   ],
   "source": [
    "help(vectorstore.similarity_search)"
   ]
  },
  {
   "cell_type": "markdown",
   "id": "98281ad1-9d70-4da4-9d2e-a3a215e4c236",
   "metadata": {},
   "source": [
    "# Komponente Retrieval"
   ]
  },
  {
   "cell_type": "code",
   "execution_count": 38,
   "id": "b49d7b9c-21c9-4d67-b6cd-4a77da3020f9",
   "metadata": {},
   "outputs": [],
   "source": [
    "retriever = vectorstore.as_retriever()"
   ]
  },
  {
   "cell_type": "code",
   "execution_count": 39,
   "id": "ddd127e3-ba97-4685-9994-fa3fd6ae80dd",
   "metadata": {},
   "outputs": [
    {
     "data": {
      "text/plain": [
       "langchain_core.vectorstores.base.VectorStoreRetriever"
      ]
     },
     "execution_count": 39,
     "metadata": {},
     "output_type": "execute_result"
    }
   ],
   "source": [
    "type(retriever)"
   ]
  },
  {
   "cell_type": "code",
   "execution_count": 40,
   "id": "af9442a0-ef78-4329-a8a3-56a5403167d8",
   "metadata": {},
   "outputs": [
    {
     "name": "stdout",
     "output_type": "stream",
     "text": [
      "Help on method invoke in module langchain_core.retrievers:\n",
      "\n",
      "invoke(input: 'str', config: 'Optional[RunnableConfig]' = None, **kwargs: 'Any') -> 'list[Document]' method of langchain_core.vectorstores.base.VectorStoreRetriever instance\n",
      "    Invoke the retriever to get relevant documents.\n",
      "\n",
      "    Main entry point for synchronous retriever invocations.\n",
      "\n",
      "    Args:\n",
      "        input: The query string.\n",
      "        config: Configuration for the retriever. Defaults to None.\n",
      "        kwargs: Additional arguments to pass to the retriever.\n",
      "\n",
      "    Returns:\n",
      "        List of relevant documents.\n",
      "\n",
      "    Examples:\n",
      "\n",
      "    .. code-block:: python\n",
      "\n",
      "        retriever.invoke(\"query\")\n",
      "\n"
     ]
    }
   ],
   "source": [
    "help(retriever.invoke)"
   ]
  },
  {
   "cell_type": "code",
   "execution_count": 41,
   "id": "add2d6da-916e-4bd7-9b2f-a4fc9336c99a",
   "metadata": {},
   "outputs": [],
   "source": [
    "question = \"Wann wurde der Studienkurs Informatik eingeführt?\""
   ]
  },
  {
   "cell_type": "code",
   "execution_count": 42,
   "id": "da18740a-85cd-478d-80c9-f6c32ef0c354",
   "metadata": {},
   "outputs": [],
   "source": [
    "retrieved_docs = retriever.invoke(question)"
   ]
  },
  {
   "cell_type": "code",
   "execution_count": 43,
   "id": "c5a54da7-88bd-44a5-a7df-13ca177252da",
   "metadata": {},
   "outputs": [
    {
     "data": {
      "text/plain": [
       "list"
      ]
     },
     "execution_count": 43,
     "metadata": {},
     "output_type": "execute_result"
    }
   ],
   "source": [
    "type(retrieved_docs)"
   ]
  },
  {
   "cell_type": "code",
   "execution_count": 44,
   "id": "e67025c3-01f8-424a-bbfc-248bd4867a7b",
   "metadata": {},
   "outputs": [
    {
     "data": {
      "text/plain": [
       "4"
      ]
     },
     "execution_count": 44,
     "metadata": {},
     "output_type": "execute_result"
    }
   ],
   "source": [
    "len(retrieved_docs)"
   ]
  },
  {
   "cell_type": "code",
   "execution_count": 45,
   "id": "8e312b56-fd94-49ed-bb9e-335246904b82",
   "metadata": {},
   "outputs": [
    {
     "data": {
      "text/plain": [
       "[Document(metadata={'language': 'de', 'source': 'https://de.wikipedia.org/wiki/Hochschule_f%C3%BCr_angewandte_Wissenschaften_Kempten', 'title': 'Hochschule für angewandte Wissenschaften Kempten – Wikipedia'}, page_content='Am 1. März 2011 wurde das neue Campusgebäude „Denkfabrik“ (ein gemietetes Gebäude) der Hochschulverwaltung übergeben. Am 5. Juli 2011 wurde der V. Bauabschnitt eingeweiht.\\nAußerdem wurde im Jahr 2011 die Fakultät Tourismus als eigenständige Fakultät aus der Fakultät Betriebswirtschaft ausgegründet. Sie sitzt seitdem im A-Gebäude „Denkfabrik“. Seit 2018 heißt die Fakultät Tourismus-Management.[5]'),\n",
       " Document(metadata={'language': 'de', 'source': 'https://de.wikipedia.org/wiki/Hochschule_f%C3%BCr_angewandte_Wissenschaften_Kempten', 'title': 'Hochschule für angewandte Wissenschaften Kempten – Wikipedia'}, page_content='Im Forschungszentrum Allgäu (kurz FZA) werden Forschung und Kooperation der Hochschule koordiniert – fakultätsübergreifend und interdisziplinär. Die Aufgabenstellungen der zahlreichen Forschungs- und Entwicklungsprojekte, die im Rahmen öffentlich geförderter Forschungsprogramme und im Auftrag von Industrie und Wirtschaft durchgeführt werden, betreffen alle aktuellen gesellschaftlichen Herausforderungen unserer Zeit in den Bereichen Energie, Mobilität, Produktion und Soziale Innovationen.[13]'),\n",
       " Document(metadata={'language': 'de', 'source': 'https://de.wikipedia.org/wiki/Hochschule_f%C3%BCr_angewandte_Wissenschaften_Kempten', 'title': 'Hochschule für angewandte Wissenschaften Kempten – Wikipedia'}, page_content='Die Hochschule für angewandte Wissenschaften Kempten (kurz HS Kempten, engl. University of Applied Sciences Kempten)[2] ist eine Fachhochschule in Kempten (Allgäu). Die meisten Hochschulgebäude befinden sich auf dem Campus in der Bahnhofstraße. Das Auditorium maximum bietet Platz für etwa 350 Personen.[3]'),\n",
       " Document(metadata={'language': 'de', 'source': 'https://de.wikipedia.org/wiki/Hochschule_f%C3%BCr_angewandte_Wissenschaften_Kempten', 'title': 'Hochschule für angewandte Wissenschaften Kempten – Wikipedia'}, page_content='Forschungszentrum Allgäu[Bearbeiten | Quelltext bearbeiten]')]"
      ]
     },
     "execution_count": 45,
     "metadata": {},
     "output_type": "execute_result"
    }
   ],
   "source": [
    "retrieved_docs"
   ]
  },
  {
   "cell_type": "code",
   "execution_count": 47,
   "id": "2520866a-fc94-4eb4-9e7c-44ff2d08f33e",
   "metadata": {},
   "outputs": [],
   "source": [
    "def combine_docs(docs):\n",
    "        return \"\\n\\n\".join(doc.page_content for doc in docs)"
   ]
  },
  {
   "cell_type": "code",
   "execution_count": 48,
   "id": "fecafce8-5900-4f9a-b676-c370db91a821",
   "metadata": {},
   "outputs": [],
   "source": [
    "formatted_context = combine_docs(retrieved_docs)"
   ]
  },
  {
   "cell_type": "code",
   "execution_count": 50,
   "id": "f02f2822-c569-4a90-ac9d-fa2cbbd97b6f",
   "metadata": {},
   "outputs": [
    {
     "name": "stdout",
     "output_type": "stream",
     "text": [
      "Am 1. März 2011 wurde das neue Campusgebäude „Denkfabrik“ (ein gemietetes Gebäude) der Hochschulverwaltung übergeben. Am 5. Juli 2011 wurde der V. Bauabschnitt eingeweiht.\n",
      "Außerdem wurde im Jahr 2011 die Fakultät Tourismus als eigenständige Fakultät aus der Fakultät Betriebswirtschaft ausgegründet. Sie sitzt seitdem im A-Gebäude „Denkfabrik“. Seit 2018 heißt die Fakultät Tourismus-Management.[5]\n",
      "\n",
      "Im Forschungszentrum Allgäu (kurz FZA) werden Forschung und Kooperation der Hochschule koordiniert – fakultätsübergreifend und interdisziplinär. Die Aufgabenstellungen der zahlreichen Forschungs- und Entwicklungsprojekte, die im Rahmen öffentlich geförderter Forschungsprogramme und im Auftrag von Industrie und Wirtschaft durchgeführt werden, betreffen alle aktuellen gesellschaftlichen Herausforderungen unserer Zeit in den Bereichen Energie, Mobilität, Produktion und Soziale Innovationen.[13]\n",
      "\n",
      "Die Hochschule für angewandte Wissenschaften Kempten (kurz HS Kempten, engl. University of Applied Sciences Kempten)[2] ist eine Fachhochschule in Kempten (Allgäu). Die meisten Hochschulgebäude befinden sich auf dem Campus in der Bahnhofstraße. Das Auditorium maximum bietet Platz für etwa 350 Personen.[3]\n",
      "\n",
      "Forschungszentrum Allgäu[Bearbeiten | Quelltext bearbeiten]\n"
     ]
    }
   ],
   "source": [
    "print(formatted_context)"
   ]
  },
  {
   "cell_type": "markdown",
   "id": "983ba3f9-64dd-4d63-aba4-fbd7d4e9d199",
   "metadata": {},
   "source": [
    "# Komponente LLM"
   ]
  },
  {
   "cell_type": "code",
   "execution_count": 51,
   "id": "87bd1edd-9d6b-4536-8e63-125e236c7466",
   "metadata": {},
   "outputs": [
    {
     "name": "stdout",
     "output_type": "stream",
     "text": [
      "Name: ollama\n",
      "Version: 0.3.3\n",
      "Summary: The official Python client for Ollama.\n",
      "Home-page: https://ollama.ai\n",
      "Author: Ollama\n",
      "Author-email: hello@ollama.com\n",
      "License: MIT\n",
      "Location: /home/juebrauer/miniconda3/envs/env_ss24/lib/python3.12/site-packages\n",
      "Requires: httpx\n",
      "Required-by: \n"
     ]
    }
   ],
   "source": [
    "!pip show ollama"
   ]
  },
  {
   "cell_type": "code",
   "execution_count": 52,
   "id": "4b659b68-a040-42c9-ab2b-9b9974351a4d",
   "metadata": {},
   "outputs": [],
   "source": [
    "import ollama"
   ]
  },
  {
   "cell_type": "code",
   "execution_count": 57,
   "id": "3c61d1d4-d917-4d5e-a9b3-9ba79a61a65e",
   "metadata": {},
   "outputs": [
    {
     "name": "stdout",
     "output_type": "stream",
     "text": [
      "According to the context, studying a Master's in Computer Science at the University of Applied Sciences Kempten typically takes 5 semesters.\n"
     ]
    }
   ],
   "source": [
    "context = \"\"\"\n",
    "Studying a master in computer science at the University of Applied Sciences\n",
    "Kempten normally takes 5 semesters. You can choose from a large variety of\n",
    "different modules, including Deep Learning and Multimodal Sensor Systems.\n",
    "\"\"\"\n",
    "\n",
    "question = \"How long will it take to study computer science at University of Kempten?\"\n",
    "\n",
    "formatted_prompt = f\"Question: {question}\\n\\nContext: {context}\"\n",
    "\n",
    "response = ollama.chat(model='llama3',\n",
    "                       messages=[{'role': 'user',\n",
    "                                  'content': formatted_prompt}])\n",
    "\n",
    "print( response['message']['content'] )"
   ]
  },
  {
   "cell_type": "markdown",
   "id": "ead2eee5-945d-4c2a-89db-5cf97d385938",
   "metadata": {},
   "source": [
    "# Alles in einem Skript"
   ]
  },
  {
   "cell_type": "code",
   "execution_count": null,
   "id": "37b769a4-4657-49fd-aae4-f3c4b43aa538",
   "metadata": {},
   "outputs": [],
   "source": [
    "# 1. Webseite runterladen\n",
    "webpage_url = \"https://de.wikipedia.org/wiki/Hochschule_f%C3%BCr_angewandte_Wissenschaften_Kempten\"\n",
    "from langchain_community.document_loaders import WebBaseLoader\n",
    "loader = WebBaseLoader(webpage_url)\n",
    "docs = loader.load()\n",
    "\n",
    "# 2. Webseite in Stückchen (Dokumente) zerbrechen\n",
    "from langchain.text_splitter import RecursiveCharacterTextSplitter\n",
    "text_splitter = RecursiveCharacterTextSplitter(chunk_size=500, chunk_overlap=10)\n",
    "splits = text_splitter.split_documents(docs)\n",
    "\n",
    "# 3. Embeddings vorbereiten\n",
    "from langchain_community.embeddings import OllamaEmbeddings\n",
    "embeddings = OllamaEmbeddings(model=\"llama3\")\n",
    "\n",
    "# 4. Vektordatenbank vorbereiten\n",
    "from langchain_community.vectorstores import Chroma\n",
    "vectorstore = Chroma.from_documents(documents=splits, embedding=embeddings)\n",
    "\n",
    "# 5. Retrieval durchführen\n",
    "prompt = \"Wann wurde der Studienkurs Informatik eingeführt?\"\n",
    "retriever = vectorstore.as_retriever()\n",
    "retrieved_docs = retriever.invoke(prompt)\n",
    "\n",
    "# 6. Gefundene relevante Textstellen zu einem Kontextstring zusammenführen\n",
    "def combine_docs(docs):\n",
    "        return \"\\n\\n\".join(doc.page_content for doc in docs)\n",
    "context = combine_docs(retrieved_docs)\n",
    "\n",
    "# 7. Erweitere die Anfrage über den gefundenen Kontext\n",
    "import ollama\n",
    "augmented_prompt = f\"Question: {prompt}\\n\\nContext: {context}\"\n",
    "response = ollama.chat(model='llama3',\n",
    "                       messages=[{'role': 'user',\n",
    "                                  'content': augmented_prompt}])\n",
    "print( response['message']['content'] )"
   ]
  },
  {
   "cell_type": "markdown",
   "id": "a1506215-6f43-4089-9146-91a0c768e14a",
   "metadata": {},
   "source": [
    "# Experiment"
   ]
  },
  {
   "cell_type": "markdown",
   "id": "9fd33683-856d-47c0-9d88-956a4cfe7476",
   "metadata": {},
   "source": [
    "## Anfrage an Llama3 ohne RAG"
   ]
  },
  {
   "cell_type": "code",
   "execution_count": 1,
   "id": "6e9368b1-86cf-4e96-abc6-548acd78549b",
   "metadata": {},
   "outputs": [
    {
     "name": "stdout",
     "output_type": "stream",
     "text": [
      "I think there may be a small mistake here!\n",
      "\n",
      "After conducting a quick search, I couldn't find any information on a Python module called \"ollama-rag\". It's possible that you meant to ask about a different module or library.\n",
      "\n",
      "If you could provide more context or clarify which module you're referring to, I'd be happy to help with your question!\n"
     ]
    }
   ],
   "source": [
    "import ollama\n",
    "prompt = f\"Which file types does the python module ollama-rag support?\"\n",
    "response = ollama.chat(model='llama3',\n",
    "                       messages=[{'role': 'user',\n",
    "                                  'content': prompt}])\n",
    "print( response['message']['content'] )"
   ]
  },
  {
   "cell_type": "markdown",
   "id": "21a2ab53-bd7f-4933-a09a-39206901d497",
   "metadata": {},
   "source": [
    "## Anfrage an Llama3 mit RAG"
   ]
  },
  {
   "cell_type": "code",
   "execution_count": 7,
   "id": "6080b6e4-d55b-42dc-aa43-ef985df96089",
   "metadata": {},
   "outputs": [
    {
     "name": "stderr",
     "output_type": "stream",
     "text": [
      "/tmp/ipykernel_5816/3054604255.py:14: LangChainDeprecationWarning: The class `OllamaEmbeddings` was deprecated in LangChain 0.3.1 and will be removed in 1.0.0. An updated version of the class exists in the :class:`~langchain-ollama package and should be used instead. To use it run `pip install -U :class:`~langchain-ollama` and import as `from :class:`~langchain_ollama import OllamaEmbeddings``.\n",
      "  embeddings = OllamaEmbeddings(model=\"llama3\")\n"
     ]
    },
    {
     "name": "stdout",
     "output_type": "stream",
     "text": [
      "storing the documents into the Chroma database ... ready!\n"
     ]
    }
   ],
   "source": [
    "# 1. Webseite runterladen\n",
    "webpage_url = \"https://github.com/Zakk-Yang/ollama-rag\"\n",
    "from langchain_community.document_loaders import WebBaseLoader\n",
    "loader = WebBaseLoader(webpage_url)\n",
    "docs = loader.load()\n",
    "\n",
    "# 2. Webseite in Stückchen (Dokumente) zerbrechen\n",
    "from langchain.text_splitter import RecursiveCharacterTextSplitter\n",
    "text_splitter = RecursiveCharacterTextSplitter(chunk_size=500, chunk_overlap=10)\n",
    "splits = text_splitter.split_documents(docs)\n",
    "\n",
    "# 3. Embeddings vorbereiten\n",
    "from langchain_community.embeddings import OllamaEmbeddings\n",
    "embeddings = OllamaEmbeddings(model=\"llama3\")\n",
    "\n",
    "# 4. Vektordatenbank vorbereiten\n",
    "from langchain_community.vectorstores import Chroma\n",
    "print(\"storing the documents into the Chroma database ... \", end=\"\")\n",
    "vectorstore = Chroma.from_documents(documents=splits, embedding=embeddings)\n",
    "print(\"ready!\")\n",
    "\n",
    "# 5. Retrieval durchführen\n",
    "prompt = f\"Which file types does the python module ollama-rag support?\"\n",
    "retriever = vectorstore.as_retriever()\n",
    "retrieved_docs = retriever.invoke(prompt)"
   ]
  },
  {
   "cell_type": "code",
   "execution_count": 8,
   "id": "c1be1865-0745-44aa-8ea5-48658566ef46",
   "metadata": {},
   "outputs": [
    {
     "data": {
      "text/plain": [
       "[Document(metadata={'description': 'A programming framework for knowledge management. Contribute to Zakk-Yang/ollama-rag development by creating an account on GitHub.', 'language': 'en', 'source': 'https://github.com/Zakk-Yang/ollama-rag', 'title': 'GitHub - Zakk-Yang/ollama-rag: A programming framework for knowledge management'}, page_content='Error Handling: Gracefully handles missing directories or files and recreates the index as needed.\\nLogging: Provides detailed logs for monitoring and debugging.\\nAdvanced Text-Based File Support: Supports a variety of text-based file formats, including:\\n\".txt\",\\n\".md\",\\n\".html\",\\n\".htm\",\\n\".xml\",\\n\".json\",\\n\".csv\",\\n\".pdf\",\\n\".doc\",\\n\".docx\",\\n\".rtf\",\\n\".ipynb\",\\n\".ppt\",\\n\".pptx\",\\n\".xls\",\\n\".xlsx\",'),\n",
       " Document(metadata={'description': 'A programming framework for knowledge management. Contribute to Zakk-Yang/ollama-rag development by creating an account on GitHub.', 'language': 'en', 'source': 'https://github.com/Zakk-Yang/ollama-rag', 'title': 'GitHub - Zakk-Yang/ollama-rag: A programming framework for knowledge management'}, page_content='Modular Design: The project is organized into separate modules for easy maintenance and scalability.\\nEfficient Indexing: Uses ChromaDB to store embeddings, allowing efficient indexing and querying.\\nIncremental Updates: Only new or updated documents are indexed, improving performance.\\nMultiple Directories Support: Indexes documents from multiple directories across different locations.\\nCustom Embeddings: Utilizes custom embedding models for better performance.'),\n",
       " Document(metadata={'description': 'A programming framework for knowledge management. Contribute to Zakk-Yang/ollama-rag development by creating an account on GitHub.', 'language': 'en', 'source': 'https://github.com/Zakk-Yang/ollama-rag', 'title': 'GitHub - Zakk-Yang/ollama-rag: A programming framework for knowledge management'}, page_content='Required for converting .ppt files to .pptx when processing PowerPoint files.\\nAfter conversion, I suggest you delete the ppt as it will always be converted and re-indexed again.\\nUbuntu/Debian:\\nsudo apt update\\nsudo apt install libreoffice\\nmacOS (using Homebrew):\\nbrew install --cask libreoffice\\nWindows:\\nDownload and install from the LibreOffice official website https://www.libreoffice.org/download/download-libreoffice/.\\nInstallation\\nInstall via PyPI (Recommended)'),\n",
       " Document(metadata={'description': 'A programming framework for knowledge management. Contribute to Zakk-Yang/ollama-rag development by creating an account on GitHub.', 'language': 'en', 'source': 'https://github.com/Zakk-Yang/ollama-rag', 'title': 'GitHub - Zakk-Yang/ollama-rag: A programming framework for knowledge management'}, page_content='You can install ollama_rag directly from PyPI:\\npip install --upgrade ollama-rag\\nInstall from Source')]"
      ]
     },
     "execution_count": 8,
     "metadata": {},
     "output_type": "execute_result"
    }
   ],
   "source": [
    "retrieved_docs"
   ]
  },
  {
   "cell_type": "code",
   "execution_count": 9,
   "id": "6514bca9-be1a-46fb-a587-978f2a34541c",
   "metadata": {},
   "outputs": [
    {
     "data": {
      "text/plain": [
       "'Error Handling: Gracefully handles missing directories or files and recreates the index as needed.\\nLogging: Provides detailed logs for monitoring and debugging.\\nAdvanced Text-Based File Support: Supports a variety of text-based file formats, including:\\n\".txt\",\\n\".md\",\\n\".html\",\\n\".htm\",\\n\".xml\",\\n\".json\",\\n\".csv\",\\n\".pdf\",\\n\".doc\",\\n\".docx\",\\n\".rtf\",\\n\".ipynb\",\\n\".ppt\",\\n\".pptx\",\\n\".xls\",\\n\".xlsx\",\\n\\nModular Design: The project is organized into separate modules for easy maintenance and scalability.\\nEfficient Indexing: Uses ChromaDB to store embeddings, allowing efficient indexing and querying.\\nIncremental Updates: Only new or updated documents are indexed, improving performance.\\nMultiple Directories Support: Indexes documents from multiple directories across different locations.\\nCustom Embeddings: Utilizes custom embedding models for better performance.\\n\\nRequired for converting .ppt files to .pptx when processing PowerPoint files.\\nAfter conversion, I suggest you delete the ppt as it will always be converted and re-indexed again.\\nUbuntu/Debian:\\nsudo apt update\\nsudo apt install libreoffice\\nmacOS (using Homebrew):\\nbrew install --cask libreoffice\\nWindows:\\nDownload and install from the LibreOffice official website https://www.libreoffice.org/download/download-libreoffice/.\\nInstallation\\nInstall via PyPI (Recommended)\\n\\nYou can install ollama_rag directly from PyPI:\\npip install --upgrade ollama-rag\\nInstall from Source'"
      ]
     },
     "execution_count": 9,
     "metadata": {},
     "output_type": "execute_result"
    }
   ],
   "source": [
    "# 6. Gefundene relevante Textstellen zu einem Kontextstring zusammenführen\n",
    "def combine_docs(docs):\n",
    "        return \"\\n\\n\".join(doc.page_content for doc in docs)\n",
    "context = combine_docs(retrieved_docs)\n",
    "context"
   ]
  },
  {
   "cell_type": "code",
   "execution_count": 10,
   "id": "03e46ac7-317a-4580-a9a8-d1c86c426278",
   "metadata": {},
   "outputs": [
    {
     "data": {
      "text/plain": [
       "'Which file types does the python module ollama-rag support?'"
      ]
     },
     "execution_count": 10,
     "metadata": {},
     "output_type": "execute_result"
    }
   ],
   "source": [
    "prompt"
   ]
  },
  {
   "cell_type": "code",
   "execution_count": 12,
   "id": "807ca3c4-73c3-495f-ac2d-a142b0d7ea88",
   "metadata": {},
   "outputs": [
    {
     "name": "stdout",
     "output_type": "stream",
     "text": [
      "According to the text, the Python module `ollama-rag` supports a variety of text-based file formats, including:\n",
      "\n",
      "1. `.txt`\n",
      "2. `.md`\n",
      "3. `.html`\n",
      "4. `.htm`\n",
      "5. `.xml`\n",
      "6. `.json`\n",
      "7. `.csv`\n",
      "8. `.pdf`\n",
      "9. `.doc`\n",
      "10. `.docx`\n",
      "11. `.rtf`\n",
      "12. `.ipynb`\n",
      "13. `.ppt` (requires LibreOffice installation)\n",
      "14. `.pptx`\n"
     ]
    }
   ],
   "source": [
    "# 7. Erweitere die Anfrage über den gefundenen Kontext\n",
    "import ollama\n",
    "augmented_prompt = f\"Question: {prompt}\\n\\nContext: {context}\"\n",
    "response = ollama.chat(model='llama3',\n",
    "                       messages=[{'role': 'user',\n",
    "                                  'content': augmented_prompt}])\n",
    "print( response['message']['content'] )"
   ]
  },
  {
   "cell_type": "code",
   "execution_count": 13,
   "id": "47278d4d-6a97-4ef8-a8cf-c02c673b31e4",
   "metadata": {},
   "outputs": [],
   "source": [
    "real_file_formats = 'including: \".txt\", \".md\", \".html\", \".htm\", \".xml\", \".json\", \".csv\", \".pdf\", \".doc\", \".docx\", \".rtf\", \".ipynb\", \".ppt\", \".pptx\", \".xls\", \".xlsx\"'"
   ]
  },
  {
   "cell_type": "code",
   "execution_count": 15,
   "id": "f4517422-b5a7-4e5b-bc76-07b4976ba76b",
   "metadata": {},
   "outputs": [],
   "source": [
    "found_file_formats = \"\"\"\n",
    "1. `.txt`\n",
    "2. `.md`\n",
    "3. `.html`\n",
    "4. `.htm`\n",
    "5. `.xml`\n",
    "6. `.json`\n",
    "7. `.csv`\n",
    "8. `.pdf`\n",
    "9. `.doc`\n",
    "10. `.docx`\n",
    "11. `.rtf`\n",
    "12. `.ipynb`\n",
    "13. `.ppt` (requires LibreOffice installation)\n",
    "14. `.pptx`\"\"\""
   ]
  },
  {
   "cell_type": "code",
   "execution_count": 16,
   "id": "79f0a8a8-832c-46b9-b25f-35f886c3eca7",
   "metadata": {},
   "outputs": [
    {
     "name": "stdout",
     "output_type": "stream",
     "text": [
      "including: \".txt\", \".md\", \".html\", \".htm\", \".xml\", \".json\", \".csv\", \".pdf\", \".doc\", \".docx\", \".rtf\", \".ipynb\", \".ppt\", \".pptx\", \".xls\", \".xlsx\"\n"
     ]
    }
   ],
   "source": [
    "print(real_file_formats)"
   ]
  },
  {
   "cell_type": "code",
   "execution_count": 17,
   "id": "3f35643f-d3f8-4b56-b71a-643a683b6faf",
   "metadata": {},
   "outputs": [
    {
     "name": "stdout",
     "output_type": "stream",
     "text": [
      "\n",
      "1. `.txt`\n",
      "2. `.md`\n",
      "3. `.html`\n",
      "4. `.htm`\n",
      "5. `.xml`\n",
      "6. `.json`\n",
      "7. `.csv`\n",
      "8. `.pdf`\n",
      "9. `.doc`\n",
      "10. `.docx`\n",
      "11. `.rtf`\n",
      "12. `.ipynb`\n",
      "13. `.ppt` (requires LibreOffice installation)\n",
      "14. `.pptx`\n"
     ]
    }
   ],
   "source": [
    "print(found_file_formats)"
   ]
  },
  {
   "cell_type": "code",
   "execution_count": 20,
   "id": "4943ec72-61b8-4f84-b3ff-ca202b959d27",
   "metadata": {},
   "outputs": [
    {
     "name": "stdout",
     "output_type": "stream",
     "text": [
      "Die ollama-rag-Software unterstützt eine Vielzahl von Dateiformaten für textbasierte Dateien. Hier sind die genannten Dateiformate, die ollama-rag unterstützt:\n",
      "\n",
      "1. \".txt\"\n",
      "2. \".md\" (Markdown)\n",
      "3. \".html\"\n",
      "4. \".htm\"\n",
      "5. \".xml\"\n",
      "6. \".json\"\n",
      "7. \".csv\" (Comma-Separated Values)\n",
      "8. \".pdf\" (Portable Document Format)\n",
      "9. \".doc\"\n",
      "10. \".docx\" (Office Open XML-Dateien)\n",
      "11. \".rtf\" (Rich Text Format)\n",
      "12. \".ipynb\" (Jupyter Notebook-Dateien)\n",
      "13. \".ppt\"\n",
      "14. \".pptx\" (Office Open XML-Presentation-Dateien)\n",
      "15. \".xls\"\n",
      "16. \".xlsx\" (Office Open XML-Spreadsheet-Dateien)\n",
      "\n",
      "Dies bedeutet, dass du die ollama-rag-Software verwenden kannst, um Dateien dieser Formate zu bearbeiten und zu verwalten.\n"
     ]
    }
   ],
   "source": [
    "# 1. Webseite runterladen\n",
    "webpage_url = \"https://github.com/Zakk-Yang/ollama-rag\"\n",
    "from langchain_community.document_loaders import WebBaseLoader\n",
    "loader = WebBaseLoader(webpage_url)\n",
    "docs = loader.load()\n",
    "\n",
    "# 2. Webseite in Stückchen (Dokumente) zerbrechen\n",
    "from langchain.text_splitter import RecursiveCharacterTextSplitter\n",
    "text_splitter = RecursiveCharacterTextSplitter(chunk_size=500, chunk_overlap=10)\n",
    "splits = text_splitter.split_documents(docs)\n",
    "\n",
    "# 3. Embeddings vorbereiten\n",
    "from langchain_community.embeddings import OllamaEmbeddings\n",
    "embeddings = OllamaEmbeddings(model=\"llama3\")\n",
    "\n",
    "# 4. Vektordatenbank vorbereiten\n",
    "from langchain_community.vectorstores import Chroma\n",
    "vectorstore = Chroma.from_documents(documents=splits, embedding=embeddings)\n",
    "\n",
    "# 5. Retrieval durchführen\n",
    "prompt = f\"Which file types does the python module ollama-rag support?\"\n",
    "#prompt = f\"Mit welchen Dateiformaten kann ich ollama-rag verwenden?\"\n",
    "retriever = vectorstore.as_retriever()\n",
    "retrieved_docs = retriever.invoke(prompt)\n",
    "\n",
    "# 6. Gefundene relevante Textstellen zu einem Kontextstring zusammenführen\n",
    "def combine_docs(docs):\n",
    "        return \"\\n\\n\".join(doc.page_content for doc in docs)\n",
    "context = combine_docs(retrieved_docs)\n",
    "\n",
    "# 7. Erweitere die Anfrage über den gefundenen Kontext\n",
    "import ollama\n",
    "augmented_prompt = f\"Question: {prompt}\\n\\nContext: {context}\"\n",
    "response = ollama.chat(model='llama3.2',\n",
    "                       messages=[{'role': 'user',\n",
    "                                  'content': augmented_prompt}])\n",
    "print( response['message']['content'] )"
   ]
  },
  {
   "cell_type": "markdown",
   "id": "59ea5f12-c65d-40bd-8bd7-2afa73f645dd",
   "metadata": {},
   "source": [
    "# Interessantes RAG-Modul"
   ]
  },
  {
   "cell_type": "markdown",
   "id": "4df278db-ab70-42da-9bfe-1bfb4b40a174",
   "metadata": {},
   "source": [
    "https://pypi.org/project/ollama-rag/"
   ]
  },
  {
   "cell_type": "code",
   "execution_count": null,
   "id": "b32e6130-49be-4124-a362-20172e06d6f8",
   "metadata": {},
   "outputs": [],
   "source": []
  }
 ],
 "metadata": {
  "kernelspec": {
   "display_name": "Python 3 (ipykernel)",
   "language": "python",
   "name": "python3"
  },
  "language_info": {
   "codemirror_mode": {
    "name": "ipython",
    "version": 3
   },
   "file_extension": ".py",
   "mimetype": "text/x-python",
   "name": "python",
   "nbconvert_exporter": "python",
   "pygments_lexer": "ipython3",
   "version": "3.12.3"
  }
 },
 "nbformat": 4,
 "nbformat_minor": 5
}
