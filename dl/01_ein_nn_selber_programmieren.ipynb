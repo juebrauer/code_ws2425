{
 "cells": [
  {
   "cell_type": "markdown",
   "id": "8d8be396-e3f9-46c6-8048-4bce43286853",
   "metadata": {},
   "source": [
    "# Datensatz runterladen"
   ]
  },
  {
   "cell_type": "code",
   "execution_count": 1,
   "id": "905342b2-fef9-4e63-b263-be87f109375b",
   "metadata": {},
   "outputs": [
    {
     "data": {
      "text/plain": [
       "('used_cars_autoscout24.csv', <http.client.HTTPMessage at 0x7e42525ecad0>)"
      ]
     },
     "execution_count": 1,
     "metadata": {},
     "output_type": "execute_result"
    }
   ],
   "source": [
    "fname = \"used_cars_autoscout24.csv\"\n",
    "URL = \"http://www.juergenbrauer.org/datasets/\" + fname\n",
    "import urllib.request\n",
    "urllib.request.urlretrieve(URL, fname)"
   ]
  },
  {
   "cell_type": "markdown",
   "id": "aee64d10-fc9a-41fb-9a9c-d101802bd8f2",
   "metadata": {},
   "source": [
    "# Daten einlesen"
   ]
  },
  {
   "cell_type": "code",
   "execution_count": 5,
   "id": "5561542c-8ea0-48c2-ba9c-2cce5e65ecca",
   "metadata": {},
   "outputs": [
    {
     "name": "stdout",
     "output_type": "stream",
     "text": [
      "Requirement already satisfied: pandas in /home/juebrauer/miniconda3/envs/env_ss24/lib/python3.12/site-packages (2.2.2)\n",
      "Requirement already satisfied: numpy>=1.26.0 in /home/juebrauer/miniconda3/envs/env_ss24/lib/python3.12/site-packages (from pandas) (1.26.4)\n",
      "Requirement already satisfied: python-dateutil>=2.8.2 in /home/juebrauer/miniconda3/envs/env_ss24/lib/python3.12/site-packages (from pandas) (2.9.0.post0)\n",
      "Requirement already satisfied: pytz>=2020.1 in /home/juebrauer/miniconda3/envs/env_ss24/lib/python3.12/site-packages (from pandas) (2024.1)\n",
      "Requirement already satisfied: tzdata>=2022.7 in /home/juebrauer/miniconda3/envs/env_ss24/lib/python3.12/site-packages (from pandas) (2024.1)\n",
      "Requirement already satisfied: six>=1.5 in /home/juebrauer/miniconda3/envs/env_ss24/lib/python3.12/site-packages (from python-dateutil>=2.8.2->pandas) (1.16.0)\n"
     ]
    }
   ],
   "source": [
    "!pip install pandas"
   ]
  },
  {
   "cell_type": "code",
   "execution_count": 21,
   "id": "99612307-117c-4f2d-b0e5-8fa44fd4c956",
   "metadata": {},
   "outputs": [],
   "source": [
    "import pandas\n",
    "t = pandas.read_csv(fname)"
   ]
  },
  {
   "cell_type": "code",
   "execution_count": 8,
   "id": "15912531-cb9f-49fa-b3c6-deca78866554",
   "metadata": {},
   "outputs": [
    {
     "data": {
      "text/html": [
       "<div>\n",
       "<style scoped>\n",
       "    .dataframe tbody tr th:only-of-type {\n",
       "        vertical-align: middle;\n",
       "    }\n",
       "\n",
       "    .dataframe tbody tr th {\n",
       "        vertical-align: top;\n",
       "    }\n",
       "\n",
       "    .dataframe thead th {\n",
       "        text-align: right;\n",
       "    }\n",
       "</style>\n",
       "<table border=\"1\" class=\"dataframe\">\n",
       "  <thead>\n",
       "    <tr style=\"text-align: right;\">\n",
       "      <th></th>\n",
       "      <th>Unnamed: 0</th>\n",
       "      <th>brand</th>\n",
       "      <th>model</th>\n",
       "      <th>color</th>\n",
       "      <th>registration_date</th>\n",
       "      <th>year</th>\n",
       "      <th>price_in_euro</th>\n",
       "      <th>power_kw</th>\n",
       "      <th>power_ps</th>\n",
       "      <th>transmission_type</th>\n",
       "      <th>fuel_type</th>\n",
       "      <th>fuel_consumption_l_100km</th>\n",
       "      <th>fuel_consumption_g_km</th>\n",
       "      <th>mileage_in_km</th>\n",
       "      <th>offer_description</th>\n",
       "    </tr>\n",
       "  </thead>\n",
       "  <tbody>\n",
       "    <tr>\n",
       "      <th>0</th>\n",
       "      <td>0</td>\n",
       "      <td>alfa-romeo</td>\n",
       "      <td>Alfa Romeo GTV</td>\n",
       "      <td>red</td>\n",
       "      <td>10/1995</td>\n",
       "      <td>1995</td>\n",
       "      <td>1300</td>\n",
       "      <td>148</td>\n",
       "      <td>201</td>\n",
       "      <td>Manual</td>\n",
       "      <td>Petrol</td>\n",
       "      <td>10,9 l/100 km</td>\n",
       "      <td>260 g/km</td>\n",
       "      <td>160500.0</td>\n",
       "      <td>2.0 V6 TB</td>\n",
       "    </tr>\n",
       "    <tr>\n",
       "      <th>1</th>\n",
       "      <td>1</td>\n",
       "      <td>alfa-romeo</td>\n",
       "      <td>Alfa Romeo 164</td>\n",
       "      <td>black</td>\n",
       "      <td>02/1995</td>\n",
       "      <td>1995</td>\n",
       "      <td>24900</td>\n",
       "      <td>191</td>\n",
       "      <td>260</td>\n",
       "      <td>Manual</td>\n",
       "      <td>Petrol</td>\n",
       "      <td>NaN</td>\n",
       "      <td>- (g/km)</td>\n",
       "      <td>190000.0</td>\n",
       "      <td>Q4 Allrad, 3.2L GTA</td>\n",
       "    </tr>\n",
       "    <tr>\n",
       "      <th>2</th>\n",
       "      <td>2</td>\n",
       "      <td>alfa-romeo</td>\n",
       "      <td>Alfa Romeo Spider</td>\n",
       "      <td>black</td>\n",
       "      <td>02/1995</td>\n",
       "      <td>1995</td>\n",
       "      <td>5900</td>\n",
       "      <td>110</td>\n",
       "      <td>150</td>\n",
       "      <td>Unknown</td>\n",
       "      <td>Petrol</td>\n",
       "      <td>NaN</td>\n",
       "      <td>- (g/km)</td>\n",
       "      <td>129000.0</td>\n",
       "      <td>ALFA ROME 916</td>\n",
       "    </tr>\n",
       "    <tr>\n",
       "      <th>3</th>\n",
       "      <td>3</td>\n",
       "      <td>alfa-romeo</td>\n",
       "      <td>Alfa Romeo Spider</td>\n",
       "      <td>black</td>\n",
       "      <td>07/1995</td>\n",
       "      <td>1995</td>\n",
       "      <td>4900</td>\n",
       "      <td>110</td>\n",
       "      <td>150</td>\n",
       "      <td>Manual</td>\n",
       "      <td>Petrol</td>\n",
       "      <td>9,5 l/100 km</td>\n",
       "      <td>225 g/km</td>\n",
       "      <td>189500.0</td>\n",
       "      <td>2.0 16V Twin Spark L</td>\n",
       "    </tr>\n",
       "    <tr>\n",
       "      <th>4</th>\n",
       "      <td>4</td>\n",
       "      <td>alfa-romeo</td>\n",
       "      <td>Alfa Romeo 164</td>\n",
       "      <td>red</td>\n",
       "      <td>11/1996</td>\n",
       "      <td>1996</td>\n",
       "      <td>17950</td>\n",
       "      <td>132</td>\n",
       "      <td>179</td>\n",
       "      <td>Manual</td>\n",
       "      <td>Petrol</td>\n",
       "      <td>7,2 l/100 km</td>\n",
       "      <td>- (g/km)</td>\n",
       "      <td>96127.0</td>\n",
       "      <td>3.0i Super V6, absoluter Topzustand !</td>\n",
       "    </tr>\n",
       "    <tr>\n",
       "      <th>...</th>\n",
       "      <td>...</td>\n",
       "      <td>...</td>\n",
       "      <td>...</td>\n",
       "      <td>...</td>\n",
       "      <td>...</td>\n",
       "      <td>...</td>\n",
       "      <td>...</td>\n",
       "      <td>...</td>\n",
       "      <td>...</td>\n",
       "      <td>...</td>\n",
       "      <td>...</td>\n",
       "      <td>...</td>\n",
       "      <td>...</td>\n",
       "      <td>...</td>\n",
       "      <td>...</td>\n",
       "    </tr>\n",
       "    <tr>\n",
       "      <th>251074</th>\n",
       "      <td>251074</td>\n",
       "      <td>volvo</td>\n",
       "      <td>Volvo XC40</td>\n",
       "      <td>white</td>\n",
       "      <td>04/2023</td>\n",
       "      <td>2023</td>\n",
       "      <td>57990</td>\n",
       "      <td>192</td>\n",
       "      <td>261</td>\n",
       "      <td>Automatic</td>\n",
       "      <td>Hybrid</td>\n",
       "      <td>NaN</td>\n",
       "      <td>43 km Reichweite</td>\n",
       "      <td>1229.0</td>\n",
       "      <td>Plus Bright T5 Recharge Intellisafe*Surround+P...</td>\n",
       "    </tr>\n",
       "    <tr>\n",
       "      <th>251075</th>\n",
       "      <td>251075</td>\n",
       "      <td>volvo</td>\n",
       "      <td>Volvo XC90</td>\n",
       "      <td>white</td>\n",
       "      <td>03/2023</td>\n",
       "      <td>2023</td>\n",
       "      <td>89690</td>\n",
       "      <td>173</td>\n",
       "      <td>235</td>\n",
       "      <td>Automatic</td>\n",
       "      <td>Diesel</td>\n",
       "      <td>7,6 l/100 km</td>\n",
       "      <td>202 g/km</td>\n",
       "      <td>4900.0</td>\n",
       "      <td>B5 AWD Diesel Ultimate Dark 7-Sitzer Massage F...</td>\n",
       "    </tr>\n",
       "    <tr>\n",
       "      <th>251076</th>\n",
       "      <td>251076</td>\n",
       "      <td>volvo</td>\n",
       "      <td>Volvo V60</td>\n",
       "      <td>white</td>\n",
       "      <td>05/2023</td>\n",
       "      <td>2023</td>\n",
       "      <td>61521</td>\n",
       "      <td>145</td>\n",
       "      <td>197</td>\n",
       "      <td>Automatic</td>\n",
       "      <td>Diesel</td>\n",
       "      <td>4,7 l/100 km</td>\n",
       "      <td>125 g/km</td>\n",
       "      <td>1531.0</td>\n",
       "      <td>B4 D Plus Dark 145 kW, 5-türig (Diesel)</td>\n",
       "    </tr>\n",
       "    <tr>\n",
       "      <th>251077</th>\n",
       "      <td>251077</td>\n",
       "      <td>volvo</td>\n",
       "      <td>Volvo XC40</td>\n",
       "      <td>white</td>\n",
       "      <td>05/2023</td>\n",
       "      <td>2023</td>\n",
       "      <td>57890</td>\n",
       "      <td>132</td>\n",
       "      <td>179</td>\n",
       "      <td>Automatic</td>\n",
       "      <td>Hybrid</td>\n",
       "      <td>NaN</td>\n",
       "      <td>45 km Reichweite</td>\n",
       "      <td>1500.0</td>\n",
       "      <td>T5 Recharge Plus Dark *Standh*360°*beh.Lenk</td>\n",
       "    </tr>\n",
       "    <tr>\n",
       "      <th>251078</th>\n",
       "      <td>251078</td>\n",
       "      <td>volvo</td>\n",
       "      <td>Volvo XC40</td>\n",
       "      <td>gold</td>\n",
       "      <td>03/2023</td>\n",
       "      <td>2023</td>\n",
       "      <td>52900</td>\n",
       "      <td>160</td>\n",
       "      <td>218</td>\n",
       "      <td>Automatic</td>\n",
       "      <td>Electric</td>\n",
       "      <td>NaN</td>\n",
       "      <td>438 km Reichweite</td>\n",
       "      <td>50.0</td>\n",
       "      <td>Ultimate Recharge Twin Motor AHK GJR</td>\n",
       "    </tr>\n",
       "  </tbody>\n",
       "</table>\n",
       "<p>251079 rows × 15 columns</p>\n",
       "</div>"
      ],
      "text/plain": [
       "        Unnamed: 0       brand              model  color registration_date  \\\n",
       "0                0  alfa-romeo     Alfa Romeo GTV    red           10/1995   \n",
       "1                1  alfa-romeo     Alfa Romeo 164  black           02/1995   \n",
       "2                2  alfa-romeo  Alfa Romeo Spider  black           02/1995   \n",
       "3                3  alfa-romeo  Alfa Romeo Spider  black           07/1995   \n",
       "4                4  alfa-romeo     Alfa Romeo 164    red           11/1996   \n",
       "...            ...         ...                ...    ...               ...   \n",
       "251074      251074       volvo         Volvo XC40  white           04/2023   \n",
       "251075      251075       volvo         Volvo XC90  white           03/2023   \n",
       "251076      251076       volvo          Volvo V60  white           05/2023   \n",
       "251077      251077       volvo         Volvo XC40  white           05/2023   \n",
       "251078      251078       volvo         Volvo XC40   gold           03/2023   \n",
       "\n",
       "        year price_in_euro power_kw power_ps transmission_type fuel_type  \\\n",
       "0       1995          1300      148      201            Manual    Petrol   \n",
       "1       1995         24900      191      260            Manual    Petrol   \n",
       "2       1995          5900      110      150           Unknown    Petrol   \n",
       "3       1995          4900      110      150            Manual    Petrol   \n",
       "4       1996         17950      132      179            Manual    Petrol   \n",
       "...      ...           ...      ...      ...               ...       ...   \n",
       "251074  2023         57990      192      261         Automatic    Hybrid   \n",
       "251075  2023         89690      173      235         Automatic    Diesel   \n",
       "251076  2023         61521      145      197         Automatic    Diesel   \n",
       "251077  2023         57890      132      179         Automatic    Hybrid   \n",
       "251078  2023         52900      160      218         Automatic  Electric   \n",
       "\n",
       "       fuel_consumption_l_100km fuel_consumption_g_km  mileage_in_km  \\\n",
       "0                 10,9 l/100 km              260 g/km       160500.0   \n",
       "1                           NaN              - (g/km)       190000.0   \n",
       "2                           NaN              - (g/km)       129000.0   \n",
       "3                  9,5 l/100 km              225 g/km       189500.0   \n",
       "4                  7,2 l/100 km              - (g/km)        96127.0   \n",
       "...                         ...                   ...            ...   \n",
       "251074                      NaN      43 km Reichweite         1229.0   \n",
       "251075             7,6 l/100 km              202 g/km         4900.0   \n",
       "251076             4,7 l/100 km              125 g/km         1531.0   \n",
       "251077                      NaN      45 km Reichweite         1500.0   \n",
       "251078                      NaN     438 km Reichweite           50.0   \n",
       "\n",
       "                                        offer_description  \n",
       "0                                               2.0 V6 TB  \n",
       "1                                     Q4 Allrad, 3.2L GTA  \n",
       "2                                           ALFA ROME 916  \n",
       "3                                    2.0 16V Twin Spark L  \n",
       "4                   3.0i Super V6, absoluter Topzustand !  \n",
       "...                                                   ...  \n",
       "251074  Plus Bright T5 Recharge Intellisafe*Surround+P...  \n",
       "251075  B5 AWD Diesel Ultimate Dark 7-Sitzer Massage F...  \n",
       "251076            B4 D Plus Dark 145 kW, 5-türig (Diesel)  \n",
       "251077        T5 Recharge Plus Dark *Standh*360°*beh.Lenk  \n",
       "251078               Ultimate Recharge Twin Motor AHK GJR  \n",
       "\n",
       "[251079 rows x 15 columns]"
      ]
     },
     "execution_count": 8,
     "metadata": {},
     "output_type": "execute_result"
    }
   ],
   "source": [
    "t"
   ]
  },
  {
   "cell_type": "code",
   "execution_count": 12,
   "id": "24113252-8f8f-4500-9117-25127e4b2b14",
   "metadata": {},
   "outputs": [
    {
     "data": {
      "text/html": [
       "<div>\n",
       "<style scoped>\n",
       "    .dataframe tbody tr th:only-of-type {\n",
       "        vertical-align: middle;\n",
       "    }\n",
       "\n",
       "    .dataframe tbody tr th {\n",
       "        vertical-align: top;\n",
       "    }\n",
       "\n",
       "    .dataframe thead th {\n",
       "        text-align: right;\n",
       "    }\n",
       "</style>\n",
       "<table border=\"1\" class=\"dataframe\">\n",
       "  <thead>\n",
       "    <tr style=\"text-align: right;\">\n",
       "      <th></th>\n",
       "      <th>Unnamed: 0</th>\n",
       "      <th>brand</th>\n",
       "      <th>model</th>\n",
       "      <th>color</th>\n",
       "      <th>registration_date</th>\n",
       "      <th>year</th>\n",
       "      <th>price_in_euro</th>\n",
       "      <th>power_kw</th>\n",
       "      <th>power_ps</th>\n",
       "      <th>transmission_type</th>\n",
       "      <th>fuel_type</th>\n",
       "      <th>fuel_consumption_l_100km</th>\n",
       "      <th>fuel_consumption_g_km</th>\n",
       "      <th>mileage_in_km</th>\n",
       "      <th>offer_description</th>\n",
       "    </tr>\n",
       "  </thead>\n",
       "  <tbody>\n",
       "    <tr>\n",
       "      <th>0</th>\n",
       "      <td>0</td>\n",
       "      <td>alfa-romeo</td>\n",
       "      <td>Alfa Romeo GTV</td>\n",
       "      <td>red</td>\n",
       "      <td>10/1995</td>\n",
       "      <td>1995</td>\n",
       "      <td>1300</td>\n",
       "      <td>148</td>\n",
       "      <td>201</td>\n",
       "      <td>Manual</td>\n",
       "      <td>Petrol</td>\n",
       "      <td>10,9 l/100 km</td>\n",
       "      <td>260 g/km</td>\n",
       "      <td>160500.0</td>\n",
       "      <td>2.0 V6 TB</td>\n",
       "    </tr>\n",
       "    <tr>\n",
       "      <th>1</th>\n",
       "      <td>1</td>\n",
       "      <td>alfa-romeo</td>\n",
       "      <td>Alfa Romeo 164</td>\n",
       "      <td>black</td>\n",
       "      <td>02/1995</td>\n",
       "      <td>1995</td>\n",
       "      <td>24900</td>\n",
       "      <td>191</td>\n",
       "      <td>260</td>\n",
       "      <td>Manual</td>\n",
       "      <td>Petrol</td>\n",
       "      <td>NaN</td>\n",
       "      <td>- (g/km)</td>\n",
       "      <td>190000.0</td>\n",
       "      <td>Q4 Allrad, 3.2L GTA</td>\n",
       "    </tr>\n",
       "    <tr>\n",
       "      <th>2</th>\n",
       "      <td>2</td>\n",
       "      <td>alfa-romeo</td>\n",
       "      <td>Alfa Romeo Spider</td>\n",
       "      <td>black</td>\n",
       "      <td>02/1995</td>\n",
       "      <td>1995</td>\n",
       "      <td>5900</td>\n",
       "      <td>110</td>\n",
       "      <td>150</td>\n",
       "      <td>Unknown</td>\n",
       "      <td>Petrol</td>\n",
       "      <td>NaN</td>\n",
       "      <td>- (g/km)</td>\n",
       "      <td>129000.0</td>\n",
       "      <td>ALFA ROME 916</td>\n",
       "    </tr>\n",
       "  </tbody>\n",
       "</table>\n",
       "</div>"
      ],
      "text/plain": [
       "   Unnamed: 0       brand              model  color registration_date  year  \\\n",
       "0           0  alfa-romeo     Alfa Romeo GTV    red           10/1995  1995   \n",
       "1           1  alfa-romeo     Alfa Romeo 164  black           02/1995  1995   \n",
       "2           2  alfa-romeo  Alfa Romeo Spider  black           02/1995  1995   \n",
       "\n",
       "  price_in_euro power_kw power_ps transmission_type fuel_type  \\\n",
       "0          1300      148      201            Manual    Petrol   \n",
       "1         24900      191      260            Manual    Petrol   \n",
       "2          5900      110      150           Unknown    Petrol   \n",
       "\n",
       "  fuel_consumption_l_100km fuel_consumption_g_km  mileage_in_km  \\\n",
       "0            10,9 l/100 km              260 g/km       160500.0   \n",
       "1                      NaN              - (g/km)       190000.0   \n",
       "2                      NaN              - (g/km)       129000.0   \n",
       "\n",
       "     offer_description  \n",
       "0            2.0 V6 TB  \n",
       "1  Q4 Allrad, 3.2L GTA  \n",
       "2        ALFA ROME 916  "
      ]
     },
     "execution_count": 12,
     "metadata": {},
     "output_type": "execute_result"
    }
   ],
   "source": [
    "t.head(3)"
   ]
  },
  {
   "cell_type": "code",
   "execution_count": 13,
   "id": "497dea20-a70b-4359-ad91-00eca5a0faa1",
   "metadata": {},
   "outputs": [
    {
     "data": {
      "text/html": [
       "<div>\n",
       "<style scoped>\n",
       "    .dataframe tbody tr th:only-of-type {\n",
       "        vertical-align: middle;\n",
       "    }\n",
       "\n",
       "    .dataframe tbody tr th {\n",
       "        vertical-align: top;\n",
       "    }\n",
       "\n",
       "    .dataframe thead th {\n",
       "        text-align: right;\n",
       "    }\n",
       "</style>\n",
       "<table border=\"1\" class=\"dataframe\">\n",
       "  <thead>\n",
       "    <tr style=\"text-align: right;\">\n",
       "      <th></th>\n",
       "      <th>Unnamed: 0</th>\n",
       "      <th>brand</th>\n",
       "      <th>model</th>\n",
       "      <th>color</th>\n",
       "      <th>registration_date</th>\n",
       "      <th>year</th>\n",
       "      <th>price_in_euro</th>\n",
       "      <th>power_kw</th>\n",
       "      <th>power_ps</th>\n",
       "      <th>transmission_type</th>\n",
       "      <th>fuel_type</th>\n",
       "      <th>fuel_consumption_l_100km</th>\n",
       "      <th>fuel_consumption_g_km</th>\n",
       "      <th>mileage_in_km</th>\n",
       "      <th>offer_description</th>\n",
       "    </tr>\n",
       "  </thead>\n",
       "  <tbody>\n",
       "    <tr>\n",
       "      <th>251072</th>\n",
       "      <td>251072</td>\n",
       "      <td>volvo</td>\n",
       "      <td>Volvo XC60</td>\n",
       "      <td>silver</td>\n",
       "      <td>05/2023</td>\n",
       "      <td>2023</td>\n",
       "      <td>55400</td>\n",
       "      <td>145</td>\n",
       "      <td>197</td>\n",
       "      <td>Automatic</td>\n",
       "      <td>Diesel</td>\n",
       "      <td>5,6 l/100 km</td>\n",
       "      <td>142 g/km</td>\n",
       "      <td>5000.0</td>\n",
       "      <td>B4 Autom. Plus Dark  Keyless-Start/Klima/LED/BC</td>\n",
       "    </tr>\n",
       "    <tr>\n",
       "      <th>251073</th>\n",
       "      <td>251073</td>\n",
       "      <td>volvo</td>\n",
       "      <td>Volvo XC60</td>\n",
       "      <td>silver</td>\n",
       "      <td>03/2023</td>\n",
       "      <td>2023</td>\n",
       "      <td>54500</td>\n",
       "      <td>145</td>\n",
       "      <td>197</td>\n",
       "      <td>Automatic</td>\n",
       "      <td>Diesel</td>\n",
       "      <td>5,6 l/100 km</td>\n",
       "      <td>142 g/km</td>\n",
       "      <td>5900.0</td>\n",
       "      <td>B4 Autom. Plus Dark  Sitzhzg.</td>\n",
       "    </tr>\n",
       "    <tr>\n",
       "      <th>251074</th>\n",
       "      <td>251074</td>\n",
       "      <td>volvo</td>\n",
       "      <td>Volvo XC40</td>\n",
       "      <td>white</td>\n",
       "      <td>04/2023</td>\n",
       "      <td>2023</td>\n",
       "      <td>57990</td>\n",
       "      <td>192</td>\n",
       "      <td>261</td>\n",
       "      <td>Automatic</td>\n",
       "      <td>Hybrid</td>\n",
       "      <td>NaN</td>\n",
       "      <td>43 km Reichweite</td>\n",
       "      <td>1229.0</td>\n",
       "      <td>Plus Bright T5 Recharge Intellisafe*Surround+P...</td>\n",
       "    </tr>\n",
       "    <tr>\n",
       "      <th>251075</th>\n",
       "      <td>251075</td>\n",
       "      <td>volvo</td>\n",
       "      <td>Volvo XC90</td>\n",
       "      <td>white</td>\n",
       "      <td>03/2023</td>\n",
       "      <td>2023</td>\n",
       "      <td>89690</td>\n",
       "      <td>173</td>\n",
       "      <td>235</td>\n",
       "      <td>Automatic</td>\n",
       "      <td>Diesel</td>\n",
       "      <td>7,6 l/100 km</td>\n",
       "      <td>202 g/km</td>\n",
       "      <td>4900.0</td>\n",
       "      <td>B5 AWD Diesel Ultimate Dark 7-Sitzer Massage F...</td>\n",
       "    </tr>\n",
       "    <tr>\n",
       "      <th>251076</th>\n",
       "      <td>251076</td>\n",
       "      <td>volvo</td>\n",
       "      <td>Volvo V60</td>\n",
       "      <td>white</td>\n",
       "      <td>05/2023</td>\n",
       "      <td>2023</td>\n",
       "      <td>61521</td>\n",
       "      <td>145</td>\n",
       "      <td>197</td>\n",
       "      <td>Automatic</td>\n",
       "      <td>Diesel</td>\n",
       "      <td>4,7 l/100 km</td>\n",
       "      <td>125 g/km</td>\n",
       "      <td>1531.0</td>\n",
       "      <td>B4 D Plus Dark 145 kW, 5-türig (Diesel)</td>\n",
       "    </tr>\n",
       "    <tr>\n",
       "      <th>251077</th>\n",
       "      <td>251077</td>\n",
       "      <td>volvo</td>\n",
       "      <td>Volvo XC40</td>\n",
       "      <td>white</td>\n",
       "      <td>05/2023</td>\n",
       "      <td>2023</td>\n",
       "      <td>57890</td>\n",
       "      <td>132</td>\n",
       "      <td>179</td>\n",
       "      <td>Automatic</td>\n",
       "      <td>Hybrid</td>\n",
       "      <td>NaN</td>\n",
       "      <td>45 km Reichweite</td>\n",
       "      <td>1500.0</td>\n",
       "      <td>T5 Recharge Plus Dark *Standh*360°*beh.Lenk</td>\n",
       "    </tr>\n",
       "    <tr>\n",
       "      <th>251078</th>\n",
       "      <td>251078</td>\n",
       "      <td>volvo</td>\n",
       "      <td>Volvo XC40</td>\n",
       "      <td>gold</td>\n",
       "      <td>03/2023</td>\n",
       "      <td>2023</td>\n",
       "      <td>52900</td>\n",
       "      <td>160</td>\n",
       "      <td>218</td>\n",
       "      <td>Automatic</td>\n",
       "      <td>Electric</td>\n",
       "      <td>NaN</td>\n",
       "      <td>438 km Reichweite</td>\n",
       "      <td>50.0</td>\n",
       "      <td>Ultimate Recharge Twin Motor AHK GJR</td>\n",
       "    </tr>\n",
       "  </tbody>\n",
       "</table>\n",
       "</div>"
      ],
      "text/plain": [
       "        Unnamed: 0  brand       model   color registration_date  year  \\\n",
       "251072      251072  volvo  Volvo XC60  silver           05/2023  2023   \n",
       "251073      251073  volvo  Volvo XC60  silver           03/2023  2023   \n",
       "251074      251074  volvo  Volvo XC40   white           04/2023  2023   \n",
       "251075      251075  volvo  Volvo XC90   white           03/2023  2023   \n",
       "251076      251076  volvo   Volvo V60   white           05/2023  2023   \n",
       "251077      251077  volvo  Volvo XC40   white           05/2023  2023   \n",
       "251078      251078  volvo  Volvo XC40    gold           03/2023  2023   \n",
       "\n",
       "       price_in_euro power_kw power_ps transmission_type fuel_type  \\\n",
       "251072         55400      145      197         Automatic    Diesel   \n",
       "251073         54500      145      197         Automatic    Diesel   \n",
       "251074         57990      192      261         Automatic    Hybrid   \n",
       "251075         89690      173      235         Automatic    Diesel   \n",
       "251076         61521      145      197         Automatic    Diesel   \n",
       "251077         57890      132      179         Automatic    Hybrid   \n",
       "251078         52900      160      218         Automatic  Electric   \n",
       "\n",
       "       fuel_consumption_l_100km fuel_consumption_g_km  mileage_in_km  \\\n",
       "251072             5,6 l/100 km              142 g/km         5000.0   \n",
       "251073             5,6 l/100 km              142 g/km         5900.0   \n",
       "251074                      NaN      43 km Reichweite         1229.0   \n",
       "251075             7,6 l/100 km              202 g/km         4900.0   \n",
       "251076             4,7 l/100 km              125 g/km         1531.0   \n",
       "251077                      NaN      45 km Reichweite         1500.0   \n",
       "251078                      NaN     438 km Reichweite           50.0   \n",
       "\n",
       "                                        offer_description  \n",
       "251072    B4 Autom. Plus Dark  Keyless-Start/Klima/LED/BC  \n",
       "251073                      B4 Autom. Plus Dark  Sitzhzg.  \n",
       "251074  Plus Bright T5 Recharge Intellisafe*Surround+P...  \n",
       "251075  B5 AWD Diesel Ultimate Dark 7-Sitzer Massage F...  \n",
       "251076            B4 D Plus Dark 145 kW, 5-türig (Diesel)  \n",
       "251077        T5 Recharge Plus Dark *Standh*360°*beh.Lenk  \n",
       "251078               Ultimate Recharge Twin Motor AHK GJR  "
      ]
     },
     "execution_count": 13,
     "metadata": {},
     "output_type": "execute_result"
    }
   ],
   "source": [
    "t.tail(7)"
   ]
  },
  {
   "cell_type": "code",
   "execution_count": 17,
   "id": "238c3b30-4cbb-4a23-918a-187e53975a4c",
   "metadata": {},
   "outputs": [
    {
     "data": {
      "text/html": [
       "<div>\n",
       "<style scoped>\n",
       "    .dataframe tbody tr th:only-of-type {\n",
       "        vertical-align: middle;\n",
       "    }\n",
       "\n",
       "    .dataframe tbody tr th {\n",
       "        vertical-align: top;\n",
       "    }\n",
       "\n",
       "    .dataframe thead th {\n",
       "        text-align: right;\n",
       "    }\n",
       "</style>\n",
       "<table border=\"1\" class=\"dataframe\">\n",
       "  <thead>\n",
       "    <tr style=\"text-align: right;\">\n",
       "      <th></th>\n",
       "      <th>Unnamed: 0</th>\n",
       "      <th>brand</th>\n",
       "      <th>model</th>\n",
       "      <th>color</th>\n",
       "      <th>registration_date</th>\n",
       "      <th>year</th>\n",
       "      <th>price_in_euro</th>\n",
       "      <th>power_kw</th>\n",
       "      <th>power_ps</th>\n",
       "      <th>transmission_type</th>\n",
       "      <th>fuel_type</th>\n",
       "      <th>fuel_consumption_l_100km</th>\n",
       "      <th>fuel_consumption_g_km</th>\n",
       "      <th>mileage_in_km</th>\n",
       "      <th>offer_description</th>\n",
       "    </tr>\n",
       "  </thead>\n",
       "  <tbody>\n",
       "    <tr>\n",
       "      <th>163282</th>\n",
       "      <td>163282</td>\n",
       "      <td>peugeot</td>\n",
       "      <td>Peugeot 2008</td>\n",
       "      <td>grey</td>\n",
       "      <td>01/2022</td>\n",
       "      <td>2022</td>\n",
       "      <td>30500</td>\n",
       "      <td>100</td>\n",
       "      <td>136</td>\n",
       "      <td>Automatic</td>\n",
       "      <td>Electric</td>\n",
       "      <td>NaN</td>\n",
       "      <td>320 km Reichweite</td>\n",
       "      <td>12654.0</td>\n",
       "      <td>2008 Elektro Active Pack</td>\n",
       "    </tr>\n",
       "    <tr>\n",
       "      <th>220767</th>\n",
       "      <td>220767</td>\n",
       "      <td>volkswagen</td>\n",
       "      <td>Volkswagen Golf</td>\n",
       "      <td>white</td>\n",
       "      <td>07/2009</td>\n",
       "      <td>2009</td>\n",
       "      <td>4100</td>\n",
       "      <td>59</td>\n",
       "      <td>80</td>\n",
       "      <td>Manual</td>\n",
       "      <td>Petrol</td>\n",
       "      <td>6,4 l/100 km</td>\n",
       "      <td>- (g/km)</td>\n",
       "      <td>220000.0</td>\n",
       "      <td>6 Trendline, weiß, Alu, LED Leuchten, gepflegt</td>\n",
       "    </tr>\n",
       "    <tr>\n",
       "      <th>112844</th>\n",
       "      <td>112844</td>\n",
       "      <td>mercedes-benz</td>\n",
       "      <td>Mercedes-Benz E 250</td>\n",
       "      <td>black</td>\n",
       "      <td>04/2013</td>\n",
       "      <td>2013</td>\n",
       "      <td>12890</td>\n",
       "      <td>150</td>\n",
       "      <td>204</td>\n",
       "      <td>Automatic</td>\n",
       "      <td>Diesel</td>\n",
       "      <td>6,1 l/100 km</td>\n",
       "      <td>162 g/km</td>\n",
       "      <td>202240.0</td>\n",
       "      <td>E250 CDI E-Klasse T-Modell Avantgarde NAVI/XENON</td>\n",
       "    </tr>\n",
       "    <tr>\n",
       "      <th>247712</th>\n",
       "      <td>247712</td>\n",
       "      <td>volvo</td>\n",
       "      <td>Volvo V60</td>\n",
       "      <td>black</td>\n",
       "      <td>05/2017</td>\n",
       "      <td>2017</td>\n",
       "      <td>14299</td>\n",
       "      <td>110</td>\n",
       "      <td>150</td>\n",
       "      <td>Manual</td>\n",
       "      <td>Diesel</td>\n",
       "      <td>3,9 l/100 km</td>\n",
       "      <td>102 g/km</td>\n",
       "      <td>128525.0</td>\n",
       "      <td>Kombi Linje Business*Xenon*PDC*Navi*Euro6*</td>\n",
       "    </tr>\n",
       "    <tr>\n",
       "      <th>9395</th>\n",
       "      <td>9395</td>\n",
       "      <td>audi</td>\n",
       "      <td>Audi A3</td>\n",
       "      <td>silver</td>\n",
       "      <td>08/2014</td>\n",
       "      <td>2014</td>\n",
       "      <td>20990</td>\n",
       "      <td>110</td>\n",
       "      <td>150</td>\n",
       "      <td>Automatic</td>\n",
       "      <td>Diesel</td>\n",
       "      <td>4,4 l/100 km</td>\n",
       "      <td>115 g/km</td>\n",
       "      <td>123000.0</td>\n",
       "      <td>2.0 TDI Limo.*S-Line*S-Tronic*Xenon*Navi*</td>\n",
       "    </tr>\n",
       "  </tbody>\n",
       "</table>\n",
       "</div>"
      ],
      "text/plain": [
       "        Unnamed: 0          brand                model   color  \\\n",
       "163282      163282        peugeot         Peugeot 2008    grey   \n",
       "220767      220767     volkswagen      Volkswagen Golf   white   \n",
       "112844      112844  mercedes-benz  Mercedes-Benz E 250   black   \n",
       "247712      247712          volvo            Volvo V60   black   \n",
       "9395          9395           audi              Audi A3  silver   \n",
       "\n",
       "       registration_date  year price_in_euro power_kw power_ps  \\\n",
       "163282           01/2022  2022         30500      100      136   \n",
       "220767           07/2009  2009          4100       59       80   \n",
       "112844           04/2013  2013         12890      150      204   \n",
       "247712           05/2017  2017         14299      110      150   \n",
       "9395             08/2014  2014         20990      110      150   \n",
       "\n",
       "       transmission_type fuel_type fuel_consumption_l_100km  \\\n",
       "163282         Automatic  Electric                      NaN   \n",
       "220767            Manual    Petrol             6,4 l/100 km   \n",
       "112844         Automatic    Diesel             6,1 l/100 km   \n",
       "247712            Manual    Diesel             3,9 l/100 km   \n",
       "9395           Automatic    Diesel             4,4 l/100 km   \n",
       "\n",
       "       fuel_consumption_g_km  mileage_in_km  \\\n",
       "163282     320 km Reichweite        12654.0   \n",
       "220767              - (g/km)       220000.0   \n",
       "112844              162 g/km       202240.0   \n",
       "247712              102 g/km       128525.0   \n",
       "9395                115 g/km       123000.0   \n",
       "\n",
       "                                       offer_description  \n",
       "163282                          2008 Elektro Active Pack  \n",
       "220767    6 Trendline, weiß, Alu, LED Leuchten, gepflegt  \n",
       "112844  E250 CDI E-Klasse T-Modell Avantgarde NAVI/XENON  \n",
       "247712        Kombi Linje Business*Xenon*PDC*Navi*Euro6*  \n",
       "9395           2.0 TDI Limo.*S-Line*S-Tronic*Xenon*Navi*  "
      ]
     },
     "execution_count": 17,
     "metadata": {},
     "output_type": "execute_result"
    }
   ],
   "source": [
    "t.sample(5)"
   ]
  },
  {
   "cell_type": "code",
   "execution_count": 18,
   "id": "89911a05-f74a-4f94-8751-56c579831af5",
   "metadata": {},
   "outputs": [],
   "source": [
    "t.sample(100).to_html(\"beispielautos.html\") "
   ]
  },
  {
   "cell_type": "markdown",
   "id": "cb6a3f79-1f99-4511-8f83-ee67c29af076",
   "metadata": {},
   "source": [
    "# Datenqualität beurteilen"
   ]
  },
  {
   "cell_type": "code",
   "execution_count": 19,
   "id": "b1d2674b-a0ec-44c2-bf17-1672fad16890",
   "metadata": {},
   "outputs": [
    {
     "data": {
      "text/plain": [
       "Index(['Unnamed: 0', 'brand', 'model', 'color', 'registration_date', 'year',\n",
       "       'price_in_euro', 'power_kw', 'power_ps', 'transmission_type',\n",
       "       'fuel_type', 'fuel_consumption_l_100km', 'fuel_consumption_g_km',\n",
       "       'mileage_in_km', 'offer_description'],\n",
       "      dtype='object')"
      ]
     },
     "execution_count": 19,
     "metadata": {},
     "output_type": "execute_result"
    }
   ],
   "source": [
    "t.columns"
   ]
  },
  {
   "cell_type": "code",
   "execution_count": 20,
   "id": "0ef80bd5-d155-429e-a77c-068c27bf52c7",
   "metadata": {},
   "outputs": [
    {
     "name": "stdout",
     "output_type": "stream",
     "text": [
      "<class 'pandas.core.frame.DataFrame'>\n",
      "RangeIndex: 251079 entries, 0 to 251078\n",
      "Data columns (total 15 columns):\n",
      " #   Column                    Non-Null Count   Dtype  \n",
      "---  ------                    --------------   -----  \n",
      " 0   Unnamed: 0                251079 non-null  int64  \n",
      " 1   brand                     251079 non-null  object \n",
      " 2   model                     251079 non-null  object \n",
      " 3   color                     250913 non-null  object \n",
      " 4   registration_date         251075 non-null  object \n",
      " 5   year                      251079 non-null  object \n",
      " 6   price_in_euro             251079 non-null  object \n",
      " 7   power_kw                  250945 non-null  object \n",
      " 8   power_ps                  250950 non-null  object \n",
      " 9   transmission_type         251079 non-null  object \n",
      " 10  fuel_type                 251079 non-null  object \n",
      " 11  fuel_consumption_l_100km  224206 non-null  object \n",
      " 12  fuel_consumption_g_km     251079 non-null  object \n",
      " 13  mileage_in_km             250927 non-null  float64\n",
      " 14  offer_description         251078 non-null  object \n",
      "dtypes: float64(1), int64(1), object(13)\n",
      "memory usage: 28.7+ MB\n"
     ]
    }
   ],
   "source": [
    "t.info()"
   ]
  },
  {
   "cell_type": "code",
   "execution_count": 22,
   "id": "55a48dfe-c7b7-43cb-a630-c8fc401104d6",
   "metadata": {},
   "outputs": [
    {
     "data": {
      "text/plain": [
       "(251079, 15)"
      ]
     },
     "execution_count": 22,
     "metadata": {},
     "output_type": "execute_result"
    }
   ],
   "source": [
    "t.shape"
   ]
  },
  {
   "cell_type": "code",
   "execution_count": 27,
   "id": "bbedc817-faf3-49bf-bc69-be72818eb13b",
   "metadata": {},
   "outputs": [
    {
     "data": {
      "text/html": [
       "<div>\n",
       "<style scoped>\n",
       "    .dataframe tbody tr th:only-of-type {\n",
       "        vertical-align: middle;\n",
       "    }\n",
       "\n",
       "    .dataframe tbody tr th {\n",
       "        vertical-align: top;\n",
       "    }\n",
       "\n",
       "    .dataframe thead th {\n",
       "        text-align: right;\n",
       "    }\n",
       "</style>\n",
       "<table border=\"1\" class=\"dataframe\">\n",
       "  <thead>\n",
       "    <tr style=\"text-align: right;\">\n",
       "      <th></th>\n",
       "      <th>A</th>\n",
       "      <th>B</th>\n",
       "    </tr>\n",
       "  </thead>\n",
       "  <tbody>\n",
       "    <tr>\n",
       "      <th>0</th>\n",
       "      <td>10</td>\n",
       "      <td>1000</td>\n",
       "    </tr>\n",
       "    <tr>\n",
       "      <th>1</th>\n",
       "      <td>20</td>\n",
       "      <td>2000.0</td>\n",
       "    </tr>\n",
       "    <tr>\n",
       "      <th>2</th>\n",
       "      <td>30</td>\n",
       "      <td>fhdsjf</td>\n",
       "    </tr>\n",
       "    <tr>\n",
       "      <th>3</th>\n",
       "      <td>40</td>\n",
       "      <td>4000</td>\n",
       "    </tr>\n",
       "  </tbody>\n",
       "</table>\n",
       "</div>"
      ],
      "text/plain": [
       "    A       B\n",
       "0  10    1000\n",
       "1  20  2000.0\n",
       "2  30  fhdsjf\n",
       "3  40    4000"
      ]
     },
     "execution_count": 27,
     "metadata": {},
     "output_type": "execute_result"
    }
   ],
   "source": [
    "d = {\"A\" : [10,20,30,40],\n",
    "     \"B\" : [1000,2000.0,\"fhdsjf\",4000]}\n",
    "t2 = pandas.DataFrame(d)\n",
    "t2"
   ]
  },
  {
   "cell_type": "code",
   "execution_count": 28,
   "id": "6fc01206-3976-47d5-93a9-3cf09a5c3e3d",
   "metadata": {},
   "outputs": [
    {
     "name": "stdout",
     "output_type": "stream",
     "text": [
      "<class 'pandas.core.frame.DataFrame'>\n",
      "RangeIndex: 4 entries, 0 to 3\n",
      "Data columns (total 2 columns):\n",
      " #   Column  Non-Null Count  Dtype \n",
      "---  ------  --------------  ----- \n",
      " 0   A       4 non-null      int64 \n",
      " 1   B       4 non-null      object\n",
      "dtypes: int64(1), object(1)\n",
      "memory usage: 196.0+ bytes\n"
     ]
    }
   ],
   "source": [
    "t2.info()"
   ]
  },
  {
   "cell_type": "markdown",
   "id": "c348f923-3dd5-49f7-8b41-1e1c59a99fe6",
   "metadata": {},
   "source": [
    "# Spalten bereinigen"
   ]
  },
  {
   "cell_type": "code",
   "execution_count": 29,
   "id": "6512605f-16e1-4b6b-a21f-2e4b90bef3ce",
   "metadata": {},
   "outputs": [
    {
     "data": {
      "text/plain": [
       "0         201\n",
       "1         260\n",
       "2         150\n",
       "3         150\n",
       "4         179\n",
       "         ... \n",
       "251074    261\n",
       "251075    235\n",
       "251076    197\n",
       "251077    179\n",
       "251078    218\n",
       "Name: power_ps, Length: 251079, dtype: object"
      ]
     },
     "execution_count": 29,
     "metadata": {},
     "output_type": "execute_result"
    }
   ],
   "source": [
    "t[\"power_ps\"]"
   ]
  },
  {
   "cell_type": "code",
   "execution_count": 30,
   "id": "9d8e7678-d9f4-4bc2-9ffe-0679dfec18b6",
   "metadata": {},
   "outputs": [
    {
     "data": {
      "text/plain": [
       "pandas.core.frame.DataFrame"
      ]
     },
     "execution_count": 30,
     "metadata": {},
     "output_type": "execute_result"
    }
   ],
   "source": [
    "type(t)"
   ]
  },
  {
   "cell_type": "code",
   "execution_count": 31,
   "id": "e128aaef-a1f5-4d05-8361-a73a5e79e016",
   "metadata": {},
   "outputs": [
    {
     "data": {
      "text/plain": [
       "pandas.core.series.Series"
      ]
     },
     "execution_count": 31,
     "metadata": {},
     "output_type": "execute_result"
    }
   ],
   "source": [
    "type(t[\"power_ps\"])"
   ]
  },
  {
   "cell_type": "code",
   "execution_count": 32,
   "id": "0d4b3b8c-c25e-4b56-91e8-ed91961c8af0",
   "metadata": {},
   "outputs": [
    {
     "data": {
      "text/plain": [
       "RangeIndex(start=0, stop=251079, step=1)"
      ]
     },
     "execution_count": 32,
     "metadata": {},
     "output_type": "execute_result"
    }
   ],
   "source": [
    "t.index"
   ]
  },
  {
   "cell_type": "code",
   "execution_count": 37,
   "id": "8d53b4f2-4f95-46dc-9a1d-aab4fecca524",
   "metadata": {},
   "outputs": [],
   "source": [
    "t[\"power_ps\"] = pandas.to_numeric(t[\"power_ps\"], errors='coerce')"
   ]
  },
  {
   "cell_type": "code",
   "execution_count": 38,
   "id": "0de67512-05bb-4f92-bb48-63c78ba790ca",
   "metadata": {},
   "outputs": [
    {
     "name": "stdout",
     "output_type": "stream",
     "text": [
      "<class 'pandas.core.frame.DataFrame'>\n",
      "RangeIndex: 251079 entries, 0 to 251078\n",
      "Data columns (total 15 columns):\n",
      " #   Column                    Non-Null Count   Dtype  \n",
      "---  ------                    --------------   -----  \n",
      " 0   Unnamed: 0                251079 non-null  int64  \n",
      " 1   brand                     251079 non-null  object \n",
      " 2   model                     251079 non-null  object \n",
      " 3   color                     250913 non-null  object \n",
      " 4   registration_date         251075 non-null  object \n",
      " 5   year                      251079 non-null  object \n",
      " 6   price_in_euro             251079 non-null  object \n",
      " 7   power_kw                  250945 non-null  object \n",
      " 8   power_ps                  250869 non-null  float64\n",
      " 9   transmission_type         251079 non-null  object \n",
      " 10  fuel_type                 251079 non-null  object \n",
      " 11  fuel_consumption_l_100km  224206 non-null  object \n",
      " 12  fuel_consumption_g_km     251079 non-null  object \n",
      " 13  mileage_in_km             250927 non-null  float64\n",
      " 14  offer_description         251078 non-null  object \n",
      "dtypes: float64(2), int64(1), object(12)\n",
      "memory usage: 28.7+ MB\n"
     ]
    }
   ],
   "source": [
    "t.info()"
   ]
  },
  {
   "cell_type": "code",
   "execution_count": 6,
   "id": "c3b58954-1499-4597-a340-65a1083cc35a",
   "metadata": {},
   "outputs": [],
   "source": [
    "import pandas\n",
    "fname = \"used_cars_autoscout24.csv\"\n",
    "t = pandas.read_csv(fname)\n",
    "t[\"power_ps\"] = pandas.to_numeric(t[\"power_ps\"], errors='coerce')\n",
    "t[\"price_in_euro\"] = pandas.to_numeric(t[\"price_in_euro\"], errors='coerce')"
   ]
  },
  {
   "cell_type": "code",
   "execution_count": 7,
   "id": "22a99c20-d148-4276-bc52-99e9d3b84bab",
   "metadata": {},
   "outputs": [
    {
     "name": "stdout",
     "output_type": "stream",
     "text": [
      "<class 'pandas.core.frame.DataFrame'>\n",
      "RangeIndex: 251079 entries, 0 to 251078\n",
      "Data columns (total 15 columns):\n",
      " #   Column                    Non-Null Count   Dtype  \n",
      "---  ------                    --------------   -----  \n",
      " 0   Unnamed: 0                251079 non-null  int64  \n",
      " 1   brand                     251079 non-null  object \n",
      " 2   model                     251079 non-null  object \n",
      " 3   color                     250913 non-null  object \n",
      " 4   registration_date         251075 non-null  object \n",
      " 5   year                      251079 non-null  object \n",
      " 6   price_in_euro             250880 non-null  float64\n",
      " 7   power_kw                  250945 non-null  object \n",
      " 8   power_ps                  250869 non-null  float64\n",
      " 9   transmission_type         251079 non-null  object \n",
      " 10  fuel_type                 251079 non-null  object \n",
      " 11  fuel_consumption_l_100km  224206 non-null  object \n",
      " 12  fuel_consumption_g_km     251079 non-null  object \n",
      " 13  mileage_in_km             250927 non-null  float64\n",
      " 14  offer_description         251078 non-null  object \n",
      "dtypes: float64(3), int64(1), object(11)\n",
      "memory usage: 28.7+ MB\n"
     ]
    }
   ],
   "source": [
    "t.info()"
   ]
  },
  {
   "cell_type": "code",
   "execution_count": 8,
   "id": "53d1628f-7856-462d-961d-9a134ec25617",
   "metadata": {},
   "outputs": [
    {
     "data": {
      "text/html": [
       "<div>\n",
       "<style scoped>\n",
       "    .dataframe tbody tr th:only-of-type {\n",
       "        vertical-align: middle;\n",
       "    }\n",
       "\n",
       "    .dataframe tbody tr th {\n",
       "        vertical-align: top;\n",
       "    }\n",
       "\n",
       "    .dataframe thead th {\n",
       "        text-align: right;\n",
       "    }\n",
       "</style>\n",
       "<table border=\"1\" class=\"dataframe\">\n",
       "  <thead>\n",
       "    <tr style=\"text-align: right;\">\n",
       "      <th></th>\n",
       "      <th>Unnamed: 0</th>\n",
       "      <th>price_in_euro</th>\n",
       "      <th>power_ps</th>\n",
       "      <th>mileage_in_km</th>\n",
       "    </tr>\n",
       "  </thead>\n",
       "  <tbody>\n",
       "    <tr>\n",
       "      <th>count</th>\n",
       "      <td>251079.000000</td>\n",
       "      <td>2.508800e+05</td>\n",
       "      <td>250869.000000</td>\n",
       "      <td>2.509270e+05</td>\n",
       "    </tr>\n",
       "    <tr>\n",
       "      <th>mean</th>\n",
       "      <td>125539.000000</td>\n",
       "      <td>2.613753e+04</td>\n",
       "      <td>171.809526</td>\n",
       "      <td>8.534002e+04</td>\n",
       "    </tr>\n",
       "    <tr>\n",
       "      <th>std</th>\n",
       "      <td>72480.408456</td>\n",
       "      <td>3.698795e+04</td>\n",
       "      <td>99.192201</td>\n",
       "      <td>7.871706e+04</td>\n",
       "    </tr>\n",
       "    <tr>\n",
       "      <th>min</th>\n",
       "      <td>0.000000</td>\n",
       "      <td>1.200000e+02</td>\n",
       "      <td>1.000000</td>\n",
       "      <td>0.000000e+00</td>\n",
       "    </tr>\n",
       "    <tr>\n",
       "      <th>25%</th>\n",
       "      <td>62769.500000</td>\n",
       "      <td>1.199000e+04</td>\n",
       "      <td>111.000000</td>\n",
       "      <td>2.490400e+04</td>\n",
       "    </tr>\n",
       "    <tr>\n",
       "      <th>50%</th>\n",
       "      <td>125539.000000</td>\n",
       "      <td>1.989000e+04</td>\n",
       "      <td>150.000000</td>\n",
       "      <td>6.750000e+04</td>\n",
       "    </tr>\n",
       "    <tr>\n",
       "      <th>75%</th>\n",
       "      <td>188308.500000</td>\n",
       "      <td>2.995000e+04</td>\n",
       "      <td>190.000000</td>\n",
       "      <td>1.265000e+05</td>\n",
       "    </tr>\n",
       "    <tr>\n",
       "      <th>max</th>\n",
       "      <td>251078.000000</td>\n",
       "      <td>5.890500e+06</td>\n",
       "      <td>2022.000000</td>\n",
       "      <td>3.800000e+06</td>\n",
       "    </tr>\n",
       "  </tbody>\n",
       "</table>\n",
       "</div>"
      ],
      "text/plain": [
       "          Unnamed: 0  price_in_euro       power_ps  mileage_in_km\n",
       "count  251079.000000   2.508800e+05  250869.000000   2.509270e+05\n",
       "mean   125539.000000   2.613753e+04     171.809526   8.534002e+04\n",
       "std     72480.408456   3.698795e+04      99.192201   7.871706e+04\n",
       "min         0.000000   1.200000e+02       1.000000   0.000000e+00\n",
       "25%     62769.500000   1.199000e+04     111.000000   2.490400e+04\n",
       "50%    125539.000000   1.989000e+04     150.000000   6.750000e+04\n",
       "75%    188308.500000   2.995000e+04     190.000000   1.265000e+05\n",
       "max    251078.000000   5.890500e+06    2022.000000   3.800000e+06"
      ]
     },
     "execution_count": 8,
     "metadata": {},
     "output_type": "execute_result"
    }
   ],
   "source": [
    "t.describe()"
   ]
  },
  {
   "cell_type": "code",
   "execution_count": 12,
   "id": "6aa2e057-b1c2-47c6-81b1-16dc6e471306",
   "metadata": {},
   "outputs": [
    {
     "data": {
      "text/plain": [
       "(15, 15)"
      ]
     },
     "execution_count": 12,
     "metadata": {},
     "output_type": "execute_result"
    }
   ],
   "source": [
    "t.query(\"price_in_euro > 1e6\").shape"
   ]
  },
  {
   "cell_type": "code",
   "execution_count": 15,
   "id": "a9d2b8ae-78fc-474a-99fa-c64bd6c3572c",
   "metadata": {},
   "outputs": [],
   "source": [
    "t_bereinigt = t[ [\"brand\", \"mileage_in_km\", \"power_ps\", \"price_in_euro\"] ]"
   ]
  },
  {
   "cell_type": "code",
   "execution_count": 16,
   "id": "28dd86fb-280a-4291-ac24-3afdf314961d",
   "metadata": {},
   "outputs": [
    {
     "data": {
      "text/html": [
       "<div>\n",
       "<style scoped>\n",
       "    .dataframe tbody tr th:only-of-type {\n",
       "        vertical-align: middle;\n",
       "    }\n",
       "\n",
       "    .dataframe tbody tr th {\n",
       "        vertical-align: top;\n",
       "    }\n",
       "\n",
       "    .dataframe thead th {\n",
       "        text-align: right;\n",
       "    }\n",
       "</style>\n",
       "<table border=\"1\" class=\"dataframe\">\n",
       "  <thead>\n",
       "    <tr style=\"text-align: right;\">\n",
       "      <th></th>\n",
       "      <th>brand</th>\n",
       "      <th>mileage_in_km</th>\n",
       "      <th>power_ps</th>\n",
       "      <th>price_in_euro</th>\n",
       "    </tr>\n",
       "  </thead>\n",
       "  <tbody>\n",
       "    <tr>\n",
       "      <th>0</th>\n",
       "      <td>alfa-romeo</td>\n",
       "      <td>160500.0</td>\n",
       "      <td>201.0</td>\n",
       "      <td>1300.0</td>\n",
       "    </tr>\n",
       "    <tr>\n",
       "      <th>1</th>\n",
       "      <td>alfa-romeo</td>\n",
       "      <td>190000.0</td>\n",
       "      <td>260.0</td>\n",
       "      <td>24900.0</td>\n",
       "    </tr>\n",
       "    <tr>\n",
       "      <th>2</th>\n",
       "      <td>alfa-romeo</td>\n",
       "      <td>129000.0</td>\n",
       "      <td>150.0</td>\n",
       "      <td>5900.0</td>\n",
       "    </tr>\n",
       "    <tr>\n",
       "      <th>3</th>\n",
       "      <td>alfa-romeo</td>\n",
       "      <td>189500.0</td>\n",
       "      <td>150.0</td>\n",
       "      <td>4900.0</td>\n",
       "    </tr>\n",
       "    <tr>\n",
       "      <th>4</th>\n",
       "      <td>alfa-romeo</td>\n",
       "      <td>96127.0</td>\n",
       "      <td>179.0</td>\n",
       "      <td>17950.0</td>\n",
       "    </tr>\n",
       "    <tr>\n",
       "      <th>...</th>\n",
       "      <td>...</td>\n",
       "      <td>...</td>\n",
       "      <td>...</td>\n",
       "      <td>...</td>\n",
       "    </tr>\n",
       "    <tr>\n",
       "      <th>251074</th>\n",
       "      <td>volvo</td>\n",
       "      <td>1229.0</td>\n",
       "      <td>261.0</td>\n",
       "      <td>57990.0</td>\n",
       "    </tr>\n",
       "    <tr>\n",
       "      <th>251075</th>\n",
       "      <td>volvo</td>\n",
       "      <td>4900.0</td>\n",
       "      <td>235.0</td>\n",
       "      <td>89690.0</td>\n",
       "    </tr>\n",
       "    <tr>\n",
       "      <th>251076</th>\n",
       "      <td>volvo</td>\n",
       "      <td>1531.0</td>\n",
       "      <td>197.0</td>\n",
       "      <td>61521.0</td>\n",
       "    </tr>\n",
       "    <tr>\n",
       "      <th>251077</th>\n",
       "      <td>volvo</td>\n",
       "      <td>1500.0</td>\n",
       "      <td>179.0</td>\n",
       "      <td>57890.0</td>\n",
       "    </tr>\n",
       "    <tr>\n",
       "      <th>251078</th>\n",
       "      <td>volvo</td>\n",
       "      <td>50.0</td>\n",
       "      <td>218.0</td>\n",
       "      <td>52900.0</td>\n",
       "    </tr>\n",
       "  </tbody>\n",
       "</table>\n",
       "<p>251079 rows × 4 columns</p>\n",
       "</div>"
      ],
      "text/plain": [
       "             brand  mileage_in_km  power_ps  price_in_euro\n",
       "0       alfa-romeo       160500.0     201.0         1300.0\n",
       "1       alfa-romeo       190000.0     260.0        24900.0\n",
       "2       alfa-romeo       129000.0     150.0         5900.0\n",
       "3       alfa-romeo       189500.0     150.0         4900.0\n",
       "4       alfa-romeo        96127.0     179.0        17950.0\n",
       "...            ...            ...       ...            ...\n",
       "251074       volvo         1229.0     261.0        57990.0\n",
       "251075       volvo         4900.0     235.0        89690.0\n",
       "251076       volvo         1531.0     197.0        61521.0\n",
       "251077       volvo         1500.0     179.0        57890.0\n",
       "251078       volvo           50.0     218.0        52900.0\n",
       "\n",
       "[251079 rows x 4 columns]"
      ]
     },
     "execution_count": 16,
     "metadata": {},
     "output_type": "execute_result"
    }
   ],
   "source": [
    "t_bereinigt"
   ]
  },
  {
   "cell_type": "code",
   "execution_count": 17,
   "id": "71eb54dc-a77a-4367-a393-39fb1b922546",
   "metadata": {},
   "outputs": [
    {
     "name": "stdout",
     "output_type": "stream",
     "text": [
      "<class 'pandas.core.frame.DataFrame'>\n",
      "RangeIndex: 251079 entries, 0 to 251078\n",
      "Data columns (total 4 columns):\n",
      " #   Column         Non-Null Count   Dtype  \n",
      "---  ------         --------------   -----  \n",
      " 0   brand          251079 non-null  object \n",
      " 1   mileage_in_km  250927 non-null  float64\n",
      " 2   power_ps       250869 non-null  float64\n",
      " 3   price_in_euro  250880 non-null  float64\n",
      "dtypes: float64(3), object(1)\n",
      "memory usage: 7.7+ MB\n"
     ]
    }
   ],
   "source": [
    "t_bereinigt.info()"
   ]
  },
  {
   "cell_type": "code",
   "execution_count": 27,
   "id": "18013726-d0ae-4457-9abc-269cd41ba939",
   "metadata": {},
   "outputs": [],
   "source": [
    "import pandas\n",
    "fname = \"used_cars_autoscout24.csv\"\n",
    "t = pandas.read_csv(fname)\n",
    "t[\"power_ps\"] = pandas.to_numeric(t[\"power_ps\"], errors='coerce')\n",
    "t[\"price_in_euro\"] = pandas.to_numeric(t[\"price_in_euro\"], errors='coerce')\n",
    "t_bereinigt = t[ [\"brand\", \"mileage_in_km\", \"power_ps\", \"price_in_euro\"] ]\n",
    "t_bereinigt = t_bereinigt.dropna(axis=\"rows\")"
   ]
  },
  {
   "cell_type": "code",
   "execution_count": 28,
   "id": "b9730227-eaa9-4925-b05f-a418937fa154",
   "metadata": {},
   "outputs": [
    {
     "name": "stdout",
     "output_type": "stream",
     "text": [
      "<class 'pandas.core.frame.DataFrame'>\n",
      "Index: 250692 entries, 0 to 251078\n",
      "Data columns (total 4 columns):\n",
      " #   Column         Non-Null Count   Dtype  \n",
      "---  ------         --------------   -----  \n",
      " 0   brand          250692 non-null  object \n",
      " 1   mileage_in_km  250692 non-null  float64\n",
      " 2   power_ps       250692 non-null  float64\n",
      " 3   price_in_euro  250692 non-null  float64\n",
      "dtypes: float64(3), object(1)\n",
      "memory usage: 9.6+ MB\n"
     ]
    }
   ],
   "source": [
    "t_bereinigt.info()"
   ]
  },
  {
   "cell_type": "markdown",
   "id": "88b40054-8e20-417c-808d-0b94076a818e",
   "metadata": {},
   "source": [
    "x1-x47 (brand)      --->\n",
    "x48 (mileage_in_km) --->  Perceptron ---> y1 (price_in_euro)\n",
    "x49 (power_ps)      --->"
   ]
  },
  {
   "cell_type": "code",
   "execution_count": 37,
   "id": "2efe6381-bfd2-4c4a-b443-74a293faf985",
   "metadata": {},
   "outputs": [
    {
     "data": {
      "text/plain": [
       "array(['alfa-romeo', 'aston-martin', 'audi', 'bentley', 'bmw', 'cadillac',\n",
       "       'chevrolet', 'chrysler', 'citroen', 'dacia', 'daewoo', 'daihatsu',\n",
       "       'dodge', 'ferrari', 'fiat', 'ford', 'honda', 'hyundai', 'infiniti',\n",
       "       'isuzu', 'jaguar', 'jeep', 'kia', 'lada', 'lamborghini', 'lancia',\n",
       "       'land-rover', 'maserati', 'mazda', 'mercedes-benz', 'mini',\n",
       "       'mitsubishi', 'nissan', 'opel', 'peugeot', 'porsche', 'proton',\n",
       "       'renault', 'rover', 'saab', 'seat', 'skoda', 'smart', 'ssangyong',\n",
       "       'toyota', 'volkswagen', 'volvo'], dtype=object)"
      ]
     },
     "execution_count": 37,
     "metadata": {},
     "output_type": "execute_result"
    }
   ],
   "source": [
    "t_bereinigt[\"brand\"].unique()"
   ]
  },
  {
   "cell_type": "code",
   "execution_count": 38,
   "id": "94add44f-ff30-4e17-8f3b-1fc8fed2a8b6",
   "metadata": {},
   "outputs": [
    {
     "data": {
      "text/plain": [
       "47"
      ]
     },
     "execution_count": 38,
     "metadata": {},
     "output_type": "execute_result"
    }
   ],
   "source": [
    "len(t_bereinigt[\"brand\"].unique())"
   ]
  },
  {
   "cell_type": "code",
   "execution_count": 39,
   "id": "a1548127-1022-42f8-9e0f-2c49882f117f",
   "metadata": {},
   "outputs": [
    {
     "data": {
      "text/plain": [
       "47"
      ]
     },
     "execution_count": 39,
     "metadata": {},
     "output_type": "execute_result"
    }
   ],
   "source": [
    "t_bereinigt[\"brand\"].nunique()"
   ]
  },
  {
   "cell_type": "markdown",
   "id": "7c445533-7b23-41c2-b598-ad34eb75122c",
   "metadata": {},
   "source": [
    "# Exkurs: One-Hot-Encoding"
   ]
  },
  {
   "cell_type": "code",
   "execution_count": 41,
   "id": "7f7912e5-f35e-4ca6-89dd-6c1dec84b7de",
   "metadata": {},
   "outputs": [
    {
     "data": {
      "text/html": [
       "<div>\n",
       "<style scoped>\n",
       "    .dataframe tbody tr th:only-of-type {\n",
       "        vertical-align: middle;\n",
       "    }\n",
       "\n",
       "    .dataframe tbody tr th {\n",
       "        vertical-align: top;\n",
       "    }\n",
       "\n",
       "    .dataframe thead th {\n",
       "        text-align: right;\n",
       "    }\n",
       "</style>\n",
       "<table border=\"1\" class=\"dataframe\">\n",
       "  <thead>\n",
       "    <tr style=\"text-align: right;\">\n",
       "      <th></th>\n",
       "      <th>Modell</th>\n",
       "      <th>km-Stand</th>\n",
       "    </tr>\n",
       "  </thead>\n",
       "  <tbody>\n",
       "    <tr>\n",
       "      <th>0</th>\n",
       "      <td>bmw</td>\n",
       "      <td>10000</td>\n",
       "    </tr>\n",
       "    <tr>\n",
       "      <th>1</th>\n",
       "      <td>bmw</td>\n",
       "      <td>20000</td>\n",
       "    </tr>\n",
       "    <tr>\n",
       "      <th>2</th>\n",
       "      <td>audi</td>\n",
       "      <td>15000</td>\n",
       "    </tr>\n",
       "    <tr>\n",
       "      <th>3</th>\n",
       "      <td>vw</td>\n",
       "      <td>120000</td>\n",
       "    </tr>\n",
       "    <tr>\n",
       "      <th>4</th>\n",
       "      <td>volvo</td>\n",
       "      <td>200000</td>\n",
       "    </tr>\n",
       "  </tbody>\n",
       "</table>\n",
       "</div>"
      ],
      "text/plain": [
       "  Modell  km-Stand\n",
       "0    bmw     10000\n",
       "1    bmw     20000\n",
       "2   audi     15000\n",
       "3     vw    120000\n",
       "4  volvo    200000"
      ]
     },
     "execution_count": 41,
     "metadata": {},
     "output_type": "execute_result"
    }
   ],
   "source": [
    "d = {\"Modell\"   : [\"bmw\", \"bmw\", \"audi\", \"vw\", \"volvo\"],\n",
    "     \"km-Stand\" : [10000, 20000, 15000, 120000, 200000]}\n",
    "t2 = pandas.DataFrame(d)\n",
    "t2"
   ]
  },
  {
   "cell_type": "code",
   "execution_count": 42,
   "id": "11487970-e4f4-493c-bad3-deaff716d859",
   "metadata": {},
   "outputs": [
    {
     "data": {
      "text/plain": [
       "array(['bmw', 'audi', 'vw', 'volvo'], dtype=object)"
      ]
     },
     "execution_count": 42,
     "metadata": {},
     "output_type": "execute_result"
    }
   ],
   "source": [
    "t2[\"Modell\"].unique()"
   ]
  },
  {
   "cell_type": "code",
   "execution_count": 43,
   "id": "0b06ba88-e915-4d32-9b38-2df7c0e64da9",
   "metadata": {},
   "outputs": [
    {
     "data": {
      "text/html": [
       "<div>\n",
       "<style scoped>\n",
       "    .dataframe tbody tr th:only-of-type {\n",
       "        vertical-align: middle;\n",
       "    }\n",
       "\n",
       "    .dataframe tbody tr th {\n",
       "        vertical-align: top;\n",
       "    }\n",
       "\n",
       "    .dataframe thead th {\n",
       "        text-align: right;\n",
       "    }\n",
       "</style>\n",
       "<table border=\"1\" class=\"dataframe\">\n",
       "  <thead>\n",
       "    <tr style=\"text-align: right;\">\n",
       "      <th></th>\n",
       "      <th>km-Stand</th>\n",
       "      <th>Modell_audi</th>\n",
       "      <th>Modell_bmw</th>\n",
       "      <th>Modell_volvo</th>\n",
       "      <th>Modell_vw</th>\n",
       "    </tr>\n",
       "  </thead>\n",
       "  <tbody>\n",
       "    <tr>\n",
       "      <th>0</th>\n",
       "      <td>10000</td>\n",
       "      <td>False</td>\n",
       "      <td>True</td>\n",
       "      <td>False</td>\n",
       "      <td>False</td>\n",
       "    </tr>\n",
       "    <tr>\n",
       "      <th>1</th>\n",
       "      <td>20000</td>\n",
       "      <td>False</td>\n",
       "      <td>True</td>\n",
       "      <td>False</td>\n",
       "      <td>False</td>\n",
       "    </tr>\n",
       "    <tr>\n",
       "      <th>2</th>\n",
       "      <td>15000</td>\n",
       "      <td>True</td>\n",
       "      <td>False</td>\n",
       "      <td>False</td>\n",
       "      <td>False</td>\n",
       "    </tr>\n",
       "    <tr>\n",
       "      <th>3</th>\n",
       "      <td>120000</td>\n",
       "      <td>False</td>\n",
       "      <td>False</td>\n",
       "      <td>False</td>\n",
       "      <td>True</td>\n",
       "    </tr>\n",
       "    <tr>\n",
       "      <th>4</th>\n",
       "      <td>200000</td>\n",
       "      <td>False</td>\n",
       "      <td>False</td>\n",
       "      <td>True</td>\n",
       "      <td>False</td>\n",
       "    </tr>\n",
       "  </tbody>\n",
       "</table>\n",
       "</div>"
      ],
      "text/plain": [
       "   km-Stand  Modell_audi  Modell_bmw  Modell_volvo  Modell_vw\n",
       "0     10000        False        True         False      False\n",
       "1     20000        False        True         False      False\n",
       "2     15000         True       False         False      False\n",
       "3    120000        False       False         False       True\n",
       "4    200000        False       False          True      False"
      ]
     },
     "execution_count": 43,
     "metadata": {},
     "output_type": "execute_result"
    }
   ],
   "source": [
    "pandas.get_dummies(t2)"
   ]
  },
  {
   "cell_type": "code",
   "execution_count": 1,
   "id": "8beb04d5-b71c-49c4-81c0-ab8fb9b03469",
   "metadata": {},
   "outputs": [],
   "source": [
    "import pandas\n",
    "fname = \"used_cars_autoscout24.csv\"\n",
    "t = pandas.read_csv(fname)\n",
    "t[\"power_ps\"] = pandas.to_numeric(t[\"power_ps\"], errors='coerce')\n",
    "t[\"price_in_euro\"] = pandas.to_numeric(t[\"price_in_euro\"], errors='coerce')\n",
    "t_bereinigt = t[ [\"brand\", \"mileage_in_km\", \"power_ps\", \"price_in_euro\"] ]\n",
    "t_bereinigt = t_bereinigt.dropna(axis=\"rows\")\n",
    "t_bereinigt = pandas.get_dummies(t_bereinigt)"
   ]
  },
  {
   "cell_type": "code",
   "execution_count": 2,
   "id": "830197d9-4a22-413a-b1d5-3d582be4b5a9",
   "metadata": {},
   "outputs": [
    {
     "data": {
      "text/html": [
       "<div>\n",
       "<style scoped>\n",
       "    .dataframe tbody tr th:only-of-type {\n",
       "        vertical-align: middle;\n",
       "    }\n",
       "\n",
       "    .dataframe tbody tr th {\n",
       "        vertical-align: top;\n",
       "    }\n",
       "\n",
       "    .dataframe thead th {\n",
       "        text-align: right;\n",
       "    }\n",
       "</style>\n",
       "<table border=\"1\" class=\"dataframe\">\n",
       "  <thead>\n",
       "    <tr style=\"text-align: right;\">\n",
       "      <th></th>\n",
       "      <th>mileage_in_km</th>\n",
       "      <th>power_ps</th>\n",
       "      <th>price_in_euro</th>\n",
       "      <th>brand_alfa-romeo</th>\n",
       "      <th>brand_aston-martin</th>\n",
       "      <th>brand_audi</th>\n",
       "      <th>brand_bentley</th>\n",
       "      <th>brand_bmw</th>\n",
       "      <th>brand_cadillac</th>\n",
       "      <th>brand_chevrolet</th>\n",
       "      <th>...</th>\n",
       "      <th>brand_renault</th>\n",
       "      <th>brand_rover</th>\n",
       "      <th>brand_saab</th>\n",
       "      <th>brand_seat</th>\n",
       "      <th>brand_skoda</th>\n",
       "      <th>brand_smart</th>\n",
       "      <th>brand_ssangyong</th>\n",
       "      <th>brand_toyota</th>\n",
       "      <th>brand_volkswagen</th>\n",
       "      <th>brand_volvo</th>\n",
       "    </tr>\n",
       "  </thead>\n",
       "  <tbody>\n",
       "    <tr>\n",
       "      <th>0</th>\n",
       "      <td>160500.0</td>\n",
       "      <td>201.0</td>\n",
       "      <td>1300.0</td>\n",
       "      <td>True</td>\n",
       "      <td>False</td>\n",
       "      <td>False</td>\n",
       "      <td>False</td>\n",
       "      <td>False</td>\n",
       "      <td>False</td>\n",
       "      <td>False</td>\n",
       "      <td>...</td>\n",
       "      <td>False</td>\n",
       "      <td>False</td>\n",
       "      <td>False</td>\n",
       "      <td>False</td>\n",
       "      <td>False</td>\n",
       "      <td>False</td>\n",
       "      <td>False</td>\n",
       "      <td>False</td>\n",
       "      <td>False</td>\n",
       "      <td>False</td>\n",
       "    </tr>\n",
       "    <tr>\n",
       "      <th>1</th>\n",
       "      <td>190000.0</td>\n",
       "      <td>260.0</td>\n",
       "      <td>24900.0</td>\n",
       "      <td>True</td>\n",
       "      <td>False</td>\n",
       "      <td>False</td>\n",
       "      <td>False</td>\n",
       "      <td>False</td>\n",
       "      <td>False</td>\n",
       "      <td>False</td>\n",
       "      <td>...</td>\n",
       "      <td>False</td>\n",
       "      <td>False</td>\n",
       "      <td>False</td>\n",
       "      <td>False</td>\n",
       "      <td>False</td>\n",
       "      <td>False</td>\n",
       "      <td>False</td>\n",
       "      <td>False</td>\n",
       "      <td>False</td>\n",
       "      <td>False</td>\n",
       "    </tr>\n",
       "    <tr>\n",
       "      <th>2</th>\n",
       "      <td>129000.0</td>\n",
       "      <td>150.0</td>\n",
       "      <td>5900.0</td>\n",
       "      <td>True</td>\n",
       "      <td>False</td>\n",
       "      <td>False</td>\n",
       "      <td>False</td>\n",
       "      <td>False</td>\n",
       "      <td>False</td>\n",
       "      <td>False</td>\n",
       "      <td>...</td>\n",
       "      <td>False</td>\n",
       "      <td>False</td>\n",
       "      <td>False</td>\n",
       "      <td>False</td>\n",
       "      <td>False</td>\n",
       "      <td>False</td>\n",
       "      <td>False</td>\n",
       "      <td>False</td>\n",
       "      <td>False</td>\n",
       "      <td>False</td>\n",
       "    </tr>\n",
       "    <tr>\n",
       "      <th>3</th>\n",
       "      <td>189500.0</td>\n",
       "      <td>150.0</td>\n",
       "      <td>4900.0</td>\n",
       "      <td>True</td>\n",
       "      <td>False</td>\n",
       "      <td>False</td>\n",
       "      <td>False</td>\n",
       "      <td>False</td>\n",
       "      <td>False</td>\n",
       "      <td>False</td>\n",
       "      <td>...</td>\n",
       "      <td>False</td>\n",
       "      <td>False</td>\n",
       "      <td>False</td>\n",
       "      <td>False</td>\n",
       "      <td>False</td>\n",
       "      <td>False</td>\n",
       "      <td>False</td>\n",
       "      <td>False</td>\n",
       "      <td>False</td>\n",
       "      <td>False</td>\n",
       "    </tr>\n",
       "    <tr>\n",
       "      <th>4</th>\n",
       "      <td>96127.0</td>\n",
       "      <td>179.0</td>\n",
       "      <td>17950.0</td>\n",
       "      <td>True</td>\n",
       "      <td>False</td>\n",
       "      <td>False</td>\n",
       "      <td>False</td>\n",
       "      <td>False</td>\n",
       "      <td>False</td>\n",
       "      <td>False</td>\n",
       "      <td>...</td>\n",
       "      <td>False</td>\n",
       "      <td>False</td>\n",
       "      <td>False</td>\n",
       "      <td>False</td>\n",
       "      <td>False</td>\n",
       "      <td>False</td>\n",
       "      <td>False</td>\n",
       "      <td>False</td>\n",
       "      <td>False</td>\n",
       "      <td>False</td>\n",
       "    </tr>\n",
       "    <tr>\n",
       "      <th>...</th>\n",
       "      <td>...</td>\n",
       "      <td>...</td>\n",
       "      <td>...</td>\n",
       "      <td>...</td>\n",
       "      <td>...</td>\n",
       "      <td>...</td>\n",
       "      <td>...</td>\n",
       "      <td>...</td>\n",
       "      <td>...</td>\n",
       "      <td>...</td>\n",
       "      <td>...</td>\n",
       "      <td>...</td>\n",
       "      <td>...</td>\n",
       "      <td>...</td>\n",
       "      <td>...</td>\n",
       "      <td>...</td>\n",
       "      <td>...</td>\n",
       "      <td>...</td>\n",
       "      <td>...</td>\n",
       "      <td>...</td>\n",
       "      <td>...</td>\n",
       "    </tr>\n",
       "    <tr>\n",
       "      <th>251074</th>\n",
       "      <td>1229.0</td>\n",
       "      <td>261.0</td>\n",
       "      <td>57990.0</td>\n",
       "      <td>False</td>\n",
       "      <td>False</td>\n",
       "      <td>False</td>\n",
       "      <td>False</td>\n",
       "      <td>False</td>\n",
       "      <td>False</td>\n",
       "      <td>False</td>\n",
       "      <td>...</td>\n",
       "      <td>False</td>\n",
       "      <td>False</td>\n",
       "      <td>False</td>\n",
       "      <td>False</td>\n",
       "      <td>False</td>\n",
       "      <td>False</td>\n",
       "      <td>False</td>\n",
       "      <td>False</td>\n",
       "      <td>False</td>\n",
       "      <td>True</td>\n",
       "    </tr>\n",
       "    <tr>\n",
       "      <th>251075</th>\n",
       "      <td>4900.0</td>\n",
       "      <td>235.0</td>\n",
       "      <td>89690.0</td>\n",
       "      <td>False</td>\n",
       "      <td>False</td>\n",
       "      <td>False</td>\n",
       "      <td>False</td>\n",
       "      <td>False</td>\n",
       "      <td>False</td>\n",
       "      <td>False</td>\n",
       "      <td>...</td>\n",
       "      <td>False</td>\n",
       "      <td>False</td>\n",
       "      <td>False</td>\n",
       "      <td>False</td>\n",
       "      <td>False</td>\n",
       "      <td>False</td>\n",
       "      <td>False</td>\n",
       "      <td>False</td>\n",
       "      <td>False</td>\n",
       "      <td>True</td>\n",
       "    </tr>\n",
       "    <tr>\n",
       "      <th>251076</th>\n",
       "      <td>1531.0</td>\n",
       "      <td>197.0</td>\n",
       "      <td>61521.0</td>\n",
       "      <td>False</td>\n",
       "      <td>False</td>\n",
       "      <td>False</td>\n",
       "      <td>False</td>\n",
       "      <td>False</td>\n",
       "      <td>False</td>\n",
       "      <td>False</td>\n",
       "      <td>...</td>\n",
       "      <td>False</td>\n",
       "      <td>False</td>\n",
       "      <td>False</td>\n",
       "      <td>False</td>\n",
       "      <td>False</td>\n",
       "      <td>False</td>\n",
       "      <td>False</td>\n",
       "      <td>False</td>\n",
       "      <td>False</td>\n",
       "      <td>True</td>\n",
       "    </tr>\n",
       "    <tr>\n",
       "      <th>251077</th>\n",
       "      <td>1500.0</td>\n",
       "      <td>179.0</td>\n",
       "      <td>57890.0</td>\n",
       "      <td>False</td>\n",
       "      <td>False</td>\n",
       "      <td>False</td>\n",
       "      <td>False</td>\n",
       "      <td>False</td>\n",
       "      <td>False</td>\n",
       "      <td>False</td>\n",
       "      <td>...</td>\n",
       "      <td>False</td>\n",
       "      <td>False</td>\n",
       "      <td>False</td>\n",
       "      <td>False</td>\n",
       "      <td>False</td>\n",
       "      <td>False</td>\n",
       "      <td>False</td>\n",
       "      <td>False</td>\n",
       "      <td>False</td>\n",
       "      <td>True</td>\n",
       "    </tr>\n",
       "    <tr>\n",
       "      <th>251078</th>\n",
       "      <td>50.0</td>\n",
       "      <td>218.0</td>\n",
       "      <td>52900.0</td>\n",
       "      <td>False</td>\n",
       "      <td>False</td>\n",
       "      <td>False</td>\n",
       "      <td>False</td>\n",
       "      <td>False</td>\n",
       "      <td>False</td>\n",
       "      <td>False</td>\n",
       "      <td>...</td>\n",
       "      <td>False</td>\n",
       "      <td>False</td>\n",
       "      <td>False</td>\n",
       "      <td>False</td>\n",
       "      <td>False</td>\n",
       "      <td>False</td>\n",
       "      <td>False</td>\n",
       "      <td>False</td>\n",
       "      <td>False</td>\n",
       "      <td>True</td>\n",
       "    </tr>\n",
       "  </tbody>\n",
       "</table>\n",
       "<p>250692 rows × 50 columns</p>\n",
       "</div>"
      ],
      "text/plain": [
       "        mileage_in_km  power_ps  price_in_euro  brand_alfa-romeo  \\\n",
       "0            160500.0     201.0         1300.0              True   \n",
       "1            190000.0     260.0        24900.0              True   \n",
       "2            129000.0     150.0         5900.0              True   \n",
       "3            189500.0     150.0         4900.0              True   \n",
       "4             96127.0     179.0        17950.0              True   \n",
       "...               ...       ...            ...               ...   \n",
       "251074         1229.0     261.0        57990.0             False   \n",
       "251075         4900.0     235.0        89690.0             False   \n",
       "251076         1531.0     197.0        61521.0             False   \n",
       "251077         1500.0     179.0        57890.0             False   \n",
       "251078           50.0     218.0        52900.0             False   \n",
       "\n",
       "        brand_aston-martin  brand_audi  brand_bentley  brand_bmw  \\\n",
       "0                    False       False          False      False   \n",
       "1                    False       False          False      False   \n",
       "2                    False       False          False      False   \n",
       "3                    False       False          False      False   \n",
       "4                    False       False          False      False   \n",
       "...                    ...         ...            ...        ...   \n",
       "251074               False       False          False      False   \n",
       "251075               False       False          False      False   \n",
       "251076               False       False          False      False   \n",
       "251077               False       False          False      False   \n",
       "251078               False       False          False      False   \n",
       "\n",
       "        brand_cadillac  brand_chevrolet  ...  brand_renault  brand_rover  \\\n",
       "0                False            False  ...          False        False   \n",
       "1                False            False  ...          False        False   \n",
       "2                False            False  ...          False        False   \n",
       "3                False            False  ...          False        False   \n",
       "4                False            False  ...          False        False   \n",
       "...                ...              ...  ...            ...          ...   \n",
       "251074           False            False  ...          False        False   \n",
       "251075           False            False  ...          False        False   \n",
       "251076           False            False  ...          False        False   \n",
       "251077           False            False  ...          False        False   \n",
       "251078           False            False  ...          False        False   \n",
       "\n",
       "        brand_saab  brand_seat  brand_skoda  brand_smart  brand_ssangyong  \\\n",
       "0            False       False        False        False            False   \n",
       "1            False       False        False        False            False   \n",
       "2            False       False        False        False            False   \n",
       "3            False       False        False        False            False   \n",
       "4            False       False        False        False            False   \n",
       "...            ...         ...          ...          ...              ...   \n",
       "251074       False       False        False        False            False   \n",
       "251075       False       False        False        False            False   \n",
       "251076       False       False        False        False            False   \n",
       "251077       False       False        False        False            False   \n",
       "251078       False       False        False        False            False   \n",
       "\n",
       "        brand_toyota  brand_volkswagen  brand_volvo  \n",
       "0              False             False        False  \n",
       "1              False             False        False  \n",
       "2              False             False        False  \n",
       "3              False             False        False  \n",
       "4              False             False        False  \n",
       "...              ...               ...          ...  \n",
       "251074         False             False         True  \n",
       "251075         False             False         True  \n",
       "251076         False             False         True  \n",
       "251077         False             False         True  \n",
       "251078         False             False         True  \n",
       "\n",
       "[250692 rows x 50 columns]"
      ]
     },
     "execution_count": 2,
     "metadata": {},
     "output_type": "execute_result"
    }
   ],
   "source": [
    "t_bereinigt"
   ]
  },
  {
   "cell_type": "markdown",
   "id": "d51bab74-1ee2-4035-9d45-869476abcb7a",
   "metadata": {},
   "source": [
    "# Daten fürs ML vorbereiten"
   ]
  },
  {
   "cell_type": "code",
   "execution_count": 3,
   "id": "e7b0d57d-41ad-47fa-8d67-92f31f1393be",
   "metadata": {},
   "outputs": [
    {
     "data": {
      "text/html": [
       "<div>\n",
       "<style scoped>\n",
       "    .dataframe tbody tr th:only-of-type {\n",
       "        vertical-align: middle;\n",
       "    }\n",
       "\n",
       "    .dataframe tbody tr th {\n",
       "        vertical-align: top;\n",
       "    }\n",
       "\n",
       "    .dataframe thead th {\n",
       "        text-align: right;\n",
       "    }\n",
       "</style>\n",
       "<table border=\"1\" class=\"dataframe\">\n",
       "  <thead>\n",
       "    <tr style=\"text-align: right;\">\n",
       "      <th></th>\n",
       "      <th>mileage_in_km</th>\n",
       "      <th>power_ps</th>\n",
       "      <th>price_in_euro</th>\n",
       "    </tr>\n",
       "  </thead>\n",
       "  <tbody>\n",
       "    <tr>\n",
       "      <th>count</th>\n",
       "      <td>2.506920e+05</td>\n",
       "      <td>250692.000000</td>\n",
       "      <td>2.506920e+05</td>\n",
       "    </tr>\n",
       "    <tr>\n",
       "      <th>mean</th>\n",
       "      <td>8.537758e+04</td>\n",
       "      <td>171.704510</td>\n",
       "      <td>2.611698e+04</td>\n",
       "    </tr>\n",
       "    <tr>\n",
       "      <th>std</th>\n",
       "      <td>7.872525e+04</td>\n",
       "      <td>97.897378</td>\n",
       "      <td>3.685962e+04</td>\n",
       "    </tr>\n",
       "    <tr>\n",
       "      <th>min</th>\n",
       "      <td>0.000000e+00</td>\n",
       "      <td>1.000000</td>\n",
       "      <td>1.200000e+02</td>\n",
       "    </tr>\n",
       "    <tr>\n",
       "      <th>25%</th>\n",
       "      <td>2.495975e+04</td>\n",
       "      <td>111.000000</td>\n",
       "      <td>1.199000e+04</td>\n",
       "    </tr>\n",
       "    <tr>\n",
       "      <th>50%</th>\n",
       "      <td>6.752900e+04</td>\n",
       "      <td>150.000000</td>\n",
       "      <td>1.989000e+04</td>\n",
       "    </tr>\n",
       "    <tr>\n",
       "      <th>75%</th>\n",
       "      <td>1.265500e+05</td>\n",
       "      <td>190.000000</td>\n",
       "      <td>2.995000e+04</td>\n",
       "    </tr>\n",
       "    <tr>\n",
       "      <th>max</th>\n",
       "      <td>3.800000e+06</td>\n",
       "      <td>999.000000</td>\n",
       "      <td>5.890500e+06</td>\n",
       "    </tr>\n",
       "  </tbody>\n",
       "</table>\n",
       "</div>"
      ],
      "text/plain": [
       "       mileage_in_km       power_ps  price_in_euro\n",
       "count   2.506920e+05  250692.000000   2.506920e+05\n",
       "mean    8.537758e+04     171.704510   2.611698e+04\n",
       "std     7.872525e+04      97.897378   3.685962e+04\n",
       "min     0.000000e+00       1.000000   1.200000e+02\n",
       "25%     2.495975e+04     111.000000   1.199000e+04\n",
       "50%     6.752900e+04     150.000000   1.989000e+04\n",
       "75%     1.265500e+05     190.000000   2.995000e+04\n",
       "max     3.800000e+06     999.000000   5.890500e+06"
      ]
     },
     "execution_count": 3,
     "metadata": {},
     "output_type": "execute_result"
    }
   ],
   "source": [
    "t_bereinigt.describe()"
   ]
  },
  {
   "cell_type": "markdown",
   "id": "f550235f-2401-4552-addf-796d08a0ddf6",
   "metadata": {},
   "source": [
    "## Input-/Output-Split"
   ]
  },
  {
   "cell_type": "code",
   "execution_count": 6,
   "id": "d13869e9-c11b-4ad6-9947-df97ac4701a8",
   "metadata": {},
   "outputs": [],
   "source": [
    "x = t_bereinigt.drop(\"price_in_euro\", axis=\"columns\")\n",
    "y = t_bereinigt[ [\"price_in_euro\"] ]"
   ]
  },
  {
   "cell_type": "code",
   "execution_count": 7,
   "id": "963bc319-a10f-43ed-89a0-381793f66fdd",
   "metadata": {},
   "outputs": [
    {
     "data": {
      "text/plain": [
       "(250692, 49)"
      ]
     },
     "execution_count": 7,
     "metadata": {},
     "output_type": "execute_result"
    }
   ],
   "source": [
    "x.shape"
   ]
  },
  {
   "cell_type": "code",
   "execution_count": 8,
   "id": "b2b905fd-1344-41f4-9139-c4a417c240e9",
   "metadata": {},
   "outputs": [
    {
     "data": {
      "text/plain": [
       "(250692, 1)"
      ]
     },
     "execution_count": 8,
     "metadata": {},
     "output_type": "execute_result"
    }
   ],
   "source": [
    "y.shape"
   ]
  },
  {
   "cell_type": "markdown",
   "id": "6ea13021-0185-43ce-9e9b-cbb5dbf5a779",
   "metadata": {},
   "source": [
    "## Train-/Test-Split"
   ]
  },
  {
   "cell_type": "code",
   "execution_count": 10,
   "id": "e0a6fd75-7698-4ee0-a838-3abb491a24a6",
   "metadata": {},
   "outputs": [
    {
     "name": "stdout",
     "output_type": "stream",
     "text": [
      "Requirement already satisfied: scikit-learn in /home/juebrauer/miniconda3/envs/env_ss24/lib/python3.12/site-packages (1.5.0)\n",
      "Requirement already satisfied: numpy>=1.19.5 in /home/juebrauer/miniconda3/envs/env_ss24/lib/python3.12/site-packages (from scikit-learn) (1.26.4)\n",
      "Requirement already satisfied: scipy>=1.6.0 in /home/juebrauer/miniconda3/envs/env_ss24/lib/python3.12/site-packages (from scikit-learn) (1.13.1)\n",
      "Requirement already satisfied: joblib>=1.2.0 in /home/juebrauer/miniconda3/envs/env_ss24/lib/python3.12/site-packages (from scikit-learn) (1.4.2)\n",
      "Requirement already satisfied: threadpoolctl>=3.1.0 in /home/juebrauer/miniconda3/envs/env_ss24/lib/python3.12/site-packages (from scikit-learn) (3.5.0)\n"
     ]
    }
   ],
   "source": [
    "!pip install scikit-learn"
   ]
  },
  {
   "cell_type": "code",
   "execution_count": 26,
   "id": "b7c1b09c-be89-4c1c-8308-09d7f4c0813c",
   "metadata": {},
   "outputs": [],
   "source": [
    "from sklearn.model_selection import train_test_split\n",
    "x_train, x_test, y_train, y_test = train_test_split(x, y, test_size=0.2)"
   ]
  },
  {
   "cell_type": "code",
   "execution_count": 27,
   "id": "6df7b3ba-744b-4438-b2bd-f43236ad3101",
   "metadata": {},
   "outputs": [
    {
     "data": {
      "text/plain": [
       "(200553, 49)"
      ]
     },
     "execution_count": 27,
     "metadata": {},
     "output_type": "execute_result"
    }
   ],
   "source": [
    "x_train.shape"
   ]
  },
  {
   "cell_type": "code",
   "execution_count": 28,
   "id": "464b708d-52b3-41d2-a704-a2829a636bb8",
   "metadata": {},
   "outputs": [
    {
     "data": {
      "text/plain": [
       "(200553, 1)"
      ]
     },
     "execution_count": 28,
     "metadata": {},
     "output_type": "execute_result"
    }
   ],
   "source": [
    "y_train.shape"
   ]
  },
  {
   "cell_type": "code",
   "execution_count": 29,
   "id": "5d215345-b34e-40c7-84e6-67f0c6b89b0b",
   "metadata": {},
   "outputs": [
    {
     "data": {
      "text/plain": [
       "(50139, 49)"
      ]
     },
     "execution_count": 29,
     "metadata": {},
     "output_type": "execute_result"
    }
   ],
   "source": [
    "x_test.shape"
   ]
  },
  {
   "cell_type": "code",
   "execution_count": 30,
   "id": "876f00e4-fd15-48ac-834e-4cd1001124ea",
   "metadata": {},
   "outputs": [
    {
     "data": {
      "text/plain": [
       "(50139, 1)"
      ]
     },
     "execution_count": 30,
     "metadata": {},
     "output_type": "execute_result"
    }
   ],
   "source": [
    "y_test.shape"
   ]
  },
  {
   "cell_type": "markdown",
   "id": "a4ec4c91-0436-4ca5-942c-93baf93eae08",
   "metadata": {},
   "source": [
    "## Skalierung der Daten"
   ]
  },
  {
   "cell_type": "code",
   "execution_count": 31,
   "id": "08dc155c-1c49-4551-93e3-68903803a6b1",
   "metadata": {},
   "outputs": [
    {
     "data": {
      "text/html": [
       "<div>\n",
       "<style scoped>\n",
       "    .dataframe tbody tr th:only-of-type {\n",
       "        vertical-align: middle;\n",
       "    }\n",
       "\n",
       "    .dataframe tbody tr th {\n",
       "        vertical-align: top;\n",
       "    }\n",
       "\n",
       "    .dataframe thead th {\n",
       "        text-align: right;\n",
       "    }\n",
       "</style>\n",
       "<table border=\"1\" class=\"dataframe\">\n",
       "  <thead>\n",
       "    <tr style=\"text-align: right;\">\n",
       "      <th></th>\n",
       "      <th>S1</th>\n",
       "      <th>S2</th>\n",
       "    </tr>\n",
       "  </thead>\n",
       "  <tbody>\n",
       "    <tr>\n",
       "      <th>0</th>\n",
       "      <td>-50</td>\n",
       "      <td>-1000</td>\n",
       "    </tr>\n",
       "    <tr>\n",
       "      <th>1</th>\n",
       "      <td>50</td>\n",
       "      <td>0</td>\n",
       "    </tr>\n",
       "    <tr>\n",
       "      <th>2</th>\n",
       "      <td>0</td>\n",
       "      <td>1000</td>\n",
       "    </tr>\n",
       "    <tr>\n",
       "      <th>3</th>\n",
       "      <td>25</td>\n",
       "      <td>500</td>\n",
       "    </tr>\n",
       "    <tr>\n",
       "      <th>4</th>\n",
       "      <td>25</td>\n",
       "      <td>-250</td>\n",
       "    </tr>\n",
       "  </tbody>\n",
       "</table>\n",
       "</div>"
      ],
      "text/plain": [
       "   S1    S2\n",
       "0 -50 -1000\n",
       "1  50     0\n",
       "2   0  1000\n",
       "3  25   500\n",
       "4  25  -250"
      ]
     },
     "execution_count": 31,
     "metadata": {},
     "output_type": "execute_result"
    }
   ],
   "source": [
    "d = {\"S1\" : [-50, +50, 0, 25, 25],\n",
    "     \"S2\" : [-1000, 0, +1000, 500, -250]}\n",
    "t2 = pandas.DataFrame(d)\n",
    "t2"
   ]
  },
  {
   "cell_type": "code",
   "execution_count": 34,
   "id": "880bc00c-934e-4f29-b215-6be2365e9b8c",
   "metadata": {},
   "outputs": [
    {
     "data": {
      "text/plain": [
       "array([[0.   , 0.   ],\n",
       "       [1.   , 0.5  ],\n",
       "       [0.5  , 1.   ],\n",
       "       [0.75 , 0.75 ],\n",
       "       [0.75 , 0.375]])"
      ]
     },
     "execution_count": 34,
     "metadata": {},
     "output_type": "execute_result"
    }
   ],
   "source": [
    "from sklearn.preprocessing import MinMaxScaler\n",
    "s = MinMaxScaler(feature_range=(0,1))\n",
    "s.fit(t2)\n",
    "s.transform(t2)"
   ]
  },
  {
   "cell_type": "code",
   "execution_count": 35,
   "id": "59fe4126-e907-4a68-a4fd-2138300b4683",
   "metadata": {},
   "outputs": [],
   "source": [
    "from sklearn.preprocessing import MinMaxScaler\n",
    "s_input = MinMaxScaler(feature_range=(0,1))\n",
    "s_output = MinMaxScaler(feature_range=(0,1))\n",
    "s_input.fit(x_train)\n",
    "s_output.fit(y_train)\n",
    "x_train_scaled = s_input.transform(x_train)\n",
    "y_train_scaled = s_output.transform(y_train)"
   ]
  },
  {
   "cell_type": "code",
   "execution_count": 38,
   "id": "329213b5-f0e3-4ca1-8ba2-b7f90581fa08",
   "metadata": {},
   "outputs": [
    {
     "data": {
      "text/plain": [
       "array([[0.00269422],\n",
       "       [0.00557349],\n",
       "       [0.00277741],\n",
       "       ...,\n",
       "       [0.00379093],\n",
       "       [0.00455488],\n",
       "       [0.0013376 ]])"
      ]
     },
     "execution_count": 38,
     "metadata": {},
     "output_type": "execute_result"
    }
   ],
   "source": [
    "y_train_scaled"
   ]
  },
  {
   "cell_type": "code",
   "execution_count": 37,
   "id": "7be6fd93-7ce8-4814-9804-3f6f48e0cdcc",
   "metadata": {},
   "outputs": [
    {
     "data": {
      "text/html": [
       "<div>\n",
       "<style scoped>\n",
       "    .dataframe tbody tr th:only-of-type {\n",
       "        vertical-align: middle;\n",
       "    }\n",
       "\n",
       "    .dataframe tbody tr th {\n",
       "        vertical-align: top;\n",
       "    }\n",
       "\n",
       "    .dataframe thead th {\n",
       "        text-align: right;\n",
       "    }\n",
       "</style>\n",
       "<table border=\"1\" class=\"dataframe\">\n",
       "  <thead>\n",
       "    <tr style=\"text-align: right;\">\n",
       "      <th></th>\n",
       "      <th>mileage_in_km</th>\n",
       "      <th>power_ps</th>\n",
       "      <th>brand_alfa-romeo</th>\n",
       "      <th>brand_aston-martin</th>\n",
       "      <th>brand_audi</th>\n",
       "      <th>brand_bentley</th>\n",
       "      <th>brand_bmw</th>\n",
       "      <th>brand_cadillac</th>\n",
       "      <th>brand_chevrolet</th>\n",
       "      <th>brand_chrysler</th>\n",
       "      <th>...</th>\n",
       "      <th>brand_renault</th>\n",
       "      <th>brand_rover</th>\n",
       "      <th>brand_saab</th>\n",
       "      <th>brand_seat</th>\n",
       "      <th>brand_skoda</th>\n",
       "      <th>brand_smart</th>\n",
       "      <th>brand_ssangyong</th>\n",
       "      <th>brand_toyota</th>\n",
       "      <th>brand_volkswagen</th>\n",
       "      <th>brand_volvo</th>\n",
       "    </tr>\n",
       "  </thead>\n",
       "  <tbody>\n",
       "    <tr>\n",
       "      <th>56171</th>\n",
       "      <td>24400.0</td>\n",
       "      <td>69.0</td>\n",
       "      <td>False</td>\n",
       "      <td>False</td>\n",
       "      <td>False</td>\n",
       "      <td>False</td>\n",
       "      <td>False</td>\n",
       "      <td>False</td>\n",
       "      <td>False</td>\n",
       "      <td>False</td>\n",
       "      <td>...</td>\n",
       "      <td>False</td>\n",
       "      <td>False</td>\n",
       "      <td>False</td>\n",
       "      <td>False</td>\n",
       "      <td>False</td>\n",
       "      <td>False</td>\n",
       "      <td>False</td>\n",
       "      <td>False</td>\n",
       "      <td>False</td>\n",
       "      <td>False</td>\n",
       "    </tr>\n",
       "    <tr>\n",
       "      <th>15586</th>\n",
       "      <td>94596.0</td>\n",
       "      <td>122.0</td>\n",
       "      <td>False</td>\n",
       "      <td>False</td>\n",
       "      <td>True</td>\n",
       "      <td>False</td>\n",
       "      <td>False</td>\n",
       "      <td>False</td>\n",
       "      <td>False</td>\n",
       "      <td>False</td>\n",
       "      <td>...</td>\n",
       "      <td>False</td>\n",
       "      <td>False</td>\n",
       "      <td>False</td>\n",
       "      <td>False</td>\n",
       "      <td>False</td>\n",
       "      <td>False</td>\n",
       "      <td>False</td>\n",
       "      <td>False</td>\n",
       "      <td>False</td>\n",
       "      <td>False</td>\n",
       "    </tr>\n",
       "    <tr>\n",
       "      <th>240583</th>\n",
       "      <td>92470.0</td>\n",
       "      <td>116.0</td>\n",
       "      <td>False</td>\n",
       "      <td>False</td>\n",
       "      <td>False</td>\n",
       "      <td>False</td>\n",
       "      <td>False</td>\n",
       "      <td>False</td>\n",
       "      <td>False</td>\n",
       "      <td>False</td>\n",
       "      <td>...</td>\n",
       "      <td>False</td>\n",
       "      <td>False</td>\n",
       "      <td>False</td>\n",
       "      <td>False</td>\n",
       "      <td>False</td>\n",
       "      <td>False</td>\n",
       "      <td>False</td>\n",
       "      <td>False</td>\n",
       "      <td>True</td>\n",
       "      <td>False</td>\n",
       "    </tr>\n",
       "    <tr>\n",
       "      <th>76324</th>\n",
       "      <td>10.0</td>\n",
       "      <td>205.0</td>\n",
       "      <td>False</td>\n",
       "      <td>False</td>\n",
       "      <td>False</td>\n",
       "      <td>False</td>\n",
       "      <td>False</td>\n",
       "      <td>False</td>\n",
       "      <td>False</td>\n",
       "      <td>False</td>\n",
       "      <td>...</td>\n",
       "      <td>False</td>\n",
       "      <td>False</td>\n",
       "      <td>False</td>\n",
       "      <td>False</td>\n",
       "      <td>False</td>\n",
       "      <td>False</td>\n",
       "      <td>False</td>\n",
       "      <td>False</td>\n",
       "      <td>False</td>\n",
       "      <td>False</td>\n",
       "    </tr>\n",
       "    <tr>\n",
       "      <th>71646</th>\n",
       "      <td>49976.0</td>\n",
       "      <td>457.0</td>\n",
       "      <td>False</td>\n",
       "      <td>False</td>\n",
       "      <td>False</td>\n",
       "      <td>False</td>\n",
       "      <td>False</td>\n",
       "      <td>False</td>\n",
       "      <td>False</td>\n",
       "      <td>False</td>\n",
       "      <td>...</td>\n",
       "      <td>False</td>\n",
       "      <td>False</td>\n",
       "      <td>False</td>\n",
       "      <td>False</td>\n",
       "      <td>False</td>\n",
       "      <td>False</td>\n",
       "      <td>False</td>\n",
       "      <td>False</td>\n",
       "      <td>False</td>\n",
       "      <td>False</td>\n",
       "    </tr>\n",
       "    <tr>\n",
       "      <th>...</th>\n",
       "      <td>...</td>\n",
       "      <td>...</td>\n",
       "      <td>...</td>\n",
       "      <td>...</td>\n",
       "      <td>...</td>\n",
       "      <td>...</td>\n",
       "      <td>...</td>\n",
       "      <td>...</td>\n",
       "      <td>...</td>\n",
       "      <td>...</td>\n",
       "      <td>...</td>\n",
       "      <td>...</td>\n",
       "      <td>...</td>\n",
       "      <td>...</td>\n",
       "      <td>...</td>\n",
       "      <td>...</td>\n",
       "      <td>...</td>\n",
       "      <td>...</td>\n",
       "      <td>...</td>\n",
       "      <td>...</td>\n",
       "      <td>...</td>\n",
       "    </tr>\n",
       "    <tr>\n",
       "      <th>74514</th>\n",
       "      <td>15.0</td>\n",
       "      <td>170.0</td>\n",
       "      <td>False</td>\n",
       "      <td>False</td>\n",
       "      <td>False</td>\n",
       "      <td>False</td>\n",
       "      <td>False</td>\n",
       "      <td>False</td>\n",
       "      <td>False</td>\n",
       "      <td>False</td>\n",
       "      <td>...</td>\n",
       "      <td>False</td>\n",
       "      <td>False</td>\n",
       "      <td>False</td>\n",
       "      <td>False</td>\n",
       "      <td>False</td>\n",
       "      <td>False</td>\n",
       "      <td>False</td>\n",
       "      <td>False</td>\n",
       "      <td>False</td>\n",
       "      <td>False</td>\n",
       "    </tr>\n",
       "    <tr>\n",
       "      <th>68448</th>\n",
       "      <td>76200.0</td>\n",
       "      <td>250.0</td>\n",
       "      <td>False</td>\n",
       "      <td>False</td>\n",
       "      <td>False</td>\n",
       "      <td>False</td>\n",
       "      <td>False</td>\n",
       "      <td>False</td>\n",
       "      <td>False</td>\n",
       "      <td>False</td>\n",
       "      <td>...</td>\n",
       "      <td>False</td>\n",
       "      <td>False</td>\n",
       "      <td>False</td>\n",
       "      <td>False</td>\n",
       "      <td>False</td>\n",
       "      <td>False</td>\n",
       "      <td>False</td>\n",
       "      <td>False</td>\n",
       "      <td>False</td>\n",
       "      <td>False</td>\n",
       "    </tr>\n",
       "    <tr>\n",
       "      <th>116056</th>\n",
       "      <td>110000.0</td>\n",
       "      <td>170.0</td>\n",
       "      <td>False</td>\n",
       "      <td>False</td>\n",
       "      <td>False</td>\n",
       "      <td>False</td>\n",
       "      <td>False</td>\n",
       "      <td>False</td>\n",
       "      <td>False</td>\n",
       "      <td>False</td>\n",
       "      <td>...</td>\n",
       "      <td>False</td>\n",
       "      <td>False</td>\n",
       "      <td>False</td>\n",
       "      <td>False</td>\n",
       "      <td>False</td>\n",
       "      <td>False</td>\n",
       "      <td>False</td>\n",
       "      <td>False</td>\n",
       "      <td>False</td>\n",
       "      <td>False</td>\n",
       "    </tr>\n",
       "    <tr>\n",
       "      <th>18894</th>\n",
       "      <td>40768.0</td>\n",
       "      <td>150.0</td>\n",
       "      <td>False</td>\n",
       "      <td>False</td>\n",
       "      <td>True</td>\n",
       "      <td>False</td>\n",
       "      <td>False</td>\n",
       "      <td>False</td>\n",
       "      <td>False</td>\n",
       "      <td>False</td>\n",
       "      <td>...</td>\n",
       "      <td>False</td>\n",
       "      <td>False</td>\n",
       "      <td>False</td>\n",
       "      <td>False</td>\n",
       "      <td>False</td>\n",
       "      <td>False</td>\n",
       "      <td>False</td>\n",
       "      <td>False</td>\n",
       "      <td>False</td>\n",
       "      <td>False</td>\n",
       "    </tr>\n",
       "    <tr>\n",
       "      <th>220037</th>\n",
       "      <td>147000.0</td>\n",
       "      <td>122.0</td>\n",
       "      <td>False</td>\n",
       "      <td>False</td>\n",
       "      <td>False</td>\n",
       "      <td>False</td>\n",
       "      <td>False</td>\n",
       "      <td>False</td>\n",
       "      <td>False</td>\n",
       "      <td>False</td>\n",
       "      <td>...</td>\n",
       "      <td>False</td>\n",
       "      <td>False</td>\n",
       "      <td>False</td>\n",
       "      <td>False</td>\n",
       "      <td>False</td>\n",
       "      <td>False</td>\n",
       "      <td>False</td>\n",
       "      <td>False</td>\n",
       "      <td>True</td>\n",
       "      <td>False</td>\n",
       "    </tr>\n",
       "  </tbody>\n",
       "</table>\n",
       "<p>200553 rows × 49 columns</p>\n",
       "</div>"
      ],
      "text/plain": [
       "        mileage_in_km  power_ps  brand_alfa-romeo  brand_aston-martin  \\\n",
       "56171         24400.0      69.0             False               False   \n",
       "15586         94596.0     122.0             False               False   \n",
       "240583        92470.0     116.0             False               False   \n",
       "76324            10.0     205.0             False               False   \n",
       "71646         49976.0     457.0             False               False   \n",
       "...               ...       ...               ...                 ...   \n",
       "74514            15.0     170.0             False               False   \n",
       "68448         76200.0     250.0             False               False   \n",
       "116056       110000.0     170.0             False               False   \n",
       "18894         40768.0     150.0             False               False   \n",
       "220037       147000.0     122.0             False               False   \n",
       "\n",
       "        brand_audi  brand_bentley  brand_bmw  brand_cadillac  brand_chevrolet  \\\n",
       "56171        False          False      False           False            False   \n",
       "15586         True          False      False           False            False   \n",
       "240583       False          False      False           False            False   \n",
       "76324        False          False      False           False            False   \n",
       "71646        False          False      False           False            False   \n",
       "...            ...            ...        ...             ...              ...   \n",
       "74514        False          False      False           False            False   \n",
       "68448        False          False      False           False            False   \n",
       "116056       False          False      False           False            False   \n",
       "18894         True          False      False           False            False   \n",
       "220037       False          False      False           False            False   \n",
       "\n",
       "        brand_chrysler  ...  brand_renault  brand_rover  brand_saab  \\\n",
       "56171            False  ...          False        False       False   \n",
       "15586            False  ...          False        False       False   \n",
       "240583           False  ...          False        False       False   \n",
       "76324            False  ...          False        False       False   \n",
       "71646            False  ...          False        False       False   \n",
       "...                ...  ...            ...          ...         ...   \n",
       "74514            False  ...          False        False       False   \n",
       "68448            False  ...          False        False       False   \n",
       "116056           False  ...          False        False       False   \n",
       "18894            False  ...          False        False       False   \n",
       "220037           False  ...          False        False       False   \n",
       "\n",
       "        brand_seat  brand_skoda  brand_smart  brand_ssangyong  brand_toyota  \\\n",
       "56171        False        False        False            False         False   \n",
       "15586        False        False        False            False         False   \n",
       "240583       False        False        False            False         False   \n",
       "76324        False        False        False            False         False   \n",
       "71646        False        False        False            False         False   \n",
       "...            ...          ...          ...              ...           ...   \n",
       "74514        False        False        False            False         False   \n",
       "68448        False        False        False            False         False   \n",
       "116056       False        False        False            False         False   \n",
       "18894        False        False        False            False         False   \n",
       "220037       False        False        False            False         False   \n",
       "\n",
       "        brand_volkswagen  brand_volvo  \n",
       "56171              False        False  \n",
       "15586              False        False  \n",
       "240583              True        False  \n",
       "76324              False        False  \n",
       "71646              False        False  \n",
       "...                  ...          ...  \n",
       "74514              False        False  \n",
       "68448              False        False  \n",
       "116056             False        False  \n",
       "18894              False        False  \n",
       "220037              True        False  \n",
       "\n",
       "[200553 rows x 49 columns]"
      ]
     },
     "execution_count": 37,
     "metadata": {},
     "output_type": "execute_result"
    }
   ],
   "source": [
    "x_train"
   ]
  },
  {
   "cell_type": "markdown",
   "id": "c5c2c4e9-7ec2-4504-8139-4dc9d4e09137",
   "metadata": {},
   "source": [
    "# Alles Bisherige in einer Codezelle"
   ]
  },
  {
   "cell_type": "code",
   "execution_count": 1,
   "id": "579d65a7-295c-4f23-a07b-c3be9ed3c1d2",
   "metadata": {},
   "outputs": [],
   "source": [
    "import pandas\n",
    "fname = \"used_cars_autoscout24.csv\"\n",
    "t = pandas.read_csv(fname)\n",
    "t[\"power_ps\"] = pandas.to_numeric(t[\"power_ps\"], errors='coerce')\n",
    "t[\"price_in_euro\"] = pandas.to_numeric(t[\"price_in_euro\"], errors='coerce')\n",
    "t_bereinigt = t[ [\"brand\", \"mileage_in_km\", \"power_ps\", \"price_in_euro\"] ]\n",
    "t_bereinigt = t_bereinigt.dropna(axis=\"rows\")\n",
    "t_bereinigt = pandas.get_dummies(t_bereinigt)\n",
    "\n",
    "x = t_bereinigt.drop(\"price_in_euro\", axis=\"columns\")\n",
    "y = t_bereinigt[ [\"price_in_euro\"] ]\n",
    "\n",
    "from sklearn.model_selection import train_test_split\n",
    "x_train, x_test, y_train, y_test = train_test_split(x, y, test_size=0.2)\n",
    "\n",
    "from sklearn.preprocessing import MinMaxScaler\n",
    "s_input = MinMaxScaler(feature_range=(0,1))\n",
    "s_output = MinMaxScaler(feature_range=(0,1))\n",
    "s_input.fit(x_train)\n",
    "s_output.fit(y_train)\n",
    "x_train_scaled = s_input.transform(x_train)\n",
    "y_train_scaled = s_output.transform(y_train)"
   ]
  },
  {
   "cell_type": "code",
   "execution_count": 2,
   "id": "180521e6-6375-4a60-95ff-2264f63718f1",
   "metadata": {},
   "outputs": [
    {
     "data": {
      "text/html": [
       "<div>\n",
       "<style scoped>\n",
       "    .dataframe tbody tr th:only-of-type {\n",
       "        vertical-align: middle;\n",
       "    }\n",
       "\n",
       "    .dataframe tbody tr th {\n",
       "        vertical-align: top;\n",
       "    }\n",
       "\n",
       "    .dataframe thead th {\n",
       "        text-align: right;\n",
       "    }\n",
       "</style>\n",
       "<table border=\"1\" class=\"dataframe\">\n",
       "  <thead>\n",
       "    <tr style=\"text-align: right;\">\n",
       "      <th></th>\n",
       "      <th>mileage_in_km</th>\n",
       "      <th>power_ps</th>\n",
       "      <th>brand_alfa-romeo</th>\n",
       "      <th>brand_aston-martin</th>\n",
       "      <th>brand_audi</th>\n",
       "      <th>brand_bentley</th>\n",
       "      <th>brand_bmw</th>\n",
       "      <th>brand_cadillac</th>\n",
       "      <th>brand_chevrolet</th>\n",
       "      <th>brand_chrysler</th>\n",
       "      <th>...</th>\n",
       "      <th>brand_renault</th>\n",
       "      <th>brand_rover</th>\n",
       "      <th>brand_saab</th>\n",
       "      <th>brand_seat</th>\n",
       "      <th>brand_skoda</th>\n",
       "      <th>brand_smart</th>\n",
       "      <th>brand_ssangyong</th>\n",
       "      <th>brand_toyota</th>\n",
       "      <th>brand_volkswagen</th>\n",
       "      <th>brand_volvo</th>\n",
       "    </tr>\n",
       "  </thead>\n",
       "  <tbody>\n",
       "    <tr>\n",
       "      <th>32031</th>\n",
       "      <td>44351.0</td>\n",
       "      <td>560.0</td>\n",
       "      <td>False</td>\n",
       "      <td>False</td>\n",
       "      <td>False</td>\n",
       "      <td>False</td>\n",
       "      <td>True</td>\n",
       "      <td>False</td>\n",
       "      <td>False</td>\n",
       "      <td>False</td>\n",
       "      <td>...</td>\n",
       "      <td>False</td>\n",
       "      <td>False</td>\n",
       "      <td>False</td>\n",
       "      <td>False</td>\n",
       "      <td>False</td>\n",
       "      <td>False</td>\n",
       "      <td>False</td>\n",
       "      <td>False</td>\n",
       "      <td>False</td>\n",
       "      <td>False</td>\n",
       "    </tr>\n",
       "    <tr>\n",
       "      <th>131278</th>\n",
       "      <td>25000.0</td>\n",
       "      <td>192.0</td>\n",
       "      <td>False</td>\n",
       "      <td>False</td>\n",
       "      <td>False</td>\n",
       "      <td>False</td>\n",
       "      <td>False</td>\n",
       "      <td>False</td>\n",
       "      <td>False</td>\n",
       "      <td>False</td>\n",
       "      <td>...</td>\n",
       "      <td>False</td>\n",
       "      <td>False</td>\n",
       "      <td>False</td>\n",
       "      <td>False</td>\n",
       "      <td>False</td>\n",
       "      <td>False</td>\n",
       "      <td>False</td>\n",
       "      <td>False</td>\n",
       "      <td>False</td>\n",
       "      <td>False</td>\n",
       "    </tr>\n",
       "    <tr>\n",
       "      <th>238148</th>\n",
       "      <td>56500.0</td>\n",
       "      <td>150.0</td>\n",
       "      <td>False</td>\n",
       "      <td>False</td>\n",
       "      <td>False</td>\n",
       "      <td>False</td>\n",
       "      <td>False</td>\n",
       "      <td>False</td>\n",
       "      <td>False</td>\n",
       "      <td>False</td>\n",
       "      <td>...</td>\n",
       "      <td>False</td>\n",
       "      <td>False</td>\n",
       "      <td>False</td>\n",
       "      <td>False</td>\n",
       "      <td>False</td>\n",
       "      <td>False</td>\n",
       "      <td>False</td>\n",
       "      <td>False</td>\n",
       "      <td>True</td>\n",
       "      <td>False</td>\n",
       "    </tr>\n",
       "    <tr>\n",
       "      <th>161587</th>\n",
       "      <td>51003.0</td>\n",
       "      <td>110.0</td>\n",
       "      <td>False</td>\n",
       "      <td>False</td>\n",
       "      <td>False</td>\n",
       "      <td>False</td>\n",
       "      <td>False</td>\n",
       "      <td>False</td>\n",
       "      <td>False</td>\n",
       "      <td>False</td>\n",
       "      <td>...</td>\n",
       "      <td>False</td>\n",
       "      <td>False</td>\n",
       "      <td>False</td>\n",
       "      <td>False</td>\n",
       "      <td>False</td>\n",
       "      <td>False</td>\n",
       "      <td>False</td>\n",
       "      <td>False</td>\n",
       "      <td>False</td>\n",
       "      <td>False</td>\n",
       "    </tr>\n",
       "    <tr>\n",
       "      <th>250703</th>\n",
       "      <td>8900.0</td>\n",
       "      <td>392.0</td>\n",
       "      <td>False</td>\n",
       "      <td>False</td>\n",
       "      <td>False</td>\n",
       "      <td>False</td>\n",
       "      <td>False</td>\n",
       "      <td>False</td>\n",
       "      <td>False</td>\n",
       "      <td>False</td>\n",
       "      <td>...</td>\n",
       "      <td>False</td>\n",
       "      <td>False</td>\n",
       "      <td>False</td>\n",
       "      <td>False</td>\n",
       "      <td>False</td>\n",
       "      <td>False</td>\n",
       "      <td>False</td>\n",
       "      <td>False</td>\n",
       "      <td>False</td>\n",
       "      <td>True</td>\n",
       "    </tr>\n",
       "    <tr>\n",
       "      <th>...</th>\n",
       "      <td>...</td>\n",
       "      <td>...</td>\n",
       "      <td>...</td>\n",
       "      <td>...</td>\n",
       "      <td>...</td>\n",
       "      <td>...</td>\n",
       "      <td>...</td>\n",
       "      <td>...</td>\n",
       "      <td>...</td>\n",
       "      <td>...</td>\n",
       "      <td>...</td>\n",
       "      <td>...</td>\n",
       "      <td>...</td>\n",
       "      <td>...</td>\n",
       "      <td>...</td>\n",
       "      <td>...</td>\n",
       "      <td>...</td>\n",
       "      <td>...</td>\n",
       "      <td>...</td>\n",
       "      <td>...</td>\n",
       "      <td>...</td>\n",
       "    </tr>\n",
       "    <tr>\n",
       "      <th>103115</th>\n",
       "      <td>175000.0</td>\n",
       "      <td>306.0</td>\n",
       "      <td>False</td>\n",
       "      <td>False</td>\n",
       "      <td>False</td>\n",
       "      <td>False</td>\n",
       "      <td>False</td>\n",
       "      <td>False</td>\n",
       "      <td>False</td>\n",
       "      <td>False</td>\n",
       "      <td>...</td>\n",
       "      <td>False</td>\n",
       "      <td>False</td>\n",
       "      <td>False</td>\n",
       "      <td>False</td>\n",
       "      <td>False</td>\n",
       "      <td>False</td>\n",
       "      <td>False</td>\n",
       "      <td>False</td>\n",
       "      <td>False</td>\n",
       "      <td>False</td>\n",
       "    </tr>\n",
       "    <tr>\n",
       "      <th>180613</th>\n",
       "      <td>72360.0</td>\n",
       "      <td>150.0</td>\n",
       "      <td>False</td>\n",
       "      <td>False</td>\n",
       "      <td>False</td>\n",
       "      <td>False</td>\n",
       "      <td>False</td>\n",
       "      <td>False</td>\n",
       "      <td>False</td>\n",
       "      <td>False</td>\n",
       "      <td>...</td>\n",
       "      <td>False</td>\n",
       "      <td>False</td>\n",
       "      <td>False</td>\n",
       "      <td>True</td>\n",
       "      <td>False</td>\n",
       "      <td>False</td>\n",
       "      <td>False</td>\n",
       "      <td>False</td>\n",
       "      <td>False</td>\n",
       "      <td>False</td>\n",
       "    </tr>\n",
       "    <tr>\n",
       "      <th>5420</th>\n",
       "      <td>148452.0</td>\n",
       "      <td>170.0</td>\n",
       "      <td>False</td>\n",
       "      <td>False</td>\n",
       "      <td>True</td>\n",
       "      <td>False</td>\n",
       "      <td>False</td>\n",
       "      <td>False</td>\n",
       "      <td>False</td>\n",
       "      <td>False</td>\n",
       "      <td>...</td>\n",
       "      <td>False</td>\n",
       "      <td>False</td>\n",
       "      <td>False</td>\n",
       "      <td>False</td>\n",
       "      <td>False</td>\n",
       "      <td>False</td>\n",
       "      <td>False</td>\n",
       "      <td>False</td>\n",
       "      <td>False</td>\n",
       "      <td>False</td>\n",
       "    </tr>\n",
       "    <tr>\n",
       "      <th>216395</th>\n",
       "      <td>123500.0</td>\n",
       "      <td>200.0</td>\n",
       "      <td>False</td>\n",
       "      <td>False</td>\n",
       "      <td>False</td>\n",
       "      <td>False</td>\n",
       "      <td>False</td>\n",
       "      <td>False</td>\n",
       "      <td>False</td>\n",
       "      <td>False</td>\n",
       "      <td>...</td>\n",
       "      <td>False</td>\n",
       "      <td>False</td>\n",
       "      <td>False</td>\n",
       "      <td>False</td>\n",
       "      <td>False</td>\n",
       "      <td>False</td>\n",
       "      <td>False</td>\n",
       "      <td>False</td>\n",
       "      <td>True</td>\n",
       "      <td>False</td>\n",
       "    </tr>\n",
       "    <tr>\n",
       "      <th>78321</th>\n",
       "      <td>91700.0</td>\n",
       "      <td>125.0</td>\n",
       "      <td>False</td>\n",
       "      <td>False</td>\n",
       "      <td>False</td>\n",
       "      <td>False</td>\n",
       "      <td>False</td>\n",
       "      <td>False</td>\n",
       "      <td>False</td>\n",
       "      <td>False</td>\n",
       "      <td>...</td>\n",
       "      <td>False</td>\n",
       "      <td>False</td>\n",
       "      <td>False</td>\n",
       "      <td>False</td>\n",
       "      <td>False</td>\n",
       "      <td>False</td>\n",
       "      <td>False</td>\n",
       "      <td>False</td>\n",
       "      <td>False</td>\n",
       "      <td>False</td>\n",
       "    </tr>\n",
       "  </tbody>\n",
       "</table>\n",
       "<p>200553 rows × 49 columns</p>\n",
       "</div>"
      ],
      "text/plain": [
       "        mileage_in_km  power_ps  brand_alfa-romeo  brand_aston-martin  \\\n",
       "32031         44351.0     560.0             False               False   \n",
       "131278        25000.0     192.0             False               False   \n",
       "238148        56500.0     150.0             False               False   \n",
       "161587        51003.0     110.0             False               False   \n",
       "250703         8900.0     392.0             False               False   \n",
       "...               ...       ...               ...                 ...   \n",
       "103115       175000.0     306.0             False               False   \n",
       "180613        72360.0     150.0             False               False   \n",
       "5420         148452.0     170.0             False               False   \n",
       "216395       123500.0     200.0             False               False   \n",
       "78321         91700.0     125.0             False               False   \n",
       "\n",
       "        brand_audi  brand_bentley  brand_bmw  brand_cadillac  brand_chevrolet  \\\n",
       "32031        False          False       True           False            False   \n",
       "131278       False          False      False           False            False   \n",
       "238148       False          False      False           False            False   \n",
       "161587       False          False      False           False            False   \n",
       "250703       False          False      False           False            False   \n",
       "...            ...            ...        ...             ...              ...   \n",
       "103115       False          False      False           False            False   \n",
       "180613       False          False      False           False            False   \n",
       "5420          True          False      False           False            False   \n",
       "216395       False          False      False           False            False   \n",
       "78321        False          False      False           False            False   \n",
       "\n",
       "        brand_chrysler  ...  brand_renault  brand_rover  brand_saab  \\\n",
       "32031            False  ...          False        False       False   \n",
       "131278           False  ...          False        False       False   \n",
       "238148           False  ...          False        False       False   \n",
       "161587           False  ...          False        False       False   \n",
       "250703           False  ...          False        False       False   \n",
       "...                ...  ...            ...          ...         ...   \n",
       "103115           False  ...          False        False       False   \n",
       "180613           False  ...          False        False       False   \n",
       "5420             False  ...          False        False       False   \n",
       "216395           False  ...          False        False       False   \n",
       "78321            False  ...          False        False       False   \n",
       "\n",
       "        brand_seat  brand_skoda  brand_smart  brand_ssangyong  brand_toyota  \\\n",
       "32031        False        False        False            False         False   \n",
       "131278       False        False        False            False         False   \n",
       "238148       False        False        False            False         False   \n",
       "161587       False        False        False            False         False   \n",
       "250703       False        False        False            False         False   \n",
       "...            ...          ...          ...              ...           ...   \n",
       "103115       False        False        False            False         False   \n",
       "180613        True        False        False            False         False   \n",
       "5420         False        False        False            False         False   \n",
       "216395       False        False        False            False         False   \n",
       "78321        False        False        False            False         False   \n",
       "\n",
       "        brand_volkswagen  brand_volvo  \n",
       "32031              False        False  \n",
       "131278             False        False  \n",
       "238148              True        False  \n",
       "161587             False        False  \n",
       "250703             False         True  \n",
       "...                  ...          ...  \n",
       "103115             False        False  \n",
       "180613             False        False  \n",
       "5420               False        False  \n",
       "216395              True        False  \n",
       "78321              False        False  \n",
       "\n",
       "[200553 rows x 49 columns]"
      ]
     },
     "execution_count": 2,
     "metadata": {},
     "output_type": "execute_result"
    }
   ],
   "source": [
    "x_train"
   ]
  },
  {
   "cell_type": "code",
   "execution_count": 3,
   "id": "f4ccead1-e11e-44fa-8165-90f4c27e8e76",
   "metadata": {},
   "outputs": [
    {
     "data": {
      "text/plain": [
       "array([114000.0, 435.0, False, False, True, False, False, False, False,\n",
       "       False, False, False, False, False, False, False, False, False,\n",
       "       False, False, False, False, False, False, False, False, False,\n",
       "       False, False, False, False, False, False, False, False, False,\n",
       "       False, False, False, False, False, False, False, False, False,\n",
       "       False, False, False, False], dtype=object)"
      ]
     },
     "execution_count": 3,
     "metadata": {},
     "output_type": "execute_result"
    }
   ],
   "source": [
    "x_train.iloc[0].values"
   ]
  },
  {
   "cell_type": "code",
   "execution_count": 5,
   "id": "b2e6b372-9f66-4adc-9afb-1f6539db7608",
   "metadata": {},
   "outputs": [
    {
     "data": {
      "text/plain": [
       "array([19800.])"
      ]
     },
     "execution_count": 5,
     "metadata": {},
     "output_type": "execute_result"
    }
   ],
   "source": [
    "y_train.iloc[0].values"
   ]
  },
  {
   "cell_type": "markdown",
   "id": "5e75792e-358a-4a19-830b-cec931ebaddc",
   "metadata": {},
   "source": [
    "# Ein NN selber mit NumPy erstellen"
   ]
  },
  {
   "cell_type": "code",
   "execution_count": 7,
   "id": "fe651524-9dfb-4472-b1be-640bfcb9188c",
   "metadata": {},
   "outputs": [
    {
     "data": {
      "text/plain": [
       "array([0.03      , 0.43486974, 0.        , 0.        , 1.        ,\n",
       "       0.        , 0.        , 0.        , 0.        , 0.        ,\n",
       "       0.        , 0.        , 0.        , 0.        , 0.        ,\n",
       "       0.        , 0.        , 0.        , 0.        , 0.        ,\n",
       "       0.        , 0.        , 0.        , 0.        , 0.        ,\n",
       "       0.        , 0.        , 0.        , 0.        , 0.        ,\n",
       "       0.        , 0.        , 0.        , 0.        , 0.        ,\n",
       "       0.        , 0.        , 0.        , 0.        , 0.        ,\n",
       "       0.        , 0.        , 0.        , 0.        , 0.        ,\n",
       "       0.        , 0.        , 0.        , 0.        ])"
      ]
     },
     "execution_count": 7,
     "metadata": {},
     "output_type": "execute_result"
    }
   ],
   "source": [
    "x_train_scaled[0]"
   ]
  },
  {
   "cell_type": "code",
   "execution_count": 8,
   "id": "55ad3ce8-a0d2-4af5-a521-835cfa13a919",
   "metadata": {},
   "outputs": [
    {
     "data": {
      "text/plain": [
       "49"
      ]
     },
     "execution_count": 8,
     "metadata": {},
     "output_type": "execute_result"
    }
   ],
   "source": [
    "len(x_train_scaled[0])"
   ]
  },
  {
   "cell_type": "raw",
   "id": "ed385ea5-dd3c-45a1-b97b-2238d4ccbbcb",
   "metadata": {},
   "source": [
    "\n",
    "1 x1 x2 x3 ... x49         w0 \n",
    "                           w1 \n",
    "                           w2     = 1*w0 + x1*w1 + x2*w2 + ... + x49*w49\n",
    "                           w3\n",
    "                           ...\n",
    "                           w49\n",
    "\n",
    "= act"
   ]
  },
  {
   "cell_type": "code",
   "execution_count": 18,
   "id": "4f778b91-ca7c-4241-a372-11d8ec678100",
   "metadata": {},
   "outputs": [
    {
     "data": {
      "text/plain": [
       "(200553, 49)"
      ]
     },
     "execution_count": 18,
     "metadata": {},
     "output_type": "execute_result"
    }
   ],
   "source": [
    "x_train.shape"
   ]
  },
  {
   "cell_type": "code",
   "execution_count": 28,
   "id": "9cc9cfa7-2325-4ab1-b9f9-596117b23fa4",
   "metadata": {},
   "outputs": [
    {
     "data": {
      "text/plain": [
       "array([1.        , 0.03      , 0.43486974, 0.        , 0.        ,\n",
       "       1.        , 0.        , 0.        , 0.        , 0.        ,\n",
       "       0.        , 0.        , 0.        , 0.        , 0.        ,\n",
       "       0.        , 0.        , 0.        , 0.        , 0.        ,\n",
       "       0.        , 0.        , 0.        , 0.        , 0.        ,\n",
       "       0.        , 0.        , 0.        , 0.        , 0.        ,\n",
       "       0.        , 0.        , 0.        , 0.        , 0.        ,\n",
       "       0.        , 0.        , 0.        , 0.        , 0.        ,\n",
       "       0.        , 0.        , 0.        , 0.        , 0.        ,\n",
       "       0.        , 0.        , 0.        , 0.        , 0.        ])"
      ]
     },
     "execution_count": 28,
     "metadata": {},
     "output_type": "execute_result"
    }
   ],
   "source": [
    "import numpy\n",
    "N = 1 + x_train.shape[1]\n",
    "input_vec = numpy.ones(N)\n",
    "input_vec[1:] = x_train_scaled[0]\n",
    "input_vec"
   ]
  },
  {
   "cell_type": "code",
   "execution_count": 29,
   "id": "36183066-4d50-43ec-a749-76942337b067",
   "metadata": {},
   "outputs": [
    {
     "data": {
      "text/plain": [
       "array([ 1.67342777, -1.29722288,  0.57783055,  0.17825822,  0.72157338,\n",
       "        1.25732249, -0.91082326,  0.86874661,  0.46535083, -0.18301764,\n",
       "       -0.23573798, -0.04404647, -0.40791589, -0.55376248,  0.82217216,\n",
       "        2.39408312, -0.92740376,  1.11457539, -1.16876698,  0.29264847,\n",
       "       -0.59410262,  0.56949984,  0.38309187, -1.59962494, -0.3471661 ,\n",
       "        0.73392027, -0.84422551, -1.54536497, -0.56269357, -0.4069718 ,\n",
       "        2.11431033, -1.50441659, -1.01647711,  1.16539316,  2.84905312,\n",
       "        2.07385114, -0.37032346,  0.8937446 , -1.19180687, -0.36404746,\n",
       "        0.02337588, -0.50017677,  0.40291588, -1.20550496,  1.3276102 ,\n",
       "       -2.03708853,  0.40205811, -1.6356566 ,  0.22303685, -0.41908653])"
      ]
     },
     "execution_count": 29,
     "metadata": {},
     "output_type": "execute_result"
    }
   ],
   "source": [
    "w = numpy.random.normal(loc=0.0, scale=1.0, size=N)\n",
    "w"
   ]
  },
  {
   "cell_type": "code",
   "execution_count": 30,
   "id": "90f6b79c-a538-4c79-9cb7-36b9523d8a45",
   "metadata": {},
   "outputs": [
    {
     "data": {
      "text/plain": [
       "(50,)"
      ]
     },
     "execution_count": 30,
     "metadata": {},
     "output_type": "execute_result"
    }
   ],
   "source": [
    "input_vec.shape"
   ]
  },
  {
   "cell_type": "code",
   "execution_count": 31,
   "id": "7f2c14c4-7058-4d92-afb1-fd2ff7f8deb8",
   "metadata": {},
   "outputs": [
    {
     "data": {
      "text/plain": [
       "(50,)"
      ]
     },
     "execution_count": 31,
     "metadata": {},
     "output_type": "execute_result"
    }
   ],
   "source": [
    "w.shape"
   ]
  },
  {
   "cell_type": "code",
   "execution_count": 32,
   "id": "f05eeffb-0e2c-402d-af53-f67b3d6008b6",
   "metadata": {},
   "outputs": [
    {
     "data": {
      "text/plain": [
       "array([ 1.67342777, -0.03891669,  0.25128102,  0.        ,  0.        ,\n",
       "        1.25732249, -0.        ,  0.        ,  0.        , -0.        ,\n",
       "       -0.        , -0.        , -0.        , -0.        ,  0.        ,\n",
       "        0.        , -0.        ,  0.        , -0.        ,  0.        ,\n",
       "       -0.        ,  0.        ,  0.        , -0.        , -0.        ,\n",
       "        0.        , -0.        , -0.        , -0.        , -0.        ,\n",
       "        0.        , -0.        , -0.        ,  0.        ,  0.        ,\n",
       "        0.        , -0.        ,  0.        , -0.        , -0.        ,\n",
       "        0.        , -0.        ,  0.        , -0.        ,  0.        ,\n",
       "       -0.        ,  0.        , -0.        ,  0.        , -0.        ])"
      ]
     },
     "execution_count": 32,
     "metadata": {},
     "output_type": "execute_result"
    }
   ],
   "source": [
    "input_vec * w"
   ]
  },
  {
   "cell_type": "code",
   "execution_count": 35,
   "id": "ef865353-9321-4d92-9741-be717f491c03",
   "metadata": {},
   "outputs": [
    {
     "data": {
      "text/plain": [
       "3.1431145964683553"
      ]
     },
     "execution_count": 35,
     "metadata": {},
     "output_type": "execute_result"
    }
   ],
   "source": [
    "numpy.dot(input_vec, w)"
   ]
  },
  {
   "cell_type": "code",
   "execution_count": 37,
   "id": "b1fa4d3c-b4c1-4a03-9329-ec7fdfbedab5",
   "metadata": {},
   "outputs": [
    {
     "data": {
      "text/plain": [
       "-2.8522627173035335"
      ]
     },
     "execution_count": 37,
     "metadata": {},
     "output_type": "execute_result"
    }
   ],
   "source": [
    "import numpy\n",
    "N = 1 + x_train.shape[1]\n",
    "input_vec = numpy.ones(N)\n",
    "input_vec[1:] = x_train_scaled[0]\n",
    "\n",
    "w = numpy.random.normal(loc=0.0, scale=1.0, size=N)\n",
    "\n",
    "act = numpy.dot(input_vec, w)\n",
    "act"
   ]
  },
  {
   "cell_type": "code",
   "execution_count": 38,
   "id": "42bf7fb0-74d2-4c47-912c-45b84b1faebe",
   "metadata": {},
   "outputs": [
    {
     "data": {
      "text/plain": [
       "array([1, 2, 3, 4, 5])"
      ]
     },
     "execution_count": 38,
     "metadata": {},
     "output_type": "execute_result"
    }
   ],
   "source": [
    "import numpy as np\n",
    "np.hstack([np.array([1]), np.array([2,3,4,5])])"
   ]
  },
  {
   "cell_type": "code",
   "execution_count": 6,
   "id": "0297cc40-f7f2-44f9-908c-206649e0e65c",
   "metadata": {},
   "outputs": [
    {
     "data": {
      "text/plain": [
       "(200553, 49)"
      ]
     },
     "execution_count": 6,
     "metadata": {},
     "output_type": "execute_result"
    }
   ],
   "source": [
    "x_train_scaled.shape"
   ]
  },
  {
   "cell_type": "code",
   "execution_count": 3,
   "id": "f92f2847-8152-449d-b47c-ae72db8beae8",
   "metadata": {},
   "outputs": [],
   "source": [
    "import pandas\n",
    "fname = \"used_cars_autoscout24.csv\"\n",
    "t = pandas.read_csv(fname)\n",
    "t[\"power_ps\"] = pandas.to_numeric(t[\"power_ps\"], errors='coerce')\n",
    "t[\"price_in_euro\"] = pandas.to_numeric(t[\"price_in_euro\"], errors='coerce')\n",
    "t_bereinigt = t[ [\"brand\", \"mileage_in_km\", \"power_ps\", \"price_in_euro\"] ]\n",
    "t_bereinigt = t_bereinigt.dropna(axis=\"rows\")\n",
    "t_bereinigt = pandas.get_dummies(t_bereinigt)\n",
    "\n",
    "x = t_bereinigt.drop(\"price_in_euro\", axis=\"columns\")\n",
    "y = t_bereinigt[ [\"price_in_euro\"] ]\n",
    "\n",
    "from sklearn.model_selection import train_test_split\n",
    "x_train, x_test, y_train, y_test = train_test_split(x, y, test_size=0.2)\n",
    "\n",
    "from sklearn.preprocessing import MinMaxScaler\n",
    "s_input = MinMaxScaler(feature_range=(0,1))\n",
    "s_output = MinMaxScaler(feature_range=(0,1))\n",
    "s_input.fit(x_train)\n",
    "s_output.fit(y_train)\n",
    "x_train_scaled = s_input.transform(x_train)\n",
    "y_train_scaled = s_output.transform(y_train)\n",
    "x_test_scaled = s_input.transform(x_test)\n",
    "y_test_scaled = s_output.transform(y_test)"
   ]
  },
  {
   "cell_type": "code",
   "execution_count": 34,
   "id": "2ae57f57-e753-4b2d-a366-1af5897e5731",
   "metadata": {},
   "outputs": [],
   "source": [
    "import numpy as np\n",
    "\n",
    "def relu(x):\n",
    "    if x<0:\n",
    "        return 0\n",
    "    else:\n",
    "        return x\n",
    "\n",
    "\n",
    "nr_epochs = 1\n",
    "learn_rate = 0.001\n",
    "nr_training_examples = x_train_scaled.shape[0]\n",
    "len_input_vec = 1 + x_train_scaled.shape[1]\n",
    "\n",
    "w = np.random.normal(loc=0.0, scale=1.0, size=len_input_vec)\n",
    "input_vec = np.ones(len_input_vec)"
   ]
  },
  {
   "cell_type": "code",
   "execution_count": 38,
   "id": "edbc6f2a-804a-4e2c-99bd-d56725b8782f",
   "metadata": {},
   "outputs": [],
   "source": [
    "for epoch in range(nr_epochs):\n",
    "    for training_example_nr in range(nr_training_examples):\n",
    "        # Feed-Forward\n",
    "        input_vec[1:] = x_train_scaled[ training_example_nr ]\n",
    "        act = np.dot(input_vec, w)\n",
    "        out = relu(act)\n",
    "\n",
    "        # Lernen\n",
    "        t = y_train_scaled[ training_example_nr ][0]\n",
    "        for i in range(len_input_vec):\n",
    "            # Perzeptron-Lernregel:\n",
    "            o_i = input_vec[i]\n",
    "            delta_wi = learn_rate * (t-out) * o_i\n",
    "            w[i] = w[i] + delta_wi        \n",
    "        \n",
    "        "
   ]
  },
  {
   "cell_type": "code",
   "execution_count": 32,
   "id": "53fb1d3a-3328-40db-a23e-e0016a921147",
   "metadata": {},
   "outputs": [
    {
     "data": {
      "text/plain": [
       "array([0.00386766])"
      ]
     },
     "execution_count": 32,
     "metadata": {},
     "output_type": "execute_result"
    }
   ],
   "source": [
    "y_train_scaled[0]"
   ]
  },
  {
   "cell_type": "markdown",
   "id": "28b07104-83c7-42ba-9280-ca06924d6fac",
   "metadata": {},
   "source": [
    "# Modellgüte bestimmen"
   ]
  },
  {
   "cell_type": "code",
   "execution_count": 6,
   "id": "fd985c87-4962-44e4-ab53-20a3196bb20f",
   "metadata": {},
   "outputs": [
    {
     "data": {
      "text/plain": [
       "(50139, 49)"
      ]
     },
     "execution_count": 6,
     "metadata": {},
     "output_type": "execute_result"
    }
   ],
   "source": [
    "x_test_scaled.shape"
   ]
  },
  {
   "cell_type": "code",
   "execution_count": 36,
   "id": "4d7d1e2a-9fde-4bf1-8936-29f5693d13ac",
   "metadata": {},
   "outputs": [],
   "source": [
    "def wie_gut_ist_mein_modell():\n",
    "\n",
    "    nr_test_examples = x_test_scaled.shape[0]\n",
    "    \n",
    "    errors_euro = []\n",
    "    for test_example_nr in range(nr_test_examples):\n",
    "        # Feed-Forward\n",
    "        input_vec[1:] = x_test_scaled[ test_example_nr ]\n",
    "        act = np.dot(input_vec, w)\n",
    "        out_scaled = relu(act)\n",
    "        out_euro = s_output.inverse_transform( [[out_scaled]] )\n",
    "        \n",
    "        t_scaled = y_test_scaled[ test_example_nr ][0]\n",
    "        t_euro = s_output.inverse_transform( [[t_scaled]] )\n",
    "    \n",
    "        # Wie groß ist der Schätzfehler?\n",
    "        error_euro = abs(t_euro - out_euro)\n",
    "        errors_euro.append( error_euro )\n",
    "\n",
    "    # Mean Absolute Error = MAE\n",
    "    mittlerer_fehler = np.mean( errors_euro )\n",
    "    return mittlerer_fehler\n",
    "\n"
   ]
  },
  {
   "cell_type": "code",
   "execution_count": 39,
   "id": "96f711a9-7900-4e4c-b958-a67d887ca656",
   "metadata": {},
   "outputs": [
    {
     "data": {
      "text/plain": [
       "38114.099166036314"
      ]
     },
     "execution_count": 39,
     "metadata": {},
     "output_type": "execute_result"
    }
   ],
   "source": [
    "wie_gut_ist_mein_modell()"
   ]
  },
  {
   "cell_type": "markdown",
   "id": "fa535232-1269-4824-acec-cbde217ae73e",
   "metadata": {},
   "source": [
    "# Alles nochmal übersichtlicher"
   ]
  },
  {
   "cell_type": "code",
   "execution_count": 1,
   "id": "b47a463d-51dd-4358-90c8-5d2bbe7c285d",
   "metadata": {},
   "outputs": [],
   "source": [
    "import pandas\n",
    "fname = \"used_cars_autoscout24.csv\"\n",
    "t = pandas.read_csv(fname)\n",
    "t[\"power_ps\"] = pandas.to_numeric(t[\"power_ps\"], errors='coerce')\n",
    "t[\"price_in_euro\"] = pandas.to_numeric(t[\"price_in_euro\"], errors='coerce')\n",
    "t_bereinigt = t[ [\"brand\", \"mileage_in_km\", \"power_ps\", \"price_in_euro\"] ]\n",
    "t_bereinigt = t_bereinigt.dropna(axis=\"rows\")\n",
    "t_bereinigt = pandas.get_dummies(t_bereinigt)\n",
    "\n",
    "x = t_bereinigt.drop(\"price_in_euro\", axis=\"columns\")\n",
    "y = t_bereinigt[ [\"price_in_euro\"] ]\n",
    "\n",
    "from sklearn.model_selection import train_test_split\n",
    "x_train, x_test, y_train, y_test = train_test_split(x, y, test_size=0.2)\n",
    "\n",
    "from sklearn.preprocessing import MinMaxScaler\n",
    "s_input = MinMaxScaler(feature_range=(0,1))\n",
    "s_output = MinMaxScaler(feature_range=(0,1))\n",
    "s_input.fit(x_train)\n",
    "s_output.fit(y_train)\n",
    "x_train_scaled = s_input.transform(x_train)\n",
    "y_train_scaled = s_output.transform(y_train)\n",
    "x_test_scaled = s_input.transform(x_test)\n",
    "y_test_scaled = s_output.transform(y_test)\n",
    "\n",
    "import numpy as np\n",
    "\n",
    "def relu(x):\n",
    "    if x<0:\n",
    "        return 0\n",
    "    else:\n",
    "        return x"
   ]
  },
  {
   "cell_type": "code",
   "execution_count": 2,
   "id": "1056a53e-67f0-448a-9ec0-25aad27587b6",
   "metadata": {},
   "outputs": [
    {
     "data": {
      "text/plain": [
       "(200553, 49)"
      ]
     },
     "execution_count": 2,
     "metadata": {},
     "output_type": "execute_result"
    }
   ],
   "source": [
    "x_train.shape"
   ]
  },
  {
   "cell_type": "code",
   "execution_count": 3,
   "id": "b4df3b61-5f1e-42d4-b988-aece087d4595",
   "metadata": {},
   "outputs": [
    {
     "data": {
      "text/plain": [
       "(50139, 49)"
      ]
     },
     "execution_count": 3,
     "metadata": {},
     "output_type": "execute_result"
    }
   ],
   "source": [
    "x_test.shape"
   ]
  },
  {
   "cell_type": "code",
   "execution_count": 4,
   "id": "b959ccb5-af69-4f83-8759-7413f0917f05",
   "metadata": {},
   "outputs": [
    {
     "data": {
      "text/plain": [
       "Index(['mileage_in_km', 'power_ps', 'brand_alfa-romeo', 'brand_aston-martin',\n",
       "       'brand_audi', 'brand_bentley', 'brand_bmw', 'brand_cadillac',\n",
       "       'brand_chevrolet', 'brand_chrysler', 'brand_citroen', 'brand_dacia',\n",
       "       'brand_daewoo', 'brand_daihatsu', 'brand_dodge', 'brand_ferrari',\n",
       "       'brand_fiat', 'brand_ford', 'brand_honda', 'brand_hyundai',\n",
       "       'brand_infiniti', 'brand_isuzu', 'brand_jaguar', 'brand_jeep',\n",
       "       'brand_kia', 'brand_lada', 'brand_lamborghini', 'brand_lancia',\n",
       "       'brand_land-rover', 'brand_maserati', 'brand_mazda',\n",
       "       'brand_mercedes-benz', 'brand_mini', 'brand_mitsubishi', 'brand_nissan',\n",
       "       'brand_opel', 'brand_peugeot', 'brand_porsche', 'brand_proton',\n",
       "       'brand_renault', 'brand_rover', 'brand_saab', 'brand_seat',\n",
       "       'brand_skoda', 'brand_smart', 'brand_ssangyong', 'brand_toyota',\n",
       "       'brand_volkswagen', 'brand_volvo'],\n",
       "      dtype='object')"
      ]
     },
     "execution_count": 4,
     "metadata": {},
     "output_type": "execute_result"
    }
   ],
   "source": [
    "x_train.columns"
   ]
  },
  {
   "cell_type": "code",
   "execution_count": 8,
   "id": "630d6452-b1a9-4e43-9513-badb8f9dccf8",
   "metadata": {},
   "outputs": [
    {
     "data": {
      "text/plain": [
       "array([74216.0, 120.0, False, False, False, False, False, False, False,\n",
       "       False, False, False, False, False, False, False, False, True,\n",
       "       False, False, False, False, False, False, False, False, False,\n",
       "       False, False, False, False, False, False, False, False, False,\n",
       "       False, False, False, False, False, False, False, False, False,\n",
       "       False, False, False, False], dtype=object)"
      ]
     },
     "execution_count": 8,
     "metadata": {},
     "output_type": "execute_result"
    }
   ],
   "source": [
    "x_train.iloc[0].values"
   ]
  },
  {
   "cell_type": "code",
   "execution_count": 14,
   "id": "953edd23-61d2-4ac5-85fc-0fbf4cf21ecc",
   "metadata": {},
   "outputs": [],
   "source": [
    "import datetime\n",
    "start = datetime.datetime.now()"
   ]
  },
  {
   "cell_type": "code",
   "execution_count": 15,
   "id": "0e17e3d8-f301-40d4-95da-3eddff140c72",
   "metadata": {},
   "outputs": [],
   "source": [
    "stop = datetime.datetime.now()"
   ]
  },
  {
   "cell_type": "code",
   "execution_count": 16,
   "id": "56a66028-3cb4-41fb-9137-a6f5d63034b9",
   "metadata": {},
   "outputs": [
    {
     "data": {
      "text/plain": [
       "(datetime.datetime(2024, 10, 28, 5, 41, 6, 707672),\n",
       " datetime.datetime(2024, 10, 28, 5, 41, 16, 848429))"
      ]
     },
     "execution_count": 16,
     "metadata": {},
     "output_type": "execute_result"
    }
   ],
   "source": [
    "start, stop"
   ]
  },
  {
   "cell_type": "code",
   "execution_count": 18,
   "id": "ab94f880-11a2-40c0-a575-867ca0728097",
   "metadata": {},
   "outputs": [
    {
     "data": {
      "text/plain": [
       "datetime.datetime"
      ]
     },
     "execution_count": 18,
     "metadata": {},
     "output_type": "execute_result"
    }
   ],
   "source": [
    "type(stop)"
   ]
  },
  {
   "cell_type": "code",
   "execution_count": 20,
   "id": "5eda5bb9-9689-480c-9184-e6c029c7f418",
   "metadata": {},
   "outputs": [
    {
     "data": {
      "text/plain": [
       "datetime.timedelta(seconds=10, microseconds=140757)"
      ]
     },
     "execution_count": 20,
     "metadata": {},
     "output_type": "execute_result"
    }
   ],
   "source": [
    "duration = stop - start\n",
    "duration"
   ]
  },
  {
   "cell_type": "code",
   "execution_count": 22,
   "id": "8b933787-8514-4ab6-94e4-5262f1f0446f",
   "metadata": {},
   "outputs": [
    {
     "data": {
      "text/plain": [
       "140757"
      ]
     },
     "execution_count": 22,
     "metadata": {},
     "output_type": "execute_result"
    }
   ],
   "source": [
    "duration.microseconds"
   ]
  },
  {
   "cell_type": "code",
   "execution_count": 26,
   "id": "44c0257a-bc25-4b3a-838f-c2bfa6132dfd",
   "metadata": {},
   "outputs": [
    {
     "data": {
      "text/plain": [
       "1730090731.8828266"
      ]
     },
     "execution_count": 26,
     "metadata": {},
     "output_type": "execute_result"
    }
   ],
   "source": [
    "time.time()"
   ]
  },
  {
   "cell_type": "code",
   "execution_count": 23,
   "id": "95da769f-73e2-4f49-b1eb-249768b9c57c",
   "metadata": {},
   "outputs": [
    {
     "name": "stdout",
     "output_type": "stream",
     "text": [
      "Laufzeit: 0.00022363662719726562 Sekunden\n"
     ]
    }
   ],
   "source": [
    "import time\n",
    "\n",
    "start_time = time.time()\n",
    "\n",
    "# Dein Code\n",
    "result = sum([i for i in range(1000)])\n",
    "\n",
    "end_time = time.time()\n",
    "execution_time = end_time - start_time\n",
    "print(f\"Laufzeit: {execution_time} Sekunden\")\n"
   ]
  },
  {
   "cell_type": "code",
   "execution_count": 31,
   "id": "174a51ef-b706-477b-beb1-081b96e829e9",
   "metadata": {},
   "outputs": [
    {
     "data": {
      "text/plain": [
       "numpy.ndarray"
      ]
     },
     "execution_count": 31,
     "metadata": {},
     "output_type": "execute_result"
    }
   ],
   "source": [
    "type(w)"
   ]
  },
  {
   "cell_type": "code",
   "execution_count": 32,
   "id": "28da2822-6c7b-484d-a33b-fec4edbc7fd1",
   "metadata": {},
   "outputs": [
    {
     "data": {
      "text/plain": [
       "(50,)"
      ]
     },
     "execution_count": 32,
     "metadata": {},
     "output_type": "execute_result"
    }
   ],
   "source": [
    "w.shape"
   ]
  },
  {
   "cell_type": "code",
   "execution_count": 33,
   "id": "66dfa3c9-ead0-40d6-9bbc-72c928044fd6",
   "metadata": {},
   "outputs": [
    {
     "data": {
      "text/plain": [
       "array([-2.01121369,  1.25268889,  0.40621298, -1.75393845,  1.29106328,\n",
       "       -0.43377967,  0.06945047,  1.07609434,  0.65619293,  0.4087102 ,\n",
       "       -0.43773854, -0.67754336,  0.4953644 , -0.42898304,  1.98714375,\n",
       "       -1.16837622, -0.04290259,  1.22119682, -2.1714382 , -1.13656017,\n",
       "       -0.88868589,  0.42699952, -1.02676669,  1.37374937,  1.35441631,\n",
       "        0.44030951,  0.67350287,  0.73323037, -1.32734083, -0.80973213,\n",
       "        0.55473787,  1.18043116,  0.10194035,  0.42979384, -0.39851212,\n",
       "       -0.60659606,  0.12044527,  0.19558496, -1.05571232, -0.44835621,\n",
       "       -1.37613633,  1.7067597 , -1.56730504,  0.58075588,  2.10773727,\n",
       "        1.09640914, -0.23205781, -0.93416963, -0.29629741, -1.02611356])"
      ]
     },
     "execution_count": 33,
     "metadata": {},
     "output_type": "execute_result"
    }
   ],
   "source": [
    "w"
   ]
  },
  {
   "cell_type": "code",
   "execution_count": 34,
   "id": "ad3ddbed-4ca8-47ff-b68f-21f48e15737b",
   "metadata": {},
   "outputs": [
    {
     "data": {
      "text/plain": [
       "array([1.        , 0.01833922, 0.13026052, 0.        , 0.        ,\n",
       "       0.        , 0.        , 0.        , 0.        , 0.        ,\n",
       "       0.        , 0.        , 0.        , 0.        , 0.        ,\n",
       "       0.        , 0.        , 0.        , 0.        , 0.        ,\n",
       "       0.        , 0.        , 0.        , 0.        , 0.        ,\n",
       "       0.        , 0.        , 0.        , 0.        , 0.        ,\n",
       "       0.        , 0.        , 0.        , 0.        , 0.        ,\n",
       "       0.        , 1.        , 0.        , 0.        , 0.        ,\n",
       "       0.        , 0.        , 0.        , 0.        , 0.        ,\n",
       "       0.        , 0.        , 0.        , 0.        , 0.        ])"
      ]
     },
     "execution_count": 34,
     "metadata": {},
     "output_type": "execute_result"
    }
   ],
   "source": [
    "input_vec"
   ]
  },
  {
   "cell_type": "code",
   "execution_count": 3,
   "id": "9552f2f9-edb4-46a6-bcc5-e51c7f7881ec",
   "metadata": {},
   "outputs": [
    {
     "data": {
      "text/plain": [
       "(200553, 49)"
      ]
     },
     "execution_count": 3,
     "metadata": {},
     "output_type": "execute_result"
    }
   ],
   "source": [
    "x_train_scaled.shape"
   ]
  },
  {
   "cell_type": "code",
   "execution_count": 26,
   "id": "9df5d61a-4deb-4ac3-b4ea-07e166d3b166",
   "metadata": {},
   "outputs": [
    {
     "name": "stdout",
     "output_type": "stream",
     "text": [
      "training_example_nr=0, execution_time=0.00\n",
      "training_example_nr=5000, execution_time=1.00\n",
      "training_example_nr=10000, execution_time=0.73\n",
      "training_example_nr=15000, execution_time=0.75\n",
      "training_example_nr=20000, execution_time=0.74\n",
      "training_example_nr=25000, execution_time=0.73\n",
      "training_example_nr=30000, execution_time=0.73\n",
      "training_example_nr=35000, execution_time=0.73\n",
      "training_example_nr=40000, execution_time=0.74\n",
      "training_example_nr=45000, execution_time=0.70\n",
      "training_example_nr=50000, execution_time=0.69\n",
      "training_example_nr=55000, execution_time=0.79\n",
      "training_example_nr=60000, execution_time=0.81\n",
      "training_example_nr=65000, execution_time=0.82\n",
      "training_example_nr=70000, execution_time=0.80\n",
      "training_example_nr=75000, execution_time=0.93\n",
      "training_example_nr=80000, execution_time=0.83\n",
      "training_example_nr=85000, execution_time=0.91\n",
      "training_example_nr=90000, execution_time=0.87\n",
      "training_example_nr=95000, execution_time=0.84\n",
      "training_example_nr=100000, execution_time=0.79\n",
      "training_example_nr=105000, execution_time=0.79\n",
      "training_example_nr=110000, execution_time=0.75\n",
      "training_example_nr=115000, execution_time=0.79\n",
      "training_example_nr=120000, execution_time=0.76\n",
      "training_example_nr=125000, execution_time=0.79\n",
      "training_example_nr=130000, execution_time=0.76\n",
      "training_example_nr=135000, execution_time=0.77\n",
      "training_example_nr=140000, execution_time=0.78\n",
      "training_example_nr=145000, execution_time=0.75\n",
      "training_example_nr=150000, execution_time=0.68\n",
      "training_example_nr=155000, execution_time=0.78\n",
      "training_example_nr=160000, execution_time=0.86\n",
      "training_example_nr=165000, execution_time=0.76\n",
      "training_example_nr=170000, execution_time=0.99\n",
      "training_example_nr=175000, execution_time=0.80\n",
      "training_example_nr=180000, execution_time=0.80\n",
      "training_example_nr=185000, execution_time=0.84\n",
      "training_example_nr=190000, execution_time=0.79\n",
      "training_example_nr=195000, execution_time=0.84\n",
      "training_example_nr=200000, execution_time=0.78\n"
     ]
    },
    {
     "data": {
      "image/png": "[encoded data removed]",
      "text/plain": [
       "<Figure size 640x480 with 1 Axes>"
      ]
     },
     "metadata": {},
     "output_type": "display_data"
    },
    {
     "name": "stdout",
     "output_type": "stream",
     "text": [
      "Mittlerer Fehler nach dieser Epoche: 982372.053530836\n"
     ]
    }
   ],
   "source": [
    "import time\n",
    "\n",
    "nr_epochs = 1\n",
    "learn_rate = 0.0001\n",
    "nr_training_examples = x_train_scaled.shape[0]\n",
    "len_input_vec = 1 + x_train_scaled.shape[1]\n",
    "\n",
    "w = np.random.normal(loc=0.0, scale=1.0, size=len_input_vec)\n",
    "input_vec = np.ones(len_input_vec)\n",
    "\n",
    "errors_euro = []\n",
    "mittlere_fehler = []\n",
    "\n",
    "for epoch in range(nr_epochs):\n",
    "    start_time = time.process_time()\n",
    "    for training_example_nr in range(nr_training_examples):\n",
    "        # Feed-Forward\n",
    "        input_vec[1:] = x_train_scaled[ training_example_nr ]\n",
    "        act = np.dot(input_vec, w)\n",
    "        #out = relu(act)\n",
    "        out = act\n",
    "        \n",
    "        # Was sollte denn rauskommen?\n",
    "        t = y_train_scaled[ training_example_nr ][0]\n",
    "        \n",
    "        # Lernen\n",
    "        if False:\n",
    "            for i in range(len_input_vec):\n",
    "                # Perzeptron-Lernregel:\n",
    "                o_i = input_vec[i]\n",
    "                delta_wi = learn_rate * (t-out) * o_i\n",
    "                w[i] = w[i] + delta_wi\n",
    "\n",
    "        if True:\n",
    "            delta_w = learn_rate * (t-out) * input_vec\n",
    "            w = w + delta_w\n",
    "\n",
    "        # Wie gut war die Prädiktion in Euro?\n",
    "        out_euro = s_output.inverse_transform( [[out]] )\n",
    "        t_euro = s_output.inverse_transform( [[t]] )\n",
    "        error_euro = abs(t_euro - out_euro)\n",
    "        errors_euro.append( error_euro )\n",
    "        \n",
    "        # Mean Absolute Error = MAE\n",
    "        if training_example_nr !=0 and training_example_nr % 1000 == 0:            \n",
    "            mittlerer_fehler = np.mean( errors_euro[-1000:] )\n",
    "            mittlere_fehler.append( mittlerer_fehler )\n",
    "\n",
    "        if training_example_nr % 5000 == 0:\n",
    "            end_time = time.process_time()\n",
    "            execution_time = end_time - start_time\n",
    "            print(f\"{training_example_nr=}, {execution_time=:.2f}\")\n",
    "\n",
    "            start_time = time.process_time()\n",
    "\n",
    "import matplotlib.pyplot as plt\n",
    "plt.plot( mittlere_fehler )\n",
    "plt.xlabel( \"Trainingsbeispiele * 1000\" )\n",
    "plt.show()\n",
    "\n",
    "print(\"Mittlerer Fehler nach dieser Epoche:\", mittlere_fehler[-1])"
   ]
  },
  {
   "cell_type": "code",
   "execution_count": 1,
   "id": "ff57a3d0-1b4c-43ca-9f4b-9b78ea3f45af",
   "metadata": {},
   "outputs": [
    {
     "name": "stdout",
     "output_type": "stream",
     "text": [
      "Interactive namespace is empty.\n"
     ]
    }
   ],
   "source": [
    "%whos"
   ]
  },
  {
   "cell_type": "markdown",
   "id": "ca944a5d-225c-4f84-a4dc-720194b84cdd",
   "metadata": {},
   "source": [
    "# Geschwindigkeitsoptimierungsvorschlag von ChatGPT"
   ]
  },
  {
   "cell_type": "code",
   "execution_count": 9,
   "id": "2062f0f5-b54f-45da-bb1d-4282fcae40e0",
   "metadata": {},
   "outputs": [
    {
     "data": {
      "text/plain": [
       "(200553, 50)"
      ]
     },
     "execution_count": 9,
     "metadata": {},
     "output_type": "execute_result"
    }
   ],
   "source": [
    "input_vecs.shape"
   ]
  },
  {
   "cell_type": "code",
   "execution_count": 10,
   "id": "d1c23e21-30e6-400b-9d11-13847f396d34",
   "metadata": {},
   "outputs": [
    {
     "data": {
      "text/plain": [
       "(200553,)"
      ]
     },
     "execution_count": 10,
     "metadata": {},
     "output_type": "execute_result"
    }
   ],
   "source": [
    "acts.shape"
   ]
  },
  {
   "cell_type": "code",
   "execution_count": 12,
   "id": "17cc0230-4ef7-418e-a8fc-c3650537f59c",
   "metadata": {},
   "outputs": [
    {
     "data": {
      "text/plain": [
       "(200553,)"
      ]
     },
     "execution_count": 12,
     "metadata": {},
     "output_type": "execute_result"
    }
   ],
   "source": [
    "outputs.shape"
   ]
  },
  {
   "cell_type": "code",
   "execution_count": 13,
   "id": "5fe91cc6-8a28-4d1a-a236-65eff502bc8e",
   "metadata": {},
   "outputs": [
    {
     "data": {
      "text/plain": [
       "array([0.        , 0.        , 0.86426891, 0.        , 0.        ])"
      ]
     },
     "execution_count": 13,
     "metadata": {},
     "output_type": "execute_result"
    }
   ],
   "source": [
    "outputs[:5]"
   ]
  },
  {
   "cell_type": "code",
   "execution_count": 14,
   "id": "3e3433a1-d1cb-4d94-8ac8-703feb7faa2a",
   "metadata": {},
   "outputs": [
    {
     "data": {
      "text/plain": [
       "(200553,)"
      ]
     },
     "execution_count": 14,
     "metadata": {},
     "output_type": "execute_result"
    }
   ],
   "source": [
    "targets.shape"
   ]
  },
  {
   "cell_type": "code",
   "execution_count": 15,
   "id": "7f454f6b-95f6-4bc1-89e2-5e085613b452",
   "metadata": {},
   "outputs": [
    {
     "data": {
      "text/plain": [
       "(200553,)"
      ]
     },
     "execution_count": 15,
     "metadata": {},
     "output_type": "execute_result"
    }
   ],
   "source": [
    "errors.shape"
   ]
  },
  {
   "cell_type": "code",
   "execution_count": 17,
   "id": "6e790f7b-58f1-4a19-a179-a82cec7b8ab2",
   "metadata": {},
   "outputs": [
    {
     "data": {
      "text/plain": [
       "(50,)"
      ]
     },
     "execution_count": 17,
     "metadata": {},
     "output_type": "execute_result"
    }
   ],
   "source": [
    "delta_w.shape"
   ]
  },
  {
   "cell_type": "code",
   "execution_count": 27,
   "id": "ef30e37d-a211-45ca-9d9e-07a1db41ec34",
   "metadata": {},
   "outputs": [
    {
     "name": "stdout",
     "output_type": "stream",
     "text": [
      "Epoche abgeschlossen in 0.28 Sekunden\n",
      "Epoche abgeschlossen in 0.32 Sekunden\n",
      "Epoche abgeschlossen in 0.45 Sekunden\n",
      "Epoche abgeschlossen in 0.38 Sekunden\n",
      "Epoche abgeschlossen in 0.35 Sekunden\n",
      "Epoche abgeschlossen in 0.63 Sekunden\n",
      "Epoche abgeschlossen in 0.47 Sekunden\n",
      "Epoche abgeschlossen in 0.25 Sekunden\n",
      "Epoche abgeschlossen in 0.36 Sekunden\n",
      "Epoche abgeschlossen in 0.43 Sekunden\n",
      "Epoche abgeschlossen in 0.33 Sekunden\n",
      "Epoche abgeschlossen in 0.41 Sekunden\n",
      "Epoche abgeschlossen in 0.32 Sekunden\n",
      "Epoche abgeschlossen in 0.34 Sekunden\n",
      "Epoche abgeschlossen in 0.28 Sekunden\n",
      "Epoche abgeschlossen in 0.32 Sekunden\n",
      "Epoche abgeschlossen in 0.24 Sekunden\n",
      "Epoche abgeschlossen in 0.35 Sekunden\n",
      "Epoche abgeschlossen in 0.20 Sekunden\n",
      "Epoche abgeschlossen in 0.26 Sekunden\n",
      "Epoche abgeschlossen in 0.31 Sekunden\n",
      "Epoche abgeschlossen in 0.23 Sekunden\n",
      "Epoche abgeschlossen in 0.29 Sekunden\n",
      "Epoche abgeschlossen in 0.35 Sekunden\n",
      "Epoche abgeschlossen in 0.30 Sekunden\n",
      "Epoche abgeschlossen in 0.38 Sekunden\n",
      "Epoche abgeschlossen in 0.32 Sekunden\n",
      "Epoche abgeschlossen in 0.24 Sekunden\n",
      "Epoche abgeschlossen in 0.25 Sekunden\n",
      "Epoche abgeschlossen in 0.25 Sekunden\n"
     ]
    },
    {
     "data": {
      "image/png": "[encoded data removed]",
      "text/plain": [
       "<Figure size 640x480 with 1 Axes>"
      ]
     },
     "metadata": {},
     "output_type": "display_data"
    }
   ],
   "source": [
    "import time\n",
    "import numpy as np\n",
    "\n",
    "# Hyperparameter\n",
    "nr_epochs = 30\n",
    "learn_rate = 0.01\n",
    "\n",
    "# Training-Set Größe und Input-Länge\n",
    "nr_training_examples = x_train_scaled.shape[0]\n",
    "len_input_vec = 1 + x_train_scaled.shape[1]  # Bias-Term + Features\n",
    "\n",
    "# Initialisiere die Gewichte\n",
    "w = np.random.normal(loc=0.0, scale=1.0, size=(len_input_vec,))\n",
    "\n",
    "# Input-Vektoren erstellen und Bias hinzufügen\n",
    "input_vecs = np.hstack([np.ones((nr_training_examples, 1)), x_train_scaled])\n",
    "\n",
    "# Zielwerte für das Training\n",
    "targets = y_train_scaled[:, 0]\n",
    "\n",
    "# Initialisiere Fehlerlisten\n",
    "errors_euro = []\n",
    "mittlere_fehler = []\n",
    "\n",
    "# Training Loop\n",
    "for epoch in range(nr_epochs):\n",
    "    start_time = time.process_time()\n",
    "\n",
    "    # Feed-Forward für alle Trainingsbeispiele auf einmal\n",
    "    acts = np.dot(input_vecs, w)    \n",
    "    #outputs = np.maximum(0, acts)  # ReLU für gesamten Batch\n",
    "    outputs = acts\n",
    "\n",
    "    # Berechnung der Fehler\n",
    "    errors = targets - outputs\n",
    "\n",
    "    # Gradientenberechnung und Gewichtsanpassung für das gesamte Batch\n",
    "    delta_w = learn_rate * np.dot(input_vecs.T, errors)\n",
    "    w += delta_w\n",
    "\n",
    "    # Fehlerberechnung in Euro für jedes Beispiel\n",
    "    outs_euro = s_output.inverse_transform(outputs.reshape(-1, 1))\n",
    "    targets_euro = s_output.inverse_transform(targets.reshape(-1, 1))\n",
    "    batch_errors_euro = abs(targets_euro - outs_euro)\n",
    "    mittlere_fehler.append( batch_errors_euro.mean() )\n",
    "\n",
    "    end_time = time.process_time()\n",
    "    execution_time = end_time - start_time\n",
    "    print(f\"Epoche abgeschlossen in {execution_time:.2f} Sekunden\")\n",
    "\n",
    "    \n",
    "\n",
    "import matplotlib.pyplot as plt\n",
    "plt.plot(mittlere_fehler)\n",
    "plt.xlabel(\"Epoche\")\n",
    "plt.ylabel(\"MAE [€]\")\n",
    "plt.show()"
   ]
  },
  {
   "cell_type": "code",
   "execution_count": 25,
   "id": "cbef7cde-937e-4c0a-b644-9111b7789430",
   "metadata": {},
   "outputs": [
    {
     "data": {
      "text/plain": [
       "[9449816.745470347,\n",
       " 25971.29445582963,\n",
       " 25971.29445582963,\n",
       " 25971.29445582963,\n",
       " 25971.29445582963,\n",
       " 25971.29445582963,\n",
       " 25971.29445582963,\n",
       " 25971.29445582963,\n",
       " 25971.29445582963,\n",
       " 25971.29445582963,\n",
       " 25971.29445582963,\n",
       " 25971.29445582963,\n",
       " 25971.29445582963,\n",
       " 25971.29445582963,\n",
       " 25971.29445582963,\n",
       " 25971.29445582963,\n",
       " 25971.29445582963,\n",
       " 25971.29445582963,\n",
       " 25971.29445582963,\n",
       " 25971.29445582963,\n",
       " 25971.29445582963,\n",
       " 25971.29445582963,\n",
       " 25971.29445582963,\n",
       " 25971.29445582963,\n",
       " 25971.29445582963,\n",
       " 25971.29445582963,\n",
       " 25971.29445582963,\n",
       " 25971.29445582963,\n",
       " 25971.29445582963,\n",
       " 25971.29445582963]"
      ]
     },
     "execution_count": 25,
     "metadata": {},
     "output_type": "execute_result"
    }
   ],
   "source": [
    "mittlere_fehler"
   ]
  },
  {
   "cell_type": "code",
   "execution_count": null,
   "id": "66450f41-0553-4c40-a325-27b1da84e2cc",
   "metadata": {},
   "outputs": [],
   "source": []
  }
 ],
 "metadata": {
  "kernelspec": {
   "display_name": "Python 3 (ipykernel)",
   "language": "python",
   "name": "python3"
  },
  "language_info": {
   "codemirror_mode": {
    "name": "ipython",
    "version": 3
   },
   "file_extension": ".py",
   "mimetype": "text/x-python",
   "name": "python",
   "nbconvert_exporter": "python",
   "pygments_lexer": "ipython3",
   "version": "3.12.3"
  }
 },
 "nbformat": 4,
 "nbformat_minor": 5
}
