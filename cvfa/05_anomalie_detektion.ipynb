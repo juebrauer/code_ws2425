{
 "cells": [
  {
   "cell_type": "markdown",
   "id": "41d6605e-3524-4a11-9370-073224a90f5c",
   "metadata": {},
   "source": [
    "# Datensatz runterladen"
   ]
  },
  {
   "cell_type": "code",
   "execution_count": 1,
   "id": "c63ce066-eafd-4f1c-a0e7-9b4ec2730f6e",
   "metadata": {},
   "outputs": [
    {
     "data": {
      "text/html": [
       "<div>\n",
       "<style scoped>\n",
       "    .dataframe tbody tr th:only-of-type {\n",
       "        vertical-align: middle;\n",
       "    }\n",
       "\n",
       "    .dataframe tbody tr th {\n",
       "        vertical-align: top;\n",
       "    }\n",
       "\n",
       "    .dataframe thead th {\n",
       "        text-align: right;\n",
       "    }\n",
       "</style>\n",
       "<table border=\"1\" class=\"dataframe\">\n",
       "  <thead>\n",
       "    <tr style=\"text-align: right;\">\n",
       "      <th></th>\n",
       "      <th>0</th>\n",
       "      <th>1</th>\n",
       "      <th>2</th>\n",
       "      <th>3</th>\n",
       "      <th>4</th>\n",
       "      <th>5</th>\n",
       "      <th>6</th>\n",
       "      <th>7</th>\n",
       "      <th>8</th>\n",
       "      <th>9</th>\n",
       "      <th>...</th>\n",
       "      <th>131</th>\n",
       "      <th>132</th>\n",
       "      <th>133</th>\n",
       "      <th>134</th>\n",
       "      <th>135</th>\n",
       "      <th>136</th>\n",
       "      <th>137</th>\n",
       "      <th>138</th>\n",
       "      <th>139</th>\n",
       "      <th>140</th>\n",
       "    </tr>\n",
       "  </thead>\n",
       "  <tbody>\n",
       "    <tr>\n",
       "      <th>0</th>\n",
       "      <td>-0.112522</td>\n",
       "      <td>-2.827204</td>\n",
       "      <td>-3.773897</td>\n",
       "      <td>-4.349751</td>\n",
       "      <td>-4.376041</td>\n",
       "      <td>-3.474986</td>\n",
       "      <td>-2.181408</td>\n",
       "      <td>-1.818286</td>\n",
       "      <td>-1.250522</td>\n",
       "      <td>-0.477492</td>\n",
       "      <td>...</td>\n",
       "      <td>0.792168</td>\n",
       "      <td>0.933541</td>\n",
       "      <td>0.796958</td>\n",
       "      <td>0.578621</td>\n",
       "      <td>0.257740</td>\n",
       "      <td>0.228077</td>\n",
       "      <td>0.123431</td>\n",
       "      <td>0.925286</td>\n",
       "      <td>0.193137</td>\n",
       "      <td>1.0</td>\n",
       "    </tr>\n",
       "    <tr>\n",
       "      <th>1</th>\n",
       "      <td>-1.100878</td>\n",
       "      <td>-3.996840</td>\n",
       "      <td>-4.285843</td>\n",
       "      <td>-4.506579</td>\n",
       "      <td>-4.022377</td>\n",
       "      <td>-3.234368</td>\n",
       "      <td>-1.566126</td>\n",
       "      <td>-0.992258</td>\n",
       "      <td>-0.754680</td>\n",
       "      <td>0.042321</td>\n",
       "      <td>...</td>\n",
       "      <td>0.538356</td>\n",
       "      <td>0.656881</td>\n",
       "      <td>0.787490</td>\n",
       "      <td>0.724046</td>\n",
       "      <td>0.555784</td>\n",
       "      <td>0.476333</td>\n",
       "      <td>0.773820</td>\n",
       "      <td>1.119621</td>\n",
       "      <td>-1.436250</td>\n",
       "      <td>1.0</td>\n",
       "    </tr>\n",
       "    <tr>\n",
       "      <th>2</th>\n",
       "      <td>-0.567088</td>\n",
       "      <td>-2.593450</td>\n",
       "      <td>-3.874230</td>\n",
       "      <td>-4.584095</td>\n",
       "      <td>-4.187449</td>\n",
       "      <td>-3.151462</td>\n",
       "      <td>-1.742940</td>\n",
       "      <td>-1.490659</td>\n",
       "      <td>-1.183580</td>\n",
       "      <td>-0.394229</td>\n",
       "      <td>...</td>\n",
       "      <td>0.886073</td>\n",
       "      <td>0.531452</td>\n",
       "      <td>0.311377</td>\n",
       "      <td>-0.021919</td>\n",
       "      <td>-0.713683</td>\n",
       "      <td>-0.532197</td>\n",
       "      <td>0.321097</td>\n",
       "      <td>0.904227</td>\n",
       "      <td>-0.421797</td>\n",
       "      <td>1.0</td>\n",
       "    </tr>\n",
       "    <tr>\n",
       "      <th>3</th>\n",
       "      <td>0.490473</td>\n",
       "      <td>-1.914407</td>\n",
       "      <td>-3.616364</td>\n",
       "      <td>-4.318823</td>\n",
       "      <td>-4.268016</td>\n",
       "      <td>-3.881110</td>\n",
       "      <td>-2.993280</td>\n",
       "      <td>-1.671131</td>\n",
       "      <td>-1.333884</td>\n",
       "      <td>-0.965629</td>\n",
       "      <td>...</td>\n",
       "      <td>0.350816</td>\n",
       "      <td>0.499111</td>\n",
       "      <td>0.600345</td>\n",
       "      <td>0.842069</td>\n",
       "      <td>0.952074</td>\n",
       "      <td>0.990133</td>\n",
       "      <td>1.086798</td>\n",
       "      <td>1.403011</td>\n",
       "      <td>-0.383564</td>\n",
       "      <td>1.0</td>\n",
       "    </tr>\n",
       "    <tr>\n",
       "      <th>4</th>\n",
       "      <td>0.800232</td>\n",
       "      <td>-0.874252</td>\n",
       "      <td>-2.384761</td>\n",
       "      <td>-3.973292</td>\n",
       "      <td>-4.338224</td>\n",
       "      <td>-3.802422</td>\n",
       "      <td>-2.534510</td>\n",
       "      <td>-1.783423</td>\n",
       "      <td>-1.594450</td>\n",
       "      <td>-0.753199</td>\n",
       "      <td>...</td>\n",
       "      <td>1.148884</td>\n",
       "      <td>0.958434</td>\n",
       "      <td>1.059025</td>\n",
       "      <td>1.371682</td>\n",
       "      <td>1.277392</td>\n",
       "      <td>0.960304</td>\n",
       "      <td>0.971020</td>\n",
       "      <td>1.614392</td>\n",
       "      <td>1.421456</td>\n",
       "      <td>1.0</td>\n",
       "    </tr>\n",
       "    <tr>\n",
       "      <th>...</th>\n",
       "      <td>...</td>\n",
       "      <td>...</td>\n",
       "      <td>...</td>\n",
       "      <td>...</td>\n",
       "      <td>...</td>\n",
       "      <td>...</td>\n",
       "      <td>...</td>\n",
       "      <td>...</td>\n",
       "      <td>...</td>\n",
       "      <td>...</td>\n",
       "      <td>...</td>\n",
       "      <td>...</td>\n",
       "      <td>...</td>\n",
       "      <td>...</td>\n",
       "      <td>...</td>\n",
       "      <td>...</td>\n",
       "      <td>...</td>\n",
       "      <td>...</td>\n",
       "      <td>...</td>\n",
       "      <td>...</td>\n",
       "      <td>...</td>\n",
       "    </tr>\n",
       "    <tr>\n",
       "      <th>4993</th>\n",
       "      <td>0.608558</td>\n",
       "      <td>-0.335651</td>\n",
       "      <td>-0.990948</td>\n",
       "      <td>-1.784153</td>\n",
       "      <td>-2.626145</td>\n",
       "      <td>-2.957065</td>\n",
       "      <td>-2.931897</td>\n",
       "      <td>-2.664816</td>\n",
       "      <td>-2.090137</td>\n",
       "      <td>-1.461841</td>\n",
       "      <td>...</td>\n",
       "      <td>1.757705</td>\n",
       "      <td>2.291923</td>\n",
       "      <td>2.704595</td>\n",
       "      <td>2.451519</td>\n",
       "      <td>2.017396</td>\n",
       "      <td>1.704358</td>\n",
       "      <td>1.688542</td>\n",
       "      <td>1.629593</td>\n",
       "      <td>1.342651</td>\n",
       "      <td>0.0</td>\n",
       "    </tr>\n",
       "    <tr>\n",
       "      <th>4994</th>\n",
       "      <td>-2.060402</td>\n",
       "      <td>-2.860116</td>\n",
       "      <td>-3.405074</td>\n",
       "      <td>-3.748719</td>\n",
       "      <td>-3.513561</td>\n",
       "      <td>-3.006545</td>\n",
       "      <td>-2.234850</td>\n",
       "      <td>-1.593270</td>\n",
       "      <td>-1.075279</td>\n",
       "      <td>-0.976047</td>\n",
       "      <td>...</td>\n",
       "      <td>1.388947</td>\n",
       "      <td>2.079675</td>\n",
       "      <td>2.433375</td>\n",
       "      <td>2.159484</td>\n",
       "      <td>1.819747</td>\n",
       "      <td>1.534767</td>\n",
       "      <td>1.696818</td>\n",
       "      <td>1.483832</td>\n",
       "      <td>1.047612</td>\n",
       "      <td>0.0</td>\n",
       "    </tr>\n",
       "    <tr>\n",
       "      <th>4995</th>\n",
       "      <td>-1.122969</td>\n",
       "      <td>-2.252925</td>\n",
       "      <td>-2.867628</td>\n",
       "      <td>-3.358605</td>\n",
       "      <td>-3.167849</td>\n",
       "      <td>-2.638360</td>\n",
       "      <td>-1.664162</td>\n",
       "      <td>-0.935655</td>\n",
       "      <td>-0.866953</td>\n",
       "      <td>-0.645363</td>\n",
       "      <td>...</td>\n",
       "      <td>-0.472419</td>\n",
       "      <td>-1.310147</td>\n",
       "      <td>-2.029521</td>\n",
       "      <td>-3.221294</td>\n",
       "      <td>-4.176790</td>\n",
       "      <td>-4.009720</td>\n",
       "      <td>-2.874136</td>\n",
       "      <td>-2.008369</td>\n",
       "      <td>-1.808334</td>\n",
       "      <td>0.0</td>\n",
       "    </tr>\n",
       "    <tr>\n",
       "      <th>4996</th>\n",
       "      <td>-0.547705</td>\n",
       "      <td>-1.889545</td>\n",
       "      <td>-2.839779</td>\n",
       "      <td>-3.457912</td>\n",
       "      <td>-3.929149</td>\n",
       "      <td>-3.966026</td>\n",
       "      <td>-3.492560</td>\n",
       "      <td>-2.695270</td>\n",
       "      <td>-1.849691</td>\n",
       "      <td>-1.374321</td>\n",
       "      <td>...</td>\n",
       "      <td>1.258419</td>\n",
       "      <td>1.907530</td>\n",
       "      <td>2.280888</td>\n",
       "      <td>1.895242</td>\n",
       "      <td>1.437702</td>\n",
       "      <td>1.193433</td>\n",
       "      <td>1.261335</td>\n",
       "      <td>1.150449</td>\n",
       "      <td>0.804932</td>\n",
       "      <td>0.0</td>\n",
       "    </tr>\n",
       "    <tr>\n",
       "      <th>4997</th>\n",
       "      <td>-1.351779</td>\n",
       "      <td>-2.209006</td>\n",
       "      <td>-2.520225</td>\n",
       "      <td>-3.061475</td>\n",
       "      <td>-3.065141</td>\n",
       "      <td>-3.030739</td>\n",
       "      <td>-2.622720</td>\n",
       "      <td>-2.044092</td>\n",
       "      <td>-1.295874</td>\n",
       "      <td>-0.733839</td>\n",
       "      <td>...</td>\n",
       "      <td>-1.512234</td>\n",
       "      <td>-2.076075</td>\n",
       "      <td>-2.586042</td>\n",
       "      <td>-3.322799</td>\n",
       "      <td>-3.627311</td>\n",
       "      <td>-3.437038</td>\n",
       "      <td>-2.260023</td>\n",
       "      <td>-1.577823</td>\n",
       "      <td>-0.684531</td>\n",
       "      <td>0.0</td>\n",
       "    </tr>\n",
       "  </tbody>\n",
       "</table>\n",
       "<p>4998 rows × 141 columns</p>\n",
       "</div>"
      ],
      "text/plain": [
       "           0         1         2         3         4         5         6    \\\n",
       "0    -0.112522 -2.827204 -3.773897 -4.349751 -4.376041 -3.474986 -2.181408   \n",
       "1    -1.100878 -3.996840 -4.285843 -4.506579 -4.022377 -3.234368 -1.566126   \n",
       "2    -0.567088 -2.593450 -3.874230 -4.584095 -4.187449 -3.151462 -1.742940   \n",
       "3     0.490473 -1.914407 -3.616364 -4.318823 -4.268016 -3.881110 -2.993280   \n",
       "4     0.800232 -0.874252 -2.384761 -3.973292 -4.338224 -3.802422 -2.534510   \n",
       "...        ...       ...       ...       ...       ...       ...       ...   \n",
       "4993  0.608558 -0.335651 -0.990948 -1.784153 -2.626145 -2.957065 -2.931897   \n",
       "4994 -2.060402 -2.860116 -3.405074 -3.748719 -3.513561 -3.006545 -2.234850   \n",
       "4995 -1.122969 -2.252925 -2.867628 -3.358605 -3.167849 -2.638360 -1.664162   \n",
       "4996 -0.547705 -1.889545 -2.839779 -3.457912 -3.929149 -3.966026 -3.492560   \n",
       "4997 -1.351779 -2.209006 -2.520225 -3.061475 -3.065141 -3.030739 -2.622720   \n",
       "\n",
       "           7         8         9    ...       131       132       133  \\\n",
       "0    -1.818286 -1.250522 -0.477492  ...  0.792168  0.933541  0.796958   \n",
       "1    -0.992258 -0.754680  0.042321  ...  0.538356  0.656881  0.787490   \n",
       "2    -1.490659 -1.183580 -0.394229  ...  0.886073  0.531452  0.311377   \n",
       "3    -1.671131 -1.333884 -0.965629  ...  0.350816  0.499111  0.600345   \n",
       "4    -1.783423 -1.594450 -0.753199  ...  1.148884  0.958434  1.059025   \n",
       "...        ...       ...       ...  ...       ...       ...       ...   \n",
       "4993 -2.664816 -2.090137 -1.461841  ...  1.757705  2.291923  2.704595   \n",
       "4994 -1.593270 -1.075279 -0.976047  ...  1.388947  2.079675  2.433375   \n",
       "4995 -0.935655 -0.866953 -0.645363  ... -0.472419 -1.310147 -2.029521   \n",
       "4996 -2.695270 -1.849691 -1.374321  ...  1.258419  1.907530  2.280888   \n",
       "4997 -2.044092 -1.295874 -0.733839  ... -1.512234 -2.076075 -2.586042   \n",
       "\n",
       "           134       135       136       137       138       139  140  \n",
       "0     0.578621  0.257740  0.228077  0.123431  0.925286  0.193137  1.0  \n",
       "1     0.724046  0.555784  0.476333  0.773820  1.119621 -1.436250  1.0  \n",
       "2    -0.021919 -0.713683 -0.532197  0.321097  0.904227 -0.421797  1.0  \n",
       "3     0.842069  0.952074  0.990133  1.086798  1.403011 -0.383564  1.0  \n",
       "4     1.371682  1.277392  0.960304  0.971020  1.614392  1.421456  1.0  \n",
       "...        ...       ...       ...       ...       ...       ...  ...  \n",
       "4993  2.451519  2.017396  1.704358  1.688542  1.629593  1.342651  0.0  \n",
       "4994  2.159484  1.819747  1.534767  1.696818  1.483832  1.047612  0.0  \n",
       "4995 -3.221294 -4.176790 -4.009720 -2.874136 -2.008369 -1.808334  0.0  \n",
       "4996  1.895242  1.437702  1.193433  1.261335  1.150449  0.804932  0.0  \n",
       "4997 -3.322799 -3.627311 -3.437038 -2.260023 -1.577823 -0.684531  0.0  \n",
       "\n",
       "[4998 rows x 141 columns]"
      ]
     },
     "execution_count": 1,
     "metadata": {},
     "output_type": "execute_result"
    }
   ],
   "source": [
    "url = \"http://storage.googleapis.com/download.tensorflow.org/data/ecg.csv\"\n",
    "import pandas\n",
    "t = pandas.read_csv(url, header=None)\n",
    "t"
   ]
  },
  {
   "cell_type": "code",
   "execution_count": 2,
   "id": "c1b87000-1602-4f87-bdff-46af8dd6d915",
   "metadata": {},
   "outputs": [],
   "source": [
    "t.to_csv(\"ecgs.csv\")"
   ]
  },
  {
   "cell_type": "markdown",
   "id": "4097499d-bbf8-4ef3-bc70-a5b7b879caf5",
   "metadata": {},
   "source": [
    "# Daten fürs ML vorbereiten"
   ]
  },
  {
   "cell_type": "code",
   "execution_count": 3,
   "id": "fc52f289-b46b-4183-9cac-38cbade46fff",
   "metadata": {},
   "outputs": [],
   "source": [
    "x = t.iloc[:,0:-1]"
   ]
  },
  {
   "cell_type": "code",
   "execution_count": 4,
   "id": "ebb465cc-1424-499e-930d-539116b82251",
   "metadata": {},
   "outputs": [
    {
     "data": {
      "text/plain": [
       "(4998, 140)"
      ]
     },
     "execution_count": 4,
     "metadata": {},
     "output_type": "execute_result"
    }
   ],
   "source": [
    "x.shape"
   ]
  },
  {
   "cell_type": "code",
   "execution_count": 5,
   "id": "5fb64d82-6c3c-47c0-97bd-38992547490d",
   "metadata": {},
   "outputs": [],
   "source": [
    "y = t.iloc[:,-1]"
   ]
  },
  {
   "cell_type": "code",
   "execution_count": 6,
   "id": "c1b6cf20-78e0-40f2-9f3a-0eb3a24eb1d9",
   "metadata": {},
   "outputs": [
    {
     "data": {
      "text/plain": [
       "(4998,)"
      ]
     },
     "execution_count": 6,
     "metadata": {},
     "output_type": "execute_result"
    }
   ],
   "source": [
    "y.shape"
   ]
  },
  {
   "cell_type": "code",
   "execution_count": 7,
   "id": "3874473e-382c-4743-bbc7-609a65122fbd",
   "metadata": {},
   "outputs": [
    {
     "data": {
      "text/plain": [
       "0    1.0\n",
       "1    1.0\n",
       "2    1.0\n",
       "3    1.0\n",
       "4    1.0\n",
       "5    1.0\n",
       "6    1.0\n",
       "7    1.0\n",
       "8    1.0\n",
       "9    1.0\n",
       "Name: 140, dtype: float64"
      ]
     },
     "execution_count": 7,
     "metadata": {},
     "output_type": "execute_result"
    }
   ],
   "source": [
    "y[:10]"
   ]
  },
  {
   "cell_type": "code",
   "execution_count": 8,
   "id": "871504b0-d13c-4d95-954d-5f2d4d9de966",
   "metadata": {},
   "outputs": [
    {
     "name": "stdout",
     "output_type": "stream",
     "text": [
      "Requirement already satisfied: scikit-learn in /home/juebrauer/miniconda3/envs/env_ml_tf/lib/python3.12/site-packages (1.6.1)\n",
      "Requirement already satisfied: numpy>=1.19.5 in /home/juebrauer/miniconda3/envs/env_ml_tf/lib/python3.12/site-packages (from scikit-learn) (2.0.2)\n",
      "Requirement already satisfied: scipy>=1.6.0 in /home/juebrauer/miniconda3/envs/env_ml_tf/lib/python3.12/site-packages (from scikit-learn) (1.15.1)\n",
      "Requirement already satisfied: joblib>=1.2.0 in /home/juebrauer/miniconda3/envs/env_ml_tf/lib/python3.12/site-packages (from scikit-learn) (1.4.2)\n",
      "Requirement already satisfied: threadpoolctl>=3.1.0 in /home/juebrauer/miniconda3/envs/env_ml_tf/lib/python3.12/site-packages (from scikit-learn) (3.5.0)\n"
     ]
    }
   ],
   "source": [
    "!pip install scikit-learn"
   ]
  },
  {
   "cell_type": "code",
   "execution_count": 9,
   "id": "b1b75045-86a2-45ad-ba67-4f2225662331",
   "metadata": {},
   "outputs": [],
   "source": [
    "from sklearn.model_selection import train_test_split\n",
    "x_train, x_test, y_train, y_test = train_test_split(x, y, test_size=0.2)"
   ]
  },
  {
   "cell_type": "code",
   "execution_count": 10,
   "id": "b09f1be7-c4fd-4beb-bb98-eda66796bce1",
   "metadata": {},
   "outputs": [
    {
     "data": {
      "text/plain": [
       "(3998, 140)"
      ]
     },
     "execution_count": 10,
     "metadata": {},
     "output_type": "execute_result"
    }
   ],
   "source": [
    "x_train.shape"
   ]
  },
  {
   "cell_type": "code",
   "execution_count": 11,
   "id": "4fd0925e-3d2b-4afc-9941-621448347d4b",
   "metadata": {},
   "outputs": [
    {
     "data": {
      "text/plain": [
       "(3998,)"
      ]
     },
     "execution_count": 11,
     "metadata": {},
     "output_type": "execute_result"
    }
   ],
   "source": [
    "y_train.shape"
   ]
  },
  {
   "cell_type": "code",
   "execution_count": 12,
   "id": "9c0cc927-b171-4952-850f-99c6e82dcb07",
   "metadata": {},
   "outputs": [
    {
     "data": {
      "text/plain": [
       "(1000, 140)"
      ]
     },
     "execution_count": 12,
     "metadata": {},
     "output_type": "execute_result"
    }
   ],
   "source": [
    "x_test.shape"
   ]
  },
  {
   "cell_type": "code",
   "execution_count": 13,
   "id": "e8909aaa-bd26-4a18-be8b-dbf0e739c2c1",
   "metadata": {},
   "outputs": [
    {
     "data": {
      "text/plain": [
       "(1000,)"
      ]
     },
     "execution_count": 13,
     "metadata": {},
     "output_type": "execute_result"
    }
   ],
   "source": [
    "y_test.shape"
   ]
  },
  {
   "cell_type": "code",
   "execution_count": 14,
   "id": "cf707dbd-4c4b-42bd-918a-ef21dafb5162",
   "metadata": {},
   "outputs": [
    {
     "data": {
      "text/plain": [
       "4751    0.0\n",
       "4893    0.0\n",
       "4949    0.0\n",
       "1952    1.0\n",
       "1212    1.0\n",
       "2328    1.0\n",
       "898     1.0\n",
       "3540    0.0\n",
       "1213    1.0\n",
       "3514    0.0\n",
       "Name: 140, dtype: float64"
      ]
     },
     "execution_count": 14,
     "metadata": {},
     "output_type": "execute_result"
    }
   ],
   "source": [
    "y_test[:10]"
   ]
  },
  {
   "cell_type": "code",
   "execution_count": 15,
   "id": "32de60bc-c93b-4e67-826f-445b7d23877b",
   "metadata": {},
   "outputs": [],
   "source": [
    "from sklearn.preprocessing import MinMaxScaler\n",
    "scaler = MinMaxScaler()\n",
    "scaler.fit(x_train)\n",
    "x_train_scaled = scaler.transform(x_train)\n",
    "x_test_scaled = scaler.transform(x_test)"
   ]
  },
  {
   "cell_type": "code",
   "execution_count": 16,
   "id": "5a813f5b-7048-4f9b-adb0-b258d1b2a89f",
   "metadata": {},
   "outputs": [],
   "source": [
    "x_train_scaled_normal   = x_train_scaled[ y_train.astype(bool) ]\n",
    "x_train_scaled_abnormal = x_train_scaled[ ~y_train.astype(bool) ]\n",
    "\n",
    "x_test_normal   = x_test_scaled[ y_test.astype(bool) ]\n",
    "x_test_abnormal = x_test_scaled[ ~y_test.astype(bool) ]"
   ]
  },
  {
   "cell_type": "markdown",
   "id": "96055d6a-cbb8-4119-a202-940a61678c22",
   "metadata": {},
   "source": [
    "# Alles in einer Codezelle"
   ]
  },
  {
   "cell_type": "code",
   "execution_count": 17,
   "id": "8340b8e2-c83f-41d6-aca8-916a0aa3b272",
   "metadata": {},
   "outputs": [],
   "source": [
    "# 1. Daten runterladen\n",
    "url = \"http://storage.googleapis.com/download.tensorflow.org/data/ecg.csv\"\n",
    "import pandas\n",
    "t = pandas.read_csv(url, header=None)\n",
    "\n",
    "# 2. Daten fürs ML vorbereiten\n",
    "x = t.iloc[:,0:-1]\n",
    "y = t.iloc[:,-1]\n",
    "\n",
    "from sklearn.model_selection import train_test_split\n",
    "x_train, x_test, y_train, y_test = train_test_split(x, y, test_size=0.2)\n",
    "\n",
    "from sklearn.preprocessing import MinMaxScaler\n",
    "scaler = MinMaxScaler()\n",
    "scaler.fit(x_train)\n",
    "x_train_scaled = scaler.transform(x_train)\n",
    "x_test_scaled = scaler.transform(x_test)\n",
    "\n",
    "x_train_scaled_normal   = x_train_scaled[ y_train.astype(bool) ]\n",
    "x_train_scaled_abnormal = x_train_scaled[ ~y_train.astype(bool) ]\n",
    "x_test_normal   = x_test_scaled[ y_test.astype(bool) ]\n",
    "x_test_abnormal = x_test_scaled[ ~y_test.astype(bool) ]"
   ]
  },
  {
   "cell_type": "code",
   "execution_count": 18,
   "id": "cf5466b0-032c-4721-8376-23a949d1ddaf",
   "metadata": {},
   "outputs": [
    {
     "data": {
      "text/plain": [
       "numpy.ndarray"
      ]
     },
     "execution_count": 18,
     "metadata": {},
     "output_type": "execute_result"
    }
   ],
   "source": [
    "type(x_train_scaled_normal)"
   ]
  },
  {
   "cell_type": "code",
   "execution_count": 19,
   "id": "abae6539-dd87-483c-945d-7a703ad72050",
   "metadata": {},
   "outputs": [
    {
     "data": {
      "text/plain": [
       "(2327, 140)"
      ]
     },
     "execution_count": 19,
     "metadata": {},
     "output_type": "execute_result"
    }
   ],
   "source": [
    "x_train_scaled_normal.shape"
   ]
  },
  {
   "cell_type": "code",
   "execution_count": 20,
   "id": "939a023d-057c-46f7-80b2-34c9d5f394f1",
   "metadata": {},
   "outputs": [
    {
     "data": {
      "text/plain": [
       "(3998, 140)"
      ]
     },
     "execution_count": 20,
     "metadata": {},
     "output_type": "execute_result"
    }
   ],
   "source": [
    "x_train_scaled.shape"
   ]
  },
  {
   "cell_type": "markdown",
   "id": "2cf3db45-6392-4c6e-af63-4ce0cde28116",
   "metadata": {},
   "source": [
    "# Exkurs: Skalierung von Daten"
   ]
  },
  {
   "cell_type": "code",
   "execution_count": 21,
   "id": "2c39837e-80f9-4730-a356-8ec7f680591b",
   "metadata": {},
   "outputs": [
    {
     "data": {
      "text/html": [
       "<div>\n",
       "<style scoped>\n",
       "    .dataframe tbody tr th:only-of-type {\n",
       "        vertical-align: middle;\n",
       "    }\n",
       "\n",
       "    .dataframe tbody tr th {\n",
       "        vertical-align: top;\n",
       "    }\n",
       "\n",
       "    .dataframe thead th {\n",
       "        text-align: right;\n",
       "    }\n",
       "</style>\n",
       "<table border=\"1\" class=\"dataframe\">\n",
       "  <thead>\n",
       "    <tr style=\"text-align: right;\">\n",
       "      <th></th>\n",
       "      <th>A</th>\n",
       "      <th>B</th>\n",
       "    </tr>\n",
       "  </thead>\n",
       "  <tbody>\n",
       "    <tr>\n",
       "      <th>0</th>\n",
       "      <td>-10</td>\n",
       "      <td>-200</td>\n",
       "    </tr>\n",
       "    <tr>\n",
       "      <th>1</th>\n",
       "      <td>10</td>\n",
       "      <td>-100</td>\n",
       "    </tr>\n",
       "    <tr>\n",
       "      <th>2</th>\n",
       "      <td>0</td>\n",
       "      <td>0</td>\n",
       "    </tr>\n",
       "    <tr>\n",
       "      <th>3</th>\n",
       "      <td>5</td>\n",
       "      <td>100</td>\n",
       "    </tr>\n",
       "    <tr>\n",
       "      <th>4</th>\n",
       "      <td>-5</td>\n",
       "      <td>200</td>\n",
       "    </tr>\n",
       "  </tbody>\n",
       "</table>\n",
       "</div>"
      ],
      "text/plain": [
       "    A    B\n",
       "0 -10 -200\n",
       "1  10 -100\n",
       "2   0    0\n",
       "3   5  100\n",
       "4  -5  200"
      ]
     },
     "execution_count": 21,
     "metadata": {},
     "output_type": "execute_result"
    }
   ],
   "source": [
    "d = {\"A\" : [-10,10,0,5,-5],\n",
    "     \"B\" : [-200,-100,0,100,200]}\n",
    "import pandas\n",
    "t2 = pandas.DataFrame(d)\n",
    "t2"
   ]
  },
  {
   "cell_type": "code",
   "execution_count": 22,
   "id": "4cef06cc-b638-42ce-8f90-894fd22b62f0",
   "metadata": {},
   "outputs": [
    {
     "data": {
      "text/plain": [
       "array([[0.  , 0.  ],\n",
       "       [1.  , 0.25],\n",
       "       [0.5 , 0.5 ],\n",
       "       [0.75, 0.75],\n",
       "       [0.25, 1.  ]])"
      ]
     },
     "execution_count": 22,
     "metadata": {},
     "output_type": "execute_result"
    }
   ],
   "source": [
    "from sklearn.preprocessing import MinMaxScaler\n",
    "s = MinMaxScaler()\n",
    "s.fit(t2)\n",
    "s.transform(t2)"
   ]
  },
  {
   "cell_type": "code",
   "execution_count": 23,
   "id": "06d11013-d16c-4964-b4dc-e2536c8d2a33",
   "metadata": {},
   "outputs": [
    {
     "data": {
      "text/plain": [
       "numpy.ndarray"
      ]
     },
     "execution_count": 23,
     "metadata": {},
     "output_type": "execute_result"
    }
   ],
   "source": [
    "type(x_train_scaled)"
   ]
  },
  {
   "cell_type": "code",
   "execution_count": 24,
   "id": "bd982b0c-396f-4039-b773-6b320b7bd58c",
   "metadata": {},
   "outputs": [
    {
     "data": {
      "text/plain": [
       "np.float64(-5.1480379)"
      ]
     },
     "execution_count": 24,
     "metadata": {},
     "output_type": "execute_result"
    }
   ],
   "source": [
    "x_train.iloc[:,0].values.min()"
   ]
  },
  {
   "cell_type": "code",
   "execution_count": 25,
   "id": "83ac3614-7cf3-468d-9d42-367b3914946d",
   "metadata": {},
   "outputs": [
    {
     "data": {
      "text/plain": [
       "np.float64(0.0)"
      ]
     },
     "execution_count": 25,
     "metadata": {},
     "output_type": "execute_result"
    }
   ],
   "source": [
    "x_train_scaled[:,0].min()"
   ]
  },
  {
   "cell_type": "code",
   "execution_count": 26,
   "id": "99e10cfc-87f2-4bcf-ab76-3517bade5fa1",
   "metadata": {},
   "outputs": [
    {
     "data": {
      "text/plain": [
       "np.float64(0.9999999999999999)"
      ]
     },
     "execution_count": 26,
     "metadata": {},
     "output_type": "execute_result"
    }
   ],
   "source": [
    "x_train_scaled[:,0].max()"
   ]
  },
  {
   "cell_type": "markdown",
   "id": "56803499-c923-4edd-9efe-33752b7df19f",
   "metadata": {},
   "source": [
    "# Boolean Indexing"
   ]
  },
  {
   "cell_type": "code",
   "execution_count": 27,
   "id": "82f70e90-cf95-4a76-90ea-9190b283d07a",
   "metadata": {},
   "outputs": [
    {
     "data": {
      "text/html": [
       "<div>\n",
       "<style scoped>\n",
       "    .dataframe tbody tr th:only-of-type {\n",
       "        vertical-align: middle;\n",
       "    }\n",
       "\n",
       "    .dataframe tbody tr th {\n",
       "        vertical-align: top;\n",
       "    }\n",
       "\n",
       "    .dataframe thead th {\n",
       "        text-align: right;\n",
       "    }\n",
       "</style>\n",
       "<table border=\"1\" class=\"dataframe\">\n",
       "  <thead>\n",
       "    <tr style=\"text-align: right;\">\n",
       "      <th></th>\n",
       "      <th>A</th>\n",
       "      <th>B</th>\n",
       "    </tr>\n",
       "  </thead>\n",
       "  <tbody>\n",
       "    <tr>\n",
       "      <th>0</th>\n",
       "      <td>-10</td>\n",
       "      <td>-200</td>\n",
       "    </tr>\n",
       "    <tr>\n",
       "      <th>1</th>\n",
       "      <td>10</td>\n",
       "      <td>-100</td>\n",
       "    </tr>\n",
       "    <tr>\n",
       "      <th>2</th>\n",
       "      <td>0</td>\n",
       "      <td>0</td>\n",
       "    </tr>\n",
       "    <tr>\n",
       "      <th>3</th>\n",
       "      <td>5</td>\n",
       "      <td>100</td>\n",
       "    </tr>\n",
       "    <tr>\n",
       "      <th>4</th>\n",
       "      <td>-5</td>\n",
       "      <td>200</td>\n",
       "    </tr>\n",
       "  </tbody>\n",
       "</table>\n",
       "</div>"
      ],
      "text/plain": [
       "    A    B\n",
       "0 -10 -200\n",
       "1  10 -100\n",
       "2   0    0\n",
       "3   5  100\n",
       "4  -5  200"
      ]
     },
     "execution_count": 27,
     "metadata": {},
     "output_type": "execute_result"
    }
   ],
   "source": [
    "t2"
   ]
  },
  {
   "cell_type": "code",
   "execution_count": 28,
   "id": "8c312240-d446-4d4a-b84c-0b61fad21292",
   "metadata": {},
   "outputs": [
    {
     "data": {
      "text/plain": [
       "(5, 2)"
      ]
     },
     "execution_count": 28,
     "metadata": {},
     "output_type": "execute_result"
    }
   ],
   "source": [
    "t2.shape"
   ]
  },
  {
   "cell_type": "code",
   "execution_count": 29,
   "id": "dacad6d0-41ec-4c02-b17d-bb3a3f7a0885",
   "metadata": {},
   "outputs": [
    {
     "data": {
      "text/html": [
       "<div>\n",
       "<style scoped>\n",
       "    .dataframe tbody tr th:only-of-type {\n",
       "        vertical-align: middle;\n",
       "    }\n",
       "\n",
       "    .dataframe tbody tr th {\n",
       "        vertical-align: top;\n",
       "    }\n",
       "\n",
       "    .dataframe thead th {\n",
       "        text-align: right;\n",
       "    }\n",
       "</style>\n",
       "<table border=\"1\" class=\"dataframe\">\n",
       "  <thead>\n",
       "    <tr style=\"text-align: right;\">\n",
       "      <th></th>\n",
       "      <th>A</th>\n",
       "      <th>B</th>\n",
       "    </tr>\n",
       "  </thead>\n",
       "  <tbody>\n",
       "    <tr>\n",
       "      <th>0</th>\n",
       "      <td>-10</td>\n",
       "      <td>-200</td>\n",
       "    </tr>\n",
       "    <tr>\n",
       "      <th>3</th>\n",
       "      <td>5</td>\n",
       "      <td>100</td>\n",
       "    </tr>\n",
       "  </tbody>\n",
       "</table>\n",
       "</div>"
      ],
      "text/plain": [
       "    A    B\n",
       "0 -10 -200\n",
       "3   5  100"
      ]
     },
     "execution_count": 29,
     "metadata": {},
     "output_type": "execute_result"
    }
   ],
   "source": [
    "t2.iloc[[0,3]]"
   ]
  },
  {
   "cell_type": "code",
   "execution_count": 30,
   "id": "e6d75260-909a-4746-b6b5-9aafc36d626a",
   "metadata": {},
   "outputs": [
    {
     "data": {
      "text/html": [
       "<div>\n",
       "<style scoped>\n",
       "    .dataframe tbody tr th:only-of-type {\n",
       "        vertical-align: middle;\n",
       "    }\n",
       "\n",
       "    .dataframe tbody tr th {\n",
       "        vertical-align: top;\n",
       "    }\n",
       "\n",
       "    .dataframe thead th {\n",
       "        text-align: right;\n",
       "    }\n",
       "</style>\n",
       "<table border=\"1\" class=\"dataframe\">\n",
       "  <thead>\n",
       "    <tr style=\"text-align: right;\">\n",
       "      <th></th>\n",
       "      <th>A</th>\n",
       "      <th>B</th>\n",
       "    </tr>\n",
       "  </thead>\n",
       "  <tbody>\n",
       "    <tr>\n",
       "      <th>0</th>\n",
       "      <td>-10</td>\n",
       "      <td>-200</td>\n",
       "    </tr>\n",
       "    <tr>\n",
       "      <th>3</th>\n",
       "      <td>5</td>\n",
       "      <td>100</td>\n",
       "    </tr>\n",
       "  </tbody>\n",
       "</table>\n",
       "</div>"
      ],
      "text/plain": [
       "    A    B\n",
       "0 -10 -200\n",
       "3   5  100"
      ]
     },
     "execution_count": 30,
     "metadata": {},
     "output_type": "execute_result"
    }
   ],
   "source": [
    "t2[ [True, False, False, True, False] ] "
   ]
  },
  {
   "cell_type": "code",
   "execution_count": 34,
   "id": "facf8300-f2b2-4f8c-b806-587541983f81",
   "metadata": {},
   "outputs": [
    {
     "data": {
      "text/html": [
       "<div>\n",
       "<style scoped>\n",
       "    .dataframe tbody tr th:only-of-type {\n",
       "        vertical-align: middle;\n",
       "    }\n",
       "\n",
       "    .dataframe tbody tr th {\n",
       "        vertical-align: top;\n",
       "    }\n",
       "\n",
       "    .dataframe thead th {\n",
       "        text-align: right;\n",
       "    }\n",
       "</style>\n",
       "<table border=\"1\" class=\"dataframe\">\n",
       "  <thead>\n",
       "    <tr style=\"text-align: right;\">\n",
       "      <th></th>\n",
       "      <th>0</th>\n",
       "      <th>1</th>\n",
       "      <th>2</th>\n",
       "      <th>3</th>\n",
       "      <th>4</th>\n",
       "      <th>5</th>\n",
       "      <th>6</th>\n",
       "      <th>7</th>\n",
       "      <th>8</th>\n",
       "      <th>9</th>\n",
       "      <th>...</th>\n",
       "      <th>130</th>\n",
       "      <th>131</th>\n",
       "      <th>132</th>\n",
       "      <th>133</th>\n",
       "      <th>134</th>\n",
       "      <th>135</th>\n",
       "      <th>136</th>\n",
       "      <th>137</th>\n",
       "      <th>138</th>\n",
       "      <th>139</th>\n",
       "    </tr>\n",
       "  </thead>\n",
       "  <tbody>\n",
       "    <tr>\n",
       "      <th>2741</th>\n",
       "      <td>0.468623</td>\n",
       "      <td>-1.032162</td>\n",
       "      <td>-3.084379</td>\n",
       "      <td>-4.210410</td>\n",
       "      <td>-3.733820</td>\n",
       "      <td>-2.733797</td>\n",
       "      <td>-1.935106</td>\n",
       "      <td>-1.779987</td>\n",
       "      <td>-1.254270</td>\n",
       "      <td>-0.608612</td>\n",
       "      <td>...</td>\n",
       "      <td>0.864626</td>\n",
       "      <td>0.781909</td>\n",
       "      <td>0.623981</td>\n",
       "      <td>1.009745</td>\n",
       "      <td>1.284270</td>\n",
       "      <td>1.448595</td>\n",
       "      <td>1.393048</td>\n",
       "      <td>1.621618</td>\n",
       "      <td>2.238622</td>\n",
       "      <td>1.767265</td>\n",
       "    </tr>\n",
       "    <tr>\n",
       "      <th>1974</th>\n",
       "      <td>-0.886430</td>\n",
       "      <td>-3.686988</td>\n",
       "      <td>-4.518615</td>\n",
       "      <td>-4.213926</td>\n",
       "      <td>-3.706176</td>\n",
       "      <td>-2.677737</td>\n",
       "      <td>-1.587460</td>\n",
       "      <td>-1.450537</td>\n",
       "      <td>-0.925536</td>\n",
       "      <td>-0.301669</td>\n",
       "      <td>...</td>\n",
       "      <td>1.009605</td>\n",
       "      <td>0.963591</td>\n",
       "      <td>1.009558</td>\n",
       "      <td>1.174546</td>\n",
       "      <td>1.052831</td>\n",
       "      <td>0.829570</td>\n",
       "      <td>0.901804</td>\n",
       "      <td>1.286202</td>\n",
       "      <td>1.860510</td>\n",
       "      <td>-0.165253</td>\n",
       "    </tr>\n",
       "    <tr>\n",
       "      <th>2905</th>\n",
       "      <td>1.359176</td>\n",
       "      <td>-0.829784</td>\n",
       "      <td>-2.637788</td>\n",
       "      <td>-3.455480</td>\n",
       "      <td>-4.075587</td>\n",
       "      <td>-3.902612</td>\n",
       "      <td>-2.868406</td>\n",
       "      <td>-1.842288</td>\n",
       "      <td>-1.739093</td>\n",
       "      <td>-1.151803</td>\n",
       "      <td>...</td>\n",
       "      <td>0.423574</td>\n",
       "      <td>0.688412</td>\n",
       "      <td>0.800528</td>\n",
       "      <td>0.979910</td>\n",
       "      <td>1.103149</td>\n",
       "      <td>1.018079</td>\n",
       "      <td>1.152184</td>\n",
       "      <td>1.108270</td>\n",
       "      <td>1.974042</td>\n",
       "      <td>1.055362</td>\n",
       "    </tr>\n",
       "    <tr>\n",
       "      <th>1536</th>\n",
       "      <td>-0.924702</td>\n",
       "      <td>-3.435551</td>\n",
       "      <td>-4.255070</td>\n",
       "      <td>-4.592861</td>\n",
       "      <td>-3.757135</td>\n",
       "      <td>-2.628617</td>\n",
       "      <td>-2.067179</td>\n",
       "      <td>-1.810549</td>\n",
       "      <td>-0.930448</td>\n",
       "      <td>-0.399014</td>\n",
       "      <td>...</td>\n",
       "      <td>0.474748</td>\n",
       "      <td>1.124692</td>\n",
       "      <td>1.109565</td>\n",
       "      <td>0.967409</td>\n",
       "      <td>0.830435</td>\n",
       "      <td>0.499172</td>\n",
       "      <td>0.395863</td>\n",
       "      <td>0.304092</td>\n",
       "      <td>1.105778</td>\n",
       "      <td>1.016879</td>\n",
       "    </tr>\n",
       "    <tr>\n",
       "      <th>679</th>\n",
       "      <td>1.964891</td>\n",
       "      <td>1.555575</td>\n",
       "      <td>-0.869655</td>\n",
       "      <td>-2.294871</td>\n",
       "      <td>-3.760029</td>\n",
       "      <td>-4.327142</td>\n",
       "      <td>-3.388973</td>\n",
       "      <td>-1.991593</td>\n",
       "      <td>-1.658679</td>\n",
       "      <td>-0.728022</td>\n",
       "      <td>...</td>\n",
       "      <td>-0.635680</td>\n",
       "      <td>-0.530590</td>\n",
       "      <td>0.022647</td>\n",
       "      <td>0.874383</td>\n",
       "      <td>0.698861</td>\n",
       "      <td>1.055575</td>\n",
       "      <td>1.077426</td>\n",
       "      <td>0.722963</td>\n",
       "      <td>0.099469</td>\n",
       "      <td>-0.187140</td>\n",
       "    </tr>\n",
       "    <tr>\n",
       "      <th>...</th>\n",
       "      <td>...</td>\n",
       "      <td>...</td>\n",
       "      <td>...</td>\n",
       "      <td>...</td>\n",
       "      <td>...</td>\n",
       "      <td>...</td>\n",
       "      <td>...</td>\n",
       "      <td>...</td>\n",
       "      <td>...</td>\n",
       "      <td>...</td>\n",
       "      <td>...</td>\n",
       "      <td>...</td>\n",
       "      <td>...</td>\n",
       "      <td>...</td>\n",
       "      <td>...</td>\n",
       "      <td>...</td>\n",
       "      <td>...</td>\n",
       "      <td>...</td>\n",
       "      <td>...</td>\n",
       "      <td>...</td>\n",
       "      <td>...</td>\n",
       "    </tr>\n",
       "    <tr>\n",
       "      <th>67</th>\n",
       "      <td>0.858856</td>\n",
       "      <td>-1.255056</td>\n",
       "      <td>-2.649538</td>\n",
       "      <td>-3.626291</td>\n",
       "      <td>-4.429612</td>\n",
       "      <td>-4.306127</td>\n",
       "      <td>-2.969045</td>\n",
       "      <td>-1.873762</td>\n",
       "      <td>-1.722673</td>\n",
       "      <td>-0.743290</td>\n",
       "      <td>...</td>\n",
       "      <td>0.289357</td>\n",
       "      <td>0.700128</td>\n",
       "      <td>1.620762</td>\n",
       "      <td>1.613312</td>\n",
       "      <td>1.764131</td>\n",
       "      <td>2.013809</td>\n",
       "      <td>1.918569</td>\n",
       "      <td>1.482261</td>\n",
       "      <td>0.721869</td>\n",
       "      <td>1.144019</td>\n",
       "    </tr>\n",
       "    <tr>\n",
       "      <th>642</th>\n",
       "      <td>-0.658584</td>\n",
       "      <td>-3.271478</td>\n",
       "      <td>-4.550643</td>\n",
       "      <td>-4.560691</td>\n",
       "      <td>-3.972582</td>\n",
       "      <td>-2.784941</td>\n",
       "      <td>-1.774708</td>\n",
       "      <td>-1.496075</td>\n",
       "      <td>-0.753084</td>\n",
       "      <td>-0.158155</td>\n",
       "      <td>...</td>\n",
       "      <td>0.834122</td>\n",
       "      <td>0.815028</td>\n",
       "      <td>0.783640</td>\n",
       "      <td>1.031223</td>\n",
       "      <td>1.050772</td>\n",
       "      <td>0.795279</td>\n",
       "      <td>0.926456</td>\n",
       "      <td>1.170361</td>\n",
       "      <td>1.860439</td>\n",
       "      <td>0.213854</td>\n",
       "    </tr>\n",
       "    <tr>\n",
       "      <th>1087</th>\n",
       "      <td>-0.449183</td>\n",
       "      <td>-2.570855</td>\n",
       "      <td>-3.394031</td>\n",
       "      <td>-4.137562</td>\n",
       "      <td>-4.074851</td>\n",
       "      <td>-3.145741</td>\n",
       "      <td>-1.932255</td>\n",
       "      <td>-1.645694</td>\n",
       "      <td>-1.197856</td>\n",
       "      <td>-0.371968</td>\n",
       "      <td>...</td>\n",
       "      <td>0.436298</td>\n",
       "      <td>0.844905</td>\n",
       "      <td>0.970873</td>\n",
       "      <td>1.132088</td>\n",
       "      <td>1.294585</td>\n",
       "      <td>1.309551</td>\n",
       "      <td>1.240390</td>\n",
       "      <td>1.046417</td>\n",
       "      <td>1.697741</td>\n",
       "      <td>1.581276</td>\n",
       "    </tr>\n",
       "    <tr>\n",
       "      <th>2630</th>\n",
       "      <td>-0.648574</td>\n",
       "      <td>-1.887663</td>\n",
       "      <td>-2.703152</td>\n",
       "      <td>-3.782261</td>\n",
       "      <td>-4.173300</td>\n",
       "      <td>-3.913046</td>\n",
       "      <td>-2.981749</td>\n",
       "      <td>-1.848571</td>\n",
       "      <td>-1.478986</td>\n",
       "      <td>-0.986699</td>\n",
       "      <td>...</td>\n",
       "      <td>1.279888</td>\n",
       "      <td>1.358985</td>\n",
       "      <td>1.683752</td>\n",
       "      <td>1.606146</td>\n",
       "      <td>1.238428</td>\n",
       "      <td>0.553150</td>\n",
       "      <td>0.251124</td>\n",
       "      <td>0.241565</td>\n",
       "      <td>-0.049292</td>\n",
       "      <td>-1.337085</td>\n",
       "    </tr>\n",
       "    <tr>\n",
       "      <th>1577</th>\n",
       "      <td>-1.347887</td>\n",
       "      <td>-2.839804</td>\n",
       "      <td>-3.371063</td>\n",
       "      <td>-3.856606</td>\n",
       "      <td>-3.747792</td>\n",
       "      <td>-3.255632</td>\n",
       "      <td>-2.186765</td>\n",
       "      <td>-1.732328</td>\n",
       "      <td>-1.519678</td>\n",
       "      <td>-0.892295</td>\n",
       "      <td>...</td>\n",
       "      <td>1.373809</td>\n",
       "      <td>1.337632</td>\n",
       "      <td>1.316929</td>\n",
       "      <td>1.217479</td>\n",
       "      <td>1.109058</td>\n",
       "      <td>0.782982</td>\n",
       "      <td>0.623387</td>\n",
       "      <td>0.843599</td>\n",
       "      <td>1.326087</td>\n",
       "      <td>0.383505</td>\n",
       "    </tr>\n",
       "  </tbody>\n",
       "</table>\n",
       "<p>2327 rows × 140 columns</p>\n",
       "</div>"
      ],
      "text/plain": [
       "           0         1         2         3         4         5         6    \\\n",
       "2741  0.468623 -1.032162 -3.084379 -4.210410 -3.733820 -2.733797 -1.935106   \n",
       "1974 -0.886430 -3.686988 -4.518615 -4.213926 -3.706176 -2.677737 -1.587460   \n",
       "2905  1.359176 -0.829784 -2.637788 -3.455480 -4.075587 -3.902612 -2.868406   \n",
       "1536 -0.924702 -3.435551 -4.255070 -4.592861 -3.757135 -2.628617 -2.067179   \n",
       "679   1.964891  1.555575 -0.869655 -2.294871 -3.760029 -4.327142 -3.388973   \n",
       "...        ...       ...       ...       ...       ...       ...       ...   \n",
       "67    0.858856 -1.255056 -2.649538 -3.626291 -4.429612 -4.306127 -2.969045   \n",
       "642  -0.658584 -3.271478 -4.550643 -4.560691 -3.972582 -2.784941 -1.774708   \n",
       "1087 -0.449183 -2.570855 -3.394031 -4.137562 -4.074851 -3.145741 -1.932255   \n",
       "2630 -0.648574 -1.887663 -2.703152 -3.782261 -4.173300 -3.913046 -2.981749   \n",
       "1577 -1.347887 -2.839804 -3.371063 -3.856606 -3.747792 -3.255632 -2.186765   \n",
       "\n",
       "           7         8         9    ...       130       131       132  \\\n",
       "2741 -1.779987 -1.254270 -0.608612  ...  0.864626  0.781909  0.623981   \n",
       "1974 -1.450537 -0.925536 -0.301669  ...  1.009605  0.963591  1.009558   \n",
       "2905 -1.842288 -1.739093 -1.151803  ...  0.423574  0.688412  0.800528   \n",
       "1536 -1.810549 -0.930448 -0.399014  ...  0.474748  1.124692  1.109565   \n",
       "679  -1.991593 -1.658679 -0.728022  ... -0.635680 -0.530590  0.022647   \n",
       "...        ...       ...       ...  ...       ...       ...       ...   \n",
       "67   -1.873762 -1.722673 -0.743290  ...  0.289357  0.700128  1.620762   \n",
       "642  -1.496075 -0.753084 -0.158155  ...  0.834122  0.815028  0.783640   \n",
       "1087 -1.645694 -1.197856 -0.371968  ...  0.436298  0.844905  0.970873   \n",
       "2630 -1.848571 -1.478986 -0.986699  ...  1.279888  1.358985  1.683752   \n",
       "1577 -1.732328 -1.519678 -0.892295  ...  1.373809  1.337632  1.316929   \n",
       "\n",
       "           133       134       135       136       137       138       139  \n",
       "2741  1.009745  1.284270  1.448595  1.393048  1.621618  2.238622  1.767265  \n",
       "1974  1.174546  1.052831  0.829570  0.901804  1.286202  1.860510 -0.165253  \n",
       "2905  0.979910  1.103149  1.018079  1.152184  1.108270  1.974042  1.055362  \n",
       "1536  0.967409  0.830435  0.499172  0.395863  0.304092  1.105778  1.016879  \n",
       "679   0.874383  0.698861  1.055575  1.077426  0.722963  0.099469 -0.187140  \n",
       "...        ...       ...       ...       ...       ...       ...       ...  \n",
       "67    1.613312  1.764131  2.013809  1.918569  1.482261  0.721869  1.144019  \n",
       "642   1.031223  1.050772  0.795279  0.926456  1.170361  1.860439  0.213854  \n",
       "1087  1.132088  1.294585  1.309551  1.240390  1.046417  1.697741  1.581276  \n",
       "2630  1.606146  1.238428  0.553150  0.251124  0.241565 -0.049292 -1.337085  \n",
       "1577  1.217479  1.109058  0.782982  0.623387  0.843599  1.326087  0.383505  \n",
       "\n",
       "[2327 rows x 140 columns]"
      ]
     },
     "execution_count": 34,
     "metadata": {},
     "output_type": "execute_result"
    }
   ],
   "source": [
    "x_train[ y_train.astype(bool ) ]"
   ]
  },
  {
   "cell_type": "markdown",
   "id": "88439e79-1ffb-469e-88bb-1a8821ffa48b",
   "metadata": {},
   "source": [
    "# Zeitreihen plotten"
   ]
  },
  {
   "cell_type": "code",
   "execution_count": null,
   "id": "859d642a-79ee-4f85-b65f-c596caa57991",
   "metadata": {},
   "outputs": [],
   "source": []
  }
 ],
 "metadata": {
  "kernelspec": {
   "display_name": "Python 3 (ipykernel)",
   "language": "python",
   "name": "python3"
  },
  "language_info": {
   "codemirror_mode": {
    "name": "ipython",
    "version": 3
   },
   "file_extension": ".py",
   "mimetype": "text/x-python",
   "name": "python",
   "nbconvert_exporter": "python",
   "pygments_lexer": "ipython3",
   "version": "3.12.8"
  }
 },
 "nbformat": 4,
 "nbformat_minor": 5
}
